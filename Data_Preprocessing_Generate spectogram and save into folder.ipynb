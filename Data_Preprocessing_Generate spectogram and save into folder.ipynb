{
 "cells": [
  {
   "cell_type": "code",
   "execution_count": 1,
   "metadata": {},
   "outputs": [
    {
     "data": {
      "text/html": [
       "<div>\n",
       "<style scoped>\n",
       "    .dataframe tbody tr th:only-of-type {\n",
       "        vertical-align: middle;\n",
       "    }\n",
       "\n",
       "    .dataframe tbody tr th {\n",
       "        vertical-align: top;\n",
       "    }\n",
       "\n",
       "    .dataframe thead th {\n",
       "        text-align: right;\n",
       "    }\n",
       "</style>\n",
       "<table border=\"1\" class=\"dataframe\">\n",
       "  <thead>\n",
       "    <tr style=\"text-align: right;\">\n",
       "      <th></th>\n",
       "      <th>slice_file_name</th>\n",
       "      <th>fsID</th>\n",
       "      <th>start</th>\n",
       "      <th>end</th>\n",
       "      <th>salience</th>\n",
       "      <th>fold</th>\n",
       "      <th>classID</th>\n",
       "      <th>class</th>\n",
       "    </tr>\n",
       "  </thead>\n",
       "  <tbody>\n",
       "    <tr>\n",
       "      <th>0</th>\n",
       "      <td>100032-3-0-0.wav</td>\n",
       "      <td>100032</td>\n",
       "      <td>0.0</td>\n",
       "      <td>0.317551</td>\n",
       "      <td>1</td>\n",
       "      <td>5</td>\n",
       "      <td>3</td>\n",
       "      <td>dog_bark</td>\n",
       "    </tr>\n",
       "    <tr>\n",
       "      <th>1</th>\n",
       "      <td>100263-2-0-117.wav</td>\n",
       "      <td>100263</td>\n",
       "      <td>58.5</td>\n",
       "      <td>62.500000</td>\n",
       "      <td>1</td>\n",
       "      <td>5</td>\n",
       "      <td>2</td>\n",
       "      <td>children_playing</td>\n",
       "    </tr>\n",
       "    <tr>\n",
       "      <th>2</th>\n",
       "      <td>100263-2-0-121.wav</td>\n",
       "      <td>100263</td>\n",
       "      <td>60.5</td>\n",
       "      <td>64.500000</td>\n",
       "      <td>1</td>\n",
       "      <td>5</td>\n",
       "      <td>2</td>\n",
       "      <td>children_playing</td>\n",
       "    </tr>\n",
       "    <tr>\n",
       "      <th>3</th>\n",
       "      <td>100263-2-0-126.wav</td>\n",
       "      <td>100263</td>\n",
       "      <td>63.0</td>\n",
       "      <td>67.000000</td>\n",
       "      <td>1</td>\n",
       "      <td>5</td>\n",
       "      <td>2</td>\n",
       "      <td>children_playing</td>\n",
       "    </tr>\n",
       "    <tr>\n",
       "      <th>4</th>\n",
       "      <td>100263-2-0-137.wav</td>\n",
       "      <td>100263</td>\n",
       "      <td>68.5</td>\n",
       "      <td>72.500000</td>\n",
       "      <td>1</td>\n",
       "      <td>5</td>\n",
       "      <td>2</td>\n",
       "      <td>children_playing</td>\n",
       "    </tr>\n",
       "  </tbody>\n",
       "</table>\n",
       "</div>"
      ],
      "text/plain": [
       "      slice_file_name    fsID  start        end  salience  fold  classID  \\\n",
       "0    100032-3-0-0.wav  100032    0.0   0.317551         1     5        3   \n",
       "1  100263-2-0-117.wav  100263   58.5  62.500000         1     5        2   \n",
       "2  100263-2-0-121.wav  100263   60.5  64.500000         1     5        2   \n",
       "3  100263-2-0-126.wav  100263   63.0  67.000000         1     5        2   \n",
       "4  100263-2-0-137.wav  100263   68.5  72.500000         1     5        2   \n",
       "\n",
       "              class  \n",
       "0          dog_bark  \n",
       "1  children_playing  \n",
       "2  children_playing  \n",
       "3  children_playing  \n",
       "4  children_playing  "
      ]
     },
     "execution_count": 1,
     "metadata": {},
     "output_type": "execute_result"
    }
   ],
   "source": [
    "import pandas as pd\n",
    "import librosa\n",
    "import librosa.display\n",
    "import matplotlib.pyplot as plt\n",
    "#metadata = pd.read_csv('../Data/ESC-50-master/meta/esc50.csv')\n",
    "metadata = pd.read_csv('../Data/Urban4k/Dataset1/UrbanSound8k.csv')\n",
    "\n",
    "#metadata = metadata.drop(columns=[\"fold\", \"target\", \"esc10\", \"src_file\", \"take\"])\n",
    "metadata.head()"
   ]
  },
  {
   "cell_type": "code",
   "execution_count": 7,
   "metadata": {},
   "outputs": [
    {
     "data": {
      "text/plain": [
       "array(['dog_bark', 'children_playing', 'car_horn', 'air_conditioner',\n",
       "       'street_music', 'gun_shot', 'siren', 'engine_idling', 'jackhammer',\n",
       "       'drilling'], dtype=object)"
      ]
     },
     "execution_count": 7,
     "metadata": {},
     "output_type": "execute_result"
    }
   ],
   "source": [
    "metadata.shape"
   ]
  },
  {
   "cell_type": "code",
   "execution_count": 9,
   "metadata": {},
   "outputs": [
    {
     "data": {
      "text/html": [
       "<div>\n",
       "<style scoped>\n",
       "    .dataframe tbody tr th:only-of-type {\n",
       "        vertical-align: middle;\n",
       "    }\n",
       "\n",
       "    .dataframe tbody tr th {\n",
       "        vertical-align: top;\n",
       "    }\n",
       "\n",
       "    .dataframe thead th {\n",
       "        text-align: right;\n",
       "    }\n",
       "</style>\n",
       "<table border=\"1\" class=\"dataframe\">\n",
       "  <thead>\n",
       "    <tr style=\"text-align: right;\">\n",
       "      <th></th>\n",
       "      <th>slice_file_name</th>\n",
       "      <th>fsID</th>\n",
       "      <th>start</th>\n",
       "      <th>end</th>\n",
       "      <th>salience</th>\n",
       "      <th>fold</th>\n",
       "      <th>classID</th>\n",
       "      <th>class</th>\n",
       "    </tr>\n",
       "  </thead>\n",
       "  <tbody>\n",
       "    <tr>\n",
       "      <th>106</th>\n",
       "      <td>102305-6-0-0.wav</td>\n",
       "      <td>102305</td>\n",
       "      <td>0.000000</td>\n",
       "      <td>2.611610</td>\n",
       "      <td>1</td>\n",
       "      <td>1</td>\n",
       "      <td>6</td>\n",
       "      <td>gun_shot</td>\n",
       "    </tr>\n",
       "    <tr>\n",
       "      <th>496</th>\n",
       "      <td>106955-6-0-0.wav</td>\n",
       "      <td>106955</td>\n",
       "      <td>0.495575</td>\n",
       "      <td>1.649031</td>\n",
       "      <td>1</td>\n",
       "      <td>9</td>\n",
       "      <td>6</td>\n",
       "      <td>gun_shot</td>\n",
       "    </tr>\n",
       "    <tr>\n",
       "      <th>611</th>\n",
       "      <td>110622-6-0-0.wav</td>\n",
       "      <td>110622</td>\n",
       "      <td>0.000000</td>\n",
       "      <td>1.501211</td>\n",
       "      <td>1</td>\n",
       "      <td>3</td>\n",
       "      <td>6</td>\n",
       "      <td>gun_shot</td>\n",
       "    </tr>\n",
       "    <tr>\n",
       "      <th>626</th>\n",
       "      <td>111048-6-0-0.wav</td>\n",
       "      <td>111048</td>\n",
       "      <td>0.000000</td>\n",
       "      <td>1.314579</td>\n",
       "      <td>1</td>\n",
       "      <td>6</td>\n",
       "      <td>6</td>\n",
       "      <td>gun_shot</td>\n",
       "    </tr>\n",
       "    <tr>\n",
       "      <th>1000</th>\n",
       "      <td>122690-6-0-0.wav</td>\n",
       "      <td>122690</td>\n",
       "      <td>12.231953</td>\n",
       "      <td>15.377840</td>\n",
       "      <td>1</td>\n",
       "      <td>1</td>\n",
       "      <td>6</td>\n",
       "      <td>gun_shot</td>\n",
       "    </tr>\n",
       "  </tbody>\n",
       "</table>\n",
       "</div>"
      ],
      "text/plain": [
       "       slice_file_name    fsID      start        end  salience  fold  classID  \\\n",
       "106   102305-6-0-0.wav  102305   0.000000   2.611610         1     1        6   \n",
       "496   106955-6-0-0.wav  106955   0.495575   1.649031         1     9        6   \n",
       "611   110622-6-0-0.wav  110622   0.000000   1.501211         1     3        6   \n",
       "626   111048-6-0-0.wav  111048   0.000000   1.314579         1     6        6   \n",
       "1000  122690-6-0-0.wav  122690  12.231953  15.377840         1     1        6   \n",
       "\n",
       "         class  \n",
       "106   gun_shot  \n",
       "496   gun_shot  \n",
       "611   gun_shot  \n",
       "626   gun_shot  \n",
       "1000  gun_shot  "
      ]
     },
     "execution_count": 9,
     "metadata": {},
     "output_type": "execute_result"
    }
   ],
   "source": [
    "metadata[metadata['class'] == 'gun_shot'].head()"
   ]
  },
  {
   "cell_type": "code",
   "execution_count": 13,
   "metadata": {},
   "outputs": [],
   "source": [
    "def sound2img(filename, category):\n",
    "    # Load audio\n",
    "    wav, sr = librosa.load('../Data/all_sound/'+ filename, sr=None)\n",
    "    #print(wav,sr)\n",
    "    #librosa.display.waveplot(wav, sr)\n",
    "    #plt.colorbar()\n",
    "    #plt.close()\n",
    "\n",
    "    # Generate spectogram\n",
    "    X = librosa.stft(wav)\n",
    "    Xdb = librosa.amplitude_to_db(abs(X))\n",
    "    plt.figure(figsize=(14, 5))\n",
    "    librosa.display.specshow(Xdb, sr=sr, x_axis='time', y_axis='hz')\n",
    "    plt.colorbar()\n",
    "    plt.close()\n",
    "\n",
    "    filen = filename.replace(\"wav\",\"png\")\n",
    "\n",
    "    # replace filename\n",
    "    fig = plt.figure()\n",
    "    plt.axis('off')\n",
    "    librosa.display.specshow(Xdb, sr=sr, x_axis='time', y_axis='log')\n",
    "    cwd = os.getcwd()\n",
    "    name = ('sound/images/{}/{}'.format(str(category), filen))\n",
    "    print(name)\n",
    "    fig.savefig(name)\n",
    "    plt.close()"
   ]
  },
  {
   "cell_type": "code",
   "execution_count": 14,
   "metadata": {},
   "outputs": [
    {
     "name": "stderr",
     "output_type": "stream",
     "text": [
      "107it [00:00, 393.30it/s]"
     ]
    },
    {
     "name": "stdout",
     "output_type": "stream",
     "text": [
      "sound/images/gun_shot/102305-6-0-0.png\n"
     ]
    },
    {
     "name": "stderr",
     "output_type": "stream",
     "text": [
      "\r",
      "497it [00:00, 521.50it/s]"
     ]
    },
    {
     "name": "stdout",
     "output_type": "stream",
     "text": [
      "sound/images/gun_shot/106955-6-0-0.png\n",
      "sound/images/gun_shot/110622-6-0-0.png\n"
     ]
    },
    {
     "name": "stderr",
     "output_type": "stream",
     "text": [
      "681it [00:00, 542.86it/s]"
     ]
    },
    {
     "name": "stdout",
     "output_type": "stream",
     "text": [
      "sound/images/gun_shot/111048-6-0-0.png\n"
     ]
    },
    {
     "name": "stderr",
     "output_type": "stream",
     "text": [
      "\r",
      "1001it [00:01, 634.74it/s]"
     ]
    },
    {
     "name": "stdout",
     "output_type": "stream",
     "text": [
      "sound/images/gun_shot/122690-6-0-0.png\n"
     ]
    },
    {
     "name": "stderr",
     "output_type": "stream",
     "text": [
      "\r",
      "1269it [00:01, 738.76it/s]"
     ]
    },
    {
     "name": "stdout",
     "output_type": "stream",
     "text": [
      "sound/images/gun_shot/131571-6-0-0.png\n"
     ]
    },
    {
     "name": "stderr",
     "output_type": "stream",
     "text": [
      "\r",
      "1381it [00:01, 597.52it/s]"
     ]
    },
    {
     "name": "stdout",
     "output_type": "stream",
     "text": [
      "sound/images/gun_shot/133797-6-0-0.png\n",
      "sound/images/gun_shot/133797-6-1-0.png\n",
      "sound/images/gun_shot/133797-6-2-0.png\n",
      "sound/images/gun_shot/135526-6-0-0.png\n",
      "sound/images/gun_shot/135526-6-1-0.png\n",
      "sound/images/gun_shot/135526-6-10-0.png\n",
      "sound/images/gun_shot/135526-6-11-0.png\n",
      "sound/images/gun_shot/135526-6-12-0.png\n",
      "sound/images/gun_shot/135526-6-13-0.png\n",
      "sound/images/gun_shot/135526-6-2-0.png\n",
      "sound/images/gun_shot/135526-6-3-0.png\n",
      "sound/images/gun_shot/135526-6-4-0.png\n",
      "sound/images/gun_shot/135526-6-5-0.png\n",
      "sound/images/gun_shot/135526-6-6-0.png\n",
      "sound/images/gun_shot/135526-6-7-0.png\n",
      "sound/images/gun_shot/135526-6-8-0.png\n",
      "sound/images/gun_shot/135526-6-9-0.png\n",
      "sound/images/gun_shot/135527-6-0-0.png\n",
      "sound/images/gun_shot/135527-6-1-0.png\n",
      "sound/images/gun_shot/135527-6-10-0.png\n",
      "sound/images/gun_shot/135527-6-11-0.png\n",
      "sound/images/gun_shot/135527-6-12-0.png\n",
      "sound/images/gun_shot/135527-6-13-0.png\n",
      "sound/images/gun_shot/135527-6-14-0.png\n",
      "sound/images/gun_shot/135527-6-14-1.png\n",
      "sound/images/gun_shot/135527-6-14-10.png\n",
      "sound/images/gun_shot/135527-6-14-2.png\n",
      "sound/images/gun_shot/135527-6-14-3.png\n",
      "sound/images/gun_shot/135527-6-14-4.png\n",
      "sound/images/gun_shot/135527-6-14-5.png\n",
      "sound/images/gun_shot/135527-6-14-6.png\n",
      "sound/images/gun_shot/135527-6-14-7.png\n",
      "sound/images/gun_shot/135527-6-14-8.png\n",
      "sound/images/gun_shot/135527-6-14-9.png\n",
      "sound/images/gun_shot/135527-6-2-0.png\n",
      "sound/images/gun_shot/135527-6-3-0.png\n",
      "sound/images/gun_shot/135527-6-4-0.png\n",
      "sound/images/gun_shot/135527-6-5-0.png\n",
      "sound/images/gun_shot/135527-6-6-0.png\n"
     ]
    },
    {
     "name": "stderr",
     "output_type": "stream",
     "text": [
      "\r",
      "1457it [00:11, 24.85it/s] "
     ]
    },
    {
     "name": "stdout",
     "output_type": "stream",
     "text": [
      "sound/images/gun_shot/135527-6-7-0.png\n",
      "sound/images/gun_shot/135527-6-8-0.png\n",
      "sound/images/gun_shot/135527-6-9-0.png\n",
      "sound/images/gun_shot/135528-6-0-0.png\n",
      "sound/images/gun_shot/135528-6-1-0.png\n",
      "sound/images/gun_shot/135528-6-10-0.png\n",
      "sound/images/gun_shot/135528-6-11-0.png\n",
      "sound/images/gun_shot/135528-6-12-0.png\n",
      "sound/images/gun_shot/135528-6-2-0.png\n",
      "sound/images/gun_shot/135528-6-3-0.png\n",
      "sound/images/gun_shot/135528-6-4-0.png\n",
      "sound/images/gun_shot/135528-6-4-1.png\n",
      "sound/images/gun_shot/135528-6-4-2.png\n",
      "sound/images/gun_shot/135528-6-5-0.png\n",
      "sound/images/gun_shot/135528-6-6-0.png\n",
      "sound/images/gun_shot/135528-6-7-0.png\n",
      "sound/images/gun_shot/135528-6-8-0.png\n",
      "sound/images/gun_shot/135528-6-9-0.png\n",
      "sound/images/gun_shot/135544-6-0-0.png\n",
      "sound/images/gun_shot/135544-6-1-0.png\n",
      "sound/images/gun_shot/135544-6-10-0.png\n",
      "sound/images/gun_shot/135544-6-11-0.png\n",
      "sound/images/gun_shot/135544-6-12-0.png\n",
      "sound/images/gun_shot/135544-6-13-0.png\n",
      "sound/images/gun_shot/135544-6-14-0.png\n",
      "sound/images/gun_shot/135544-6-15-0.png\n",
      "sound/images/gun_shot/135544-6-16-0.png\n",
      "sound/images/gun_shot/135544-6-17-0.png\n",
      "sound/images/gun_shot/135544-6-18-0.png\n",
      "sound/images/gun_shot/135544-6-19-0.png\n",
      "sound/images/gun_shot/135544-6-2-0.png\n",
      "sound/images/gun_shot/135544-6-3-0.png\n",
      "sound/images/gun_shot/135544-6-4-0.png\n",
      "sound/images/gun_shot/135544-6-5-0.png\n",
      "sound/images/gun_shot/135544-6-6-0.png\n",
      "sound/images/gun_shot/135544-6-7-0.png\n",
      "sound/images/gun_shot/135544-6-8-0.png\n"
     ]
    },
    {
     "name": "stderr",
     "output_type": "stream",
     "text": [
      "\r",
      "1510it [00:19, 13.72it/s]"
     ]
    },
    {
     "name": "stdout",
     "output_type": "stream",
     "text": [
      "sound/images/gun_shot/135544-6-9-0.png\n",
      "sound/images/gun_shot/136399-6-0-0.png\n",
      "sound/images/gun_shot/136399-6-1-0.png\n",
      "sound/images/gun_shot/136399-6-2-0.png\n",
      "sound/images/gun_shot/136399-6-3-0.png\n",
      "sound/images/gun_shot/136399-6-4-0.png\n",
      "sound/images/gun_shot/136399-6-5-0.png\n",
      "sound/images/gun_shot/136399-6-6-0.png\n",
      "sound/images/gun_shot/136399-6-7-0.png\n",
      "sound/images/gun_shot/136399-6-8-0.png\n",
      "sound/images/gun_shot/136399-6-9-0.png\n"
     ]
    },
    {
     "name": "stderr",
     "output_type": "stream",
     "text": [
      "1783it [00:22, 19.87it/s]"
     ]
    },
    {
     "name": "stdout",
     "output_type": "stream",
     "text": [
      "sound/images/gun_shot/145206-6-0-0.png\n",
      "sound/images/gun_shot/145206-6-1-0.png\n",
      "sound/images/gun_shot/145206-6-2-0.png\n",
      "sound/images/gun_shot/145206-6-3-0.png\n",
      "sound/images/gun_shot/145206-6-4-0.png\n",
      "sound/images/gun_shot/145206-6-5-0.png\n",
      "sound/images/gun_shot/145608-6-0-0.png\n",
      "sound/images/gun_shot/145608-6-1-0.png\n",
      "sound/images/gun_shot/145608-6-2-0.png\n",
      "sound/images/gun_shot/145608-6-3-0.png\n",
      "sound/images/gun_shot/145609-6-0-0.png\n",
      "sound/images/gun_shot/145609-6-1-0.png\n",
      "sound/images/gun_shot/145611-6-0-0.png\n",
      "sound/images/gun_shot/145611-6-1-0.png\n",
      "sound/images/gun_shot/145611-6-2-0.png\n",
      "sound/images/gun_shot/145611-6-3-0.png\n",
      "sound/images/gun_shot/145611-6-4-0.png\n",
      "sound/images/gun_shot/145612-6-0-0.png\n",
      "sound/images/gun_shot/145612-6-1-0.png\n",
      "sound/images/gun_shot/145612-6-2-0.png\n",
      "sound/images/gun_shot/145612-6-3-0.png\n",
      "sound/images/gun_shot/145683-6-0-0.png\n",
      "sound/images/gun_shot/145683-6-1-0.png\n",
      "sound/images/gun_shot/145683-6-2-0.png\n",
      "sound/images/gun_shot/145683-6-3-0.png\n",
      "sound/images/gun_shot/145683-6-4-0.png\n",
      "sound/images/gun_shot/145683-6-5-0.png\n"
     ]
    },
    {
     "name": "stderr",
     "output_type": "stream",
     "text": [
      "2007it [00:28, 31.02it/s]"
     ]
    },
    {
     "name": "stdout",
     "output_type": "stream",
     "text": [
      "sound/images/gun_shot/147317-6-0-0.png\n",
      "sound/images/gun_shot/148166-6-0-0.png\n",
      "sound/images/gun_shot/148827-6-0-0.png\n",
      "sound/images/gun_shot/148827-6-1-0.png\n",
      "sound/images/gun_shot/148827-6-2-0.png\n",
      "sound/images/gun_shot/148827-6-3-0.png\n",
      "sound/images/gun_shot/148827-6-4-0.png\n",
      "sound/images/gun_shot/148828-6-0-0.png\n",
      "sound/images/gun_shot/148828-6-1-0.png\n",
      "sound/images/gun_shot/148833-6-0-0.png\n",
      "sound/images/gun_shot/148833-6-1-0.png\n",
      "sound/images/gun_shot/148834-6-0-0.png\n",
      "sound/images/gun_shot/148835-6-0-0.png\n",
      "sound/images/gun_shot/148835-6-1-0.png\n",
      "sound/images/gun_shot/148835-6-2-0.png\n",
      "sound/images/gun_shot/148835-6-3-0.png\n"
     ]
    },
    {
     "name": "stderr",
     "output_type": "stream",
     "text": [
      "\r",
      "2054it [00:30, 26.95it/s]"
     ]
    },
    {
     "name": "stdout",
     "output_type": "stream",
     "text": [
      "sound/images/gun_shot/148835-6-4-0.png\n",
      "sound/images/gun_shot/148837-6-0-0.png\n",
      "sound/images/gun_shot/148837-6-1-0.png\n",
      "sound/images/gun_shot/148837-6-2-0.png\n",
      "sound/images/gun_shot/148838-6-0-0.png\n",
      "sound/images/gun_shot/148838-6-1-0.png\n",
      "sound/images/gun_shot/148838-6-2-0.png\n",
      "sound/images/gun_shot/148841-6-0-0.png\n",
      "sound/images/gun_shot/148841-6-1-0.png\n",
      "sound/images/gun_shot/148841-6-2-0.png\n"
     ]
    },
    {
     "name": "stderr",
     "output_type": "stream",
     "text": [
      "\r",
      "2088it [00:32, 24.27it/s]"
     ]
    },
    {
     "name": "stdout",
     "output_type": "stream",
     "text": [
      "sound/images/gun_shot/149177-6-0-0.png\n",
      "sound/images/gun_shot/151065-6-0-0.png\n",
      "sound/images/gun_shot/151069-6-0-0.png\n",
      "sound/images/gun_shot/151071-6-0-0.png\n"
     ]
    },
    {
     "name": "stderr",
     "output_type": "stream",
     "text": [
      "2424it [00:33, 38.92it/s]"
     ]
    },
    {
     "name": "stdout",
     "output_type": "stream",
     "text": [
      "sound/images/gun_shot/156897-6-0-0.png\n",
      "sound/images/gun_shot/157207-6-0-0.png\n",
      "sound/images/gun_shot/157207-6-1-0.png\n",
      "sound/images/gun_shot/157207-6-10-0.png\n",
      "sound/images/gun_shot/157207-6-2-0.png\n",
      "sound/images/gun_shot/157207-6-3-0.png\n",
      "sound/images/gun_shot/157207-6-4-0.png\n",
      "sound/images/gun_shot/157207-6-5-0.png\n",
      "sound/images/gun_shot/157207-6-6-0.png\n",
      "sound/images/gun_shot/157207-6-7-0.png\n",
      "sound/images/gun_shot/157207-6-8-0.png\n",
      "sound/images/gun_shot/157207-6-9-0.png\n",
      "sound/images/gun_shot/157799-6-0-0.png\n",
      "sound/images/gun_shot/157800-6-0-0.png\n",
      "sound/images/gun_shot/157801-6-0-0.png"
     ]
    },
    {
     "name": "stderr",
     "output_type": "stream",
     "text": [
      "\r",
      "2466it [00:35, 26.43it/s]"
     ]
    },
    {
     "name": "stdout",
     "output_type": "stream",
     "text": [
      "\n"
     ]
    },
    {
     "name": "stderr",
     "output_type": "stream",
     "text": [
      "\r",
      "2573it [00:36, 36.85it/s]"
     ]
    },
    {
     "name": "stdout",
     "output_type": "stream",
     "text": [
      "sound/images/gun_shot/158977-6-0-0.png\n",
      "sound/images/gun_shot/158978-6-0-0.png\n",
      "sound/images/gun_shot/158979-6-0-0.png\n",
      "sound/images/gun_shot/159701-6-0-0.png\n",
      "sound/images/gun_shot/159701-6-1-0.png\n",
      "sound/images/gun_shot/159701-6-2-0.png\n",
      "sound/images/gun_shot/159701-6-3-0.png\n",
      "sound/images/gun_shot/159701-6-4-0.png\n",
      "sound/images/gun_shot/159701-6-5-0.png\n",
      "sound/images/gun_shot/159701-6-6-0.png\n",
      "sound/images/gun_shot/159702-6-0-0.png\n",
      "sound/images/gun_shot/159702-6-1-0.png\n",
      "sound/images/gun_shot/159702-6-2-0.png\n",
      "sound/images/gun_shot/159702-6-3-0.png\n",
      "sound/images/gun_shot/159702-6-4-0.png\n",
      "sound/images/gun_shot/159702-6-5-0.png\n",
      "sound/images/gun_shot/159702-6-6-0.png\n",
      "sound/images/gun_shot/159703-6-0-0.png\n",
      "sound/images/gun_shot/159704-6-0-0.png\n",
      "sound/images/gun_shot/159705-6-0-0.png\n",
      "sound/images/gun_shot/159706-6-0-0.png\n",
      "sound/images/gun_shot/159707-6-0-0.png\n",
      "sound/images/gun_shot/159708-6-0-0.png\n",
      "sound/images/gun_shot/159708-6-1-0.png\n",
      "sound/images/gun_shot/159708-6-2-0.png\n",
      "sound/images/gun_shot/159708-6-3-0.png\n",
      "sound/images/gun_shot/159708-6-4-0.png\n",
      "sound/images/gun_shot/159708-6-5-0.png\n"
     ]
    },
    {
     "name": "stderr",
     "output_type": "stream",
     "text": [
      "\r",
      "2608it [00:40, 16.58it/s]"
     ]
    },
    {
     "name": "stdout",
     "output_type": "stream",
     "text": [
      "sound/images/gun_shot/159708-6-6-0.png\n",
      "sound/images/gun_shot/159709-6-0-0.png\n"
     ]
    },
    {
     "name": "stderr",
     "output_type": "stream",
     "text": [
      "\r",
      "2633it [00:41, 20.75it/s]"
     ]
    },
    {
     "name": "stdout",
     "output_type": "stream",
     "text": [
      "sound/images/gun_shot/159710-6-0-0.png\n",
      "sound/images/gun_shot/161195-6-0-0.png\n"
     ]
    },
    {
     "name": "stderr",
     "output_type": "stream",
     "text": [
      "2971it [00:41, 40.96it/s]"
     ]
    },
    {
     "name": "stdout",
     "output_type": "stream",
     "text": [
      "sound/images/gun_shot/162431-6-0-0.png\n",
      "sound/images/gun_shot/162431-6-1-0.png\n",
      "sound/images/gun_shot/162431-6-2-0.png\n",
      "sound/images/gun_shot/162431-6-3-0.png\n",
      "sound/images/gun_shot/162432-6-0-0.png\n",
      "sound/images/gun_shot/162432-6-1-0.png\n",
      "sound/images/gun_shot/162432-6-10-0.png\n",
      "sound/images/gun_shot/162432-6-11-0.png\n",
      "sound/images/gun_shot/162432-6-12-0.png\n",
      "sound/images/gun_shot/162432-6-13-0.png\n",
      "sound/images/gun_shot/162432-6-14-0.png\n",
      "sound/images/gun_shot/162432-6-2-0.png\n",
      "sound/images/gun_shot/162432-6-3-0.png\n",
      "sound/images/gun_shot/162432-6-4-0.png\n",
      "sound/images/gun_shot/162432-6-5-0.png\n",
      "sound/images/gun_shot/162432-6-6-0.png\n",
      "sound/images/gun_shot/162432-6-7-0.png\n",
      "sound/images/gun_shot/162432-6-8-0.png\n",
      "sound/images/gun_shot/162432-6-9-0.png\n",
      "sound/images/gun_shot/162433-6-0-0.png\n",
      "sound/images/gun_shot/162433-6-1-0.png\n",
      "sound/images/gun_shot/162433-6-2-0.png\n",
      "sound/images/gun_shot/162433-6-3-0.png\n",
      "sound/images/gun_shot/162433-6-4-0.png\n",
      "sound/images/gun_shot/162433-6-5-0.png\n",
      "sound/images/gun_shot/162433-6-6-0.png\n",
      "sound/images/gun_shot/162433-6-7-0.png\n",
      "sound/images/gun_shot/162433-6-8-0.png\n",
      "sound/images/gun_shot/162434-6-0-0.png\n",
      "sound/images/gun_shot/162434-6-1-0.png\n",
      "sound/images/gun_shot/162434-6-2-0.png\n",
      "sound/images/gun_shot/162435-6-0-0.png\n",
      "sound/images/gun_shot/162435-6-1-0.png\n",
      "sound/images/gun_shot/162435-6-2-0.png\n",
      "sound/images/gun_shot/162435-6-3-0.png\n",
      "sound/images/gun_shot/162436-6-0-0.png\n"
     ]
    },
    {
     "name": "stderr",
     "output_type": "stream",
     "text": [
      "\r",
      "3029it [00:48, 18.38it/s]"
     ]
    },
    {
     "name": "stdout",
     "output_type": "stream",
     "text": [
      "sound/images/gun_shot/163460-6-0-0.png\n",
      "sound/images/gun_shot/164646-6-0-0.png\n"
     ]
    },
    {
     "name": "stderr",
     "output_type": "stream",
     "text": [
      "\r",
      "3070it [00:49, 25.01it/s]"
     ]
    },
    {
     "name": "stdout",
     "output_type": "stream",
     "text": [
      "sound/images/gun_shot/164667-6-0-0.png\n",
      "sound/images/gun_shot/169261-6-0-0.png\n"
     ]
    },
    {
     "name": "stderr",
     "output_type": "stream",
     "text": [
      "3593it [00:49, 49.62it/s]"
     ]
    },
    {
     "name": "stdout",
     "output_type": "stream",
     "text": [
      "sound/images/gun_shot/174282-6-0-0.png\n",
      "sound/images/gun_shot/174282-6-1-0.png\n",
      "sound/images/gun_shot/174282-6-2-0.png\n",
      "sound/images/gun_shot/174284-6-0-0.png\n",
      "sound/images/gun_shot/174284-6-1-0.png\n",
      "sound/images/gun_shot/174284-6-2-0.png\n",
      "sound/images/gun_shot/174285-6-0-0.png\n",
      "sound/images/gun_shot/174285-6-1-0.png\n",
      "sound/images/gun_shot/174285-6-2-0.png\n",
      "sound/images/gun_shot/174287-6-0-0.png\n",
      "sound/images/gun_shot/174287-6-1-0.png\n",
      "sound/images/gun_shot/174287-6-2-0.png\n",
      "sound/images/gun_shot/174287-6-3-0.png\n",
      "sound/images/gun_shot/174289-6-0-0.png\n",
      "sound/images/gun_shot/174289-6-1-0.png\n",
      "sound/images/gun_shot/174289-6-2-0.png\n",
      "sound/images/gun_shot/174289-6-3-0.png\n",
      "sound/images/gun_shot/174290-6-0-0.png\n",
      "sound/images/gun_shot/174290-6-1-0.png\n",
      "sound/images/gun_shot/174290-6-2-0.png\n",
      "sound/images/gun_shot/174290-6-3-0.png\n",
      "sound/images/gun_shot/174292-6-0-0.png\n",
      "sound/images/gun_shot/174292-6-1-0.png\n",
      "sound/images/gun_shot/174292-6-2-0.png\n",
      "sound/images/gun_shot/174293-6-0-0.png\n",
      "sound/images/gun_shot/174293-6-1-0.png\n",
      "sound/images/gun_shot/174293-6-2-0.png\n",
      "sound/images/gun_shot/174294-6-0-0.png\n",
      "sound/images/gun_shot/174294-6-1-0.png\n"
     ]
    },
    {
     "name": "stderr",
     "output_type": "stream",
     "text": [
      "\r",
      "3662it [00:57, 21.27it/s]"
     ]
    },
    {
     "name": "stdout",
     "output_type": "stream",
     "text": [
      "sound/images/gun_shot/174294-6-2-0.png\n"
     ]
    },
    {
     "name": "stderr",
     "output_type": "stream",
     "text": [
      "\r",
      "4395it [00:57, 30.29it/s]"
     ]
    },
    {
     "name": "stdout",
     "output_type": "stream",
     "text": [
      "sound/images/gun_shot/180960-6-0-0.png\n"
     ]
    },
    {
     "name": "stderr",
     "output_type": "stream",
     "text": [
      "\r",
      "4838it [00:57, 42.98it/s]"
     ]
    },
    {
     "name": "stdout",
     "output_type": "stream",
     "text": [
      "sound/images/gun_shot/191449-6-0-0.png\n"
     ]
    },
    {
     "name": "stderr",
     "output_type": "stream",
     "text": [
      "\r",
      "5075it [00:58, 59.97it/s]"
     ]
    },
    {
     "name": "stdout",
     "output_type": "stream",
     "text": [
      "sound/images/gun_shot/196400-6-0-0.png\n",
      "sound/images/gun_shot/197318-6-0-0.png\n",
      "sound/images/gun_shot/197318-6-1-0.png\n",
      "sound/images/gun_shot/197318-6-10-0.png\n",
      "sound/images/gun_shot/197318-6-11-0.png\n",
      "sound/images/gun_shot/197318-6-12-0.png\n",
      "sound/images/gun_shot/197318-6-2-0.png\n",
      "sound/images/gun_shot/197318-6-3-0.png\n",
      "sound/images/gun_shot/197318-6-4-0.png\n",
      "sound/images/gun_shot/197318-6-5-0.png\n",
      "sound/images/gun_shot/197318-6-6-0.png\n",
      "sound/images/gun_shot/197318-6-7-0.png\n",
      "sound/images/gun_shot/197318-6-8-0.png\n",
      "sound/images/gun_shot/197318-6-9-0.png\n",
      "sound/images/gun_shot/197320-6-0-0.png\n",
      "sound/images/gun_shot/197320-6-1-0.png\n",
      "sound/images/gun_shot/197320-6-10-0.png\n",
      "sound/images/gun_shot/197320-6-11-0.png\n",
      "sound/images/gun_shot/197320-6-12-0.png\n",
      "sound/images/gun_shot/197320-6-2-0.png\n",
      "sound/images/gun_shot/197320-6-3-0.png\n",
      "sound/images/gun_shot/197320-6-4-0.png\n",
      "sound/images/gun_shot/197320-6-5-0.png\n",
      "sound/images/gun_shot/197320-6-6-0.png\n",
      "sound/images/gun_shot/197320-6-7-0.png\n",
      "sound/images/gun_shot/197320-6-8-0.png\n",
      "sound/images/gun_shot/197320-6-9-0.png\n",
      "sound/images/gun_shot/200460-6-0-0.png\n",
      "sound/images/gun_shot/200460-6-1-0.png\n",
      "sound/images/gun_shot/200460-6-2-0.png\n",
      "sound/images/gun_shot/200460-6-3-0.png\n",
      "sound/images/gun_shot/200460-6-4-0.png\n"
     ]
    },
    {
     "name": "stderr",
     "output_type": "stream",
     "text": [
      "\r",
      "5196it [01:05, 33.59it/s]"
     ]
    },
    {
     "name": "stdout",
     "output_type": "stream",
     "text": [
      "sound/images/gun_shot/200460-6-5-0.png\n",
      "sound/images/gun_shot/205013-6-0-0.png\n"
     ]
    },
    {
     "name": "stderr",
     "output_type": "stream",
     "text": [
      "5861it [01:05, 94.09it/s]"
     ]
    },
    {
     "name": "stdout",
     "output_type": "stream",
     "text": [
      "sound/images/gun_shot/23161-6-0-0.png\n",
      "sound/images/gun_shot/23161-6-1-0.png\n",
      "sound/images/gun_shot/24631-6-0-0.png\n",
      "sound/images/gun_shot/24632-6-0-0.png\n",
      "sound/images/gun_shot/24632-6-1-0.png\n",
      "sound/images/gun_shot/24652-6-0-0.png\n",
      "sound/images/gun_shot/25037-6-0-0.png\n",
      "sound/images/gun_shot/25037-6-1-0.png\n",
      "sound/images/gun_shot/25038-6-0-0.png\n",
      "sound/images/gun_shot/25038-6-1-0.png\n",
      "sound/images/gun_shot/25039-6-0-0.png\n"
     ]
    },
    {
     "name": "stderr",
     "output_type": "stream",
     "text": [
      "\r",
      "6000it [01:07, 93.83it/s]"
     ]
    },
    {
     "name": "stdout",
     "output_type": "stream",
     "text": [
      "sound/images/gun_shot/25039-6-1-0.png\n",
      "sound/images/gun_shot/34708-6-0-0.png\n"
     ]
    },
    {
     "name": "stderr",
     "output_type": "stream",
     "text": [
      "\r",
      "6178it [01:07, 128.46it/s]"
     ]
    },
    {
     "name": "stdout",
     "output_type": "stream",
     "text": [
      "sound/images/gun_shot/34708-6-1-0.png\n",
      "sound/images/gun_shot/34708-6-2-0.png\n",
      "sound/images/gun_shot/34708-6-3-0.png\n",
      "sound/images/gun_shot/34708-6-4-0.png\n",
      "sound/images/gun_shot/34708-6-5-0.png\n",
      "sound/images/gun_shot/35799-6-0-0.png\n",
      "sound/images/gun_shot/35800-6-0-0.png\n",
      "sound/images/gun_shot/36403-6-0-0.png\n",
      "sound/images/gun_shot/37236-6-0-0.png\n"
     ]
    },
    {
     "name": "stderr",
     "output_type": "stream",
     "text": [
      "6506it [01:09, 127.97it/s]"
     ]
    },
    {
     "name": "stdout",
     "output_type": "stream",
     "text": [
      "sound/images/gun_shot/46654-6-0-0.png\n",
      "sound/images/gun_shot/46655-6-0-0.png\n",
      "sound/images/gun_shot/46656-6-0-0.png\n",
      "sound/images/gun_shot/46656-6-1-0.png\n",
      "sound/images/gun_shot/46656-6-2-0.png\n",
      "sound/images/gun_shot/46656-6-3-0.png\n",
      "sound/images/gun_shot/46656-6-4-0.png\n",
      "sound/images/gun_shot/46656-6-5-0.png\n"
     ]
    },
    {
     "name": "stderr",
     "output_type": "stream",
     "text": [
      "6663it [01:10, 136.76it/s]"
     ]
    },
    {
     "name": "stdout",
     "output_type": "stream",
     "text": [
      "sound/images/gun_shot/50618-6-0-0.png\n",
      "sound/images/gun_shot/52284-6-0-0.png\n"
     ]
    },
    {
     "name": "stderr",
     "output_type": "stream",
     "text": [
      "\r",
      "6721it [01:11, 153.98it/s]"
     ]
    },
    {
     "name": "stdout",
     "output_type": "stream",
     "text": [
      "sound/images/gun_shot/52357-6-0-0.png\n",
      "sound/images/gun_shot/64346-6-0-0.png\n"
     ]
    },
    {
     "name": "stderr",
     "output_type": "stream",
     "text": [
      "7374it [01:11, 275.79it/s]"
     ]
    },
    {
     "name": "stdout",
     "output_type": "stream",
     "text": [
      "sound/images/gun_shot/7060-6-0-0.png\n",
      "sound/images/gun_shot/7060-6-1-0.png\n",
      "sound/images/gun_shot/7060-6-2-0.png\n",
      "sound/images/gun_shot/7061-6-0-0.png\n",
      "sound/images/gun_shot/7062-6-0-0.png\n",
      "sound/images/gun_shot/7063-6-0-0.png\n",
      "sound/images/gun_shot/7064-6-0-0.png\n",
      "sound/images/gun_shot/7064-6-1-0.png\n",
      "sound/images/gun_shot/7064-6-2-0.png\n",
      "sound/images/gun_shot/7064-6-3-0.png\n",
      "sound/images/gun_shot/7064-6-4-0.png\n",
      "sound/images/gun_shot/7064-6-5-0.png\n",
      "sound/images/gun_shot/7065-6-0-0.png\n",
      "sound/images/gun_shot/7066-6-0-0.png\n",
      "sound/images/gun_shot/7066-6-1-0.png\n",
      "sound/images/gun_shot/7067-6-0-0.png\n"
     ]
    },
    {
     "name": "stderr",
     "output_type": "stream",
     "text": [
      "\r",
      "7472it [01:14, 81.57it/s] "
     ]
    },
    {
     "name": "stdout",
     "output_type": "stream",
     "text": [
      "sound/images/gun_shot/7068-6-0-0.png\n"
     ]
    },
    {
     "name": "stderr",
     "output_type": "stream",
     "text": [
      "\r",
      "7935it [01:14, 114.92it/s]"
     ]
    },
    {
     "name": "stdout",
     "output_type": "stream",
     "text": [
      "sound/images/gun_shot/76089-6-0-0.png\n",
      "sound/images/gun_shot/76090-6-0-0.png\n",
      "sound/images/gun_shot/76090-6-1-0.png\n",
      "sound/images/gun_shot/76091-6-0-0.png\n",
      "sound/images/gun_shot/76091-6-1-0.png\n",
      "sound/images/gun_shot/76091-6-2-0.png\n",
      "sound/images/gun_shot/76091-6-3-0.png\n",
      "sound/images/gun_shot/76091-6-4-0.png\n",
      "sound/images/gun_shot/76091-6-5-0.png\n",
      "sound/images/gun_shot/76093-6-0-0.png\n",
      "sound/images/gun_shot/76093-6-1-0.png\n",
      "sound/images/gun_shot/76094-6-0-0.png\n",
      "sound/images/gun_shot/76094-6-1-0.png\n"
     ]
    },
    {
     "name": "stderr",
     "output_type": "stream",
     "text": [
      "\r",
      "8059it [01:16, 99.69it/s] "
     ]
    },
    {
     "name": "stdout",
     "output_type": "stream",
     "text": [
      "sound/images/gun_shot/77246-6-0-0.png\n",
      "sound/images/gun_shot/77247-6-0-0.png\n"
     ]
    },
    {
     "name": "stderr",
     "output_type": "stream",
     "text": [
      "\r",
      "8148it [01:16, 127.05it/s]"
     ]
    },
    {
     "name": "stdout",
     "output_type": "stream",
     "text": [
      "sound/images/gun_shot/78776-6-0-0.png\n"
     ]
    },
    {
     "name": "stderr",
     "output_type": "stream",
     "text": [
      "\r",
      "8272it [01:16, 169.72it/s]"
     ]
    },
    {
     "name": "stdout",
     "output_type": "stream",
     "text": [
      "sound/images/gun_shot/84254-6-0-0.png\n",
      "sound/images/gun_shot/86278-6-0-0.png\n"
     ]
    },
    {
     "name": "stderr",
     "output_type": "stream",
     "text": [
      "\r",
      "8347it [01:17, 165.87it/s]"
     ]
    },
    {
     "name": "stdout",
     "output_type": "stream",
     "text": [
      "sound/images/gun_shot/87562-6-0-0.png\n"
     ]
    },
    {
     "name": "stderr",
     "output_type": "stream",
     "text": [
      "8732it [01:17, 112.69it/s]"
     ]
    },
    {
     "name": "stdout",
     "output_type": "stream",
     "text": [
      "sound/images/gun_shot/93139-6-0-0.png\n",
      "Finished\n"
     ]
    },
    {
     "name": "stderr",
     "output_type": "stream",
     "text": [
      "\n"
     ]
    }
   ],
   "source": [
    "from tqdm import tqdm\n",
    "\n",
    "for index, row in tqdm(metadata.iterrows()):\n",
    "    if row['class'] == 'gun_shot':      \n",
    "        sound2img(row[\"slice_file_name\"], row[\"class\"])  \n",
    "        \n",
    "print('Finished')\n",
    "\n"
   ]
  },
  {
   "cell_type": "code",
   "execution_count": 18,
   "metadata": {},
   "outputs": [
    {
     "name": "stderr",
     "output_type": "stream",
     "text": [
      "197it [00:00, 544.08it/s]"
     ]
    },
    {
     "name": "stdout",
     "output_type": "stream",
     "text": [
      "sound/images/drilling/103199-4-0-0.png\n",
      "sound/images/drilling/103199-4-0-3.png\n",
      "sound/images/drilling/103199-4-0-4.png\n",
      "sound/images/drilling/103199-4-0-5.png\n",
      "sound/images/drilling/103199-4-0-6.png\n",
      "sound/images/drilling/103199-4-1-0.png\n",
      "sound/images/drilling/103199-4-2-0.png\n",
      "sound/images/drilling/103199-4-2-1.png\n",
      "sound/images/drilling/103199-4-2-10.png\n",
      "sound/images/drilling/103199-4-2-11.png\n",
      "sound/images/drilling/103199-4-2-2.png\n",
      "sound/images/drilling/103199-4-2-3.png\n",
      "sound/images/drilling/103199-4-2-4.png\n",
      "sound/images/drilling/103199-4-2-5.png\n",
      "sound/images/drilling/103199-4-2-6.png\n",
      "sound/images/drilling/103199-4-2-7.png\n",
      "sound/images/drilling/103199-4-2-8.png\n"
     ]
    },
    {
     "name": "stderr",
     "output_type": "stream",
     "text": [
      "\r",
      "214it [00:06,  8.62it/s] "
     ]
    },
    {
     "name": "stdout",
     "output_type": "stream",
     "text": [
      "sound/images/drilling/103199-4-2-9.png\n",
      "sound/images/drilling/103199-4-4-0.png\n",
      "sound/images/drilling/103199-4-6-0.png\n"
     ]
    },
    {
     "name": "stderr",
     "output_type": "stream",
     "text": [
      "\r",
      "226it [00:07, 10.00it/s]"
     ]
    },
    {
     "name": "stdout",
     "output_type": "stream",
     "text": [
      "sound/images/drilling/103199-4-7-2.png\n"
     ]
    },
    {
     "name": "stderr",
     "output_type": "stream",
     "text": [
      "\r",
      "258it [00:07, 13.64it/s]"
     ]
    },
    {
     "name": "stdout",
     "output_type": "stream",
     "text": [
      "sound/images/drilling/103357-4-0-0.png\n"
     ]
    },
    {
     "name": "stderr",
     "output_type": "stream",
     "text": [
      "\r",
      "267it [00:08, 15.83it/s]"
     ]
    },
    {
     "name": "stdout",
     "output_type": "stream",
     "text": [
      "sound/images/drilling/103357-4-0-1.png\n",
      "sound/images/drilling/104625-4-0-15.png\n"
     ]
    },
    {
     "name": "stderr",
     "output_type": "stream",
     "text": [
      "\r",
      "279it [00:08, 16.50it/s]"
     ]
    },
    {
     "name": "stdout",
     "output_type": "stream",
     "text": [
      "sound/images/drilling/104625-4-0-21.png\n",
      "sound/images/drilling/104625-4-0-27.png\n",
      "sound/images/drilling/104625-4-0-29.png\n",
      "sound/images/drilling/104625-4-0-3.png\n",
      "sound/images/drilling/104625-4-0-35.png\n",
      "sound/images/drilling/104625-4-0-40.png\n"
     ]
    },
    {
     "name": "stderr",
     "output_type": "stream",
     "text": [
      "\r",
      "285it [00:13,  3.70it/s]"
     ]
    },
    {
     "name": "stdout",
     "output_type": "stream",
     "text": [
      "sound/images/drilling/104625-4-0-41.png\n",
      "sound/images/drilling/104625-4-0-45.png\n",
      "sound/images/drilling/104625-4-0-48.png\n",
      "sound/images/drilling/104625-4-0-51.png\n"
     ]
    },
    {
     "name": "stderr",
     "output_type": "stream",
     "text": [
      "\r",
      "289it [00:16,  2.65it/s]"
     ]
    },
    {
     "name": "stdout",
     "output_type": "stream",
     "text": [
      "sound/images/drilling/104625-4-0-52.png\n",
      "sound/images/drilling/104625-4-0-53.png\n",
      "sound/images/drilling/104625-4-0-55.png\n"
     ]
    },
    {
     "name": "stderr",
     "output_type": "stream",
     "text": [
      "\r",
      "292it [00:17,  2.22it/s]"
     ]
    },
    {
     "name": "stdout",
     "output_type": "stream",
     "text": [
      "sound/images/drilling/104625-4-0-57.png\n",
      "sound/images/drilling/104625-4-0-66.png\n"
     ]
    },
    {
     "name": "stderr",
     "output_type": "stream",
     "text": [
      "\r",
      "294it [00:19,  1.98it/s]"
     ]
    },
    {
     "name": "stdout",
     "output_type": "stream",
     "text": [
      "sound/images/drilling/104625-4-1-20.png\n",
      "sound/images/drilling/104625-4-1-8.png\n"
     ]
    },
    {
     "name": "stderr",
     "output_type": "stream",
     "text": [
      "\r",
      "296it [00:20,  1.85it/s]"
     ]
    },
    {
     "name": "stdout",
     "output_type": "stream",
     "text": [
      "sound/images/drilling/104817-4-0-0.png\n"
     ]
    },
    {
     "name": "stderr",
     "output_type": "stream",
     "text": [
      "\r",
      "298it [00:21,  2.06it/s]"
     ]
    },
    {
     "name": "stdout",
     "output_type": "stream",
     "text": [
      "sound/images/drilling/104817-4-0-1.png\n",
      "sound/images/drilling/104817-4-0-10.png\n"
     ]
    },
    {
     "name": "stderr",
     "output_type": "stream",
     "text": [
      "300it [00:21,  2.20it/s]"
     ]
    },
    {
     "name": "stdout",
     "output_type": "stream",
     "text": [
      "sound/images/drilling/104817-4-0-11.png\n",
      "sound/images/drilling/104817-4-0-2.png\n"
     ]
    },
    {
     "name": "stderr",
     "output_type": "stream",
     "text": [
      "\r",
      "301it [00:22,  2.23it/s]"
     ]
    },
    {
     "name": "stdout",
     "output_type": "stream",
     "text": [
      "sound/images/drilling/104817-4-0-3.png\n"
     ]
    },
    {
     "name": "stderr",
     "output_type": "stream",
     "text": [
      "\r",
      "302it [00:23,  1.80it/s]"
     ]
    },
    {
     "name": "stdout",
     "output_type": "stream",
     "text": [
      "sound/images/drilling/104817-4-0-4.png\n"
     ]
    },
    {
     "name": "stderr",
     "output_type": "stream",
     "text": [
      "\r",
      "303it [00:23,  1.95it/s]"
     ]
    },
    {
     "name": "stdout",
     "output_type": "stream",
     "text": [
      "sound/images/drilling/104817-4-0-5.png\n"
     ]
    },
    {
     "name": "stderr",
     "output_type": "stream",
     "text": [
      "\r",
      "304it [00:24,  2.11it/s]"
     ]
    },
    {
     "name": "stdout",
     "output_type": "stream",
     "text": [
      "sound/images/drilling/104817-4-0-6.png\n"
     ]
    },
    {
     "name": "stderr",
     "output_type": "stream",
     "text": [
      "306it [00:24,  2.35it/s]"
     ]
    },
    {
     "name": "stdout",
     "output_type": "stream",
     "text": [
      "sound/images/drilling/104817-4-0-7.png\n"
     ]
    },
    {
     "name": "stderr",
     "output_type": "stream",
     "text": [
      "\r",
      "307it [00:25,  2.45it/s]"
     ]
    },
    {
     "name": "stdout",
     "output_type": "stream",
     "text": [
      "sound/images/drilling/104817-4-0-8.png\n"
     ]
    },
    {
     "name": "stderr",
     "output_type": "stream",
     "text": [
      "\r",
      "308it [00:25,  2.55it/s]"
     ]
    },
    {
     "name": "stdout",
     "output_type": "stream",
     "text": [
      "sound/images/drilling/104817-4-0-9.png\n"
     ]
    },
    {
     "name": "stderr",
     "output_type": "stream",
     "text": [
      "\r",
      "543it [00:25,  3.64it/s]"
     ]
    },
    {
     "name": "stdout",
     "output_type": "stream",
     "text": [
      "sound/images/drilling/107842-4-0-0.png\n",
      "sound/images/drilling/107842-4-0-1.png\n",
      "sound/images/drilling/107842-4-0-2.png\n",
      "sound/images/drilling/107842-4-1-0.png\n",
      "sound/images/drilling/107842-4-2-0.png\n",
      "sound/images/drilling/107842-4-2-1.png\n",
      "sound/images/drilling/107842-4-2-2.png\n",
      "sound/images/drilling/107842-4-2-3.png\n",
      "sound/images/drilling/107842-4-2-4.png\n"
     ]
    },
    {
     "name": "stderr",
     "output_type": "stream",
     "text": [
      "\r",
      "564it [00:28,  4.32it/s]"
     ]
    },
    {
     "name": "stdout",
     "output_type": "stream",
     "text": [
      "sound/images/drilling/107842-4-3-0.png\n",
      "sound/images/drilling/118278-4-0-0.png\n"
     ]
    },
    {
     "name": "stderr",
     "output_type": "stream",
     "text": [
      "\r",
      "882it [00:29,  6.15it/s]"
     ]
    },
    {
     "name": "stdout",
     "output_type": "stream",
     "text": [
      "sound/images/drilling/118278-4-0-1.png\n",
      "sound/images/drilling/118278-4-0-10.png\n",
      "sound/images/drilling/118278-4-0-11.png\n",
      "sound/images/drilling/118278-4-0-12.png\n",
      "sound/images/drilling/118278-4-0-13.png\n",
      "sound/images/drilling/118278-4-0-2.png\n",
      "sound/images/drilling/118278-4-0-3.png\n",
      "sound/images/drilling/118278-4-0-4.png\n",
      "sound/images/drilling/118278-4-0-5.png\n",
      "sound/images/drilling/118278-4-0-6.png\n",
      "sound/images/drilling/118278-4-0-7.png\n",
      "sound/images/drilling/118278-4-0-8.png\n",
      "sound/images/drilling/118278-4-0-9.png\n",
      "sound/images/drilling/118440-4-0-0.png\n",
      "sound/images/drilling/118440-4-1-0.png\n",
      "sound/images/drilling/118440-4-2-0.png\n",
      "sound/images/drilling/118440-4-3-0.png\n",
      "sound/images/drilling/118440-4-4-0.png\n",
      "sound/images/drilling/118440-4-5-0.png\n"
     ]
    },
    {
     "name": "stderr",
     "output_type": "stream",
     "text": [
      "\r",
      "917it [00:34,  6.09it/s]"
     ]
    },
    {
     "name": "stdout",
     "output_type": "stream",
     "text": [
      "sound/images/drilling/118440-4-6-0.png\n",
      "sound/images/drilling/118440-4-7-0.png\n",
      "sound/images/drilling/118440-4-8-0.png\n",
      "sound/images/drilling/118723-4-0-0.png\n"
     ]
    },
    {
     "name": "stderr",
     "output_type": "stream",
     "text": [
      "1154it [00:35, 11.80it/s]"
     ]
    },
    {
     "name": "stdout",
     "output_type": "stream",
     "text": [
      "sound/images/drilling/127443-4-0-0.png\n",
      "sound/images/drilling/127443-4-0-1.png\n",
      "sound/images/drilling/127443-4-0-10.png\n",
      "sound/images/drilling/127443-4-0-11.png\n",
      "sound/images/drilling/127443-4-0-12.png\n",
      "sound/images/drilling/127443-4-0-2.png\n",
      "sound/images/drilling/127443-4-0-3.png\n",
      "sound/images/drilling/127443-4-0-4.png\n",
      "sound/images/drilling/127443-4-0-5.png\n",
      "sound/images/drilling/127443-4-0-6.png\n",
      "sound/images/drilling/127443-4-0-7.png\n",
      "sound/images/drilling/127443-4-0-8.png\n",
      "sound/images/drilling/127443-4-0-9.png\n",
      "sound/images/drilling/127538-4-0-0.png\n",
      "sound/images/drilling/127538-4-1-0.png\n"
     ]
    },
    {
     "name": "stderr",
     "output_type": "stream",
     "text": [
      "\r",
      "1186it [00:40,  9.41it/s]"
     ]
    },
    {
     "name": "stdout",
     "output_type": "stream",
     "text": [
      "sound/images/drilling/127538-4-2-0.png\n",
      "sound/images/drilling/128607-4-0-0.png\n"
     ]
    },
    {
     "name": "stderr",
     "output_type": "stream",
     "text": [
      "\r",
      "1217it [00:41, 11.88it/s]"
     ]
    },
    {
     "name": "stdout",
     "output_type": "stream",
     "text": [
      "sound/images/drilling/128607-4-0-1.png\n",
      "sound/images/drilling/128607-4-0-2.png\n",
      "sound/images/drilling/128607-4-0-3.png\n",
      "sound/images/drilling/128607-4-0-4.png\n",
      "sound/images/drilling/128607-4-1-0.png\n",
      "sound/images/drilling/128607-4-1-1.png\n",
      "sound/images/drilling/128607-4-1-2.png\n",
      "sound/images/drilling/128607-4-1-3.png\n"
     ]
    },
    {
     "name": "stderr",
     "output_type": "stream",
     "text": [
      "\r",
      "1234it [00:46,  6.75it/s]"
     ]
    },
    {
     "name": "stdout",
     "output_type": "stream",
     "text": [
      "sound/images/drilling/130961-4-0-0.png\n"
     ]
    },
    {
     "name": "stderr",
     "output_type": "stream",
     "text": [
      "\r",
      "1246it [00:47,  8.38it/s]"
     ]
    },
    {
     "name": "stdout",
     "output_type": "stream",
     "text": [
      "sound/images/drilling/130961-4-1-1.png\n",
      "sound/images/drilling/130961-4-1-2.png\n",
      "sound/images/drilling/130961-4-1-3.png\n",
      "sound/images/drilling/130961-4-1-4.png\n",
      "sound/images/drilling/130961-4-2-1.png\n",
      "sound/images/drilling/130961-4-2-2.png\n",
      "sound/images/drilling/130961-4-3-0.png\n",
      "sound/images/drilling/130961-4-3-1.png\n",
      "sound/images/drilling/130961-4-3-2.png\n",
      "sound/images/drilling/130961-4-4-0.png\n"
     ]
    },
    {
     "name": "stderr",
     "output_type": "stream",
     "text": [
      "\r",
      "1255it [00:50,  5.01it/s]"
     ]
    },
    {
     "name": "stdout",
     "output_type": "stream",
     "text": [
      "sound/images/drilling/130961-4-5-0.png\n",
      "sound/images/drilling/130961-4-5-1.png\n",
      "sound/images/drilling/130961-4-5-2.png\n",
      "sound/images/drilling/130961-4-5-3.png\n",
      "sound/images/drilling/130961-4-5-4.png\n"
     ]
    },
    {
     "name": "stderr",
     "output_type": "stream",
     "text": [
      "\r",
      "1262it [00:52,  4.40it/s]"
     ]
    },
    {
     "name": "stdout",
     "output_type": "stream",
     "text": [
      "sound/images/drilling/130961-4-5-5.png\n"
     ]
    },
    {
     "name": "stderr",
     "output_type": "stream",
     "text": [
      "\r",
      "1514it [00:53,  6.28it/s]"
     ]
    },
    {
     "name": "stdout",
     "output_type": "stream",
     "text": [
      "sound/images/drilling/135849-4-0-0.png\n",
      "sound/images/drilling/137815-4-0-0.png\n",
      "sound/images/drilling/137815-4-0-1.png\n",
      "sound/images/drilling/137815-4-0-10.png\n",
      "sound/images/drilling/137815-4-0-2.png\n",
      "sound/images/drilling/137815-4-0-3.png\n",
      "sound/images/drilling/137815-4-0-4.png\n",
      "sound/images/drilling/137815-4-0-5.png\n",
      "sound/images/drilling/137815-4-0-6.png\n",
      "sound/images/drilling/137815-4-0-7.png\n",
      "sound/images/drilling/137815-4-0-8.png\n"
     ]
    },
    {
     "name": "stderr",
     "output_type": "stream",
     "text": [
      "\r",
      "1567it [00:56,  7.55it/s]"
     ]
    },
    {
     "name": "stdout",
     "output_type": "stream",
     "text": [
      "sound/images/drilling/137815-4-0-9.png\n",
      "sound/images/drilling/139000-4-0-0.png\n",
      "sound/images/drilling/139000-4-0-1.png\n"
     ]
    },
    {
     "name": "stderr",
     "output_type": "stream",
     "text": [
      "\r",
      "1605it [00:57,  9.96it/s]"
     ]
    },
    {
     "name": "stdout",
     "output_type": "stream",
     "text": [
      "sound/images/drilling/139000-4-0-2.png\n",
      "sound/images/drilling/140824-4-0-0.png\n",
      "sound/images/drilling/14110-4-0-0.png\n",
      "sound/images/drilling/14110-4-0-1.png\n",
      "sound/images/drilling/14110-4-0-2.png\n",
      "sound/images/drilling/14111-4-0-0.png\n",
      "sound/images/drilling/14111-4-0-1.png\n",
      "sound/images/drilling/14111-4-0-2.png\n",
      "sound/images/drilling/14111-4-0-3.png\n",
      "sound/images/drilling/14111-4-0-4.png\n",
      "sound/images/drilling/14111-4-0-5.png\n",
      "sound/images/drilling/14111-4-0-6.png\n",
      "sound/images/drilling/14111-4-0-7.png\n",
      "sound/images/drilling/14113-4-0-0.png\n",
      "sound/images/drilling/14113-4-0-1.png\n",
      "sound/images/drilling/14114-4-0-0.png\n",
      "sound/images/drilling/14114-4-0-1.png\n",
      "sound/images/drilling/14114-4-0-2.png\n",
      "sound/images/drilling/14114-4-0-3.png\n"
     ]
    },
    {
     "name": "stderr",
     "output_type": "stream",
     "text": [
      "\r",
      "1633it [01:04,  7.24it/s]"
     ]
    },
    {
     "name": "stdout",
     "output_type": "stream",
     "text": [
      "sound/images/drilling/14115-4-0-0.png\n",
      "sound/images/drilling/144351-4-0-0.png\n"
     ]
    },
    {
     "name": "stderr",
     "output_type": "stream",
     "text": [
      "\r",
      "1750it [01:04, 10.17it/s]"
     ]
    },
    {
     "name": "stdout",
     "output_type": "stream",
     "text": [
      "sound/images/drilling/144351-4-0-1.png\n",
      "sound/images/drilling/144351-4-0-2.png\n",
      "sound/images/drilling/144351-4-1-1.png\n"
     ]
    },
    {
     "name": "stderr",
     "output_type": "stream",
     "text": [
      "\r",
      "1750it [01:16, 10.17it/s]"
     ]
    },
    {
     "name": "stdout",
     "output_type": "stream",
     "text": [
      "sound/images/drilling/144351-4-2-0.png\n"
     ]
    },
    {
     "name": "stderr",
     "output_type": "stream",
     "text": [
      "\r",
      "1754it [01:17,  1.00s/it]"
     ]
    },
    {
     "name": "stdout",
     "output_type": "stream",
     "text": [
      "sound/images/drilling/144351-4-2-2.png\n"
     ]
    },
    {
     "name": "stderr",
     "output_type": "stream",
     "text": [
      "\r",
      "1755it [01:17,  1.13it/s]"
     ]
    },
    {
     "name": "stdout",
     "output_type": "stream",
     "text": [
      "sound/images/drilling/144351-4-2-4.png\n"
     ]
    },
    {
     "name": "stderr",
     "output_type": "stream",
     "text": [
      "\r",
      "1756it [01:18,  1.25it/s]"
     ]
    },
    {
     "name": "stdout",
     "output_type": "stream",
     "text": [
      "sound/images/drilling/144351-4-2-5.png\n"
     ]
    },
    {
     "name": "stderr",
     "output_type": "stream",
     "text": [
      "\r",
      "1757it [01:18,  1.35it/s]"
     ]
    },
    {
     "name": "stdout",
     "output_type": "stream",
     "text": [
      "sound/images/drilling/144351-4-2-6.png\n"
     ]
    },
    {
     "name": "stderr",
     "output_type": "stream",
     "text": [
      "\r",
      "1758it [01:19,  1.43it/s]"
     ]
    },
    {
     "name": "stdout",
     "output_type": "stream",
     "text": [
      "sound/images/drilling/144351-4-3-1.png\n"
     ]
    },
    {
     "name": "stderr",
     "output_type": "stream",
     "text": [
      "\r",
      "1759it [01:20,  1.49it/s]"
     ]
    },
    {
     "name": "stdout",
     "output_type": "stream",
     "text": [
      "sound/images/drilling/144351-4-3-10.png\n"
     ]
    },
    {
     "name": "stderr",
     "output_type": "stream",
     "text": [
      "\r",
      "1760it [01:20,  1.53it/s]"
     ]
    },
    {
     "name": "stdout",
     "output_type": "stream",
     "text": [
      "sound/images/drilling/144351-4-3-11.png\n"
     ]
    },
    {
     "name": "stderr",
     "output_type": "stream",
     "text": [
      "\r",
      "1761it [01:21,  1.54it/s]"
     ]
    },
    {
     "name": "stdout",
     "output_type": "stream",
     "text": [
      "sound/images/drilling/144351-4-3-12.png\n"
     ]
    },
    {
     "name": "stderr",
     "output_type": "stream",
     "text": [
      "\r",
      "1762it [01:22,  1.55it/s]"
     ]
    },
    {
     "name": "stdout",
     "output_type": "stream",
     "text": [
      "sound/images/drilling/144351-4-3-14.png\n"
     ]
    },
    {
     "name": "stderr",
     "output_type": "stream",
     "text": [
      "\r",
      "1763it [01:22,  1.57it/s]"
     ]
    },
    {
     "name": "stdout",
     "output_type": "stream",
     "text": [
      "sound/images/drilling/144351-4-3-15.png\n"
     ]
    },
    {
     "name": "stderr",
     "output_type": "stream",
     "text": [
      "\r",
      "1764it [01:23,  1.59it/s]"
     ]
    },
    {
     "name": "stdout",
     "output_type": "stream",
     "text": [
      "sound/images/drilling/144351-4-3-2.png\n"
     ]
    },
    {
     "name": "stderr",
     "output_type": "stream",
     "text": [
      "\r",
      "1765it [01:23,  1.59it/s]"
     ]
    },
    {
     "name": "stdout",
     "output_type": "stream",
     "text": [
      "sound/images/drilling/144351-4-3-3.png\n"
     ]
    },
    {
     "name": "stderr",
     "output_type": "stream",
     "text": [
      "\r",
      "1766it [01:24,  1.60it/s]"
     ]
    },
    {
     "name": "stdout",
     "output_type": "stream",
     "text": [
      "sound/images/drilling/144351-4-3-4.png\n"
     ]
    },
    {
     "name": "stderr",
     "output_type": "stream",
     "text": [
      "\r",
      "1767it [01:25,  1.61it/s]"
     ]
    },
    {
     "name": "stdout",
     "output_type": "stream",
     "text": [
      "sound/images/drilling/144351-4-3-5.png\n"
     ]
    },
    {
     "name": "stderr",
     "output_type": "stream",
     "text": [
      "\r",
      "1768it [01:25,  1.59it/s]"
     ]
    },
    {
     "name": "stdout",
     "output_type": "stream",
     "text": [
      "sound/images/drilling/144351-4-3-7.png\n"
     ]
    },
    {
     "name": "stderr",
     "output_type": "stream",
     "text": [
      "1840it [01:26,  2.29it/s]"
     ]
    },
    {
     "name": "stdout",
     "output_type": "stream",
     "text": [
      "sound/images/drilling/146244-4-0-0.png\n",
      "sound/images/drilling/146249-4-0-0.png\n"
     ]
    },
    {
     "name": "stderr",
     "output_type": "stream",
     "text": [
      "1948it [01:27,  4.59it/s]"
     ]
    },
    {
     "name": "stdout",
     "output_type": "stream",
     "text": [
      "sound/images/drilling/147019-4-0-0.png\n"
     ]
    },
    {
     "name": "stderr",
     "output_type": "stream",
     "text": [
      "\r",
      "1969it [01:27,  6.44it/s]"
     ]
    },
    {
     "name": "stdout",
     "output_type": "stream",
     "text": [
      "sound/images/drilling/147764-4-0-0.png\n",
      "sound/images/drilling/147764-4-1-0.png\n",
      "sound/images/drilling/147764-4-2-0.png\n",
      "sound/images/drilling/147764-4-3-0.png\n",
      "sound/images/drilling/147764-4-4-0.png\n",
      "sound/images/drilling/147764-4-4-1.png\n",
      "sound/images/drilling/147764-4-4-2.png\n",
      "sound/images/drilling/147764-4-5-0.png\n",
      "sound/images/drilling/147764-4-6-0.png\n"
     ]
    },
    {
     "name": "stderr",
     "output_type": "stream",
     "text": [
      "\r",
      "1983it [01:29,  6.30it/s]"
     ]
    },
    {
     "name": "stdout",
     "output_type": "stream",
     "text": [
      "sound/images/drilling/147764-4-7-0.png\n",
      "sound/images/drilling/147764-4-8-0.png\n"
     ]
    },
    {
     "name": "stderr",
     "output_type": "stream",
     "text": [
      "\r",
      "2098it [01:30,  8.93it/s]"
     ]
    },
    {
     "name": "stdout",
     "output_type": "stream",
     "text": [
      "sound/images/drilling/151005-4-0-0.png\n",
      "sound/images/drilling/151005-4-0-1.png\n",
      "sound/images/drilling/151005-4-0-2.png\n",
      "sound/images/drilling/151005-4-0-3.png\n",
      "sound/images/drilling/151005-4-1-0.png\n",
      "sound/images/drilling/151005-4-1-1.png\n",
      "sound/images/drilling/151005-4-1-2.png\n",
      "sound/images/drilling/151005-4-2-0.png\n",
      "sound/images/drilling/151005-4-2-1.png\n",
      "sound/images/drilling/151005-4-3-0.png\n",
      "sound/images/drilling/151005-4-3-1.png\n"
     ]
    },
    {
     "name": "stderr",
     "output_type": "stream",
     "text": [
      "\r",
      "2115it [01:33,  6.91it/s]"
     ]
    },
    {
     "name": "stdout",
     "output_type": "stream",
     "text": [
      "sound/images/drilling/151005-4-3-2.png\n"
     ]
    },
    {
     "name": "stderr",
     "output_type": "stream",
     "text": [
      "\r",
      "2352it [01:34,  9.82it/s]"
     ]
    },
    {
     "name": "stdout",
     "output_type": "stream",
     "text": [
      "sound/images/drilling/156362-4-0-0.png\n",
      "sound/images/drilling/156362-4-0-1.png\n",
      "sound/images/drilling/156362-4-0-2.png\n",
      "sound/images/drilling/156362-4-0-3.png\n",
      "sound/images/drilling/156362-4-1-0.png\n",
      "sound/images/drilling/156362-4-2-0.png\n",
      "sound/images/drilling/156362-4-2-1.png\n",
      "sound/images/drilling/156362-4-3-0.png\n",
      "sound/images/drilling/156362-4-3-1.png\n",
      "sound/images/drilling/156362-4-3-2.png\n",
      "sound/images/drilling/156362-4-3-3.png\n",
      "sound/images/drilling/156362-4-3-4.png\n",
      "sound/images/drilling/156362-4-3-5.png\n",
      "sound/images/drilling/156362-4-3-6.png\n",
      "sound/images/drilling/156362-4-3-7.png\n"
     ]
    },
    {
     "name": "stderr",
     "output_type": "stream",
     "text": [
      "\r",
      "2381it [01:39,  7.90it/s]"
     ]
    },
    {
     "name": "stdout",
     "output_type": "stream",
     "text": [
      "sound/images/drilling/156362-4-3-8.png\n",
      "sound/images/drilling/161129-4-0-1.png\n"
     ]
    },
    {
     "name": "stderr",
     "output_type": "stream",
     "text": [
      "\r",
      "2851it [01:40, 11.20it/s]"
     ]
    },
    {
     "name": "stdout",
     "output_type": "stream",
     "text": [
      "sound/images/drilling/161129-4-0-10.png\n",
      "sound/images/drilling/161129-4-0-11.png\n",
      "sound/images/drilling/161129-4-0-12.png\n",
      "sound/images/drilling/161129-4-0-13.png\n",
      "sound/images/drilling/161129-4-0-15.png\n",
      "sound/images/drilling/161129-4-0-16.png\n",
      "sound/images/drilling/161129-4-0-19.png\n",
      "sound/images/drilling/161129-4-0-2.png\n",
      "sound/images/drilling/161129-4-0-20.png\n",
      "sound/images/drilling/161129-4-0-3.png\n",
      "sound/images/drilling/161129-4-0-4.png\n",
      "sound/images/drilling/161129-4-0-5.png\n",
      "sound/images/drilling/161129-4-0-6.png\n",
      "sound/images/drilling/161129-4-0-7.png\n"
     ]
    },
    {
     "name": "stderr",
     "output_type": "stream",
     "text": [
      "\r",
      "2851it [01:56, 11.20it/s]"
     ]
    },
    {
     "name": "stdout",
     "output_type": "stream",
     "text": [
      "sound/images/drilling/161129-4-0-8.png\n"
     ]
    },
    {
     "name": "stderr",
     "output_type": "stream",
     "text": [
      "\r",
      "2866it [01:57,  2.48it/s]"
     ]
    },
    {
     "name": "stdout",
     "output_type": "stream",
     "text": [
      "sound/images/drilling/161129-4-0-9.png\n"
     ]
    },
    {
     "name": "stderr",
     "output_type": "stream",
     "text": [
      "3148it [01:59,  2.30it/s]"
     ]
    },
    {
     "name": "stdout",
     "output_type": "stream",
     "text": [
      "sound/images/drilling/165640-4-0-0.png\n",
      "sound/images/drilling/165640-4-0-1.png\n",
      "sound/images/drilling/165640-4-0-2.png\n",
      "sound/images/drilling/165641-4-0-0.png\n",
      "sound/images/drilling/165641-4-0-1.png\n",
      "sound/images/drilling/165642-4-0-0.png\n",
      "sound/images/drilling/165643-4-0-0.png\n",
      "sound/images/drilling/165644-4-0-0.png\n",
      "sound/images/drilling/165644-4-0-1.png\n",
      "sound/images/drilling/165645-4-0-0.png\n",
      "sound/images/drilling/165645-4-1-0.png\n",
      "sound/images/drilling/165645-4-2-0.png\n",
      "sound/images/drilling/165645-4-3-0.png\n"
     ]
    },
    {
     "name": "stderr",
     "output_type": "stream",
     "text": [
      "\r",
      "3173it [02:02,  2.89it/s]"
     ]
    },
    {
     "name": "stdout",
     "output_type": "stream",
     "text": [
      "sound/images/drilling/165645-4-4-0.png\n",
      "sound/images/drilling/165645-4-5-0.png\n",
      "sound/images/drilling/165785-4-0-0.png\n",
      "sound/images/drilling/165785-4-1-0.png\n",
      "sound/images/drilling/165785-4-2-0.png\n",
      "sound/images/drilling/165785-4-3-0.png\n",
      "sound/images/drilling/165785-4-4-0.png\n"
     ]
    },
    {
     "name": "stderr",
     "output_type": "stream",
     "text": [
      "\r",
      "3191it [02:03,  3.85it/s]"
     ]
    },
    {
     "name": "stdout",
     "output_type": "stream",
     "text": [
      "sound/images/drilling/165786-4-0-0.png\n"
     ]
    },
    {
     "name": "stderr",
     "output_type": "stream",
     "text": [
      "\r",
      "3211it [02:03,  5.36it/s]"
     ]
    },
    {
     "name": "stdout",
     "output_type": "stream",
     "text": [
      "sound/images/drilling/166931-4-0-0.png\n",
      "sound/images/drilling/166931-4-0-1.png\n",
      "sound/images/drilling/166931-4-1-2.png\n",
      "sound/images/drilling/166931-4-1-4.png\n",
      "sound/images/drilling/166931-4-1-5.png\n",
      "sound/images/drilling/166931-4-1-6.png\n",
      "sound/images/drilling/166931-4-2-0.png\n",
      "sound/images/drilling/166931-4-2-12.png\n",
      "sound/images/drilling/166931-4-2-13.png\n",
      "sound/images/drilling/166931-4-2-3.png\n",
      "sound/images/drilling/166931-4-2-7.png\n"
     ]
    },
    {
     "name": "stderr",
     "output_type": "stream",
     "text": [
      "\r",
      "3222it [02:07,  4.35it/s]"
     ]
    },
    {
     "name": "stdout",
     "output_type": "stream",
     "text": [
      "sound/images/drilling/166931-4-2-8.png\n",
      "sound/images/drilling/166931-4-3-1.png\n",
      "sound/images/drilling/166931-4-3-2.png\n",
      "sound/images/drilling/166931-4-4-0.png\n",
      "sound/images/drilling/166931-4-4-2.png\n"
     ]
    },
    {
     "name": "stderr",
     "output_type": "stream",
     "text": [
      "\r",
      "3230it [02:09,  4.47it/s]"
     ]
    },
    {
     "name": "stdout",
     "output_type": "stream",
     "text": [
      "sound/images/drilling/166931-4-4-3.png\n"
     ]
    },
    {
     "name": "stderr",
     "output_type": "stream",
     "text": [
      "\r",
      "3269it [02:09,  6.34it/s]"
     ]
    },
    {
     "name": "stdout",
     "output_type": "stream",
     "text": [
      "sound/images/drilling/167701-4-0-0.png\n",
      "sound/images/drilling/167701-4-1-0.png\n",
      "sound/images/drilling/167701-4-10-0.png\n",
      "sound/images/drilling/167701-4-11-0.png\n",
      "sound/images/drilling/167701-4-12-0.png\n",
      "sound/images/drilling/167701-4-2-0.png\n",
      "sound/images/drilling/167701-4-3-0.png\n",
      "sound/images/drilling/167701-4-4-0.png\n",
      "sound/images/drilling/167701-4-5-0.png\n",
      "sound/images/drilling/167701-4-6-0.png\n",
      "sound/images/drilling/167701-4-6-1.png\n"
     ]
    },
    {
     "name": "stderr",
     "output_type": "stream",
     "text": [
      "\r",
      "3280it [02:12,  5.20it/s]"
     ]
    },
    {
     "name": "stdout",
     "output_type": "stream",
     "text": [
      "sound/images/drilling/167701-4-6-2.png\n",
      "sound/images/drilling/167701-4-6-3.png\n",
      "sound/images/drilling/167701-4-6-4.png\n",
      "sound/images/drilling/167701-4-7-0.png\n",
      "sound/images/drilling/167701-4-9-0.png\n",
      "sound/images/drilling/167701-4-9-1.png\n",
      "sound/images/drilling/167702-4-0-0.png\n",
      "sound/images/drilling/167702-4-1-0.png\n"
     ]
    },
    {
     "name": "stderr",
     "output_type": "stream",
     "text": [
      "\r",
      "3288it [02:14,  4.44it/s]"
     ]
    },
    {
     "name": "stdout",
     "output_type": "stream",
     "text": [
      "sound/images/drilling/167702-4-2-0.png\n",
      "sound/images/drilling/167702-4-3-0.png\n",
      "sound/images/drilling/167702-4-4-0.png\n",
      "sound/images/drilling/167702-4-5-0.png\n",
      "sound/images/drilling/167702-4-6-0.png\n",
      "sound/images/drilling/167702-4-7-0.png\n"
     ]
    },
    {
     "name": "stderr",
     "output_type": "stream",
     "text": [
      "\r",
      "3294it [02:16,  4.10it/s]"
     ]
    },
    {
     "name": "stdout",
     "output_type": "stream",
     "text": [
      "sound/images/drilling/167702-4-7-1.png\n",
      "sound/images/drilling/167702-4-8-0.png\n",
      "sound/images/drilling/167702-4-9-0.png\n"
     ]
    },
    {
     "name": "stderr",
     "output_type": "stream",
     "text": [
      "\r",
      "3298it [02:17,  4.27it/s]"
     ]
    },
    {
     "name": "stdout",
     "output_type": "stream",
     "text": [
      "sound/images/drilling/167750-4-0-0.png\n",
      "sound/images/drilling/167750-4-1-0.png\n",
      "sound/images/drilling/167750-4-2-0.png\n",
      "sound/images/drilling/167750-4-3-0.png\n"
     ]
    },
    {
     "name": "stderr",
     "output_type": "stream",
     "text": [
      "\r",
      "3301it [02:18,  4.29it/s]"
     ]
    },
    {
     "name": "stdout",
     "output_type": "stream",
     "text": [
      "sound/images/drilling/168037-4-0-0.png\n",
      "sound/images/drilling/168037-4-1-0.png\n",
      "sound/images/drilling/168037-4-10-0.png\n"
     ]
    },
    {
     "name": "stderr",
     "output_type": "stream",
     "text": [
      "\r",
      "3304it [02:18,  4.48it/s]"
     ]
    },
    {
     "name": "stdout",
     "output_type": "stream",
     "text": [
      "sound/images/drilling/168037-4-11-0.png\n",
      "sound/images/drilling/168037-4-12-0.png\n"
     ]
    },
    {
     "name": "stderr",
     "output_type": "stream",
     "text": [
      "\r",
      "3306it [02:19,  4.72it/s]"
     ]
    },
    {
     "name": "stdout",
     "output_type": "stream",
     "text": [
      "sound/images/drilling/168037-4-13-0.png\n"
     ]
    },
    {
     "name": "stderr",
     "output_type": "stream",
     "text": [
      "\r",
      "3308it [02:19,  4.39it/s]"
     ]
    },
    {
     "name": "stdout",
     "output_type": "stream",
     "text": [
      "sound/images/drilling/168037-4-2-0.png\n",
      "sound/images/drilling/168037-4-3-0.png\n",
      "sound/images/drilling/168037-4-4-0.png\n"
     ]
    },
    {
     "name": "stderr",
     "output_type": "stream",
     "text": [
      "3311it [02:20,  4.55it/s]"
     ]
    },
    {
     "name": "stdout",
     "output_type": "stream",
     "text": [
      "sound/images/drilling/168037-4-5-0.png\n"
     ]
    },
    {
     "name": "stderr",
     "output_type": "stream",
     "text": [
      "\r",
      "3312it [02:20,  4.48it/s]"
     ]
    },
    {
     "name": "stdout",
     "output_type": "stream",
     "text": [
      "sound/images/drilling/168037-4-6-0.png\n"
     ]
    },
    {
     "name": "stderr",
     "output_type": "stream",
     "text": [
      "\r",
      "3313it [02:20,  4.42it/s]"
     ]
    },
    {
     "name": "stdout",
     "output_type": "stream",
     "text": [
      "sound/images/drilling/168037-4-7-0.png\n"
     ]
    },
    {
     "name": "stderr",
     "output_type": "stream",
     "text": [
      "\r",
      "3314it [02:20,  4.71it/s]"
     ]
    },
    {
     "name": "stdout",
     "output_type": "stream",
     "text": [
      "sound/images/drilling/168037-4-8-0.png\n",
      "sound/images/drilling/168037-4-9-0.png\n"
     ]
    },
    {
     "name": "stderr",
     "output_type": "stream",
     "text": [
      "\r",
      "3315it [02:21,  4.70it/s]"
     ]
    },
    {
     "name": "stdout",
     "output_type": "stream",
     "text": [
      "sound/images/drilling/169466-4-0-12.png\n"
     ]
    },
    {
     "name": "stderr",
     "output_type": "stream",
     "text": [
      "\r",
      "3400it [02:21,  6.62it/s]"
     ]
    },
    {
     "name": "stdout",
     "output_type": "stream",
     "text": [
      "sound/images/drilling/169466-4-0-7.png\n",
      "sound/images/drilling/169466-4-0-8.png\n",
      "sound/images/drilling/169466-4-1-3.png\n",
      "sound/images/drilling/169466-4-1-5.png\n",
      "sound/images/drilling/169466-4-1-8.png\n"
     ]
    },
    {
     "name": "stderr",
     "output_type": "stream",
     "text": [
      "\r",
      "3405it [02:24,  3.43it/s]"
     ]
    },
    {
     "name": "stdout",
     "output_type": "stream",
     "text": [
      "sound/images/drilling/169466-4-2-17.png\n",
      "sound/images/drilling/169466-4-2-18.png\n",
      "sound/images/drilling/169466-4-2-2.png\n",
      "sound/images/drilling/169466-4-2-21.png\n"
     ]
    },
    {
     "name": "stderr",
     "output_type": "stream",
     "text": [
      "\r",
      "3409it [02:27,  2.57it/s]"
     ]
    },
    {
     "name": "stdout",
     "output_type": "stream",
     "text": [
      "sound/images/drilling/169466-4-2-4.png\n",
      "sound/images/drilling/169466-4-2-6.png\n",
      "sound/images/drilling/169466-4-2-8.png\n"
     ]
    },
    {
     "name": "stderr",
     "output_type": "stream",
     "text": [
      "\r",
      "3412it [02:29,  2.18it/s]"
     ]
    },
    {
     "name": "stdout",
     "output_type": "stream",
     "text": [
      "sound/images/drilling/169466-4-3-1.png\n",
      "sound/images/drilling/169466-4-3-10.png\n"
     ]
    },
    {
     "name": "stderr",
     "output_type": "stream",
     "text": [
      "\r",
      "3414it [02:30,  1.96it/s]"
     ]
    },
    {
     "name": "stdout",
     "output_type": "stream",
     "text": [
      "sound/images/drilling/169466-4-3-12.png\n",
      "sound/images/drilling/169466-4-3-14.png\n"
     ]
    },
    {
     "name": "stderr",
     "output_type": "stream",
     "text": [
      "\r",
      "3416it [02:31,  1.83it/s]"
     ]
    },
    {
     "name": "stdout",
     "output_type": "stream",
     "text": [
      "sound/images/drilling/169466-4-3-3.png\n"
     ]
    },
    {
     "name": "stderr",
     "output_type": "stream",
     "text": [
      "\r",
      "3417it [02:32,  1.75it/s]"
     ]
    },
    {
     "name": "stdout",
     "output_type": "stream",
     "text": [
      "sound/images/drilling/169466-4-3-7.png\n"
     ]
    },
    {
     "name": "stderr",
     "output_type": "stream",
     "text": [
      "\r",
      "3418it [02:32,  1.71it/s]"
     ]
    },
    {
     "name": "stdout",
     "output_type": "stream",
     "text": [
      "sound/images/drilling/169466-4-3-8.png\n"
     ]
    },
    {
     "name": "stderr",
     "output_type": "stream",
     "text": [
      "\r",
      "3419it [02:33,  1.69it/s]"
     ]
    },
    {
     "name": "stdout",
     "output_type": "stream",
     "text": [
      "sound/images/drilling/169466-4-3-9.png\n"
     ]
    },
    {
     "name": "stderr",
     "output_type": "stream",
     "text": [
      "4133it [02:34,  2.38it/s]"
     ]
    },
    {
     "name": "stdout",
     "output_type": "stream",
     "text": [
      "sound/images/drilling/17913-4-0-0.png\n",
      "sound/images/drilling/17913-4-0-1.png\n",
      "sound/images/drilling/17913-4-0-2.png\n",
      "sound/images/drilling/17913-4-1-0.png\n",
      "sound/images/drilling/17913-4-2-0.png\n",
      "sound/images/drilling/179212-4-0-0.png\n",
      "sound/images/drilling/179725-4-0-0.png\n",
      "sound/images/drilling/180029-4-1-0.png\n",
      "sound/images/drilling/180029-4-10-0.png\n",
      "sound/images/drilling/180029-4-11-0.png\n",
      "sound/images/drilling/180029-4-12-0.png\n",
      "sound/images/drilling/180029-4-13-0.png\n",
      "sound/images/drilling/180029-4-14-0.png\n",
      "sound/images/drilling/180029-4-15-0.png\n",
      "sound/images/drilling/180029-4-16-0.png\n",
      "sound/images/drilling/180029-4-19-0.png\n",
      "sound/images/drilling/180029-4-2-0.png\n",
      "sound/images/drilling/180029-4-20-0.png\n",
      "sound/images/drilling/180029-4-4-0.png\n",
      "sound/images/drilling/180029-4-5-0.png\n",
      "sound/images/drilling/180029-4-6-0.png\n",
      "sound/images/drilling/180029-4-7-0.png\n",
      "sound/images/drilling/180029-4-8-0.png\n"
     ]
    },
    {
     "name": "stderr",
     "output_type": "stream",
     "text": [
      "\r",
      "4133it [02:46,  2.38it/s]"
     ]
    },
    {
     "name": "stdout",
     "output_type": "stream",
     "text": [
      "sound/images/drilling/180029-4-9-0.png\n"
     ]
    },
    {
     "name": "stderr",
     "output_type": "stream",
     "text": [
      "\r",
      "4179it [02:47,  2.62it/s]"
     ]
    },
    {
     "name": "stdout",
     "output_type": "stream",
     "text": [
      "sound/images/drilling/180125-4-0-16.png\n"
     ]
    },
    {
     "name": "stderr",
     "output_type": "stream",
     "text": [
      "\r",
      "4190it [02:52,  2.47it/s]"
     ]
    },
    {
     "name": "stdout",
     "output_type": "stream",
     "text": [
      "sound/images/drilling/180125-4-0-17.png\n"
     ]
    },
    {
     "name": "stderr",
     "output_type": "stream",
     "text": [
      "\r",
      "4191it [03:01,  2.86s/it]"
     ]
    },
    {
     "name": "stdout",
     "output_type": "stream",
     "text": [
      "sound/images/drilling/180125-4-1-3.png\n"
     ]
    },
    {
     "name": "stderr",
     "output_type": "stream",
     "text": [
      "\r",
      "4192it [03:05,  3.29s/it]"
     ]
    },
    {
     "name": "stdout",
     "output_type": "stream",
     "text": [
      "sound/images/drilling/180125-4-1-5.png\n"
     ]
    },
    {
     "name": "stderr",
     "output_type": "stream",
     "text": [
      "\r",
      "4193it [03:08,  3.00s/it]"
     ]
    },
    {
     "name": "stdout",
     "output_type": "stream",
     "text": [
      "sound/images/drilling/180125-4-1-7.png\n"
     ]
    },
    {
     "name": "stderr",
     "output_type": "stream",
     "text": [
      "\r",
      "4194it [03:11,  3.03s/it]"
     ]
    },
    {
     "name": "stdout",
     "output_type": "stream",
     "text": [
      "sound/images/drilling/180125-4-1-8.png\n"
     ]
    },
    {
     "name": "stderr",
     "output_type": "stream",
     "text": [
      "\r",
      "4195it [03:15,  3.28s/it]"
     ]
    },
    {
     "name": "stdout",
     "output_type": "stream",
     "text": [
      "sound/images/drilling/180125-4-2-1.png\n"
     ]
    },
    {
     "name": "stderr",
     "output_type": "stream",
     "text": [
      "\r",
      "4196it [03:21,  4.06s/it]"
     ]
    },
    {
     "name": "stdout",
     "output_type": "stream",
     "text": [
      "sound/images/drilling/180125-4-2-13.png\n"
     ]
    },
    {
     "name": "stderr",
     "output_type": "stream",
     "text": [
      "\r",
      "4197it [03:26,  4.34s/it]"
     ]
    },
    {
     "name": "stdout",
     "output_type": "stream",
     "text": [
      "sound/images/drilling/180125-4-2-14.png\n"
     ]
    },
    {
     "name": "stderr",
     "output_type": "stream",
     "text": [
      "\r",
      "4198it [03:30,  4.53s/it]"
     ]
    },
    {
     "name": "stdout",
     "output_type": "stream",
     "text": [
      "sound/images/drilling/180125-4-2-15.png\n"
     ]
    },
    {
     "name": "stderr",
     "output_type": "stream",
     "text": [
      "\r",
      "4199it [03:33,  3.90s/it]"
     ]
    },
    {
     "name": "stdout",
     "output_type": "stream",
     "text": [
      "sound/images/drilling/180125-4-2-17.png\n"
     ]
    },
    {
     "name": "stderr",
     "output_type": "stream",
     "text": [
      "4201it [03:34,  2.12s/it]"
     ]
    },
    {
     "name": "stdout",
     "output_type": "stream",
     "text": [
      "sound/images/drilling/180125-4-3-0.png\n"
     ]
    },
    {
     "name": "stderr",
     "output_type": "stream",
     "text": [
      "\r",
      "4202it [03:34,  1.59s/it]"
     ]
    },
    {
     "name": "stdout",
     "output_type": "stream",
     "text": [
      "sound/images/drilling/180125-4-3-1.png\n",
      "sound/images/drilling/180125-4-3-10.png\n"
     ]
    },
    {
     "name": "stderr",
     "output_type": "stream",
     "text": [
      "4204it [03:35,  1.03it/s]"
     ]
    },
    {
     "name": "stdout",
     "output_type": "stream",
     "text": [
      "sound/images/drilling/180125-4-3-2.png\n"
     ]
    },
    {
     "name": "stderr",
     "output_type": "stream",
     "text": [
      "\r",
      "4205it [03:35,  1.28it/s]"
     ]
    },
    {
     "name": "stdout",
     "output_type": "stream",
     "text": [
      "sound/images/drilling/180125-4-3-22.png\n"
     ]
    },
    {
     "name": "stderr",
     "output_type": "stream",
     "text": [
      "\r",
      "4206it [03:36,  1.54it/s]"
     ]
    },
    {
     "name": "stdout",
     "output_type": "stream",
     "text": [
      "sound/images/drilling/180125-4-3-24.png\n",
      "sound/images/drilling/180125-4-3-4.png\n"
     ]
    },
    {
     "name": "stderr",
     "output_type": "stream",
     "text": [
      "4208it [03:36,  2.07it/s]"
     ]
    },
    {
     "name": "stdout",
     "output_type": "stream",
     "text": [
      "sound/images/drilling/180126-4-0-0.png\n"
     ]
    },
    {
     "name": "stderr",
     "output_type": "stream",
     "text": [
      "\r",
      "4209it [03:37,  2.22it/s]"
     ]
    },
    {
     "name": "stdout",
     "output_type": "stream",
     "text": [
      "sound/images/drilling/180126-4-1-0.png\n",
      "sound/images/drilling/180126-4-1-1.png\n"
     ]
    },
    {
     "name": "stderr",
     "output_type": "stream",
     "text": [
      "\r",
      "4210it [03:37,  2.24it/s]"
     ]
    },
    {
     "name": "stdout",
     "output_type": "stream",
     "text": [
      "sound/images/drilling/180126-4-1-2.png\n"
     ]
    },
    {
     "name": "stderr",
     "output_type": "stream",
     "text": [
      "4212it [03:38,  2.58it/s]"
     ]
    },
    {
     "name": "stdout",
     "output_type": "stream",
     "text": [
      "sound/images/drilling/180126-4-2-0.png\n"
     ]
    },
    {
     "name": "stderr",
     "output_type": "stream",
     "text": [
      "\r",
      "4213it [03:38,  2.59it/s]"
     ]
    },
    {
     "name": "stdout",
     "output_type": "stream",
     "text": [
      "sound/images/drilling/180126-4-3-0.png\n",
      "sound/images/drilling/180126-4-4-0.png\n"
     ]
    },
    {
     "name": "stderr",
     "output_type": "stream",
     "text": [
      "4215it [03:39,  2.65it/s]"
     ]
    },
    {
     "name": "stdout",
     "output_type": "stream",
     "text": [
      "sound/images/drilling/180126-4-4-1.png\n"
     ]
    },
    {
     "name": "stderr",
     "output_type": "stream",
     "text": [
      "\r",
      "4216it [03:39,  2.73it/s]"
     ]
    },
    {
     "name": "stdout",
     "output_type": "stream",
     "text": [
      "sound/images/drilling/180126-4-4-2.png\n"
     ]
    },
    {
     "name": "stderr",
     "output_type": "stream",
     "text": [
      "\r",
      "4217it [03:40,  2.78it/s]"
     ]
    },
    {
     "name": "stdout",
     "output_type": "stream",
     "text": [
      "sound/images/drilling/180127-4-0-0.png\n"
     ]
    },
    {
     "name": "stderr",
     "output_type": "stream",
     "text": [
      "\r",
      "4218it [03:40,  2.82it/s]"
     ]
    },
    {
     "name": "stdout",
     "output_type": "stream",
     "text": [
      "sound/images/drilling/180127-4-0-1.png\n"
     ]
    },
    {
     "name": "stderr",
     "output_type": "stream",
     "text": [
      "\r",
      "4219it [03:40,  2.86it/s]"
     ]
    },
    {
     "name": "stdout",
     "output_type": "stream",
     "text": [
      "sound/images/drilling/180127-4-0-10.png\n"
     ]
    },
    {
     "name": "stderr",
     "output_type": "stream",
     "text": [
      "\r",
      "4220it [03:41,  2.87it/s]"
     ]
    },
    {
     "name": "stdout",
     "output_type": "stream",
     "text": [
      "sound/images/drilling/180127-4-0-11.png\n",
      "sound/images/drilling/180127-4-0-12.png\n"
     ]
    },
    {
     "name": "stderr",
     "output_type": "stream",
     "text": [
      "4222it [03:41,  2.83it/s]"
     ]
    },
    {
     "name": "stdout",
     "output_type": "stream",
     "text": [
      "sound/images/drilling/180127-4-0-13.png\n"
     ]
    },
    {
     "name": "stderr",
     "output_type": "stream",
     "text": [
      "\r",
      "4223it [03:42,  2.78it/s]"
     ]
    },
    {
     "name": "stdout",
     "output_type": "stream",
     "text": [
      "sound/images/drilling/180127-4-0-14.png\n",
      "sound/images/drilling/180127-4-0-15.png\n"
     ]
    },
    {
     "name": "stderr",
     "output_type": "stream",
     "text": [
      "4225it [03:42,  2.66it/s]"
     ]
    },
    {
     "name": "stdout",
     "output_type": "stream",
     "text": [
      "sound/images/drilling/180127-4-0-16.png\n"
     ]
    },
    {
     "name": "stderr",
     "output_type": "stream",
     "text": [
      "\r",
      "4226it [03:43,  2.73it/s]"
     ]
    },
    {
     "name": "stdout",
     "output_type": "stream",
     "text": [
      "sound/images/drilling/180127-4-0-17.png\n"
     ]
    },
    {
     "name": "stderr",
     "output_type": "stream",
     "text": [
      "\r",
      "4227it [03:43,  2.73it/s]"
     ]
    },
    {
     "name": "stdout",
     "output_type": "stream",
     "text": [
      "sound/images/drilling/180127-4-0-18.png\n"
     ]
    },
    {
     "name": "stderr",
     "output_type": "stream",
     "text": [
      "\r",
      "4228it [03:44,  2.76it/s]"
     ]
    },
    {
     "name": "stdout",
     "output_type": "stream",
     "text": [
      "sound/images/drilling/180127-4-0-19.png\n"
     ]
    },
    {
     "name": "stderr",
     "output_type": "stream",
     "text": [
      "\r",
      "4229it [03:44,  2.76it/s]"
     ]
    },
    {
     "name": "stdout",
     "output_type": "stream",
     "text": [
      "sound/images/drilling/180127-4-0-2.png\n",
      "sound/images/drilling/180127-4-0-20.png\n"
     ]
    },
    {
     "name": "stderr",
     "output_type": "stream",
     "text": [
      "4231it [03:45,  2.36it/s]"
     ]
    },
    {
     "name": "stdout",
     "output_type": "stream",
     "text": [
      "sound/images/drilling/180127-4-0-21.png\n",
      "sound/images/drilling/180127-4-0-3.png\n"
     ]
    },
    {
     "name": "stderr",
     "output_type": "stream",
     "text": [
      "4233it [03:46,  2.43it/s]"
     ]
    },
    {
     "name": "stdout",
     "output_type": "stream",
     "text": [
      "sound/images/drilling/180127-4-0-4.png\n"
     ]
    },
    {
     "name": "stderr",
     "output_type": "stream",
     "text": [
      "\r",
      "4234it [03:46,  2.54it/s]"
     ]
    },
    {
     "name": "stdout",
     "output_type": "stream",
     "text": [
      "sound/images/drilling/180127-4-0-5.png\n"
     ]
    },
    {
     "name": "stderr",
     "output_type": "stream",
     "text": [
      "\r",
      "4235it [03:46,  2.61it/s]"
     ]
    },
    {
     "name": "stdout",
     "output_type": "stream",
     "text": [
      "sound/images/drilling/180127-4-0-6.png\n"
     ]
    },
    {
     "name": "stderr",
     "output_type": "stream",
     "text": [
      "\r",
      "4236it [03:47,  2.66it/s]"
     ]
    },
    {
     "name": "stdout",
     "output_type": "stream",
     "text": [
      "sound/images/drilling/180127-4-0-7.png\n"
     ]
    },
    {
     "name": "stderr",
     "output_type": "stream",
     "text": [
      "\r",
      "4237it [03:47,  2.73it/s]"
     ]
    },
    {
     "name": "stdout",
     "output_type": "stream",
     "text": [
      "sound/images/drilling/180127-4-0-8.png\n"
     ]
    },
    {
     "name": "stderr",
     "output_type": "stream",
     "text": [
      "\r",
      "4238it [03:47,  2.80it/s]"
     ]
    },
    {
     "name": "stdout",
     "output_type": "stream",
     "text": [
      "sound/images/drilling/180127-4-0-9.png\n"
     ]
    },
    {
     "name": "stderr",
     "output_type": "stream",
     "text": [
      "\r",
      "4239it [03:48,  2.84it/s]"
     ]
    },
    {
     "name": "stdout",
     "output_type": "stream",
     "text": [
      "sound/images/drilling/180128-4-0-0.png\n"
     ]
    },
    {
     "name": "stderr",
     "output_type": "stream",
     "text": [
      "\r",
      "4240it [03:48,  2.86it/s]"
     ]
    },
    {
     "name": "stdout",
     "output_type": "stream",
     "text": [
      "sound/images/drilling/180128-4-11-0.png\n"
     ]
    },
    {
     "name": "stderr",
     "output_type": "stream",
     "text": [
      "\r",
      "4241it [03:48,  2.88it/s]"
     ]
    },
    {
     "name": "stdout",
     "output_type": "stream",
     "text": [
      "sound/images/drilling/180128-4-11-1.png\n"
     ]
    },
    {
     "name": "stderr",
     "output_type": "stream",
     "text": [
      "\r",
      "4242it [03:49,  2.91it/s]"
     ]
    },
    {
     "name": "stdout",
     "output_type": "stream",
     "text": [
      "sound/images/drilling/180128-4-12-0.png\n"
     ]
    },
    {
     "name": "stderr",
     "output_type": "stream",
     "text": [
      "\r",
      "4243it [03:49,  2.91it/s]"
     ]
    },
    {
     "name": "stdout",
     "output_type": "stream",
     "text": [
      "sound/images/drilling/180128-4-13-0.png\n"
     ]
    },
    {
     "name": "stderr",
     "output_type": "stream",
     "text": [
      "\r",
      "4244it [03:49,  2.93it/s]"
     ]
    },
    {
     "name": "stdout",
     "output_type": "stream",
     "text": [
      "sound/images/drilling/180128-4-14-0.png\n"
     ]
    },
    {
     "name": "stderr",
     "output_type": "stream",
     "text": [
      "\r",
      "4245it [03:50,  2.90it/s]"
     ]
    },
    {
     "name": "stdout",
     "output_type": "stream",
     "text": [
      "sound/images/drilling/180128-4-16-1.png\n"
     ]
    },
    {
     "name": "stderr",
     "output_type": "stream",
     "text": [
      "\r",
      "4246it [03:50,  2.87it/s]"
     ]
    },
    {
     "name": "stdout",
     "output_type": "stream",
     "text": [
      "sound/images/drilling/180128-4-17-0.png\n"
     ]
    },
    {
     "name": "stderr",
     "output_type": "stream",
     "text": [
      "\r",
      "4247it [03:51,  2.82it/s]"
     ]
    },
    {
     "name": "stdout",
     "output_type": "stream",
     "text": [
      "sound/images/drilling/180128-4-4-0.png\n",
      "sound/images/drilling/180128-4-5-0.png\n"
     ]
    },
    {
     "name": "stderr",
     "output_type": "stream",
     "text": [
      "\r",
      "4248it [03:51,  2.68it/s]"
     ]
    },
    {
     "name": "stdout",
     "output_type": "stream",
     "text": [
      "sound/images/drilling/180128-4-6-0.png\n"
     ]
    },
    {
     "name": "stderr",
     "output_type": "stream",
     "text": [
      "4250it [03:52,  2.53it/s]"
     ]
    },
    {
     "name": "stdout",
     "output_type": "stream",
     "text": [
      "sound/images/drilling/180128-4-6-1.png\n"
     ]
    },
    {
     "name": "stderr",
     "output_type": "stream",
     "text": [
      "\r",
      "4251it [03:52,  2.61it/s]"
     ]
    },
    {
     "name": "stdout",
     "output_type": "stream",
     "text": [
      "sound/images/drilling/180128-4-6-2.png\n"
     ]
    },
    {
     "name": "stderr",
     "output_type": "stream",
     "text": [
      "\r",
      "4252it [03:53,  2.64it/s]"
     ]
    },
    {
     "name": "stdout",
     "output_type": "stream",
     "text": [
      "sound/images/drilling/180128-4-7-0.png\n"
     ]
    },
    {
     "name": "stderr",
     "output_type": "stream",
     "text": [
      "\r",
      "4253it [03:53,  2.69it/s]"
     ]
    },
    {
     "name": "stdout",
     "output_type": "stream",
     "text": [
      "sound/images/drilling/180128-4-7-2.png\n"
     ]
    },
    {
     "name": "stderr",
     "output_type": "stream",
     "text": [
      "\r",
      "4254it [03:53,  2.74it/s]"
     ]
    },
    {
     "name": "stdout",
     "output_type": "stream",
     "text": [
      "sound/images/drilling/180128-4-7-3.png\n"
     ]
    },
    {
     "name": "stderr",
     "output_type": "stream",
     "text": [
      "\r",
      "4255it [03:54,  2.79it/s]"
     ]
    },
    {
     "name": "stdout",
     "output_type": "stream",
     "text": [
      "sound/images/drilling/180128-4-7-4.png\n"
     ]
    },
    {
     "name": "stderr",
     "output_type": "stream",
     "text": [
      "\r",
      "4256it [03:54,  2.81it/s]"
     ]
    },
    {
     "name": "stdout",
     "output_type": "stream",
     "text": [
      "sound/images/drilling/180128-4-7-5.png\n"
     ]
    },
    {
     "name": "stderr",
     "output_type": "stream",
     "text": [
      "\r",
      "4257it [03:54,  2.86it/s]"
     ]
    },
    {
     "name": "stdout",
     "output_type": "stream",
     "text": [
      "sound/images/drilling/180128-4-9-0.png\n"
     ]
    },
    {
     "name": "stderr",
     "output_type": "stream",
     "text": [
      "\r",
      "4258it [03:55,  2.91it/s]"
     ]
    },
    {
     "name": "stdout",
     "output_type": "stream",
     "text": [
      "sound/images/drilling/180132-4-0-0.png\n"
     ]
    },
    {
     "name": "stderr",
     "output_type": "stream",
     "text": [
      "\r",
      "4259it [03:55,  2.97it/s]"
     ]
    },
    {
     "name": "stdout",
     "output_type": "stream",
     "text": [
      "sound/images/drilling/180132-4-1-0.png\n"
     ]
    },
    {
     "name": "stderr",
     "output_type": "stream",
     "text": [
      "\r",
      "4260it [03:55,  3.23it/s]"
     ]
    },
    {
     "name": "stdout",
     "output_type": "stream",
     "text": [
      "sound/images/drilling/180132-4-2-0.png\n"
     ]
    },
    {
     "name": "stderr",
     "output_type": "stream",
     "text": [
      "\r",
      "4261it [03:56,  2.99it/s]"
     ]
    },
    {
     "name": "stdout",
     "output_type": "stream",
     "text": [
      "sound/images/drilling/180132-4-3-0.png\n"
     ]
    },
    {
     "name": "stderr",
     "output_type": "stream",
     "text": [
      "\r",
      "4262it [03:56,  2.94it/s]"
     ]
    },
    {
     "name": "stdout",
     "output_type": "stream",
     "text": [
      "sound/images/drilling/180134-4-1-3.png\n"
     ]
    },
    {
     "name": "stderr",
     "output_type": "stream",
     "text": [
      "\r",
      "4263it [03:56,  2.95it/s]"
     ]
    },
    {
     "name": "stdout",
     "output_type": "stream",
     "text": [
      "sound/images/drilling/180134-4-1-7.png\n"
     ]
    },
    {
     "name": "stderr",
     "output_type": "stream",
     "text": [
      "\r",
      "4264it [03:57,  2.95it/s]"
     ]
    },
    {
     "name": "stdout",
     "output_type": "stream",
     "text": [
      "sound/images/drilling/180134-4-1-8.png\n"
     ]
    },
    {
     "name": "stderr",
     "output_type": "stream",
     "text": [
      "\r",
      "4265it [03:57,  2.94it/s]"
     ]
    },
    {
     "name": "stdout",
     "output_type": "stream",
     "text": [
      "sound/images/drilling/180134-4-1-9.png\n"
     ]
    },
    {
     "name": "stderr",
     "output_type": "stream",
     "text": [
      "\r",
      "4266it [03:57,  2.93it/s]"
     ]
    },
    {
     "name": "stdout",
     "output_type": "stream",
     "text": [
      "sound/images/drilling/180134-4-2-0.png\n"
     ]
    },
    {
     "name": "stderr",
     "output_type": "stream",
     "text": [
      "\r",
      "4267it [03:58,  2.94it/s]"
     ]
    },
    {
     "name": "stdout",
     "output_type": "stream",
     "text": [
      "sound/images/drilling/180134-4-2-1.png\n"
     ]
    },
    {
     "name": "stderr",
     "output_type": "stream",
     "text": [
      "\r",
      "4268it [03:58,  2.87it/s]"
     ]
    },
    {
     "name": "stdout",
     "output_type": "stream",
     "text": [
      "sound/images/drilling/180134-4-2-11.png\n"
     ]
    },
    {
     "name": "stderr",
     "output_type": "stream",
     "text": [
      "\r",
      "4269it [03:58,  2.89it/s]"
     ]
    },
    {
     "name": "stdout",
     "output_type": "stream",
     "text": [
      "sound/images/drilling/180134-4-2-13.png\n"
     ]
    },
    {
     "name": "stderr",
     "output_type": "stream",
     "text": [
      "\r",
      "4270it [03:59,  2.90it/s]"
     ]
    },
    {
     "name": "stdout",
     "output_type": "stream",
     "text": [
      "sound/images/drilling/180134-4-2-15.png\n"
     ]
    },
    {
     "name": "stderr",
     "output_type": "stream",
     "text": [
      "\r",
      "4271it [03:59,  2.88it/s]"
     ]
    },
    {
     "name": "stdout",
     "output_type": "stream",
     "text": [
      "sound/images/drilling/180134-4-2-16.png\n"
     ]
    },
    {
     "name": "stderr",
     "output_type": "stream",
     "text": [
      "\r",
      "4272it [03:59,  2.88it/s]"
     ]
    },
    {
     "name": "stdout",
     "output_type": "stream",
     "text": [
      "sound/images/drilling/180134-4-2-17.png\n"
     ]
    },
    {
     "name": "stderr",
     "output_type": "stream",
     "text": [
      "\r",
      "4273it [04:00,  2.88it/s]"
     ]
    },
    {
     "name": "stdout",
     "output_type": "stream",
     "text": [
      "sound/images/drilling/180134-4-2-19.png\n"
     ]
    },
    {
     "name": "stderr",
     "output_type": "stream",
     "text": [
      "\r",
      "4274it [04:00,  2.90it/s]"
     ]
    },
    {
     "name": "stdout",
     "output_type": "stream",
     "text": [
      "sound/images/drilling/180134-4-2-3.png\n"
     ]
    },
    {
     "name": "stderr",
     "output_type": "stream",
     "text": [
      "\r",
      "4275it [04:00,  2.90it/s]"
     ]
    },
    {
     "name": "stdout",
     "output_type": "stream",
     "text": [
      "sound/images/drilling/180134-4-2-4.png\n"
     ]
    },
    {
     "name": "stderr",
     "output_type": "stream",
     "text": [
      "\r",
      "4276it [04:01,  2.90it/s]"
     ]
    },
    {
     "name": "stdout",
     "output_type": "stream",
     "text": [
      "sound/images/drilling/180134-4-2-5.png\n"
     ]
    },
    {
     "name": "stderr",
     "output_type": "stream",
     "text": [
      "\r",
      "4277it [04:01,  2.90it/s]"
     ]
    },
    {
     "name": "stdout",
     "output_type": "stream",
     "text": [
      "sound/images/drilling/180134-4-2-6.png\n"
     ]
    },
    {
     "name": "stderr",
     "output_type": "stream",
     "text": [
      "\r",
      "4278it [04:01,  2.90it/s]"
     ]
    },
    {
     "name": "stdout",
     "output_type": "stream",
     "text": [
      "sound/images/drilling/180134-4-2-9.png\n",
      "sound/images/drilling/180937-4-0-11.png\n"
     ]
    },
    {
     "name": "stderr",
     "output_type": "stream",
     "text": [
      "\r",
      "4300it [04:02,  4.00it/s]"
     ]
    },
    {
     "name": "stdout",
     "output_type": "stream",
     "text": [
      "sound/images/drilling/180937-4-0-13.png\n",
      "sound/images/drilling/180937-4-0-14.png\n"
     ]
    },
    {
     "name": "stderr",
     "output_type": "stream",
     "text": [
      "\r",
      "4302it [04:03,  2.73it/s]"
     ]
    },
    {
     "name": "stdout",
     "output_type": "stream",
     "text": [
      "sound/images/drilling/180937-4-0-19.png\n"
     ]
    },
    {
     "name": "stderr",
     "output_type": "stream",
     "text": [
      "\r",
      "4303it [04:06,  1.06it/s]"
     ]
    },
    {
     "name": "stdout",
     "output_type": "stream",
     "text": [
      "sound/images/drilling/180937-4-0-20.png\n"
     ]
    },
    {
     "name": "stderr",
     "output_type": "stream",
     "text": [
      "\r",
      "4304it [04:06,  1.17it/s]"
     ]
    },
    {
     "name": "stdout",
     "output_type": "stream",
     "text": [
      "sound/images/drilling/180937-4-1-12.png\n"
     ]
    },
    {
     "name": "stderr",
     "output_type": "stream",
     "text": [
      "\r",
      "4305it [04:07,  1.25it/s]"
     ]
    },
    {
     "name": "stdout",
     "output_type": "stream",
     "text": [
      "sound/images/drilling/180937-4-1-20.png\n"
     ]
    },
    {
     "name": "stderr",
     "output_type": "stream",
     "text": [
      "\r",
      "4306it [04:08,  1.34it/s]"
     ]
    },
    {
     "name": "stdout",
     "output_type": "stream",
     "text": [
      "sound/images/drilling/180937-4-1-27.png\n"
     ]
    },
    {
     "name": "stderr",
     "output_type": "stream",
     "text": [
      "\r",
      "4307it [04:08,  1.40it/s]"
     ]
    },
    {
     "name": "stdout",
     "output_type": "stream",
     "text": [
      "sound/images/drilling/180937-4-1-30.png\n"
     ]
    },
    {
     "name": "stderr",
     "output_type": "stream",
     "text": [
      "\r",
      "4308it [04:09,  1.44it/s]"
     ]
    },
    {
     "name": "stdout",
     "output_type": "stream",
     "text": [
      "sound/images/drilling/180937-4-1-46.png\n"
     ]
    },
    {
     "name": "stderr",
     "output_type": "stream",
     "text": [
      "\r",
      "4309it [04:10,  1.47it/s]"
     ]
    },
    {
     "name": "stdout",
     "output_type": "stream",
     "text": [
      "sound/images/drilling/180937-4-1-47.png\n"
     ]
    },
    {
     "name": "stderr",
     "output_type": "stream",
     "text": [
      "\r",
      "4310it [04:10,  1.49it/s]"
     ]
    },
    {
     "name": "stdout",
     "output_type": "stream",
     "text": [
      "sound/images/drilling/180937-4-1-54.png\n"
     ]
    },
    {
     "name": "stderr",
     "output_type": "stream",
     "text": [
      "\r",
      "4311it [04:11,  1.51it/s]"
     ]
    },
    {
     "name": "stdout",
     "output_type": "stream",
     "text": [
      "sound/images/drilling/180937-4-2-1.png\n"
     ]
    },
    {
     "name": "stderr",
     "output_type": "stream",
     "text": [
      "\r",
      "4312it [04:11,  1.53it/s]"
     ]
    },
    {
     "name": "stdout",
     "output_type": "stream",
     "text": [
      "sound/images/drilling/180937-4-2-2.png\n"
     ]
    },
    {
     "name": "stderr",
     "output_type": "stream",
     "text": [
      "\r",
      "4313it [04:12,  1.54it/s]"
     ]
    },
    {
     "name": "stdout",
     "output_type": "stream",
     "text": [
      "sound/images/drilling/180937-4-3-12.png\n"
     ]
    },
    {
     "name": "stderr",
     "output_type": "stream",
     "text": [
      "\r",
      "4314it [04:13,  1.53it/s]"
     ]
    },
    {
     "name": "stdout",
     "output_type": "stream",
     "text": [
      "sound/images/drilling/180937-4-3-9.png\n"
     ]
    },
    {
     "name": "stderr",
     "output_type": "stream",
     "text": [
      "4405it [04:14,  2.19it/s]"
     ]
    },
    {
     "name": "stdout",
     "output_type": "stream",
     "text": [
      "sound/images/drilling/181624-4-0-0.png\n",
      "sound/images/drilling/181624-4-1-0.png\n",
      "sound/images/drilling/181624-4-10-0.png\n",
      "sound/images/drilling/181624-4-2-0.png\n",
      "sound/images/drilling/181624-4-3-0.png\n",
      "sound/images/drilling/181624-4-4-0.png\n",
      "sound/images/drilling/181624-4-5-0.png\n",
      "sound/images/drilling/181624-4-6-0.png\n",
      "sound/images/drilling/181624-4-7-0.png\n",
      "sound/images/drilling/181624-4-8-0.png\n"
     ]
    },
    {
     "name": "stderr",
     "output_type": "stream",
     "text": [
      "\r",
      "4416it [04:16,  2.69it/s]"
     ]
    },
    {
     "name": "stdout",
     "output_type": "stream",
     "text": [
      "sound/images/drilling/181624-4-9-0.png\n"
     ]
    },
    {
     "name": "stderr",
     "output_type": "stream",
     "text": [
      "\r",
      "4547it [04:16,  3.83it/s]"
     ]
    },
    {
     "name": "stdout",
     "output_type": "stream",
     "text": [
      "sound/images/drilling/185800-4-0-0.png\n",
      "sound/images/drilling/185800-4-0-1.png\n",
      "sound/images/drilling/185800-4-1-0.png\n",
      "sound/images/drilling/185800-4-2-0.png\n",
      "sound/images/drilling/185800-4-2-1.png\n",
      "sound/images/drilling/185800-4-2-2.png\n",
      "sound/images/drilling/185801-4-0-0.png\n",
      "sound/images/drilling/185801-4-0-1.png\n"
     ]
    },
    {
     "name": "stderr",
     "output_type": "stream",
     "text": [
      "\r",
      "4564it [04:19,  4.28it/s]"
     ]
    },
    {
     "name": "stdout",
     "output_type": "stream",
     "text": [
      "sound/images/drilling/185801-4-0-2.png\n"
     ]
    },
    {
     "name": "stderr",
     "output_type": "stream",
     "text": [
      "\r",
      "4629it [04:19,  6.07it/s]"
     ]
    },
    {
     "name": "stdout",
     "output_type": "stream",
     "text": [
      "sound/images/drilling/187377-4-0-0.png\n",
      "sound/images/drilling/187377-4-0-1.png\n",
      "sound/images/drilling/187863-4-0-0.png\n",
      "sound/images/drilling/187863-4-0-1.png\n",
      "sound/images/drilling/187863-4-0-2.png\n",
      "sound/images/drilling/187863-4-0-3.png\n",
      "sound/images/drilling/187863-4-0-4.png\n"
     ]
    },
    {
     "name": "stderr",
     "output_type": "stream",
     "text": [
      "\r",
      "4646it [04:20,  7.17it/s]"
     ]
    },
    {
     "name": "stdout",
     "output_type": "stream",
     "text": [
      "sound/images/drilling/187863-4-0-5.png\n"
     ]
    },
    {
     "name": "stderr",
     "output_type": "stream",
     "text": [
      "\r",
      "4804it [04:21, 10.20it/s]"
     ]
    },
    {
     "name": "stdout",
     "output_type": "stream",
     "text": [
      "sound/images/drilling/19007-4-0-0.png\n"
     ]
    },
    {
     "name": "stderr",
     "output_type": "stream",
     "text": [
      "\r",
      "4969it [04:21, 14.43it/s]"
     ]
    },
    {
     "name": "stdout",
     "output_type": "stream",
     "text": [
      "sound/images/drilling/195063-4-0-0.png\n",
      "sound/images/drilling/195063-4-1-0.png\n"
     ]
    },
    {
     "name": "stderr",
     "output_type": "stream",
     "text": [
      "5154it [04:22, 27.25it/s]"
     ]
    },
    {
     "name": "stdout",
     "output_type": "stream",
     "text": [
      "sound/images/drilling/199929-4-0-0.png\n",
      "sound/images/drilling/199929-4-1-0.png\n"
     ]
    },
    {
     "name": "stderr",
     "output_type": "stream",
     "text": [
      "\r",
      "5190it [04:22, 32.34it/s]"
     ]
    },
    {
     "name": "stdout",
     "output_type": "stream",
     "text": [
      "sound/images/drilling/199929-4-2-0.png\n",
      "sound/images/drilling/205610-4-0-0.png\n"
     ]
    },
    {
     "name": "stderr",
     "output_type": "stream",
     "text": [
      "\r",
      "5449it [04:23, 45.26it/s]"
     ]
    },
    {
     "name": "stdout",
     "output_type": "stream",
     "text": [
      "sound/images/drilling/205610-4-0-1.png\n",
      "sound/images/drilling/205610-4-0-2.png\n",
      "sound/images/drilling/205610-4-0-3.png\n",
      "sound/images/drilling/205610-4-0-4.png\n",
      "sound/images/drilling/205610-4-0-5.png\n",
      "sound/images/drilling/205874-4-0-0.png\n",
      "sound/images/drilling/205874-4-1-0.png\n",
      "sound/images/drilling/205874-4-10-0.png\n",
      "sound/images/drilling/205874-4-11-0.png\n",
      "sound/images/drilling/205874-4-2-0.png\n",
      "sound/images/drilling/205874-4-3-0.png\n",
      "sound/images/drilling/205874-4-4-0.png\n",
      "sound/images/drilling/205874-4-5-0.png\n",
      "sound/images/drilling/205874-4-6-0.png\n",
      "sound/images/drilling/205874-4-7-0.png\n",
      "sound/images/drilling/205874-4-8-0.png\n",
      "sound/images/drilling/205874-4-9-0.png\n"
     ]
    },
    {
     "name": "stderr",
     "output_type": "stream",
     "text": [
      "\r",
      "5488it [04:27, 20.05it/s]"
     ]
    },
    {
     "name": "stdout",
     "output_type": "stream",
     "text": [
      "sound/images/drilling/205878-4-0-0.png\n"
     ]
    },
    {
     "name": "stderr",
     "output_type": "stream",
     "text": [
      "\r",
      "5708it [04:27, 28.21it/s]"
     ]
    },
    {
     "name": "stdout",
     "output_type": "stream",
     "text": [
      "sound/images/drilling/22962-4-0-0.png\n",
      "sound/images/drilling/22962-4-0-1.png\n"
     ]
    },
    {
     "name": "stderr",
     "output_type": "stream",
     "text": [
      "\r",
      "5745it [04:28, 32.96it/s]"
     ]
    },
    {
     "name": "stdout",
     "output_type": "stream",
     "text": [
      "sound/images/drilling/22962-4-0-2.png\n"
     ]
    },
    {
     "name": "stderr",
     "output_type": "stream",
     "text": [
      "\r",
      "5854it [04:29, 44.91it/s]"
     ]
    },
    {
     "name": "stdout",
     "output_type": "stream",
     "text": [
      "sound/images/drilling/24364-4-0-0.png\n",
      "sound/images/drilling/24364-4-0-1.png\n",
      "sound/images/drilling/24364-4-0-10.png\n",
      "sound/images/drilling/24364-4-0-11.png\n",
      "sound/images/drilling/24364-4-0-12.png\n",
      "sound/images/drilling/24364-4-0-2.png\n",
      "sound/images/drilling/24364-4-0-3.png\n",
      "sound/images/drilling/24364-4-0-4.png\n",
      "sound/images/drilling/24364-4-0-5.png\n",
      "sound/images/drilling/24364-4-0-6.png\n",
      "sound/images/drilling/24364-4-0-7.png\n",
      "sound/images/drilling/24364-4-0-8.png\n"
     ]
    },
    {
     "name": "stderr",
     "output_type": "stream",
     "text": [
      "\r",
      "5882it [04:33, 15.26it/s]"
     ]
    },
    {
     "name": "stdout",
     "output_type": "stream",
     "text": [
      "sound/images/drilling/24364-4-0-9.png\n"
     ]
    },
    {
     "name": "stderr",
     "output_type": "stream",
     "text": [
      "\r",
      "5917it [04:33, 20.70it/s]"
     ]
    },
    {
     "name": "stdout",
     "output_type": "stream",
     "text": [
      "sound/images/drilling/26344-4-0-0.png\n"
     ]
    },
    {
     "name": "stderr",
     "output_type": "stream",
     "text": [
      "\r",
      "5935it [04:34, 26.14it/s]"
     ]
    },
    {
     "name": "stdout",
     "output_type": "stream",
     "text": [
      "sound/images/drilling/26344-4-1-0.png\n"
     ]
    },
    {
     "name": "stderr",
     "output_type": "stream",
     "text": [
      "\r",
      "5966it [04:34, 34.60it/s]"
     ]
    },
    {
     "name": "stdout",
     "output_type": "stream",
     "text": [
      "sound/images/drilling/29721-4-0-0.png\n",
      "sound/images/drilling/29721-4-0-1.png\n",
      "sound/images/drilling/29721-4-0-10.png\n",
      "sound/images/drilling/29721-4-0-11.png\n",
      "sound/images/drilling/29721-4-0-12.png\n",
      "sound/images/drilling/29721-4-0-13.png\n",
      "sound/images/drilling/29721-4-0-14.png\n",
      "sound/images/drilling/29721-4-0-2.png\n",
      "sound/images/drilling/29721-4-0-3.png\n",
      "sound/images/drilling/29721-4-0-4.png\n",
      "sound/images/drilling/29721-4-0-5.png\n",
      "sound/images/drilling/29721-4-0-6.png\n",
      "sound/images/drilling/29721-4-0-7.png\n",
      "sound/images/drilling/29721-4-0-8.png\n",
      "sound/images/drilling/29721-4-0-9.png\n",
      "sound/images/drilling/29722-4-0-0.png"
     ]
    },
    {
     "name": "stderr",
     "output_type": "stream",
     "text": [
      "\r",
      "5981it [04:37, 11.68it/s]"
     ]
    },
    {
     "name": "stdout",
     "output_type": "stream",
     "text": [
      "\n",
      "sound/images/drilling/29722-4-0-1.png\n",
      "sound/images/drilling/29722-4-0-2.png\n",
      "sound/images/drilling/29722-4-0-3.png\n",
      "sound/images/drilling/29722-4-0-4.png\n",
      "sound/images/drilling/29722-4-0-5.png\n"
     ]
    },
    {
     "name": "stderr",
     "output_type": "stream",
     "text": [
      "\r",
      "5992it [04:39, 10.46it/s]"
     ]
    },
    {
     "name": "stdout",
     "output_type": "stream",
     "text": [
      "sound/images/drilling/29722-4-0-6.png\n",
      "sound/images/drilling/34621-4-0-0.png\n"
     ]
    },
    {
     "name": "stderr",
     "output_type": "stream",
     "text": [
      "\r",
      "6150it [04:39, 14.88it/s]"
     ]
    },
    {
     "name": "stdout",
     "output_type": "stream",
     "text": [
      "sound/images/drilling/34621-4-1-0.png\n",
      "sound/images/drilling/34621-4-11-0.png\n",
      "sound/images/drilling/34621-4-12-0.png\n",
      "sound/images/drilling/34621-4-13-0.png\n",
      "sound/images/drilling/34621-4-14-0.png\n",
      "sound/images/drilling/34621-4-15-0.png\n",
      "sound/images/drilling/34621-4-16-0.png\n",
      "sound/images/drilling/34621-4-17-0.png\n",
      "sound/images/drilling/34621-4-18-0.png\n",
      "sound/images/drilling/34621-4-2-0.png\n",
      "sound/images/drilling/34621-4-20-0.png\n",
      "sound/images/drilling/34621-4-21-0.png\n",
      "sound/images/drilling/34621-4-22-0.png\n",
      "sound/images/drilling/34621-4-24-0.png\n",
      "sound/images/drilling/34621-4-25-0.png\n",
      "sound/images/drilling/34621-4-26-0.png\n",
      "sound/images/drilling/34621-4-27-0.png\n",
      "sound/images/drilling/34621-4-4-0.png\n",
      "sound/images/drilling/34621-4-5-0.png\n",
      "sound/images/drilling/34621-4-7-0.png\n",
      "sound/images/drilling/34621-4-8-0.png\n",
      "sound/images/drilling/34643-4-0-0.png\n",
      "sound/images/drilling/34643-4-1-0.png\n",
      "sound/images/drilling/34643-4-1-1.png\n",
      "sound/images/drilling/34643-4-2-0.png\n",
      "sound/images/drilling/34643-4-2-1.png\n"
     ]
    },
    {
     "name": "stderr",
     "output_type": "stream",
     "text": [
      "\r",
      "6188it [04:44, 11.00it/s]"
     ]
    },
    {
     "name": "stdout",
     "output_type": "stream",
     "text": [
      "sound/images/drilling/34643-4-2-2.png\n"
     ]
    },
    {
     "name": "stderr",
     "output_type": "stream",
     "text": [
      "\r",
      "6258it [04:45, 15.33it/s]"
     ]
    },
    {
     "name": "stdout",
     "output_type": "stream",
     "text": [
      "sound/images/drilling/37560-4-0-0.png\n",
      "sound/images/drilling/37560-4-0-1.png\n",
      "sound/images/drilling/37560-4-0-2.png\n",
      "sound/images/drilling/37560-4-0-3.png\n",
      "sound/images/drilling/37560-4-0-4.png\n",
      "sound/images/drilling/37560-4-0-5.png\n",
      "sound/images/drilling/39532-4-0-0.png\n",
      "sound/images/drilling/39532-4-1-0.png\n",
      "sound/images/drilling/39532-4-2-0.png\n",
      "sound/images/drilling/39532-4-3-0.png\n",
      "sound/images/drilling/39533-4-0-0.png\n",
      "sound/images/drilling/39533-4-1-0.png\n"
     ]
    },
    {
     "name": "stderr",
     "output_type": "stream",
     "text": [
      "6426it [04:48, 18.06it/s]"
     ]
    },
    {
     "name": "stdout",
     "output_type": "stream",
     "text": [
      "sound/images/drilling/42324-4-0-0.png\n",
      "sound/images/drilling/42324-4-1-0.png\n",
      "sound/images/drilling/42324-4-2-0.png\n",
      "sound/images/drilling/42324-4-2-1.png\n",
      "sound/images/drilling/42324-4-2-2.png\n",
      "sound/images/drilling/42324-4-2-3.png\n",
      "sound/images/drilling/42324-4-2-4.png\n",
      "sound/images/drilling/42937-4-0-0.png\n",
      "sound/images/drilling/42937-4-0-1.png\n"
     ]
    },
    {
     "name": "stderr",
     "output_type": "stream",
     "text": [
      "\r",
      "6452it [04:51, 13.30it/s]"
     ]
    },
    {
     "name": "stdout",
     "output_type": "stream",
     "text": [
      "sound/images/drilling/42937-4-0-2.png\n"
     ]
    },
    {
     "name": "stderr",
     "output_type": "stream",
     "text": [
      "\r",
      "6514it [04:51, 18.38it/s]"
     ]
    },
    {
     "name": "stdout",
     "output_type": "stream",
     "text": [
      "sound/images/drilling/46668-4-0-0.png\n",
      "sound/images/drilling/46668-4-0-1.png\n",
      "sound/images/drilling/46668-4-0-2.png\n",
      "sound/images/drilling/46669-4-0-0.png\n",
      "sound/images/drilling/46669-4-0-10.png\n",
      "sound/images/drilling/46669-4-0-2.png\n",
      "sound/images/drilling/46669-4-0-24.png\n",
      "sound/images/drilling/46669-4-0-26.png\n",
      "sound/images/drilling/46669-4-0-3.png\n",
      "sound/images/drilling/46669-4-0-30.png\n",
      "sound/images/drilling/46669-4-0-31.png\n",
      "sound/images/drilling/46669-4-0-32.png\n",
      "sound/images/drilling/46669-4-0-33.png\n",
      "sound/images/drilling/46669-4-0-35.png\n",
      "sound/images/drilling/46669-4-0-36.png\n",
      "sound/images/drilling/46669-4-0-37.png\n",
      "sound/images/drilling/46669-4-0-39.png\n",
      "sound/images/drilling/46669-4-0-4.png\n",
      "sound/images/drilling/46669-4-0-45.png\n"
     ]
    },
    {
     "name": "stderr",
     "output_type": "stream",
     "text": [
      "\r",
      "6532it [04:58,  6.29it/s]"
     ]
    },
    {
     "name": "stdout",
     "output_type": "stream",
     "text": [
      "sound/images/drilling/46669-4-0-48.png\n",
      "sound/images/drilling/46669-4-0-49.png\n",
      "sound/images/drilling/46669-4-0-54.png\n",
      "sound/images/drilling/46669-4-0-61.png\n",
      "sound/images/drilling/46669-4-0-63.png\n",
      "sound/images/drilling/46669-4-0-8.png\n",
      "sound/images/drilling/46669-4-0-9.png\n"
     ]
    },
    {
     "name": "stderr",
     "output_type": "stream",
     "text": [
      "6602it [05:02,  7.48it/s]"
     ]
    },
    {
     "name": "stdout",
     "output_type": "stream",
     "text": [
      "sound/images/drilling/50413-4-0-0.png\n",
      "sound/images/drilling/50413-4-0-1.png\n",
      "sound/images/drilling/50413-4-0-2.png\n",
      "sound/images/drilling/50413-4-0-3.png\n",
      "sound/images/drilling/50414-4-0-0.png\n",
      "sound/images/drilling/50414-4-0-1.png\n",
      "sound/images/drilling/50415-4-0-0.png\n",
      "sound/images/drilling/50415-4-0-1.png\n",
      "sound/images/drilling/50416-4-0-0.png\n",
      "sound/images/drilling/50416-4-0-1.png\n"
     ]
    },
    {
     "name": "stderr",
     "output_type": "stream",
     "text": [
      "\r",
      "6613it [05:06,  5.09it/s]"
     ]
    },
    {
     "name": "stdout",
     "output_type": "stream",
     "text": [
      "sound/images/drilling/50416-4-0-2.png\n",
      "sound/images/drilling/50629-4-0-0.png\n",
      "sound/images/drilling/50629-4-0-1.png\n"
     ]
    },
    {
     "name": "stderr",
     "output_type": "stream",
     "text": [
      "\r",
      "6621it [05:07,  5.70it/s]"
     ]
    },
    {
     "name": "stdout",
     "output_type": "stream",
     "text": [
      "sound/images/drilling/50629-4-1-0.png\n",
      "sound/images/drilling/50629-4-1-1.png\n",
      "sound/images/drilling/50629-4-1-11.png\n",
      "sound/images/drilling/50629-4-1-13.png\n",
      "sound/images/drilling/50629-4-1-2.png\n",
      "sound/images/drilling/50629-4-1-3.png\n"
     ]
    },
    {
     "name": "stderr",
     "output_type": "stream",
     "text": [
      "\r",
      "6627it [05:09,  4.40it/s]"
     ]
    },
    {
     "name": "stdout",
     "output_type": "stream",
     "text": [
      "sound/images/drilling/50629-4-1-4.png\n",
      "sound/images/drilling/50629-4-1-8.png\n",
      "sound/images/drilling/50629-4-1-9.png\n",
      "sound/images/drilling/50629-4-2-0.png\n"
     ]
    },
    {
     "name": "stderr",
     "output_type": "stream",
     "text": [
      "\r",
      "6631it [05:10,  3.92it/s]"
     ]
    },
    {
     "name": "stdout",
     "output_type": "stream",
     "text": [
      "sound/images/drilling/50629-4-3-0.png\n",
      "sound/images/drilling/50629-4-4-0.png\n",
      "sound/images/drilling/50629-4-4-3.png\n"
     ]
    },
    {
     "name": "stderr",
     "output_type": "stream",
     "text": [
      "\r",
      "6634it [05:11,  3.53it/s]"
     ]
    },
    {
     "name": "stdout",
     "output_type": "stream",
     "text": [
      "sound/images/drilling/50629-4-4-8.png\n"
     ]
    },
    {
     "name": "stderr",
     "output_type": "stream",
     "text": [
      "\r",
      "6637it [05:12,  4.32it/s]"
     ]
    },
    {
     "name": "stdout",
     "output_type": "stream",
     "text": [
      "sound/images/drilling/50629-4-4-9.png\n"
     ]
    },
    {
     "name": "stderr",
     "output_type": "stream",
     "text": [
      "\r",
      "6674it [05:12,  6.06it/s]"
     ]
    },
    {
     "name": "stdout",
     "output_type": "stream",
     "text": [
      "sound/images/drilling/518-4-0-0.png\n",
      "sound/images/drilling/518-4-0-1.png\n",
      "sound/images/drilling/518-4-0-2.png\n"
     ]
    },
    {
     "name": "stderr",
     "output_type": "stream",
     "text": [
      "\r",
      "6679it [05:13,  5.65it/s]"
     ]
    },
    {
     "name": "stdout",
     "output_type": "stream",
     "text": [
      "sound/images/drilling/518-4-0-3.png\n",
      "sound/images/drilling/54976-4-0-0.png\n"
     ]
    },
    {
     "name": "stderr",
     "output_type": "stream",
     "text": [
      "\r",
      "6786it [05:13,  8.01it/s]"
     ]
    },
    {
     "name": "stdout",
     "output_type": "stream",
     "text": [
      "sound/images/drilling/54976-4-0-1.png\n",
      "sound/images/drilling/54976-4-0-2.png\n",
      "sound/images/drilling/54976-4-0-3.png\n",
      "sound/images/drilling/54976-4-0-4.png\n",
      "sound/images/drilling/54976-4-0-5.png\n",
      "sound/images/drilling/54976-4-0-6.png\n",
      "sound/images/drilling/54976-4-0-7.png\n",
      "sound/images/drilling/54976-4-0-8.png\n",
      "sound/images/drilling/54976-4-0-9.png\n",
      "sound/images/drilling/54976-4-1-0.png\n"
     ]
    },
    {
     "name": "stderr",
     "output_type": "stream",
     "text": [
      "\r",
      "6797it [05:17,  5.06it/s]"
     ]
    },
    {
     "name": "stdout",
     "output_type": "stream",
     "text": [
      "sound/images/drilling/54976-4-1-1.png\n",
      "sound/images/drilling/54976-4-1-2.png\n",
      "sound/images/drilling/54976-4-1-3.png\n"
     ]
    },
    {
     "name": "stderr",
     "output_type": "stream",
     "text": [
      "6827it [05:19,  8.24it/s]"
     ]
    },
    {
     "name": "stdout",
     "output_type": "stream",
     "text": [
      "sound/images/drilling/55020-4-0-0.png\n",
      "sound/images/drilling/55020-4-0-1.png\n",
      "sound/images/drilling/55020-4-0-10.png\n",
      "sound/images/drilling/55020-4-0-11.png\n",
      "sound/images/drilling/55020-4-0-12.png\n",
      "sound/images/drilling/55020-4-0-13.png\n"
     ]
    },
    {
     "name": "stderr",
     "output_type": "stream",
     "text": [
      "\r",
      "6833it [05:21,  4.82it/s]"
     ]
    },
    {
     "name": "stdout",
     "output_type": "stream",
     "text": [
      "sound/images/drilling/55020-4-0-14.png\n",
      "sound/images/drilling/55020-4-0-2.png\n",
      "sound/images/drilling/55020-4-0-3.png\n",
      "sound/images/drilling/55020-4-0-4.png\n",
      "sound/images/drilling/55020-4-0-5.png\n"
     ]
    },
    {
     "name": "stderr",
     "output_type": "stream",
     "text": [
      "\r",
      "6838it [05:23,  3.97it/s]"
     ]
    },
    {
     "name": "stdout",
     "output_type": "stream",
     "text": [
      "sound/images/drilling/55020-4-0-6.png\n",
      "sound/images/drilling/55020-4-0-7.png\n",
      "sound/images/drilling/55020-4-0-8.png\n",
      "sound/images/drilling/55020-4-0-9.png\n"
     ]
    },
    {
     "name": "stderr",
     "output_type": "stream",
     "text": [
      "6895it [05:24,  5.52it/s]"
     ]
    },
    {
     "name": "stdout",
     "output_type": "stream",
     "text": [
      "sound/images/drilling/57584-4-0-0.png\n",
      "sound/images/drilling/57584-4-0-1.png\n",
      "sound/images/drilling/57584-4-0-2.png\n",
      "sound/images/drilling/57584-4-0-3.png\n",
      "sound/images/drilling/57584-4-0-4.png\n",
      "sound/images/drilling/57584-4-0-5.png\n"
     ]
    },
    {
     "name": "stderr",
     "output_type": "stream",
     "text": [
      "\r",
      "6901it [05:26,  4.15it/s]"
     ]
    },
    {
     "name": "stdout",
     "output_type": "stream",
     "text": [
      "sound/images/drilling/57584-4-0-6.png\n",
      "sound/images/drilling/57584-4-0-7.png\n"
     ]
    },
    {
     "name": "stderr",
     "output_type": "stream",
     "text": [
      "\r",
      "6906it [05:27,  4.71it/s]"
     ]
    },
    {
     "name": "stdout",
     "output_type": "stream",
     "text": [
      "sound/images/drilling/57584-4-0-8.png\n",
      "sound/images/drilling/57696-4-0-0.png\n",
      "sound/images/drilling/57696-4-0-1.png\n",
      "sound/images/drilling/57696-4-0-2.png\n",
      "sound/images/drilling/57696-4-0-3.png\n"
     ]
    },
    {
     "name": "stderr",
     "output_type": "stream",
     "text": [
      "\r",
      "6910it [05:29,  3.76it/s]"
     ]
    },
    {
     "name": "stdout",
     "output_type": "stream",
     "text": [
      "sound/images/drilling/57696-4-0-4.png\n",
      "sound/images/drilling/57696-4-0-5.png\n"
     ]
    },
    {
     "name": "stderr",
     "output_type": "stream",
     "text": [
      "\r",
      "6913it [05:30,  3.35it/s]"
     ]
    },
    {
     "name": "stdout",
     "output_type": "stream",
     "text": [
      "sound/images/drilling/58005-4-0-13.png\n",
      "sound/images/drilling/58005-4-0-17.png\n"
     ]
    },
    {
     "name": "stderr",
     "output_type": "stream",
     "text": [
      "\r",
      "6915it [05:31,  3.20it/s]"
     ]
    },
    {
     "name": "stdout",
     "output_type": "stream",
     "text": [
      "sound/images/drilling/58005-4-0-23.png\n",
      "sound/images/drilling/58005-4-0-24.png\n"
     ]
    },
    {
     "name": "stderr",
     "output_type": "stream",
     "text": [
      "\r",
      "6917it [05:31,  3.07it/s]"
     ]
    },
    {
     "name": "stdout",
     "output_type": "stream",
     "text": [
      "sound/images/drilling/58005-4-0-26.png\n"
     ]
    },
    {
     "name": "stderr",
     "output_type": "stream",
     "text": [
      "\r",
      "6918it [05:32,  3.02it/s]"
     ]
    },
    {
     "name": "stdout",
     "output_type": "stream",
     "text": [
      "sound/images/drilling/58005-4-0-30.png\n"
     ]
    },
    {
     "name": "stderr",
     "output_type": "stream",
     "text": [
      "\r",
      "6919it [05:32,  2.97it/s]"
     ]
    },
    {
     "name": "stdout",
     "output_type": "stream",
     "text": [
      "sound/images/drilling/58005-4-0-32.png\n"
     ]
    },
    {
     "name": "stderr",
     "output_type": "stream",
     "text": [
      "\r",
      "6920it [05:32,  2.94it/s]"
     ]
    },
    {
     "name": "stdout",
     "output_type": "stream",
     "text": [
      "sound/images/drilling/58005-4-0-34.png\n"
     ]
    },
    {
     "name": "stderr",
     "output_type": "stream",
     "text": [
      "\r",
      "6921it [05:33,  2.87it/s]"
     ]
    },
    {
     "name": "stdout",
     "output_type": "stream",
     "text": [
      "sound/images/drilling/58005-4-0-40.png\n",
      "sound/images/drilling/58005-4-0-41.png\n"
     ]
    },
    {
     "name": "stderr",
     "output_type": "stream",
     "text": [
      "\r",
      "6922it [05:33,  2.80it/s]"
     ]
    },
    {
     "name": "stdout",
     "output_type": "stream",
     "text": [
      "sound/images/drilling/58005-4-0-44.png\n"
     ]
    },
    {
     "name": "stderr",
     "output_type": "stream",
     "text": [
      "6924it [05:34,  2.69it/s]"
     ]
    },
    {
     "name": "stdout",
     "output_type": "stream",
     "text": [
      "sound/images/drilling/58005-4-0-45.png\n"
     ]
    },
    {
     "name": "stderr",
     "output_type": "stream",
     "text": [
      "\r",
      "6925it [05:34,  2.72it/s]"
     ]
    },
    {
     "name": "stdout",
     "output_type": "stream",
     "text": [
      "sound/images/drilling/58005-4-0-51.png\n"
     ]
    },
    {
     "name": "stderr",
     "output_type": "stream",
     "text": [
      "\r",
      "6926it [05:35,  2.75it/s]"
     ]
    },
    {
     "name": "stdout",
     "output_type": "stream",
     "text": [
      "sound/images/drilling/58005-4-0-55.png\n"
     ]
    },
    {
     "name": "stderr",
     "output_type": "stream",
     "text": [
      "\r",
      "6927it [05:35,  2.74it/s]"
     ]
    },
    {
     "name": "stdout",
     "output_type": "stream",
     "text": [
      "sound/images/drilling/58005-4-0-63.png\n"
     ]
    },
    {
     "name": "stderr",
     "output_type": "stream",
     "text": [
      "\r",
      "6928it [05:35,  2.77it/s]"
     ]
    },
    {
     "name": "stdout",
     "output_type": "stream",
     "text": [
      "sound/images/drilling/58005-4-0-68.png\n",
      "sound/images/drilling/58005-4-0-70.png\n"
     ]
    },
    {
     "name": "stderr",
     "output_type": "stream",
     "text": [
      "6930it [05:36,  2.56it/s]"
     ]
    },
    {
     "name": "stdout",
     "output_type": "stream",
     "text": [
      "sound/images/drilling/58005-4-0-76.png\n"
     ]
    },
    {
     "name": "stderr",
     "output_type": "stream",
     "text": [
      "\r",
      "6942it [05:37,  3.54it/s]"
     ]
    },
    {
     "name": "stdout",
     "output_type": "stream",
     "text": [
      "sound/images/drilling/58937-4-0-0.png\n",
      "sound/images/drilling/58937-4-0-12.png\n"
     ]
    },
    {
     "name": "stderr",
     "output_type": "stream",
     "text": [
      "\r",
      "6944it [05:37,  3.23it/s]"
     ]
    },
    {
     "name": "stdout",
     "output_type": "stream",
     "text": [
      "sound/images/drilling/58937-4-0-13.png\n"
     ]
    },
    {
     "name": "stderr",
     "output_type": "stream",
     "text": [
      "\r",
      "6945it [05:38,  3.13it/s]"
     ]
    },
    {
     "name": "stdout",
     "output_type": "stream",
     "text": [
      "sound/images/drilling/58937-4-0-2.png\n"
     ]
    },
    {
     "name": "stderr",
     "output_type": "stream",
     "text": [
      "\r",
      "6946it [05:38,  3.04it/s]"
     ]
    },
    {
     "name": "stdout",
     "output_type": "stream",
     "text": [
      "sound/images/drilling/58937-4-0-4.png\n"
     ]
    },
    {
     "name": "stderr",
     "output_type": "stream",
     "text": [
      "\r",
      "6947it [05:40,  1.41it/s]"
     ]
    },
    {
     "name": "stdout",
     "output_type": "stream",
     "text": [
      "sound/images/drilling/58937-4-0-7.png\n"
     ]
    },
    {
     "name": "stderr",
     "output_type": "stream",
     "text": [
      "\r",
      "6948it [05:40,  1.67it/s]"
     ]
    },
    {
     "name": "stdout",
     "output_type": "stream",
     "text": [
      "sound/images/drilling/58937-4-1-0.png\n"
     ]
    },
    {
     "name": "stderr",
     "output_type": "stream",
     "text": [
      "\r",
      "6949it [05:40,  1.92it/s]"
     ]
    },
    {
     "name": "stdout",
     "output_type": "stream",
     "text": [
      "sound/images/drilling/58937-4-1-1.png\n"
     ]
    },
    {
     "name": "stderr",
     "output_type": "stream",
     "text": [
      "\r",
      "6950it [05:41,  2.13it/s]"
     ]
    },
    {
     "name": "stdout",
     "output_type": "stream",
     "text": [
      "sound/images/drilling/58937-4-2-10.png\n"
     ]
    },
    {
     "name": "stderr",
     "output_type": "stream",
     "text": [
      "\r",
      "6951it [05:41,  2.33it/s]"
     ]
    },
    {
     "name": "stdout",
     "output_type": "stream",
     "text": [
      "sound/images/drilling/58937-4-2-2.png\n"
     ]
    },
    {
     "name": "stderr",
     "output_type": "stream",
     "text": [
      "\r",
      "6952it [05:41,  2.47it/s]"
     ]
    },
    {
     "name": "stdout",
     "output_type": "stream",
     "text": [
      "sound/images/drilling/58937-4-2-9.png\n"
     ]
    },
    {
     "name": "stderr",
     "output_type": "stream",
     "text": [
      "\r",
      "6953it [05:42,  2.59it/s]"
     ]
    },
    {
     "name": "stdout",
     "output_type": "stream",
     "text": [
      "sound/images/drilling/58937-4-3-6.png\n"
     ]
    },
    {
     "name": "stderr",
     "output_type": "stream",
     "text": [
      "\r",
      "6954it [05:42,  2.68it/s]"
     ]
    },
    {
     "name": "stdout",
     "output_type": "stream",
     "text": [
      "sound/images/drilling/58937-4-3-9.png\n"
     ]
    },
    {
     "name": "stderr",
     "output_type": "stream",
     "text": [
      "\r",
      "6955it [05:42,  2.75it/s]"
     ]
    },
    {
     "name": "stdout",
     "output_type": "stream",
     "text": [
      "sound/images/drilling/58937-4-4-1.png\n"
     ]
    },
    {
     "name": "stderr",
     "output_type": "stream",
     "text": [
      "\r",
      "6956it [05:43,  2.76it/s]"
     ]
    },
    {
     "name": "stdout",
     "output_type": "stream",
     "text": [
      "sound/images/drilling/58937-4-5-2.png\n"
     ]
    },
    {
     "name": "stderr",
     "output_type": "stream",
     "text": [
      "\r",
      "6957it [05:43,  2.80it/s]"
     ]
    },
    {
     "name": "stdout",
     "output_type": "stream",
     "text": [
      "sound/images/drilling/58937-4-5-4.png\n"
     ]
    },
    {
     "name": "stderr",
     "output_type": "stream",
     "text": [
      "\r",
      "6978it [05:43,  3.93it/s]"
     ]
    },
    {
     "name": "stdout",
     "output_type": "stream",
     "text": [
      "sound/images/drilling/59594-4-0-0.png\n",
      "sound/images/drilling/59594-4-0-1.png\n"
     ]
    },
    {
     "name": "stderr",
     "output_type": "stream",
     "text": [
      "\r",
      "6980it [05:44,  3.14it/s]"
     ]
    },
    {
     "name": "stdout",
     "output_type": "stream",
     "text": [
      "sound/images/drilling/59594-4-0-2.png\n",
      "sound/images/drilling/59594-4-0-3.png\n"
     ]
    },
    {
     "name": "stderr",
     "output_type": "stream",
     "text": [
      "\r",
      "6982it [05:45,  3.06it/s]"
     ]
    },
    {
     "name": "stdout",
     "output_type": "stream",
     "text": [
      "sound/images/drilling/59594-4-0-4.png\n",
      "sound/images/drilling/59595-4-0-0.png\n",
      "sound/images/drilling/59595-4-0-1.png\n"
     ]
    },
    {
     "name": "stderr",
     "output_type": "stream",
     "text": [
      "7174it [05:46,  4.20it/s]"
     ]
    },
    {
     "name": "stdout",
     "output_type": "stream",
     "text": [
      "sound/images/drilling/63095-4-0-1.png\n",
      "sound/images/drilling/63095-4-0-10.png\n",
      "sound/images/drilling/63095-4-0-14.png\n",
      "sound/images/drilling/63095-4-0-16.png\n",
      "sound/images/drilling/63095-4-0-20.png\n",
      "sound/images/drilling/63095-4-0-21.png\n",
      "sound/images/drilling/63095-4-0-26.png\n",
      "sound/images/drilling/63095-4-0-28.png\n",
      "sound/images/drilling/63095-4-0-29.png\n",
      "sound/images/drilling/63095-4-0-4.png\n",
      "sound/images/drilling/63095-4-0-6.png\n",
      "sound/images/drilling/63095-4-0-8.png\n",
      "sound/images/drilling/63095-4-1-10.png\n",
      "sound/images/drilling/63095-4-1-18.png\n",
      "sound/images/drilling/63095-4-1-19.png\n",
      "sound/images/drilling/63095-4-1-20.png\n",
      "sound/images/drilling/63095-4-1-23.png\n"
     ]
    },
    {
     "name": "stderr",
     "output_type": "stream",
     "text": [
      "\r",
      "7191it [05:52,  3.60it/s]"
     ]
    },
    {
     "name": "stdout",
     "output_type": "stream",
     "text": [
      "sound/images/drilling/63095-4-1-27.png\n",
      "sound/images/drilling/63095-4-1-33.png\n",
      "sound/images/drilling/63095-4-1-4.png\n",
      "sound/images/drilling/63095-4-1-6.png\n"
     ]
    },
    {
     "name": "stderr",
     "output_type": "stream",
     "text": [
      "\r",
      "7203it [05:54,  4.26it/s]"
     ]
    },
    {
     "name": "stdout",
     "output_type": "stream",
     "text": [
      "sound/images/drilling/63095-4-1-7.png\n"
     ]
    },
    {
     "name": "stderr",
     "output_type": "stream",
     "text": [
      "\r",
      "7282it [05:54,  6.04it/s]"
     ]
    },
    {
     "name": "stdout",
     "output_type": "stream",
     "text": [
      "sound/images/drilling/66622-4-0-0.png\n",
      "sound/images/drilling/66622-4-0-1.png\n",
      "sound/images/drilling/66622-4-0-2.png\n",
      "sound/images/drilling/66622-4-0-3.png\n",
      "sound/images/drilling/66622-4-0-4.png\n",
      "sound/images/drilling/66622-4-0-5.png\n",
      "sound/images/drilling/66622-4-0-6.png\n",
      "sound/images/drilling/66622-4-0-7.png\n",
      "sound/images/drilling/66622-4-0-8.png\n",
      "sound/images/drilling/66623-4-0-0.png\n",
      "sound/images/drilling/66623-4-0-1.png\n",
      "sound/images/drilling/66623-4-0-2.png\n",
      "sound/images/drilling/66623-4-0-3.png\n"
     ]
    },
    {
     "name": "stderr",
     "output_type": "stream",
     "text": [
      "\r",
      "7295it [05:59,  4.35it/s]"
     ]
    },
    {
     "name": "stdout",
     "output_type": "stream",
     "text": [
      "sound/images/drilling/66623-4-0-4.png\n",
      "sound/images/drilling/66623-4-0-5.png\n"
     ]
    },
    {
     "name": "stderr",
     "output_type": "stream",
     "text": [
      "\r",
      "7304it [06:00,  5.43it/s]"
     ]
    },
    {
     "name": "stdout",
     "output_type": "stream",
     "text": [
      "sound/images/drilling/66623-4-0-6.png\n"
     ]
    },
    {
     "name": "stderr",
     "output_type": "stream",
     "text": [
      "\r",
      "7330it [06:00,  7.50it/s]"
     ]
    },
    {
     "name": "stdout",
     "output_type": "stream",
     "text": [
      "sound/images/drilling/69598-4-0-0.png\n",
      "sound/images/drilling/69598-4-1-0.png\n",
      "sound/images/drilling/69598-4-2-0.png\n",
      "sound/images/drilling/69598-4-2-1.png\n",
      "sound/images/drilling/69598-4-3-0.png\n",
      "sound/images/drilling/69598-4-4-0.png\n",
      "sound/images/drilling/69598-4-5-0.png\n"
     ]
    },
    {
     "name": "stderr",
     "output_type": "stream",
     "text": [
      "\r",
      "7337it [06:03,  5.02it/s]"
     ]
    },
    {
     "name": "stdout",
     "output_type": "stream",
     "text": [
      "sound/images/drilling/69598-4-6-0.png\n",
      "sound/images/drilling/69598-4-6-1.png\n",
      "sound/images/drilling/69598-4-7-0.png\n",
      "sound/images/drilling/69598-4-8-0.png\n"
     ]
    },
    {
     "name": "stderr",
     "output_type": "stream",
     "text": [
      "\r",
      "7342it [06:04,  4.69it/s]"
     ]
    },
    {
     "name": "stdout",
     "output_type": "stream",
     "text": [
      "sound/images/drilling/69598-4-9-0.png\n"
     ]
    },
    {
     "name": "stderr",
     "output_type": "stream",
     "text": [
      "\r",
      "7392it [06:04,  6.66it/s]"
     ]
    },
    {
     "name": "stdout",
     "output_type": "stream",
     "text": [
      "sound/images/drilling/71079-4-0-0.png\n",
      "sound/images/drilling/71079-4-1-0.png\n",
      "sound/images/drilling/71080-4-0-0.png\n",
      "sound/images/drilling/71080-4-1-0.png\n",
      "sound/images/drilling/71082-4-0-0.png\n",
      "sound/images/drilling/71082-4-1-0.png\n",
      "sound/images/drilling/71086-4-0-0.png\n",
      "sound/images/drilling/71086-4-1-0.png\n",
      "sound/images/drilling/71086-4-2-0.png\n",
      "sound/images/drilling/71087-4-0-0.png\n",
      "sound/images/drilling/71087-4-1-0.png\n",
      "sound/images/drilling/71088-4-0-0.png\n"
     ]
    },
    {
     "name": "stderr",
     "output_type": "stream",
     "text": [
      "\r",
      "7404it [06:07,  5.41it/s]"
     ]
    },
    {
     "name": "stdout",
     "output_type": "stream",
     "text": [
      "sound/images/drilling/71088-4-1-0.png\n",
      "sound/images/drilling/71088-4-2-0.png\n",
      "sound/images/drilling/71171-4-0-0.png\n",
      "sound/images/drilling/71171-4-0-1.png\n",
      "sound/images/drilling/71171-4-0-2.png\n",
      "sound/images/drilling/71171-4-0-3.png\n",
      "sound/images/drilling/71171-4-0-4.png\n",
      "sound/images/drilling/71171-4-1-0.png\n",
      "sound/images/drilling/71171-4-1-1.png\n",
      "sound/images/drilling/71171-4-1-2.png\n"
     ]
    },
    {
     "name": "stderr",
     "output_type": "stream",
     "text": [
      "\r",
      "7413it [06:13,  3.24it/s]"
     ]
    },
    {
     "name": "stdout",
     "output_type": "stream",
     "text": [
      "sound/images/drilling/71171-4-1-3.png\n",
      "sound/images/drilling/71171-4-1-4.png\n",
      "sound/images/drilling/71171-4-1-5.png\n",
      "sound/images/drilling/71171-4-2-0.png\n",
      "sound/images/drilling/71171-4-2-1.png\n",
      "sound/images/drilling/71171-4-3-0.png\n"
     ]
    },
    {
     "name": "stderr",
     "output_type": "stream",
     "text": [
      "\r",
      "7419it [06:17,  2.35it/s]"
     ]
    },
    {
     "name": "stdout",
     "output_type": "stream",
     "text": [
      "sound/images/drilling/71171-4-3-1.png\n",
      "sound/images/drilling/71171-4-3-2.png\n",
      "sound/images/drilling/71171-4-4-0.png\n",
      "sound/images/drilling/71171-4-5-0.png\n"
     ]
    },
    {
     "name": "stderr",
     "output_type": "stream",
     "text": [
      "\r",
      "7424it [06:19,  2.34it/s]"
     ]
    },
    {
     "name": "stdout",
     "output_type": "stream",
     "text": [
      "sound/images/drilling/71529-4-0-0.png\n"
     ]
    },
    {
     "name": "stderr",
     "output_type": "stream",
     "text": [
      "\r",
      "7460it [06:20,  3.31it/s]"
     ]
    },
    {
     "name": "stdout",
     "output_type": "stream",
     "text": [
      "sound/images/drilling/71529-4-0-1.png\n",
      "sound/images/drilling/71529-4-0-2.png\n",
      "sound/images/drilling/71529-4-1-0.png\n",
      "sound/images/drilling/71529-4-1-1.png\n"
     ]
    },
    {
     "name": "stderr",
     "output_type": "stream",
     "text": [
      "\r",
      "7465it [06:21,  3.12it/s]"
     ]
    },
    {
     "name": "stdout",
     "output_type": "stream",
     "text": [
      "sound/images/drilling/71529-4-1-2.png\n",
      "sound/images/drilling/71529-4-1-3.png\n",
      "sound/images/drilling/71529-4-1-4.png\n",
      "sound/images/drilling/71529-4-1-5.png\n"
     ]
    },
    {
     "name": "stderr",
     "output_type": "stream",
     "text": [
      "\r",
      "7469it [06:23,  3.01it/s]"
     ]
    },
    {
     "name": "stdout",
     "output_type": "stream",
     "text": [
      "sound/images/drilling/71529-4-1-6.png\n"
     ]
    },
    {
     "name": "stderr",
     "output_type": "stream",
     "text": [
      "\r",
      "7851it [06:23,  4.30it/s]"
     ]
    },
    {
     "name": "stdout",
     "output_type": "stream",
     "text": [
      "sound/images/drilling/74922-4-0-0.png\n",
      "sound/images/drilling/74922-4-0-1.png\n",
      "sound/images/drilling/74922-4-0-2.png\n",
      "sound/images/drilling/74922-4-0-3.png\n",
      "sound/images/drilling/74922-4-0-4.png\n",
      "sound/images/drilling/74922-4-0-5.png\n",
      "sound/images/drilling/74922-4-0-6.png\n",
      "sound/images/drilling/74922-4-0-7.png\n",
      "sound/images/drilling/74965-4-0-0.png\n",
      "sound/images/drilling/74965-4-0-1.png\n",
      "sound/images/drilling/74965-4-0-2.png\n",
      "sound/images/drilling/74965-4-0-3.png\n",
      "sound/images/drilling/74965-4-1-0.png\n",
      "sound/images/drilling/74965-4-1-1.png\n",
      "sound/images/drilling/74965-4-1-2.png\n"
     ]
    },
    {
     "name": "stderr",
     "output_type": "stream",
     "text": [
      "\r",
      "7880it [06:29,  4.46it/s]"
     ]
    },
    {
     "name": "stdout",
     "output_type": "stream",
     "text": [
      "sound/images/drilling/76085-4-0-103.png\n",
      "sound/images/drilling/76085-4-0-14.png\n",
      "sound/images/drilling/76085-4-0-24.png\n"
     ]
    },
    {
     "name": "stderr",
     "output_type": "stream",
     "text": [
      "\r",
      "7901it [06:30,  5.66it/s]"
     ]
    },
    {
     "name": "stdout",
     "output_type": "stream",
     "text": [
      "sound/images/drilling/76085-4-0-27.png\n",
      "sound/images/drilling/76085-4-0-35.png\n",
      "sound/images/drilling/76085-4-0-37.png\n",
      "sound/images/drilling/76085-4-0-38.png\n",
      "sound/images/drilling/76085-4-0-55.png\n",
      "sound/images/drilling/76085-4-0-6.png\n",
      "sound/images/drilling/76085-4-0-61.png\n",
      "sound/images/drilling/76085-4-0-62.png\n",
      "sound/images/drilling/76085-4-0-66.png\n",
      "sound/images/drilling/76085-4-0-81.png\n",
      "sound/images/drilling/76085-4-0-89.png\n",
      "sound/images/drilling/76085-4-0-93.png\n",
      "sound/images/drilling/76085-4-0-97.png\n",
      "sound/images/drilling/76086-4-0-12.png\n",
      "sound/images/drilling/76086-4-0-14.png\n"
     ]
    },
    {
     "name": "stderr",
     "output_type": "stream",
     "text": [
      "\r",
      "7916it [06:36,  4.36it/s]"
     ]
    },
    {
     "name": "stdout",
     "output_type": "stream",
     "text": [
      "sound/images/drilling/76086-4-0-17.png\n",
      "sound/images/drilling/76086-4-0-18.png\n",
      "sound/images/drilling/76086-4-0-19.png\n",
      "sound/images/drilling/76086-4-0-2.png\n",
      "sound/images/drilling/76086-4-0-22.png\n",
      "sound/images/drilling/76086-4-0-23.png\n",
      "sound/images/drilling/76086-4-0-24.png\n",
      "sound/images/drilling/76086-4-0-27.png\n",
      "sound/images/drilling/76086-4-0-29.png\n",
      "sound/images/drilling/76086-4-0-3.png\n",
      "sound/images/drilling/76086-4-0-32.png\n"
     ]
    },
    {
     "name": "stderr",
     "output_type": "stream",
     "text": [
      "\r",
      "7927it [06:40,  3.77it/s]"
     ]
    },
    {
     "name": "stdout",
     "output_type": "stream",
     "text": [
      "sound/images/drilling/76086-4-0-36.png\n",
      "sound/images/drilling/76086-4-0-38.png\n",
      "sound/images/drilling/76086-4-0-43.png\n",
      "sound/images/drilling/76086-4-0-50.png\n",
      "sound/images/drilling/76086-4-0-53.png\n",
      "sound/images/drilling/76086-4-0-55.png\n",
      "sound/images/drilling/76086-4-0-56.png\n",
      "sound/images/drilling/76086-4-0-58.png\n"
     ]
    },
    {
     "name": "stderr",
     "output_type": "stream",
     "text": [
      "\r",
      "7935it [06:43,  3.29it/s]"
     ]
    },
    {
     "name": "stdout",
     "output_type": "stream",
     "text": [
      "sound/images/drilling/77751-4-0-0.png\n"
     ]
    },
    {
     "name": "stderr",
     "output_type": "stream",
     "text": [
      "\r",
      "7989it [06:43,  4.64it/s]"
     ]
    },
    {
     "name": "stdout",
     "output_type": "stream",
     "text": [
      "sound/images/drilling/77751-4-0-1.png\n",
      "sound/images/drilling/77751-4-1-0.png\n",
      "sound/images/drilling/77751-4-1-1.png\n",
      "sound/images/drilling/77751-4-2-0.png\n",
      "sound/images/drilling/77751-4-3-0.png\n",
      "sound/images/drilling/77751-4-4-0.png\n"
     ]
    },
    {
     "name": "stderr",
     "output_type": "stream",
     "text": [
      "\r",
      "7996it [06:46,  3.80it/s]"
     ]
    },
    {
     "name": "stdout",
     "output_type": "stream",
     "text": [
      "sound/images/drilling/77751-4-5-0.png\n",
      "sound/images/drilling/77751-4-6-0.png\n",
      "sound/images/drilling/77751-4-7-0.png\n",
      "sound/images/drilling/77751-4-8-0.png\n",
      "sound/images/drilling/77751-4-9-0.png\n"
     ]
    },
    {
     "name": "stderr",
     "output_type": "stream",
     "text": [
      "\r",
      "8001it [06:47,  3.60it/s]"
     ]
    },
    {
     "name": "stdout",
     "output_type": "stream",
     "text": [
      "sound/images/drilling/77751-4-9-1.png\n",
      "sound/images/drilling/77751-4-9-2.png\n"
     ]
    },
    {
     "name": "stderr",
     "output_type": "stream",
     "text": [
      "\r",
      "8005it [06:48,  3.96it/s]"
     ]
    },
    {
     "name": "stdout",
     "output_type": "stream",
     "text": [
      "sound/images/drilling/77751-4-9-3.png\n"
     ]
    },
    {
     "name": "stderr",
     "output_type": "stream",
     "text": [
      "\r",
      "8038it [06:48,  5.59it/s]"
     ]
    },
    {
     "name": "stdout",
     "output_type": "stream",
     "text": [
      "sound/images/drilling/77774-4-0-0.png\n",
      "sound/images/drilling/77774-4-0-1.png\n",
      "sound/images/drilling/77774-4-0-2.png\n",
      "sound/images/drilling/77774-4-0-3.png\n",
      "sound/images/drilling/77774-4-1-0.png\n"
     ]
    },
    {
     "name": "stderr",
     "output_type": "stream",
     "text": [
      "\r",
      "8045it [06:50,  5.70it/s]"
     ]
    },
    {
     "name": "stdout",
     "output_type": "stream",
     "text": [
      "sound/images/drilling/77774-4-1-1.png\n"
     ]
    },
    {
     "name": "stderr",
     "output_type": "stream",
     "text": [
      "\r",
      "8061it [06:50,  7.87it/s]"
     ]
    },
    {
     "name": "stdout",
     "output_type": "stream",
     "text": [
      "sound/images/drilling/78360-4-0-0.png\n",
      "sound/images/drilling/78360-4-0-1.png\n",
      "sound/images/drilling/78360-4-0-11.png\n",
      "sound/images/drilling/78360-4-0-12.png\n",
      "sound/images/drilling/78360-4-0-14.png\n",
      "sound/images/drilling/78360-4-0-15.png\n"
     ]
    },
    {
     "name": "stderr",
     "output_type": "stream",
     "text": [
      "\r",
      "8067it [06:51,  6.19it/s]"
     ]
    },
    {
     "name": "stdout",
     "output_type": "stream",
     "text": [
      "sound/images/drilling/78360-4-0-16.png\n",
      "sound/images/drilling/78360-4-0-17.png\n",
      "sound/images/drilling/78360-4-0-18.png\n",
      "sound/images/drilling/78360-4-0-19.png\n"
     ]
    },
    {
     "name": "stderr",
     "output_type": "stream",
     "text": [
      "\r",
      "8071it [06:52,  5.42it/s]"
     ]
    },
    {
     "name": "stdout",
     "output_type": "stream",
     "text": [
      "sound/images/drilling/78360-4-0-2.png\n",
      "sound/images/drilling/78360-4-0-20.png\n",
      "sound/images/drilling/78360-4-0-21.png\n"
     ]
    },
    {
     "name": "stderr",
     "output_type": "stream",
     "text": [
      "\r",
      "8074it [06:55,  2.34it/s]"
     ]
    },
    {
     "name": "stdout",
     "output_type": "stream",
     "text": [
      "sound/images/drilling/78360-4-0-22.png\n",
      "sound/images/drilling/78360-4-0-23.png\n"
     ]
    },
    {
     "name": "stderr",
     "output_type": "stream",
     "text": [
      "\r",
      "8076it [06:56,  2.70it/s]"
     ]
    },
    {
     "name": "stdout",
     "output_type": "stream",
     "text": [
      "sound/images/drilling/78360-4-0-3.png\n",
      "sound/images/drilling/78360-4-0-4.png\n"
     ]
    },
    {
     "name": "stderr",
     "output_type": "stream",
     "text": [
      "\r",
      "8078it [06:56,  3.02it/s]"
     ]
    },
    {
     "name": "stdout",
     "output_type": "stream",
     "text": [
      "sound/images/drilling/78360-4-0-5.png\n",
      "sound/images/drilling/78360-4-0-6.png\n"
     ]
    },
    {
     "name": "stderr",
     "output_type": "stream",
     "text": [
      "\r",
      "8080it [06:57,  3.30it/s]"
     ]
    },
    {
     "name": "stdout",
     "output_type": "stream",
     "text": [
      "sound/images/drilling/78360-4-0-7.png\n"
     ]
    },
    {
     "name": "stderr",
     "output_type": "stream",
     "text": [
      "\r",
      "8081it [06:57,  3.56it/s]"
     ]
    },
    {
     "name": "stdout",
     "output_type": "stream",
     "text": [
      "sound/images/drilling/78360-4-0-8.png\n"
     ]
    },
    {
     "name": "stderr",
     "output_type": "stream",
     "text": [
      "\r",
      "8082it [06:57,  3.74it/s]"
     ]
    },
    {
     "name": "stdout",
     "output_type": "stream",
     "text": [
      "sound/images/drilling/78360-4-0-9.png\n"
     ]
    },
    {
     "name": "stderr",
     "output_type": "stream",
     "text": [
      "\r",
      "8169it [06:58,  5.31it/s]"
     ]
    },
    {
     "name": "stdout",
     "output_type": "stream",
     "text": [
      "sound/images/drilling/81117-4-0-0.png\n",
      "sound/images/drilling/81117-4-0-1.png\n",
      "sound/images/drilling/81117-4-0-2.png\n",
      "sound/images/drilling/81117-4-0-3.png\n",
      "sound/images/drilling/81117-4-0-4.png\n"
     ]
    },
    {
     "name": "stderr",
     "output_type": "stream",
     "text": [
      "\r",
      "8177it [06:59,  4.95it/s]"
     ]
    },
    {
     "name": "stdout",
     "output_type": "stream",
     "text": [
      "sound/images/drilling/81117-4-0-5.png\n"
     ]
    },
    {
     "name": "stderr",
     "output_type": "stream",
     "text": [
      "\r",
      "8281it [07:00,  7.05it/s]"
     ]
    },
    {
     "name": "stdout",
     "output_type": "stream",
     "text": [
      "sound/images/drilling/84699-4-0-0.png\n",
      "sound/images/drilling/84699-4-1-0.png\n",
      "sound/images/drilling/84699-4-2-0.png\n",
      "sound/images/drilling/84699-4-3-0.png\n",
      "sound/images/drilling/84699-4-4-0.png\n",
      "sound/images/drilling/84699-4-5-0.png\n"
     ]
    },
    {
     "name": "stderr",
     "output_type": "stream",
     "text": [
      "\r",
      "8303it [07:01,  8.59it/s]"
     ]
    },
    {
     "name": "stdout",
     "output_type": "stream",
     "text": [
      "sound/images/drilling/84699-4-6-0.png\n",
      "sound/images/drilling/89099-4-0-0.png\n"
     ]
    },
    {
     "name": "stderr",
     "output_type": "stream",
     "text": [
      "\r",
      "8347it [07:01, 11.80it/s]"
     ]
    },
    {
     "name": "stdout",
     "output_type": "stream",
     "text": [
      "sound/images/drilling/89099-4-0-1.png\n"
     ]
    },
    {
     "name": "stderr",
     "output_type": "stream",
     "text": [
      "\r",
      "8361it [07:02, 13.48it/s]"
     ]
    },
    {
     "name": "stdout",
     "output_type": "stream",
     "text": [
      "sound/images/drilling/89099-4-0-2.png\n"
     ]
    },
    {
     "name": "stderr",
     "output_type": "stream",
     "text": [
      "\r",
      "8554it [07:02, 19.14it/s]"
     ]
    },
    {
     "name": "stdout",
     "output_type": "stream",
     "text": [
      "sound/images/drilling/95562-4-0-0.png\n",
      "sound/images/drilling/95562-4-1-0.png\n",
      "sound/images/drilling/95562-4-2-0.png\n",
      "sound/images/drilling/95562-4-3-0.png\n",
      "sound/images/drilling/95562-4-3-1.png\n",
      "sound/images/drilling/96158-4-0-0.png\n",
      "sound/images/drilling/96159-4-0-0.png\n"
     ]
    },
    {
     "name": "stderr",
     "output_type": "stream",
     "text": [
      "\r",
      "8591it [07:04, 19.29it/s]"
     ]
    },
    {
     "name": "stdout",
     "output_type": "stream",
     "text": [
      "sound/images/drilling/96159-4-1-0.png\n"
     ]
    },
    {
     "name": "stderr",
     "output_type": "stream",
     "text": [
      "\r",
      "8683it [07:04, 26.75it/s]"
     ]
    },
    {
     "name": "stdout",
     "output_type": "stream",
     "text": [
      "sound/images/drilling/99192-4-0-0.png\n",
      "sound/images/drilling/99192-4-0-1.png\n",
      "sound/images/drilling/99192-4-0-12.png\n",
      "sound/images/drilling/99192-4-0-15.png\n",
      "sound/images/drilling/99192-4-0-17.png\n",
      "sound/images/drilling/99192-4-0-18.png\n",
      "sound/images/drilling/99192-4-0-20.png\n",
      "sound/images/drilling/99192-4-0-24.png\n",
      "sound/images/drilling/99192-4-0-26.png\n",
      "sound/images/drilling/99192-4-0-27.png\n",
      "sound/images/drilling/99192-4-0-28.png\n",
      "sound/images/drilling/99192-4-0-3.png\n",
      "sound/images/drilling/99192-4-0-30.png\n",
      "sound/images/drilling/99192-4-0-32.png\n",
      "sound/images/drilling/99192-4-0-33.png\n",
      "sound/images/drilling/99192-4-0-38.png\n",
      "sound/images/drilling/99192-4-0-40.png\n",
      "sound/images/drilling/99192-4-0-41.png\n",
      "sound/images/drilling/99192-4-0-43.png\n",
      "sound/images/drilling/99192-4-0-47.png\n",
      "sound/images/drilling/99192-4-0-48.png\n",
      "sound/images/drilling/99192-4-0-49.png\n",
      "sound/images/drilling/99192-4-0-52.png\n",
      "sound/images/drilling/99192-4-0-53.png\n",
      "sound/images/drilling/99192-4-0-54.png\n",
      "sound/images/drilling/99192-4-0-55.png\n",
      "sound/images/drilling/99192-4-0-7.png\n"
     ]
    },
    {
     "name": "stderr",
     "output_type": "stream",
     "text": [
      "8732it [07:14, 20.10it/s]"
     ]
    },
    {
     "name": "stdout",
     "output_type": "stream",
     "text": [
      "Finished\n"
     ]
    },
    {
     "name": "stderr",
     "output_type": "stream",
     "text": [
      "\n"
     ]
    }
   ],
   "source": [
    "from tqdm import tqdm\n",
    "\n",
    "for index, row in tqdm(metadata.iterrows()):\n",
    "    if row['class'] == 'drilling' :\n",
    "        \n",
    "        sound2img(row[\"slice_file_name\"], row[\"class\"])  \n",
    "\n",
    "print('Finished')\n",
    "\n"
   ]
  },
  {
   "cell_type": "code",
   "execution_count": 17,
   "metadata": {},
   "outputs": [
    {
     "name": "stderr",
     "output_type": "stream",
     "text": [
      "172it [00:00, 467.28it/s]"
     ]
    },
    {
     "name": "stdout",
     "output_type": "stream",
     "text": [
      "sound/images/jackhammer/103074-7-0-0.png\n",
      "sound/images/jackhammer/103074-7-0-1.png\n",
      "sound/images/jackhammer/103074-7-0-2.png\n",
      "sound/images/jackhammer/103074-7-1-0.png\n",
      "sound/images/jackhammer/103074-7-1-1.png\n",
      "sound/images/jackhammer/103074-7-1-2.png\n",
      "sound/images/jackhammer/103074-7-1-3.png\n",
      "sound/images/jackhammer/103074-7-1-4.png\n",
      "sound/images/jackhammer/103074-7-1-5.png\n",
      "sound/images/jackhammer/103074-7-1-6.png\n",
      "sound/images/jackhammer/103074-7-2-0.png\n",
      "sound/images/jackhammer/103074-7-3-0.png\n",
      "sound/images/jackhammer/103074-7-3-1.png\n",
      "sound/images/jackhammer/103074-7-3-2.png\n",
      "sound/images/jackhammer/103074-7-3-3.png\n"
     ]
    },
    {
     "name": "stderr",
     "output_type": "stream",
     "text": [
      "\r",
      "187it [00:06,  7.97it/s] "
     ]
    },
    {
     "name": "stdout",
     "output_type": "stream",
     "text": [
      "sound/images/jackhammer/103074-7-4-0.png\n",
      "sound/images/jackhammer/103074-7-4-1.png\n",
      "sound/images/jackhammer/103074-7-4-2.png\n",
      "sound/images/jackhammer/103074-7-4-3.png\n",
      "sound/images/jackhammer/103074-7-4-4.png\n",
      "sound/images/jackhammer/103074-7-4-5.png\n"
     ]
    },
    {
     "name": "stderr",
     "output_type": "stream",
     "text": [
      "\r",
      "197it [00:08,  6.46it/s]"
     ]
    },
    {
     "name": "stdout",
     "output_type": "stream",
     "text": [
      "sound/images/jackhammer/103074-7-4-6.png\n"
     ]
    },
    {
     "name": "stderr",
     "output_type": "stream",
     "text": [
      "\r",
      "309it [00:09,  9.15it/s]"
     ]
    },
    {
     "name": "stdout",
     "output_type": "stream",
     "text": [
      "sound/images/jackhammer/104998-7-0-5.png\n",
      "sound/images/jackhammer/104998-7-10-1.png\n",
      "sound/images/jackhammer/104998-7-10-10.png\n",
      "sound/images/jackhammer/104998-7-10-13.png\n",
      "sound/images/jackhammer/104998-7-10-15.png\n",
      "sound/images/jackhammer/104998-7-10-8.png\n",
      "sound/images/jackhammer/104998-7-10-9.png\n",
      "sound/images/jackhammer/104998-7-11-0.png\n",
      "sound/images/jackhammer/104998-7-11-2.png\n",
      "sound/images/jackhammer/104998-7-12-2.png\n",
      "sound/images/jackhammer/104998-7-14-1.png\n",
      "sound/images/jackhammer/104998-7-14-5.png\n",
      "sound/images/jackhammer/104998-7-14-6.png\n",
      "sound/images/jackhammer/104998-7-15-1.png\n",
      "sound/images/jackhammer/104998-7-15-3.png\n"
     ]
    },
    {
     "name": "stderr",
     "output_type": "stream",
     "text": [
      "\r",
      "324it [00:14,  5.61it/s]"
     ]
    },
    {
     "name": "stdout",
     "output_type": "stream",
     "text": [
      "sound/images/jackhammer/104998-7-15-5.png\n",
      "sound/images/jackhammer/104998-7-15-9.png\n",
      "sound/images/jackhammer/104998-7-16-0.png\n",
      "sound/images/jackhammer/104998-7-16-10.png\n",
      "sound/images/jackhammer/104998-7-16-11.png\n",
      "sound/images/jackhammer/104998-7-16-5.png\n",
      "sound/images/jackhammer/104998-7-16-6.png\n",
      "sound/images/jackhammer/104998-7-16-7.png\n",
      "sound/images/jackhammer/104998-7-17-0.png\n",
      "sound/images/jackhammer/104998-7-17-1.png\n",
      "sound/images/jackhammer/104998-7-17-12.png\n"
     ]
    },
    {
     "name": "stderr",
     "output_type": "stream",
     "text": [
      "\r",
      "335it [00:17,  4.41it/s]"
     ]
    },
    {
     "name": "stdout",
     "output_type": "stream",
     "text": [
      "sound/images/jackhammer/104998-7-17-14.png\n",
      "sound/images/jackhammer/104998-7-17-4.png\n",
      "sound/images/jackhammer/104998-7-17-7.png\n",
      "sound/images/jackhammer/104998-7-17-8.png\n",
      "sound/images/jackhammer/104998-7-18-12.png\n",
      "sound/images/jackhammer/104998-7-18-13.png\n",
      "sound/images/jackhammer/104998-7-18-3.png\n",
      "sound/images/jackhammer/104998-7-18-9.png\n"
     ]
    },
    {
     "name": "stderr",
     "output_type": "stream",
     "text": [
      "\r",
      "343it [00:20,  3.87it/s]"
     ]
    },
    {
     "name": "stdout",
     "output_type": "stream",
     "text": [
      "sound/images/jackhammer/104998-7-19-0.png\n",
      "sound/images/jackhammer/104998-7-19-3.png\n",
      "sound/images/jackhammer/104998-7-19-6.png\n",
      "sound/images/jackhammer/104998-7-19-7.png\n",
      "sound/images/jackhammer/104998-7-19-8.png\n",
      "sound/images/jackhammer/104998-7-19-9.png\n"
     ]
    },
    {
     "name": "stderr",
     "output_type": "stream",
     "text": [
      "\r",
      "349it [00:22,  3.59it/s]"
     ]
    },
    {
     "name": "stdout",
     "output_type": "stream",
     "text": [
      "sound/images/jackhammer/104998-7-2-4.png\n",
      "sound/images/jackhammer/104998-7-2-5.png\n",
      "sound/images/jackhammer/104998-7-2-6.png\n",
      "sound/images/jackhammer/104998-7-3-1.png\n"
     ]
    },
    {
     "name": "stderr",
     "output_type": "stream",
     "text": [
      "\r",
      "353it [00:24,  3.28it/s]"
     ]
    },
    {
     "name": "stdout",
     "output_type": "stream",
     "text": [
      "sound/images/jackhammer/104998-7-7-0.png\n",
      "sound/images/jackhammer/104998-7-7-1.png\n",
      "sound/images/jackhammer/104998-7-7-4.png\n"
     ]
    },
    {
     "name": "stderr",
     "output_type": "stream",
     "text": [
      "\r",
      "356it [00:25,  3.20it/s]"
     ]
    },
    {
     "name": "stdout",
     "output_type": "stream",
     "text": [
      "sound/images/jackhammer/104998-7-7-7.png\n",
      "sound/images/jackhammer/104998-7-7-9.png\n"
     ]
    },
    {
     "name": "stderr",
     "output_type": "stream",
     "text": [
      "\r",
      "358it [00:25,  3.12it/s]"
     ]
    },
    {
     "name": "stdout",
     "output_type": "stream",
     "text": [
      "sound/images/jackhammer/104998-7-8-13.png\n",
      "sound/images/jackhammer/104998-7-8-14.png\n"
     ]
    },
    {
     "name": "stderr",
     "output_type": "stream",
     "text": [
      "\r",
      "360it [00:26,  3.09it/s]"
     ]
    },
    {
     "name": "stdout",
     "output_type": "stream",
     "text": [
      "sound/images/jackhammer/104998-7-8-15.png\n",
      "sound/images/jackhammer/104998-7-8-17.png\n"
     ]
    },
    {
     "name": "stderr",
     "output_type": "stream",
     "text": [
      "\r",
      "362it [00:27,  3.07it/s]"
     ]
    },
    {
     "name": "stdout",
     "output_type": "stream",
     "text": [
      "sound/images/jackhammer/104998-7-8-4.png\n"
     ]
    },
    {
     "name": "stderr",
     "output_type": "stream",
     "text": [
      "\r",
      "363it [00:27,  3.06it/s]"
     ]
    },
    {
     "name": "stdout",
     "output_type": "stream",
     "text": [
      "sound/images/jackhammer/104998-7-8-6.png\n"
     ]
    },
    {
     "name": "stderr",
     "output_type": "stream",
     "text": [
      "\r",
      "364it [00:27,  3.05it/s]"
     ]
    },
    {
     "name": "stdout",
     "output_type": "stream",
     "text": [
      "sound/images/jackhammer/104998-7-8-7.png\n"
     ]
    },
    {
     "name": "stderr",
     "output_type": "stream",
     "text": [
      "\r",
      "365it [00:28,  3.05it/s]"
     ]
    },
    {
     "name": "stdout",
     "output_type": "stream",
     "text": [
      "sound/images/jackhammer/104998-7-9-0.png\n"
     ]
    },
    {
     "name": "stderr",
     "output_type": "stream",
     "text": [
      "\r",
      "366it [00:28,  3.03it/s]"
     ]
    },
    {
     "name": "stdout",
     "output_type": "stream",
     "text": [
      "sound/images/jackhammer/104998-7-9-13.png\n"
     ]
    },
    {
     "name": "stderr",
     "output_type": "stream",
     "text": [
      "\r",
      "367it [00:28,  3.02it/s]"
     ]
    },
    {
     "name": "stdout",
     "output_type": "stream",
     "text": [
      "sound/images/jackhammer/104998-7-9-9.png\n"
     ]
    },
    {
     "name": "stderr",
     "output_type": "stream",
     "text": [
      "\r",
      "368it [00:29,  3.02it/s]"
     ]
    },
    {
     "name": "stdout",
     "output_type": "stream",
     "text": [
      "sound/images/jackhammer/105029-7-0-0.png\n"
     ]
    },
    {
     "name": "stderr",
     "output_type": "stream",
     "text": [
      "\r",
      "369it [00:29,  3.02it/s]"
     ]
    },
    {
     "name": "stdout",
     "output_type": "stream",
     "text": [
      "sound/images/jackhammer/105029-7-0-1.png\n"
     ]
    },
    {
     "name": "stderr",
     "output_type": "stream",
     "text": [
      "\r",
      "370it [00:29,  3.02it/s]"
     ]
    },
    {
     "name": "stdout",
     "output_type": "stream",
     "text": [
      "sound/images/jackhammer/105029-7-0-2.png\n"
     ]
    },
    {
     "name": "stderr",
     "output_type": "stream",
     "text": [
      "\r",
      "371it [00:30,  2.96it/s]"
     ]
    },
    {
     "name": "stdout",
     "output_type": "stream",
     "text": [
      "sound/images/jackhammer/105029-7-0-3.png\n"
     ]
    },
    {
     "name": "stderr",
     "output_type": "stream",
     "text": [
      "\r",
      "372it [00:30,  2.98it/s]"
     ]
    },
    {
     "name": "stdout",
     "output_type": "stream",
     "text": [
      "sound/images/jackhammer/105029-7-0-4.png\n"
     ]
    },
    {
     "name": "stderr",
     "output_type": "stream",
     "text": [
      "\r",
      "373it [00:30,  3.00it/s]"
     ]
    },
    {
     "name": "stdout",
     "output_type": "stream",
     "text": [
      "sound/images/jackhammer/105029-7-0-5.png\n"
     ]
    },
    {
     "name": "stderr",
     "output_type": "stream",
     "text": [
      "\r",
      "374it [00:31,  3.01it/s]"
     ]
    },
    {
     "name": "stdout",
     "output_type": "stream",
     "text": [
      "sound/images/jackhammer/105029-7-0-6.png\n"
     ]
    },
    {
     "name": "stderr",
     "output_type": "stream",
     "text": [
      "\r",
      "375it [00:31,  3.02it/s]"
     ]
    },
    {
     "name": "stdout",
     "output_type": "stream",
     "text": [
      "sound/images/jackhammer/105029-7-1-0.png\n"
     ]
    },
    {
     "name": "stderr",
     "output_type": "stream",
     "text": [
      "\r",
      "376it [00:31,  2.99it/s]"
     ]
    },
    {
     "name": "stdout",
     "output_type": "stream",
     "text": [
      "sound/images/jackhammer/105029-7-1-1.png\n"
     ]
    },
    {
     "name": "stderr",
     "output_type": "stream",
     "text": [
      "\r",
      "377it [00:32,  2.98it/s]"
     ]
    },
    {
     "name": "stdout",
     "output_type": "stream",
     "text": [
      "sound/images/jackhammer/105029-7-1-10.png\n"
     ]
    },
    {
     "name": "stderr",
     "output_type": "stream",
     "text": [
      "\r",
      "378it [00:32,  2.59it/s]"
     ]
    },
    {
     "name": "stdout",
     "output_type": "stream",
     "text": [
      "sound/images/jackhammer/105029-7-1-11.png\n"
     ]
    },
    {
     "name": "stderr",
     "output_type": "stream",
     "text": [
      "\r",
      "379it [00:32,  2.70it/s]"
     ]
    },
    {
     "name": "stdout",
     "output_type": "stream",
     "text": [
      "sound/images/jackhammer/105029-7-1-12.png\n"
     ]
    },
    {
     "name": "stderr",
     "output_type": "stream",
     "text": [
      "\r",
      "380it [00:33,  2.79it/s]"
     ]
    },
    {
     "name": "stdout",
     "output_type": "stream",
     "text": [
      "sound/images/jackhammer/105029-7-1-13.png\n"
     ]
    },
    {
     "name": "stderr",
     "output_type": "stream",
     "text": [
      "\r",
      "381it [00:33,  2.82it/s]"
     ]
    },
    {
     "name": "stdout",
     "output_type": "stream",
     "text": [
      "sound/images/jackhammer/105029-7-1-2.png\n"
     ]
    },
    {
     "name": "stderr",
     "output_type": "stream",
     "text": [
      "\r",
      "382it [00:33,  2.88it/s]"
     ]
    },
    {
     "name": "stdout",
     "output_type": "stream",
     "text": [
      "sound/images/jackhammer/105029-7-1-3.png\n"
     ]
    },
    {
     "name": "stderr",
     "output_type": "stream",
     "text": [
      "\r",
      "383it [00:34,  2.88it/s]"
     ]
    },
    {
     "name": "stdout",
     "output_type": "stream",
     "text": [
      "sound/images/jackhammer/105029-7-1-4.png\n"
     ]
    },
    {
     "name": "stderr",
     "output_type": "stream",
     "text": [
      "\r",
      "384it [00:34,  2.92it/s]"
     ]
    },
    {
     "name": "stdout",
     "output_type": "stream",
     "text": [
      "sound/images/jackhammer/105029-7-1-5.png\n"
     ]
    },
    {
     "name": "stderr",
     "output_type": "stream",
     "text": [
      "\r",
      "385it [00:34,  2.94it/s]"
     ]
    },
    {
     "name": "stdout",
     "output_type": "stream",
     "text": [
      "sound/images/jackhammer/105029-7-1-6.png\n"
     ]
    },
    {
     "name": "stderr",
     "output_type": "stream",
     "text": [
      "\r",
      "386it [00:35,  2.98it/s]"
     ]
    },
    {
     "name": "stdout",
     "output_type": "stream",
     "text": [
      "sound/images/jackhammer/105029-7-1-7.png\n"
     ]
    },
    {
     "name": "stderr",
     "output_type": "stream",
     "text": [
      "\r",
      "387it [00:35,  2.98it/s]"
     ]
    },
    {
     "name": "stdout",
     "output_type": "stream",
     "text": [
      "sound/images/jackhammer/105029-7-1-8.png\n"
     ]
    },
    {
     "name": "stderr",
     "output_type": "stream",
     "text": [
      "\r",
      "388it [00:35,  2.99it/s]"
     ]
    },
    {
     "name": "stdout",
     "output_type": "stream",
     "text": [
      "sound/images/jackhammer/105029-7-1-9.png\n"
     ]
    },
    {
     "name": "stderr",
     "output_type": "stream",
     "text": [
      "\r",
      "389it [00:36,  2.96it/s]"
     ]
    },
    {
     "name": "stdout",
     "output_type": "stream",
     "text": [
      "sound/images/jackhammer/105029-7-2-0.png\n"
     ]
    },
    {
     "name": "stderr",
     "output_type": "stream",
     "text": [
      "\r",
      "390it [00:36,  2.97it/s]"
     ]
    },
    {
     "name": "stdout",
     "output_type": "stream",
     "text": [
      "sound/images/jackhammer/105029-7-2-1.png\n"
     ]
    },
    {
     "name": "stderr",
     "output_type": "stream",
     "text": [
      "\r",
      "391it [00:36,  2.98it/s]"
     ]
    },
    {
     "name": "stdout",
     "output_type": "stream",
     "text": [
      "sound/images/jackhammer/105029-7-2-10.png\n"
     ]
    },
    {
     "name": "stderr",
     "output_type": "stream",
     "text": [
      "\r",
      "392it [00:37,  2.99it/s]"
     ]
    },
    {
     "name": "stdout",
     "output_type": "stream",
     "text": [
      "sound/images/jackhammer/105029-7-2-11.png\n"
     ]
    },
    {
     "name": "stderr",
     "output_type": "stream",
     "text": [
      "\r",
      "393it [00:37,  3.00it/s]"
     ]
    },
    {
     "name": "stdout",
     "output_type": "stream",
     "text": [
      "sound/images/jackhammer/105029-7-2-12.png\n"
     ]
    },
    {
     "name": "stderr",
     "output_type": "stream",
     "text": [
      "\r",
      "394it [00:37,  3.00it/s]"
     ]
    },
    {
     "name": "stdout",
     "output_type": "stream",
     "text": [
      "sound/images/jackhammer/105029-7-2-13.png\n"
     ]
    },
    {
     "name": "stderr",
     "output_type": "stream",
     "text": [
      "\r",
      "395it [00:38,  3.00it/s]"
     ]
    },
    {
     "name": "stdout",
     "output_type": "stream",
     "text": [
      "sound/images/jackhammer/105029-7-2-14.png\n"
     ]
    },
    {
     "name": "stderr",
     "output_type": "stream",
     "text": [
      "\r",
      "396it [00:38,  3.00it/s]"
     ]
    },
    {
     "name": "stdout",
     "output_type": "stream",
     "text": [
      "sound/images/jackhammer/105029-7-2-15.png\n"
     ]
    },
    {
     "name": "stderr",
     "output_type": "stream",
     "text": [
      "\r",
      "397it [00:38,  3.00it/s]"
     ]
    },
    {
     "name": "stdout",
     "output_type": "stream",
     "text": [
      "sound/images/jackhammer/105029-7-2-16.png\n"
     ]
    },
    {
     "name": "stderr",
     "output_type": "stream",
     "text": [
      "\r",
      "398it [00:39,  3.00it/s]"
     ]
    },
    {
     "name": "stdout",
     "output_type": "stream",
     "text": [
      "sound/images/jackhammer/105029-7-2-2.png\n"
     ]
    },
    {
     "name": "stderr",
     "output_type": "stream",
     "text": [
      "\r",
      "399it [00:39,  3.00it/s]"
     ]
    },
    {
     "name": "stdout",
     "output_type": "stream",
     "text": [
      "sound/images/jackhammer/105029-7-2-3.png\n"
     ]
    },
    {
     "name": "stderr",
     "output_type": "stream",
     "text": [
      "\r",
      "400it [00:39,  3.01it/s]"
     ]
    },
    {
     "name": "stdout",
     "output_type": "stream",
     "text": [
      "sound/images/jackhammer/105029-7-2-4.png\n"
     ]
    },
    {
     "name": "stderr",
     "output_type": "stream",
     "text": [
      "\r",
      "401it [00:40,  3.02it/s]"
     ]
    },
    {
     "name": "stdout",
     "output_type": "stream",
     "text": [
      "sound/images/jackhammer/105029-7-2-5.png\n"
     ]
    },
    {
     "name": "stderr",
     "output_type": "stream",
     "text": [
      "\r",
      "402it [00:40,  3.00it/s]"
     ]
    },
    {
     "name": "stdout",
     "output_type": "stream",
     "text": [
      "sound/images/jackhammer/105029-7-2-6.png\n"
     ]
    },
    {
     "name": "stderr",
     "output_type": "stream",
     "text": [
      "\r",
      "403it [00:40,  3.01it/s]"
     ]
    },
    {
     "name": "stdout",
     "output_type": "stream",
     "text": [
      "sound/images/jackhammer/105029-7-2-7.png\n"
     ]
    },
    {
     "name": "stderr",
     "output_type": "stream",
     "text": [
      "\r",
      "404it [00:41,  3.01it/s]"
     ]
    },
    {
     "name": "stdout",
     "output_type": "stream",
     "text": [
      "sound/images/jackhammer/105029-7-2-8.png\n"
     ]
    },
    {
     "name": "stderr",
     "output_type": "stream",
     "text": [
      "\r",
      "405it [00:41,  3.00it/s]"
     ]
    },
    {
     "name": "stdout",
     "output_type": "stream",
     "text": [
      "sound/images/jackhammer/105029-7-2-9.png\n"
     ]
    },
    {
     "name": "stderr",
     "output_type": "stream",
     "text": [
      "\r",
      "406it [00:41,  3.01it/s]"
     ]
    },
    {
     "name": "stdout",
     "output_type": "stream",
     "text": [
      "sound/images/jackhammer/105029-7-3-0.png\n"
     ]
    },
    {
     "name": "stderr",
     "output_type": "stream",
     "text": [
      "\r",
      "407it [00:42,  3.00it/s]"
     ]
    },
    {
     "name": "stdout",
     "output_type": "stream",
     "text": [
      "sound/images/jackhammer/105029-7-3-1.png\n"
     ]
    },
    {
     "name": "stderr",
     "output_type": "stream",
     "text": [
      "\r",
      "408it [00:42,  3.00it/s]"
     ]
    },
    {
     "name": "stdout",
     "output_type": "stream",
     "text": [
      "sound/images/jackhammer/105029-7-3-2.png\n"
     ]
    },
    {
     "name": "stderr",
     "output_type": "stream",
     "text": [
      "\r",
      "409it [00:42,  2.97it/s]"
     ]
    },
    {
     "name": "stdout",
     "output_type": "stream",
     "text": [
      "sound/images/jackhammer/105029-7-3-3.png\n"
     ]
    },
    {
     "name": "stderr",
     "output_type": "stream",
     "text": [
      "\r",
      "410it [00:43,  2.96it/s]"
     ]
    },
    {
     "name": "stdout",
     "output_type": "stream",
     "text": [
      "sound/images/jackhammer/105029-7-3-4.png\n"
     ]
    },
    {
     "name": "stderr",
     "output_type": "stream",
     "text": [
      "\r",
      "411it [00:43,  2.48it/s]"
     ]
    },
    {
     "name": "stdout",
     "output_type": "stream",
     "text": [
      "sound/images/jackhammer/105029-7-3-5.png\n"
     ]
    },
    {
     "name": "stderr",
     "output_type": "stream",
     "text": [
      "\r",
      "412it [00:44,  2.62it/s]"
     ]
    },
    {
     "name": "stdout",
     "output_type": "stream",
     "text": [
      "sound/images/jackhammer/105029-7-3-6.png\n"
     ]
    },
    {
     "name": "stderr",
     "output_type": "stream",
     "text": [
      "\r",
      "413it [00:44,  2.72it/s]"
     ]
    },
    {
     "name": "stdout",
     "output_type": "stream",
     "text": [
      "sound/images/jackhammer/105029-7-3-7.png\n"
     ]
    },
    {
     "name": "stderr",
     "output_type": "stream",
     "text": [
      "\r",
      "414it [00:44,  2.81it/s]"
     ]
    },
    {
     "name": "stdout",
     "output_type": "stream",
     "text": [
      "sound/images/jackhammer/105029-7-4-0.png\n"
     ]
    },
    {
     "name": "stderr",
     "output_type": "stream",
     "text": [
      "\r",
      "415it [00:45,  2.87it/s]"
     ]
    },
    {
     "name": "stdout",
     "output_type": "stream",
     "text": [
      "sound/images/jackhammer/105029-7-4-1.png\n"
     ]
    },
    {
     "name": "stderr",
     "output_type": "stream",
     "text": [
      "\r",
      "416it [00:45,  2.91it/s]"
     ]
    },
    {
     "name": "stdout",
     "output_type": "stream",
     "text": [
      "sound/images/jackhammer/105029-7-4-2.png\n"
     ]
    },
    {
     "name": "stderr",
     "output_type": "stream",
     "text": [
      "\r",
      "417it [00:45,  2.95it/s]"
     ]
    },
    {
     "name": "stdout",
     "output_type": "stream",
     "text": [
      "sound/images/jackhammer/105029-7-4-3.png\n"
     ]
    },
    {
     "name": "stderr",
     "output_type": "stream",
     "text": [
      "\r",
      "608it [00:46,  4.21it/s]"
     ]
    },
    {
     "name": "stdout",
     "output_type": "stream",
     "text": [
      "sound/images/jackhammer/110621-7-0-0.png\n",
      "sound/images/jackhammer/110621-7-0-1.png\n",
      "sound/images/jackhammer/110621-7-0-2.png\n"
     ]
    },
    {
     "name": "stderr",
     "output_type": "stream",
     "text": [
      "\r",
      "625it [00:47,  5.44it/s]"
     ]
    },
    {
     "name": "stdout",
     "output_type": "stream",
     "text": [
      "sound/images/jackhammer/110621-7-0-3.png\n"
     ]
    },
    {
     "name": "stderr",
     "output_type": "stream",
     "text": [
      "\r",
      "960it [00:47,  7.75it/s]"
     ]
    },
    {
     "name": "stdout",
     "output_type": "stream",
     "text": [
      "sound/images/jackhammer/119809-7-0-0.png\n",
      "sound/images/jackhammer/119809-7-0-1.png\n",
      "sound/images/jackhammer/119809-7-0-2.png\n",
      "sound/images/jackhammer/119809-7-0-3.png\n",
      "sound/images/jackhammer/119809-7-0-4.png\n",
      "sound/images/jackhammer/119809-7-0-5.png\n"
     ]
    },
    {
     "name": "stderr",
     "output_type": "stream",
     "text": [
      "\r",
      "998it [00:49,  9.43it/s]"
     ]
    },
    {
     "name": "stdout",
     "output_type": "stream",
     "text": [
      "sound/images/jackhammer/119809-7-0-6.png\n"
     ]
    },
    {
     "name": "stderr",
     "output_type": "stream",
     "text": [
      "\r",
      "1090it [00:49, 13.28it/s]"
     ]
    },
    {
     "name": "stdout",
     "output_type": "stream",
     "text": [
      "sound/images/jackhammer/125678-7-0-0.png\n",
      "sound/images/jackhammer/125678-7-0-1.png\n",
      "sound/images/jackhammer/125678-7-0-2.png\n",
      "sound/images/jackhammer/125678-7-0-3.png\n",
      "sound/images/jackhammer/125678-7-0-4.png\n",
      "sound/images/jackhammer/125678-7-0-5.png\n",
      "sound/images/jackhammer/125678-7-0-6.png\n",
      "sound/images/jackhammer/125678-7-0-7.png\n",
      "sound/images/jackhammer/125678-7-0-8.png\n",
      "sound/images/jackhammer/125678-7-0-9.png\n",
      "sound/images/jackhammer/125678-7-1-0.png\n",
      "sound/images/jackhammer/125678-7-1-1.png\n",
      "sound/images/jackhammer/125678-7-1-2.png\n",
      "sound/images/jackhammer/125678-7-1-3.png\n",
      "sound/images/jackhammer/125678-7-1-4.png\n",
      "sound/images/jackhammer/125678-7-1-5.png\n",
      "sound/images/jackhammer/125678-7-1-6.png\n",
      "sound/images/jackhammer/125678-7-1-7.png\n",
      "sound/images/jackhammer/125678-7-1-8.png\n",
      "sound/images/jackhammer/125678-7-2-0.png\n",
      "sound/images/jackhammer/125678-7-2-1.png\n",
      "sound/images/jackhammer/125678-7-2-2.png\n",
      "sound/images/jackhammer/125678-7-2-3.png\n",
      "sound/images/jackhammer/125678-7-2-4.png\n",
      "sound/images/jackhammer/125678-7-2-5.png\n",
      "sound/images/jackhammer/125678-7-2-6.png\n",
      "sound/images/jackhammer/125678-7-2-7.png\n"
     ]
    },
    {
     "name": "stderr",
     "output_type": "stream",
     "text": [
      "\r",
      "1117it [00:58,  6.46it/s]"
     ]
    },
    {
     "name": "stdout",
     "output_type": "stream",
     "text": [
      "sound/images/jackhammer/125678-7-2-8.png\n",
      "sound/images/jackhammer/125678-7-3-0.png\n",
      "sound/images/jackhammer/125678-7-3-1.png\n",
      "sound/images/jackhammer/125678-7-3-2.png\n",
      "sound/images/jackhammer/125678-7-3-3.png\n",
      "sound/images/jackhammer/125678-7-3-4.png\n",
      "sound/images/jackhammer/125678-7-3-5.png\n",
      "sound/images/jackhammer/125678-7-3-6.png\n",
      "sound/images/jackhammer/125678-7-3-7.png\n",
      "sound/images/jackhammer/125678-7-4-0.png\n",
      "sound/images/jackhammer/125678-7-4-1.png\n",
      "sound/images/jackhammer/125678-7-4-2.png\n",
      "sound/images/jackhammer/125678-7-4-3.png\n",
      "sound/images/jackhammer/125678-7-4-4.png\n",
      "sound/images/jackhammer/125678-7-4-5.png\n",
      "sound/images/jackhammer/125678-7-4-6.png\n",
      "sound/images/jackhammer/125678-7-4-7.png\n"
     ]
    },
    {
     "name": "stderr",
     "output_type": "stream",
     "text": [
      "\r",
      "1136it [01:04,  5.08it/s]"
     ]
    },
    {
     "name": "stdout",
     "output_type": "stream",
     "text": [
      "sound/images/jackhammer/125678-7-4-8.png\n"
     ]
    },
    {
     "name": "stderr",
     "output_type": "stream",
     "text": [
      "\r",
      "1270it [01:04,  7.21it/s]"
     ]
    },
    {
     "name": "stdout",
     "output_type": "stream",
     "text": [
      "sound/images/jackhammer/131918-7-0-0.png\n",
      "sound/images/jackhammer/131918-7-0-1.png\n",
      "sound/images/jackhammer/131918-7-0-2.png\n",
      "sound/images/jackhammer/131918-7-0-3.png\n",
      "sound/images/jackhammer/131918-7-0-4.png\n",
      "sound/images/jackhammer/131918-7-0-5.png\n",
      "sound/images/jackhammer/131918-7-0-6.png\n",
      "sound/images/jackhammer/131918-7-0-7.png\n",
      "sound/images/jackhammer/131918-7-0-8.png\n",
      "sound/images/jackhammer/132016-7-0-0.png\n",
      "sound/images/jackhammer/132016-7-0-1.png\n",
      "sound/images/jackhammer/132016-7-0-2.png\n",
      "sound/images/jackhammer/132016-7-0-3.png\n",
      "sound/images/jackhammer/132016-7-0-4.png\n",
      "sound/images/jackhammer/132016-7-0-5.png\n",
      "sound/images/jackhammer/132016-7-0-6.png\n",
      "sound/images/jackhammer/132016-7-0-7.png\n"
     ]
    },
    {
     "name": "stderr",
     "output_type": "stream",
     "text": [
      "\r",
      "1292it [01:10,  5.76it/s]"
     ]
    },
    {
     "name": "stdout",
     "output_type": "stream",
     "text": [
      "sound/images/jackhammer/132016-7-0-8.png\n",
      "sound/images/jackhammer/132021-7-0-0.png\n",
      "sound/images/jackhammer/132021-7-0-1.png\n",
      "sound/images/jackhammer/132021-7-0-10.png\n",
      "sound/images/jackhammer/132021-7-0-11.png\n",
      "sound/images/jackhammer/132021-7-0-12.png\n",
      "sound/images/jackhammer/132021-7-0-2.png\n",
      "sound/images/jackhammer/132021-7-0-3.png\n",
      "sound/images/jackhammer/132021-7-0-4.png\n",
      "sound/images/jackhammer/132021-7-0-5.png\n",
      "sound/images/jackhammer/132021-7-0-6.png\n",
      "sound/images/jackhammer/132021-7-0-7.png\n",
      "sound/images/jackhammer/132021-7-0-8.png\n",
      "sound/images/jackhammer/132021-7-0-9.png\n"
     ]
    },
    {
     "name": "stderr",
     "output_type": "stream",
     "text": [
      "\r",
      "1308it [01:15,  4.66it/s]"
     ]
    },
    {
     "name": "stdout",
     "output_type": "stream",
     "text": [
      "sound/images/jackhammer/132021-7-1-0.png\n"
     ]
    },
    {
     "name": "stderr",
     "output_type": "stream",
     "text": [
      "\r",
      "1959it [01:15,  6.66it/s]"
     ]
    },
    {
     "name": "stdout",
     "output_type": "stream",
     "text": [
      "sound/images/jackhammer/14772-7-0-0.png\n",
      "sound/images/jackhammer/14772-7-1-0.png\n",
      "sound/images/jackhammer/14772-7-2-0.png\n",
      "sound/images/jackhammer/14772-7-3-0.png\n",
      "sound/images/jackhammer/14772-7-4-0.png\n",
      "sound/images/jackhammer/14772-7-5-0.png\n",
      "sound/images/jackhammer/14772-7-6-0.png\n",
      "sound/images/jackhammer/14772-7-7-0.png\n",
      "sound/images/jackhammer/14772-7-8-0.png\n",
      "sound/images/jackhammer/14772-7-9-0.png\n",
      "sound/images/jackhammer/148463-7-2-0.png\n",
      "sound/images/jackhammer/148463-7-2-1.png\n",
      "sound/images/jackhammer/148463-7-2-2.png\n",
      "sound/images/jackhammer/148463-7-3-0.png\n",
      "sound/images/jackhammer/148463-7-3-1.png\n",
      "sound/images/jackhammer/148463-7-3-10.png\n",
      "sound/images/jackhammer/148463-7-3-2.png\n",
      "sound/images/jackhammer/148463-7-3-3.png\n",
      "sound/images/jackhammer/148463-7-3-4.png\n",
      "sound/images/jackhammer/148463-7-3-5.png\n",
      "sound/images/jackhammer/148463-7-3-6.png\n",
      "sound/images/jackhammer/148463-7-3-7.png\n",
      "sound/images/jackhammer/148463-7-3-8.png\n"
     ]
    },
    {
     "name": "stderr",
     "output_type": "stream",
     "text": [
      "\r",
      "2063it [01:22,  8.01it/s]"
     ]
    },
    {
     "name": "stdout",
     "output_type": "stream",
     "text": [
      "sound/images/jackhammer/148463-7-3-9.png\n"
     ]
    },
    {
     "name": "stderr",
     "output_type": "stream",
     "text": [
      "\r",
      "2412it [01:22, 11.41it/s]"
     ]
    },
    {
     "name": "stdout",
     "output_type": "stream",
     "text": [
      "sound/images/jackhammer/156893-7-0-0.png\n",
      "sound/images/jackhammer/156893-7-1-0.png\n",
      "sound/images/jackhammer/156893-7-10-0.png\n",
      "sound/images/jackhammer/156893-7-11-0.png\n",
      "sound/images/jackhammer/156893-7-2-0.png\n",
      "sound/images/jackhammer/156893-7-3-0.png\n",
      "sound/images/jackhammer/156893-7-4-0.png\n",
      "sound/images/jackhammer/156893-7-5-0.png\n",
      "sound/images/jackhammer/156893-7-6-0.png\n",
      "sound/images/jackhammer/156893-7-7-0.png\n",
      "sound/images/jackhammer/156893-7-8-0.png\n"
     ]
    },
    {
     "name": "stderr",
     "output_type": "stream",
     "text": [
      "\r",
      "2500it [01:25, 13.86it/s]"
     ]
    },
    {
     "name": "stdout",
     "output_type": "stream",
     "text": [
      "sound/images/jackhammer/156893-7-9-0.png\n",
      "sound/images/jackhammer/162134-7-0-0.png\n"
     ]
    },
    {
     "name": "stderr",
     "output_type": "stream",
     "text": [
      "\r",
      "2901it [01:26, 19.62it/s]"
     ]
    },
    {
     "name": "stdout",
     "output_type": "stream",
     "text": [
      "sound/images/jackhammer/162134-7-0-1.png\n",
      "sound/images/jackhammer/162134-7-0-2.png\n",
      "sound/images/jackhammer/162134-7-1-0.png\n",
      "sound/images/jackhammer/162134-7-10-0.png\n",
      "sound/images/jackhammer/162134-7-10-1.png\n",
      "sound/images/jackhammer/162134-7-10-2.png\n",
      "sound/images/jackhammer/162134-7-10-3.png\n",
      "sound/images/jackhammer/162134-7-11-0.png\n",
      "sound/images/jackhammer/162134-7-11-1.png\n",
      "sound/images/jackhammer/162134-7-11-2.png\n",
      "sound/images/jackhammer/162134-7-11-3.png\n",
      "sound/images/jackhammer/162134-7-11-4.png\n",
      "sound/images/jackhammer/162134-7-11-5.png\n",
      "sound/images/jackhammer/162134-7-11-6.png\n",
      "sound/images/jackhammer/162134-7-11-7.png\n",
      "sound/images/jackhammer/162134-7-12-0.png\n",
      "sound/images/jackhammer/162134-7-12-1.png\n"
     ]
    },
    {
     "name": "stderr",
     "output_type": "stream",
     "text": [
      "\r",
      "2901it [01:37, 19.62it/s]"
     ]
    },
    {
     "name": "stdout",
     "output_type": "stream",
     "text": [
      "sound/images/jackhammer/162134-7-12-2.png\n"
     ]
    },
    {
     "name": "stderr",
     "output_type": "stream",
     "text": [
      "\r",
      "2919it [01:37,  4.50it/s]"
     ]
    },
    {
     "name": "stdout",
     "output_type": "stream",
     "text": [
      "sound/images/jackhammer/162134-7-12-3.png\n"
     ]
    },
    {
     "name": "stderr",
     "output_type": "stream",
     "text": [
      "\r",
      "2920it [01:38,  2.92it/s]"
     ]
    },
    {
     "name": "stdout",
     "output_type": "stream",
     "text": [
      "sound/images/jackhammer/162134-7-12-4.png\n"
     ]
    },
    {
     "name": "stderr",
     "output_type": "stream",
     "text": [
      "\r",
      "2921it [01:39,  2.35it/s]"
     ]
    },
    {
     "name": "stdout",
     "output_type": "stream",
     "text": [
      "sound/images/jackhammer/162134-7-13-0.png\n"
     ]
    },
    {
     "name": "stderr",
     "output_type": "stream",
     "text": [
      "\r",
      "2922it [01:39,  2.05it/s]"
     ]
    },
    {
     "name": "stdout",
     "output_type": "stream",
     "text": [
      "sound/images/jackhammer/162134-7-13-1.png\n"
     ]
    },
    {
     "name": "stderr",
     "output_type": "stream",
     "text": [
      "\r",
      "2923it [01:40,  1.87it/s]"
     ]
    },
    {
     "name": "stdout",
     "output_type": "stream",
     "text": [
      "sound/images/jackhammer/162134-7-13-2.png\n"
     ]
    },
    {
     "name": "stderr",
     "output_type": "stream",
     "text": [
      "\r",
      "2924it [01:40,  1.78it/s]"
     ]
    },
    {
     "name": "stdout",
     "output_type": "stream",
     "text": [
      "sound/images/jackhammer/162134-7-13-3.png\n"
     ]
    },
    {
     "name": "stderr",
     "output_type": "stream",
     "text": [
      "\r",
      "2925it [01:42,  1.42it/s]"
     ]
    },
    {
     "name": "stdout",
     "output_type": "stream",
     "text": [
      "sound/images/jackhammer/162134-7-13-4.png\n"
     ]
    },
    {
     "name": "stderr",
     "output_type": "stream",
     "text": [
      "\r",
      "2926it [01:42,  1.47it/s]"
     ]
    },
    {
     "name": "stdout",
     "output_type": "stream",
     "text": [
      "sound/images/jackhammer/162134-7-14-0.png\n"
     ]
    },
    {
     "name": "stderr",
     "output_type": "stream",
     "text": [
      "\r",
      "2927it [01:43,  1.48it/s]"
     ]
    },
    {
     "name": "stdout",
     "output_type": "stream",
     "text": [
      "sound/images/jackhammer/162134-7-14-1.png\n"
     ]
    },
    {
     "name": "stderr",
     "output_type": "stream",
     "text": [
      "\r",
      "2928it [01:43,  1.51it/s]"
     ]
    },
    {
     "name": "stdout",
     "output_type": "stream",
     "text": [
      "sound/images/jackhammer/162134-7-14-2.png\n"
     ]
    },
    {
     "name": "stderr",
     "output_type": "stream",
     "text": [
      "\r",
      "2929it [01:44,  1.43it/s]"
     ]
    },
    {
     "name": "stdout",
     "output_type": "stream",
     "text": [
      "sound/images/jackhammer/162134-7-15-0.png\n"
     ]
    },
    {
     "name": "stderr",
     "output_type": "stream",
     "text": [
      "\r",
      "2930it [01:45,  1.47it/s]"
     ]
    },
    {
     "name": "stdout",
     "output_type": "stream",
     "text": [
      "sound/images/jackhammer/162134-7-15-1.png\n"
     ]
    },
    {
     "name": "stderr",
     "output_type": "stream",
     "text": [
      "\r",
      "2931it [01:45,  1.51it/s]"
     ]
    },
    {
     "name": "stdout",
     "output_type": "stream",
     "text": [
      "sound/images/jackhammer/162134-7-15-2.png\n"
     ]
    },
    {
     "name": "stderr",
     "output_type": "stream",
     "text": [
      "\r",
      "2932it [01:46,  1.54it/s]"
     ]
    },
    {
     "name": "stdout",
     "output_type": "stream",
     "text": [
      "sound/images/jackhammer/162134-7-15-3.png\n"
     ]
    },
    {
     "name": "stderr",
     "output_type": "stream",
     "text": [
      "\r",
      "2933it [01:47,  1.55it/s]"
     ]
    },
    {
     "name": "stdout",
     "output_type": "stream",
     "text": [
      "sound/images/jackhammer/162134-7-15-4.png\n"
     ]
    },
    {
     "name": "stderr",
     "output_type": "stream",
     "text": [
      "\r",
      "2934it [01:48,  1.28it/s]"
     ]
    },
    {
     "name": "stdout",
     "output_type": "stream",
     "text": [
      "sound/images/jackhammer/162134-7-16-0.png\n"
     ]
    },
    {
     "name": "stderr",
     "output_type": "stream",
     "text": [
      "\r",
      "2935it [01:50,  1.10s/it]"
     ]
    },
    {
     "name": "stdout",
     "output_type": "stream",
     "text": [
      "sound/images/jackhammer/162134-7-16-1.png\n"
     ]
    },
    {
     "name": "stderr",
     "output_type": "stream",
     "text": [
      "\r",
      "2936it [01:52,  1.34s/it]"
     ]
    },
    {
     "name": "stdout",
     "output_type": "stream",
     "text": [
      "sound/images/jackhammer/162134-7-17-0.png\n"
     ]
    },
    {
     "name": "stderr",
     "output_type": "stream",
     "text": [
      "\r",
      "2937it [01:52,  1.14s/it]"
     ]
    },
    {
     "name": "stdout",
     "output_type": "stream",
     "text": [
      "sound/images/jackhammer/162134-7-17-1.png\n"
     ]
    },
    {
     "name": "stderr",
     "output_type": "stream",
     "text": [
      "\r",
      "2938it [01:53,  1.00s/it]"
     ]
    },
    {
     "name": "stdout",
     "output_type": "stream",
     "text": [
      "sound/images/jackhammer/162134-7-17-2.png\n"
     ]
    },
    {
     "name": "stderr",
     "output_type": "stream",
     "text": [
      "\r",
      "2939it [01:54,  1.11it/s]"
     ]
    },
    {
     "name": "stdout",
     "output_type": "stream",
     "text": [
      "sound/images/jackhammer/162134-7-17-3.png\n"
     ]
    },
    {
     "name": "stderr",
     "output_type": "stream",
     "text": [
      "\r",
      "2940it [01:54,  1.22it/s]"
     ]
    },
    {
     "name": "stdout",
     "output_type": "stream",
     "text": [
      "sound/images/jackhammer/162134-7-17-4.png\n"
     ]
    },
    {
     "name": "stderr",
     "output_type": "stream",
     "text": [
      "\r",
      "2941it [01:55,  1.30it/s]"
     ]
    },
    {
     "name": "stdout",
     "output_type": "stream",
     "text": [
      "sound/images/jackhammer/162134-7-2-0.png\n"
     ]
    },
    {
     "name": "stderr",
     "output_type": "stream",
     "text": [
      "\r",
      "2942it [01:55,  1.38it/s]"
     ]
    },
    {
     "name": "stdout",
     "output_type": "stream",
     "text": [
      "sound/images/jackhammer/162134-7-3-0.png\n"
     ]
    },
    {
     "name": "stderr",
     "output_type": "stream",
     "text": [
      "\r",
      "2943it [01:56,  1.41it/s]"
     ]
    },
    {
     "name": "stdout",
     "output_type": "stream",
     "text": [
      "sound/images/jackhammer/162134-7-4-0.png\n"
     ]
    },
    {
     "name": "stderr",
     "output_type": "stream",
     "text": [
      "2945it [01:57,  1.83it/s]"
     ]
    },
    {
     "name": "stdout",
     "output_type": "stream",
     "text": [
      "sound/images/jackhammer/162134-7-5-0.png\n"
     ]
    },
    {
     "name": "stderr",
     "output_type": "stream",
     "text": [
      "\r",
      "2946it [01:57,  2.08it/s]"
     ]
    },
    {
     "name": "stdout",
     "output_type": "stream",
     "text": [
      "sound/images/jackhammer/162134-7-6-0.png\n",
      "sound/images/jackhammer/162134-7-7-0.png\n"
     ]
    },
    {
     "name": "stderr",
     "output_type": "stream",
     "text": [
      "\r",
      "2947it [01:58,  1.69it/s]"
     ]
    },
    {
     "name": "stdout",
     "output_type": "stream",
     "text": [
      "sound/images/jackhammer/162134-7-7-1.png\n"
     ]
    },
    {
     "name": "stderr",
     "output_type": "stream",
     "text": [
      "\r",
      "2948it [01:59,  1.64it/s]"
     ]
    },
    {
     "name": "stdout",
     "output_type": "stream",
     "text": [
      "sound/images/jackhammer/162134-7-8-0.png\n"
     ]
    },
    {
     "name": "stderr",
     "output_type": "stream",
     "text": [
      "\r",
      "2949it [01:59,  1.62it/s]"
     ]
    },
    {
     "name": "stdout",
     "output_type": "stream",
     "text": [
      "sound/images/jackhammer/162134-7-8-1.png\n"
     ]
    },
    {
     "name": "stderr",
     "output_type": "stream",
     "text": [
      "\r",
      "2950it [02:00,  1.62it/s]"
     ]
    },
    {
     "name": "stdout",
     "output_type": "stream",
     "text": [
      "sound/images/jackhammer/162134-7-8-2.png\n"
     ]
    },
    {
     "name": "stderr",
     "output_type": "stream",
     "text": [
      "\r",
      "2951it [02:01,  1.60it/s]"
     ]
    },
    {
     "name": "stdout",
     "output_type": "stream",
     "text": [
      "sound/images/jackhammer/162134-7-8-3.png\n"
     ]
    },
    {
     "name": "stderr",
     "output_type": "stream",
     "text": [
      "\r",
      "2952it [02:01,  1.60it/s]"
     ]
    },
    {
     "name": "stdout",
     "output_type": "stream",
     "text": [
      "sound/images/jackhammer/162134-7-8-4.png\n"
     ]
    },
    {
     "name": "stderr",
     "output_type": "stream",
     "text": [
      "\r",
      "2953it [02:02,  1.61it/s]"
     ]
    },
    {
     "name": "stdout",
     "output_type": "stream",
     "text": [
      "sound/images/jackhammer/162134-7-8-5.png\n"
     ]
    },
    {
     "name": "stderr",
     "output_type": "stream",
     "text": [
      "\r",
      "2954it [02:03,  1.61it/s]"
     ]
    },
    {
     "name": "stdout",
     "output_type": "stream",
     "text": [
      "sound/images/jackhammer/162134-7-8-6.png\n"
     ]
    },
    {
     "name": "stderr",
     "output_type": "stream",
     "text": [
      "\r",
      "2955it [02:03,  1.60it/s]"
     ]
    },
    {
     "name": "stdout",
     "output_type": "stream",
     "text": [
      "sound/images/jackhammer/162134-7-8-7.png\n"
     ]
    },
    {
     "name": "stderr",
     "output_type": "stream",
     "text": [
      "\r",
      "2956it [02:04,  1.60it/s]"
     ]
    },
    {
     "name": "stdout",
     "output_type": "stream",
     "text": [
      "sound/images/jackhammer/162134-7-9-0.png\n"
     ]
    },
    {
     "name": "stderr",
     "output_type": "stream",
     "text": [
      "\r",
      "2957it [02:04,  1.59it/s]"
     ]
    },
    {
     "name": "stdout",
     "output_type": "stream",
     "text": [
      "sound/images/jackhammer/162134-7-9-1.png\n"
     ]
    },
    {
     "name": "stderr",
     "output_type": "stream",
     "text": [
      "\r",
      "2958it [02:05,  1.59it/s]"
     ]
    },
    {
     "name": "stdout",
     "output_type": "stream",
     "text": [
      "sound/images/jackhammer/162134-7-9-2.png\n"
     ]
    },
    {
     "name": "stderr",
     "output_type": "stream",
     "text": [
      "\r",
      "2959it [02:06,  1.59it/s]"
     ]
    },
    {
     "name": "stdout",
     "output_type": "stream",
     "text": [
      "sound/images/jackhammer/162134-7-9-3.png\n"
     ]
    },
    {
     "name": "stderr",
     "output_type": "stream",
     "text": [
      "\r",
      "2960it [02:06,  1.59it/s]"
     ]
    },
    {
     "name": "stdout",
     "output_type": "stream",
     "text": [
      "sound/images/jackhammer/162134-7-9-4.png\n"
     ]
    },
    {
     "name": "stderr",
     "output_type": "stream",
     "text": [
      "3073it [02:07,  2.26it/s]"
     ]
    },
    {
     "name": "stdout",
     "output_type": "stream",
     "text": [
      "sound/images/jackhammer/165039-7-0-0.png\n",
      "sound/images/jackhammer/165039-7-1-0.png\n",
      "sound/images/jackhammer/165039-7-10-0.png\n",
      "sound/images/jackhammer/165039-7-10-1.png\n",
      "sound/images/jackhammer/165039-7-11-0.png\n",
      "sound/images/jackhammer/165039-7-12-0.png\n",
      "sound/images/jackhammer/165039-7-12-1.png\n",
      "sound/images/jackhammer/165039-7-13-0.png\n",
      "sound/images/jackhammer/165039-7-14-0.png\n",
      "sound/images/jackhammer/165039-7-15-0.png\n"
     ]
    },
    {
     "name": "stderr",
     "output_type": "stream",
     "text": [
      "\r",
      "3083it [02:11,  2.42it/s]"
     ]
    },
    {
     "name": "stdout",
     "output_type": "stream",
     "text": [
      "sound/images/jackhammer/165039-7-15-1.png\n",
      "sound/images/jackhammer/165039-7-16-0.png\n",
      "sound/images/jackhammer/165039-7-17-0.png\n",
      "sound/images/jackhammer/165039-7-17-1.png\n",
      "sound/images/jackhammer/165039-7-2-0.png\n",
      "sound/images/jackhammer/165039-7-2-1.png\n",
      "sound/images/jackhammer/165039-7-3-0.png\n"
     ]
    },
    {
     "name": "stderr",
     "output_type": "stream",
     "text": [
      "\r",
      "3090it [02:13,  2.50it/s]"
     ]
    },
    {
     "name": "stdout",
     "output_type": "stream",
     "text": [
      "sound/images/jackhammer/165039-7-4-0.png\n",
      "sound/images/jackhammer/165039-7-4-1.png\n",
      "sound/images/jackhammer/165039-7-4-2.png\n",
      "sound/images/jackhammer/165039-7-5-0.png\n",
      "sound/images/jackhammer/165039-7-5-1.png\n"
     ]
    },
    {
     "name": "stderr",
     "output_type": "stream",
     "text": [
      "\r",
      "3095it [02:15,  2.63it/s]"
     ]
    },
    {
     "name": "stdout",
     "output_type": "stream",
     "text": [
      "sound/images/jackhammer/165039-7-6-0.png\n",
      "sound/images/jackhammer/165039-7-6-1.png\n",
      "sound/images/jackhammer/165039-7-7-0.png\n",
      "sound/images/jackhammer/165039-7-8-0.png\n"
     ]
    },
    {
     "name": "stderr",
     "output_type": "stream",
     "text": [
      "\r",
      "3099it [02:16,  2.73it/s]"
     ]
    },
    {
     "name": "stdout",
     "output_type": "stream",
     "text": [
      "sound/images/jackhammer/165039-7-8-1.png\n",
      "sound/images/jackhammer/165039-7-8-2.png\n",
      "sound/images/jackhammer/165039-7-9-0.png\n"
     ]
    },
    {
     "name": "stderr",
     "output_type": "stream",
     "text": [
      "3163it [02:17,  4.30it/s]"
     ]
    },
    {
     "name": "stdout",
     "output_type": "stream",
     "text": [
      "sound/images/jackhammer/165774-7-0-0.png\n",
      "sound/images/jackhammer/165774-7-1-0.png\n",
      "sound/images/jackhammer/165774-7-2-0.png\n",
      "sound/images/jackhammer/165774-7-3-0.png\n",
      "sound/images/jackhammer/165774-7-4-0.png\n",
      "sound/images/jackhammer/165774-7-5-0.png\n",
      "sound/images/jackhammer/165774-7-6-0.png\n",
      "sound/images/jackhammer/165774-7-7-0.png\n",
      "sound/images/jackhammer/165774-7-8-0.png\n"
     ]
    },
    {
     "name": "stderr",
     "output_type": "stream",
     "text": [
      "\r",
      "3172it [02:20,  4.11it/s]"
     ]
    },
    {
     "name": "stdout",
     "output_type": "stream",
     "text": [
      "sound/images/jackhammer/165775-7-0-0.png\n",
      "sound/images/jackhammer/165775-7-1-0.png\n"
     ]
    },
    {
     "name": "stderr",
     "output_type": "stream",
     "text": [
      "3373it [02:20,  8.05it/s]"
     ]
    },
    {
     "name": "stdout",
     "output_type": "stream",
     "text": [
      "sound/images/jackhammer/169098-7-0-0.png\n",
      "sound/images/jackhammer/169098-7-0-1.png\n",
      "sound/images/jackhammer/169098-7-0-2.png\n",
      "sound/images/jackhammer/169098-7-0-3.png\n",
      "sound/images/jackhammer/169098-7-0-4.png\n",
      "sound/images/jackhammer/169098-7-0-5.png\n",
      "sound/images/jackhammer/169098-7-0-6.png\n",
      "sound/images/jackhammer/169098-7-0-7.png\n",
      "sound/images/jackhammer/169098-7-0-8.png\n",
      "sound/images/jackhammer/169098-7-0-9.png\n",
      "sound/images/jackhammer/169098-7-1-0.png\n",
      "sound/images/jackhammer/169098-7-2-0.png\n",
      "sound/images/jackhammer/169098-7-3-0.png\n",
      "sound/images/jackhammer/169098-7-3-1.png\n",
      "sound/images/jackhammer/169098-7-4-0.png\n",
      "sound/images/jackhammer/169098-7-4-1.png\n",
      "sound/images/jackhammer/169098-7-4-10.png\n",
      "sound/images/jackhammer/169098-7-4-11.png\n",
      "sound/images/jackhammer/169098-7-4-2.png\n",
      "sound/images/jackhammer/169098-7-4-3.png\n"
     ]
    },
    {
     "name": "stderr",
     "output_type": "stream",
     "text": [
      "\r",
      "3392it [02:28,  4.66it/s]"
     ]
    },
    {
     "name": "stdout",
     "output_type": "stream",
     "text": [
      "sound/images/jackhammer/169098-7-4-4.png\n",
      "sound/images/jackhammer/169098-7-4-5.png\n",
      "sound/images/jackhammer/169098-7-4-6.png\n",
      "sound/images/jackhammer/169098-7-4-7.png\n",
      "sound/images/jackhammer/169098-7-4-8.png\n",
      "sound/images/jackhammer/169098-7-4-9.png\n"
     ]
    },
    {
     "name": "stderr",
     "output_type": "stream",
     "text": [
      "3465it [02:31,  7.11it/s]"
     ]
    },
    {
     "name": "stdout",
     "output_type": "stream",
     "text": [
      "sound/images/jackhammer/171305-7-0-0.png\n",
      "sound/images/jackhammer/171305-7-1-0.png\n",
      "sound/images/jackhammer/171305-7-10-0.png\n",
      "sound/images/jackhammer/171305-7-11-0.png\n",
      "sound/images/jackhammer/171305-7-12-0.png\n",
      "sound/images/jackhammer/171305-7-13-0.png\n",
      "sound/images/jackhammer/171305-7-14-0.png\n",
      "sound/images/jackhammer/171305-7-15-0.png\n",
      "sound/images/jackhammer/171305-7-16-0.png\n",
      "sound/images/jackhammer/171305-7-17-0.png\n",
      "sound/images/jackhammer/171305-7-18-0.png\n",
      "sound/images/jackhammer/171305-7-19-0.png\n"
     ]
    },
    {
     "name": "stderr",
     "output_type": "stream",
     "text": [
      "\r",
      "3477it [02:34,  6.06it/s]"
     ]
    },
    {
     "name": "stdout",
     "output_type": "stream",
     "text": [
      "sound/images/jackhammer/171305-7-2-0.png\n",
      "sound/images/jackhammer/171305-7-20-0.png\n",
      "sound/images/jackhammer/171305-7-21-0.png\n",
      "sound/images/jackhammer/171305-7-22-0.png\n",
      "sound/images/jackhammer/171305-7-23-0.png\n",
      "sound/images/jackhammer/171305-7-24-0.png\n",
      "sound/images/jackhammer/171305-7-25-0.png\n",
      "sound/images/jackhammer/171305-7-26-0.png\n",
      "sound/images/jackhammer/171305-7-27-0.png\n"
     ]
    },
    {
     "name": "stderr",
     "output_type": "stream",
     "text": [
      "\r",
      "3486it [02:36,  5.30it/s]"
     ]
    },
    {
     "name": "stdout",
     "output_type": "stream",
     "text": [
      "sound/images/jackhammer/171305-7-28-0.png\n",
      "sound/images/jackhammer/171305-7-29-0.png\n",
      "sound/images/jackhammer/171305-7-3-0.png\n",
      "sound/images/jackhammer/171305-7-4-0.png\n",
      "sound/images/jackhammer/171305-7-5-0.png\n",
      "sound/images/jackhammer/171305-7-6-0.png\n",
      "sound/images/jackhammer/171305-7-7-0.png\n",
      "sound/images/jackhammer/171305-7-8-0.png\n"
     ]
    },
    {
     "name": "stderr",
     "output_type": "stream",
     "text": [
      "\r",
      "3493it [02:38,  4.80it/s]"
     ]
    },
    {
     "name": "stdout",
     "output_type": "stream",
     "text": [
      "sound/images/jackhammer/171305-7-8-1.png\n"
     ]
    },
    {
     "name": "stderr",
     "output_type": "stream",
     "text": [
      "\r",
      "3498it [02:38,  5.63it/s]"
     ]
    },
    {
     "name": "stdout",
     "output_type": "stream",
     "text": [
      "sound/images/jackhammer/171305-7-9-0.png\n",
      "sound/images/jackhammer/174276-7-0-0.png\n"
     ]
    },
    {
     "name": "stderr",
     "output_type": "stream",
     "text": [
      "\r",
      "3586it [02:38,  7.99it/s]"
     ]
    },
    {
     "name": "stdout",
     "output_type": "stream",
     "text": [
      "sound/images/jackhammer/174276-7-1-0.png\n",
      "sound/images/jackhammer/174276-7-2-0.png\n",
      "sound/images/jackhammer/174276-7-3-0.png\n",
      "sound/images/jackhammer/174276-7-4-0.png\n",
      "sound/images/jackhammer/174276-7-5-0.png\n"
     ]
    },
    {
     "name": "stderr",
     "output_type": "stream",
     "text": [
      "\r",
      "3600it [02:40,  7.80it/s]"
     ]
    },
    {
     "name": "stdout",
     "output_type": "stream",
     "text": [
      "sound/images/jackhammer/174276-7-6-0.png\n",
      "sound/images/jackhammer/177537-7-0-0.png\n"
     ]
    },
    {
     "name": "stderr",
     "output_type": "stream",
     "text": [
      "\r",
      "3798it [02:41, 11.08it/s]"
     ]
    },
    {
     "name": "stdout",
     "output_type": "stream",
     "text": [
      "sound/images/jackhammer/177537-7-0-1.png\n",
      "sound/images/jackhammer/177537-7-0-10.png\n",
      "sound/images/jackhammer/177537-7-0-11.png\n",
      "sound/images/jackhammer/177537-7-0-12.png\n",
      "sound/images/jackhammer/177537-7-0-13.png\n",
      "sound/images/jackhammer/177537-7-0-14.png\n",
      "sound/images/jackhammer/177537-7-0-15.png\n",
      "sound/images/jackhammer/177537-7-0-16.png\n",
      "sound/images/jackhammer/177537-7-0-17.png\n",
      "sound/images/jackhammer/177537-7-0-18.png\n",
      "sound/images/jackhammer/177537-7-0-19.png\n",
      "sound/images/jackhammer/177537-7-0-2.png\n",
      "sound/images/jackhammer/177537-7-0-20.png\n",
      "sound/images/jackhammer/177537-7-0-21.png\n",
      "sound/images/jackhammer/177537-7-0-22.png\n",
      "sound/images/jackhammer/177537-7-0-23.png\n",
      "sound/images/jackhammer/177537-7-0-24.png\n",
      "sound/images/jackhammer/177537-7-0-25.png\n",
      "sound/images/jackhammer/177537-7-0-26.png\n",
      "sound/images/jackhammer/177537-7-0-27.png\n",
      "sound/images/jackhammer/177537-7-0-28.png\n",
      "sound/images/jackhammer/177537-7-0-29.png\n"
     ]
    },
    {
     "name": "stderr",
     "output_type": "stream",
     "text": [
      "\r",
      "3821it [02:49,  5.60it/s]"
     ]
    },
    {
     "name": "stdout",
     "output_type": "stream",
     "text": [
      "sound/images/jackhammer/177537-7-0-3.png\n",
      "sound/images/jackhammer/177537-7-0-30.png\n",
      "sound/images/jackhammer/177537-7-0-31.png\n",
      "sound/images/jackhammer/177537-7-0-4.png\n",
      "sound/images/jackhammer/177537-7-0-5.png\n",
      "sound/images/jackhammer/177537-7-0-6.png\n",
      "sound/images/jackhammer/177537-7-0-7.png\n",
      "sound/images/jackhammer/177537-7-0-8.png\n",
      "sound/images/jackhammer/177537-7-0-9.png\n",
      "sound/images/jackhammer/177537-7-1-0.png\n",
      "sound/images/jackhammer/177537-7-1-1.png\n",
      "sound/images/jackhammer/177537-7-1-10.png\n",
      "sound/images/jackhammer/177537-7-1-2.png\n",
      "sound/images/jackhammer/177537-7-1-3.png\n",
      "sound/images/jackhammer/177537-7-1-4.png\n",
      "sound/images/jackhammer/177537-7-1-5.png\n",
      "sound/images/jackhammer/177537-7-1-6.png\n"
     ]
    },
    {
     "name": "stderr",
     "output_type": "stream",
     "text": [
      "\r",
      "3838it [02:58,  3.73it/s]"
     ]
    },
    {
     "name": "stdout",
     "output_type": "stream",
     "text": [
      "sound/images/jackhammer/177537-7-1-7.png\n",
      "sound/images/jackhammer/177537-7-1-8.png\n",
      "sound/images/jackhammer/177537-7-1-9.png\n",
      "sound/images/jackhammer/177537-7-2-0.png\n"
     ]
    },
    {
     "name": "stderr",
     "output_type": "stream",
     "text": [
      "\r",
      "3850it [02:59,  4.32it/s]"
     ]
    },
    {
     "name": "stdout",
     "output_type": "stream",
     "text": [
      "sound/images/jackhammer/177537-7-2-1.png\n",
      "sound/images/jackhammer/178260-7-0-0.png\n"
     ]
    },
    {
     "name": "stderr",
     "output_type": "stream",
     "text": [
      "\r",
      "3990it [03:00,  6.14it/s]"
     ]
    },
    {
     "name": "stdout",
     "output_type": "stream",
     "text": [
      "sound/images/jackhammer/178260-7-1-0.png\n",
      "sound/images/jackhammer/178260-7-1-1.png\n",
      "sound/images/jackhammer/178260-7-1-10.png\n",
      "sound/images/jackhammer/178260-7-1-2.png\n",
      "sound/images/jackhammer/178260-7-1-3.png\n",
      "sound/images/jackhammer/178260-7-1-4.png\n",
      "sound/images/jackhammer/178260-7-1-5.png\n",
      "sound/images/jackhammer/178260-7-1-6.png\n",
      "sound/images/jackhammer/178260-7-1-7.png\n",
      "sound/images/jackhammer/178260-7-1-8.png\n",
      "sound/images/jackhammer/178260-7-1-9.png\n",
      "sound/images/jackhammer/178260-7-2-0.png\n",
      "sound/images/jackhammer/178260-7-2-1.png\n",
      "sound/images/jackhammer/178260-7-2-2.png\n",
      "sound/images/jackhammer/178260-7-3-0.png\n",
      "sound/images/jackhammer/178260-7-3-1.png\n"
     ]
    },
    {
     "name": "stderr",
     "output_type": "stream",
     "text": [
      "\r",
      "4007it [03:06,  4.51it/s]"
     ]
    },
    {
     "name": "stdout",
     "output_type": "stream",
     "text": [
      "sound/images/jackhammer/178260-7-3-10.png\n",
      "sound/images/jackhammer/178260-7-3-11.png\n",
      "sound/images/jackhammer/178260-7-3-12.png\n",
      "sound/images/jackhammer/178260-7-3-2.png\n",
      "sound/images/jackhammer/178260-7-3-3.png\n",
      "sound/images/jackhammer/178260-7-3-4.png\n",
      "sound/images/jackhammer/178260-7-3-5.png\n",
      "sound/images/jackhammer/178260-7-3-6.png\n",
      "sound/images/jackhammer/178260-7-3-7.png\n",
      "sound/images/jackhammer/178260-7-3-8.png\n",
      "sound/images/jackhammer/178260-7-3-9.png\n",
      "sound/images/jackhammer/178260-7-4-0.png\n"
     ]
    },
    {
     "name": "stderr",
     "output_type": "stream",
     "text": [
      "\r",
      "4019it [03:10,  3.80it/s]"
     ]
    },
    {
     "name": "stdout",
     "output_type": "stream",
     "text": [
      "sound/images/jackhammer/178260-7-4-1.png\n",
      "sound/images/jackhammer/178260-7-5-0.png\n",
      "sound/images/jackhammer/178260-7-6-0.png\n",
      "sound/images/jackhammer/178260-7-7-0.png\n",
      "sound/images/jackhammer/178261-7-0-0.png\n",
      "sound/images/jackhammer/178261-7-1-0.png\n",
      "sound/images/jackhammer/178261-7-2-0.png\n",
      "sound/images/jackhammer/178261-7-3-0.png\n",
      "sound/images/jackhammer/178261-7-3-1.png\n",
      "sound/images/jackhammer/178261-7-3-2.png\n"
     ]
    },
    {
     "name": "stderr",
     "output_type": "stream",
     "text": [
      "\r",
      "4028it [03:13,  3.52it/s]"
     ]
    },
    {
     "name": "stdout",
     "output_type": "stream",
     "text": [
      "sound/images/jackhammer/178261-7-3-3.png\n",
      "sound/images/jackhammer/178261-7-3-4.png\n",
      "sound/images/jackhammer/178261-7-3-5.png\n",
      "sound/images/jackhammer/178261-7-3-6.png\n"
     ]
    },
    {
     "name": "stderr",
     "output_type": "stream",
     "text": [
      "\r",
      "4034it [03:15,  3.55it/s]"
     ]
    },
    {
     "name": "stdout",
     "output_type": "stream",
     "text": [
      "sound/images/jackhammer/180937-7-0-0.png\n"
     ]
    },
    {
     "name": "stderr",
     "output_type": "stream",
     "text": [
      "\r",
      "4316it [03:15,  5.06it/s]"
     ]
    },
    {
     "name": "stdout",
     "output_type": "stream",
     "text": [
      "sound/images/jackhammer/180937-7-0-1.png\n",
      "sound/images/jackhammer/180937-7-0-2.png\n",
      "sound/images/jackhammer/180937-7-0-4.png\n",
      "sound/images/jackhammer/180937-7-0-5.png\n",
      "sound/images/jackhammer/180937-7-0-6.png\n",
      "sound/images/jackhammer/180937-7-1-0.png\n",
      "sound/images/jackhammer/180937-7-1-1.png\n",
      "sound/images/jackhammer/180937-7-1-10.png\n",
      "sound/images/jackhammer/180937-7-1-11.png\n",
      "sound/images/jackhammer/180937-7-1-12.png\n",
      "sound/images/jackhammer/180937-7-1-13.png\n",
      "sound/images/jackhammer/180937-7-1-14.png\n",
      "sound/images/jackhammer/180937-7-1-15.png\n",
      "sound/images/jackhammer/180937-7-1-2.png\n",
      "sound/images/jackhammer/180937-7-1-3.png\n",
      "sound/images/jackhammer/180937-7-1-4.png\n"
     ]
    },
    {
     "name": "stderr",
     "output_type": "stream",
     "text": [
      "\r",
      "4332it [03:26,  2.97it/s]"
     ]
    },
    {
     "name": "stdout",
     "output_type": "stream",
     "text": [
      "sound/images/jackhammer/180937-7-1-5.png\n"
     ]
    },
    {
     "name": "stderr",
     "output_type": "stream",
     "text": [
      "\r",
      "4333it [03:27,  2.37it/s]"
     ]
    },
    {
     "name": "stdout",
     "output_type": "stream",
     "text": [
      "sound/images/jackhammer/180937-7-1-6.png\n"
     ]
    },
    {
     "name": "stderr",
     "output_type": "stream",
     "text": [
      "\r",
      "4334it [03:27,  2.04it/s]"
     ]
    },
    {
     "name": "stdout",
     "output_type": "stream",
     "text": [
      "sound/images/jackhammer/180937-7-1-7.png\n"
     ]
    },
    {
     "name": "stderr",
     "output_type": "stream",
     "text": [
      "\r",
      "4335it [03:28,  1.86it/s]"
     ]
    },
    {
     "name": "stdout",
     "output_type": "stream",
     "text": [
      "sound/images/jackhammer/180937-7-1-8.png\n"
     ]
    },
    {
     "name": "stderr",
     "output_type": "stream",
     "text": [
      "\r",
      "4336it [03:29,  1.69it/s]"
     ]
    },
    {
     "name": "stdout",
     "output_type": "stream",
     "text": [
      "sound/images/jackhammer/180937-7-1-9.png\n"
     ]
    },
    {
     "name": "stderr",
     "output_type": "stream",
     "text": [
      "\r",
      "4337it [03:29,  1.63it/s]"
     ]
    },
    {
     "name": "stdout",
     "output_type": "stream",
     "text": [
      "sound/images/jackhammer/180937-7-2-0.png\n"
     ]
    },
    {
     "name": "stderr",
     "output_type": "stream",
     "text": [
      "\r",
      "4338it [03:30,  1.62it/s]"
     ]
    },
    {
     "name": "stdout",
     "output_type": "stream",
     "text": [
      "sound/images/jackhammer/180937-7-2-1.png\n"
     ]
    },
    {
     "name": "stderr",
     "output_type": "stream",
     "text": [
      "\r",
      "4339it [03:31,  1.62it/s]"
     ]
    },
    {
     "name": "stdout",
     "output_type": "stream",
     "text": [
      "sound/images/jackhammer/180937-7-2-10.png\n"
     ]
    },
    {
     "name": "stderr",
     "output_type": "stream",
     "text": [
      "\r",
      "4340it [03:31,  1.61it/s]"
     ]
    },
    {
     "name": "stdout",
     "output_type": "stream",
     "text": [
      "sound/images/jackhammer/180937-7-2-2.png\n"
     ]
    },
    {
     "name": "stderr",
     "output_type": "stream",
     "text": [
      "\r",
      "4341it [03:32,  1.62it/s]"
     ]
    },
    {
     "name": "stdout",
     "output_type": "stream",
     "text": [
      "sound/images/jackhammer/180937-7-2-3.png\n"
     ]
    },
    {
     "name": "stderr",
     "output_type": "stream",
     "text": [
      "\r",
      "4342it [03:32,  1.60it/s]"
     ]
    },
    {
     "name": "stdout",
     "output_type": "stream",
     "text": [
      "sound/images/jackhammer/180937-7-2-4.png\n"
     ]
    },
    {
     "name": "stderr",
     "output_type": "stream",
     "text": [
      "\r",
      "4343it [03:33,  1.60it/s]"
     ]
    },
    {
     "name": "stdout",
     "output_type": "stream",
     "text": [
      "sound/images/jackhammer/180937-7-2-5.png\n"
     ]
    },
    {
     "name": "stderr",
     "output_type": "stream",
     "text": [
      "\r",
      "4344it [03:34,  1.60it/s]"
     ]
    },
    {
     "name": "stdout",
     "output_type": "stream",
     "text": [
      "sound/images/jackhammer/180937-7-2-6.png\n"
     ]
    },
    {
     "name": "stderr",
     "output_type": "stream",
     "text": [
      "\r",
      "4345it [03:34,  1.59it/s]"
     ]
    },
    {
     "name": "stdout",
     "output_type": "stream",
     "text": [
      "sound/images/jackhammer/180937-7-2-7.png\n"
     ]
    },
    {
     "name": "stderr",
     "output_type": "stream",
     "text": [
      "\r",
      "4346it [03:35,  1.59it/s]"
     ]
    },
    {
     "name": "stdout",
     "output_type": "stream",
     "text": [
      "sound/images/jackhammer/180937-7-2-8.png\n"
     ]
    },
    {
     "name": "stderr",
     "output_type": "stream",
     "text": [
      "\r",
      "4347it [03:36,  1.48it/s]"
     ]
    },
    {
     "name": "stdout",
     "output_type": "stream",
     "text": [
      "sound/images/jackhammer/180937-7-2-9.png\n"
     ]
    },
    {
     "name": "stderr",
     "output_type": "stream",
     "text": [
      "\r",
      "4348it [03:36,  1.52it/s]"
     ]
    },
    {
     "name": "stdout",
     "output_type": "stream",
     "text": [
      "sound/images/jackhammer/180937-7-3-0.png\n"
     ]
    },
    {
     "name": "stderr",
     "output_type": "stream",
     "text": [
      "\r",
      "4349it [03:37,  1.53it/s]"
     ]
    },
    {
     "name": "stdout",
     "output_type": "stream",
     "text": [
      "sound/images/jackhammer/180937-7-3-1.png\n"
     ]
    },
    {
     "name": "stderr",
     "output_type": "stream",
     "text": [
      "\r",
      "4350it [03:38,  1.48it/s]"
     ]
    },
    {
     "name": "stdout",
     "output_type": "stream",
     "text": [
      "sound/images/jackhammer/180937-7-3-10.png\n"
     ]
    },
    {
     "name": "stderr",
     "output_type": "stream",
     "text": [
      "\r",
      "4351it [03:38,  1.51it/s]"
     ]
    },
    {
     "name": "stdout",
     "output_type": "stream",
     "text": [
      "sound/images/jackhammer/180937-7-3-11.png\n"
     ]
    },
    {
     "name": "stderr",
     "output_type": "stream",
     "text": [
      "\r",
      "4352it [03:39,  1.52it/s]"
     ]
    },
    {
     "name": "stdout",
     "output_type": "stream",
     "text": [
      "sound/images/jackhammer/180937-7-3-12.png\n"
     ]
    },
    {
     "name": "stderr",
     "output_type": "stream",
     "text": [
      "\r",
      "4353it [03:40,  1.35it/s]"
     ]
    },
    {
     "name": "stdout",
     "output_type": "stream",
     "text": [
      "sound/images/jackhammer/180937-7-3-13.png\n"
     ]
    },
    {
     "name": "stderr",
     "output_type": "stream",
     "text": [
      "\r",
      "4354it [03:41,  1.29it/s]"
     ]
    },
    {
     "name": "stdout",
     "output_type": "stream",
     "text": [
      "sound/images/jackhammer/180937-7-3-14.png\n"
     ]
    },
    {
     "name": "stderr",
     "output_type": "stream",
     "text": [
      "\r",
      "4355it [03:41,  1.36it/s]"
     ]
    },
    {
     "name": "stdout",
     "output_type": "stream",
     "text": [
      "sound/images/jackhammer/180937-7-3-15.png\n"
     ]
    },
    {
     "name": "stderr",
     "output_type": "stream",
     "text": [
      "\r",
      "4356it [03:42,  1.42it/s]"
     ]
    },
    {
     "name": "stdout",
     "output_type": "stream",
     "text": [
      "sound/images/jackhammer/180937-7-3-17.png\n"
     ]
    },
    {
     "name": "stderr",
     "output_type": "stream",
     "text": [
      "\r",
      "4357it [03:43,  1.46it/s]"
     ]
    },
    {
     "name": "stdout",
     "output_type": "stream",
     "text": [
      "sound/images/jackhammer/180937-7-3-18.png\n"
     ]
    },
    {
     "name": "stderr",
     "output_type": "stream",
     "text": [
      "\r",
      "4358it [03:43,  1.49it/s]"
     ]
    },
    {
     "name": "stdout",
     "output_type": "stream",
     "text": [
      "sound/images/jackhammer/180937-7-3-19.png\n"
     ]
    },
    {
     "name": "stderr",
     "output_type": "stream",
     "text": [
      "\r",
      "4359it [03:44,  1.52it/s]"
     ]
    },
    {
     "name": "stdout",
     "output_type": "stream",
     "text": [
      "sound/images/jackhammer/180937-7-3-2.png\n"
     ]
    },
    {
     "name": "stderr",
     "output_type": "stream",
     "text": [
      "\r",
      "4360it [03:45,  1.53it/s]"
     ]
    },
    {
     "name": "stdout",
     "output_type": "stream",
     "text": [
      "sound/images/jackhammer/180937-7-3-20.png\n"
     ]
    },
    {
     "name": "stderr",
     "output_type": "stream",
     "text": [
      "\r",
      "4361it [03:45,  1.54it/s]"
     ]
    },
    {
     "name": "stdout",
     "output_type": "stream",
     "text": [
      "sound/images/jackhammer/180937-7-3-21.png\n"
     ]
    },
    {
     "name": "stderr",
     "output_type": "stream",
     "text": [
      "\r",
      "4362it [03:46,  1.55it/s]"
     ]
    },
    {
     "name": "stdout",
     "output_type": "stream",
     "text": [
      "sound/images/jackhammer/180937-7-3-22.png\n"
     ]
    },
    {
     "name": "stderr",
     "output_type": "stream",
     "text": [
      "\r",
      "4363it [03:47,  1.56it/s]"
     ]
    },
    {
     "name": "stdout",
     "output_type": "stream",
     "text": [
      "sound/images/jackhammer/180937-7-3-23.png\n"
     ]
    },
    {
     "name": "stderr",
     "output_type": "stream",
     "text": [
      "\r",
      "4364it [03:47,  1.53it/s]"
     ]
    },
    {
     "name": "stdout",
     "output_type": "stream",
     "text": [
      "sound/images/jackhammer/180937-7-3-24.png\n"
     ]
    },
    {
     "name": "stderr",
     "output_type": "stream",
     "text": [
      "\r",
      "4365it [03:48,  1.52it/s]"
     ]
    },
    {
     "name": "stdout",
     "output_type": "stream",
     "text": [
      "sound/images/jackhammer/180937-7-3-26.png\n"
     ]
    },
    {
     "name": "stderr",
     "output_type": "stream",
     "text": [
      "\r",
      "4366it [03:49,  1.53it/s]"
     ]
    },
    {
     "name": "stdout",
     "output_type": "stream",
     "text": [
      "sound/images/jackhammer/180937-7-3-27.png\n"
     ]
    },
    {
     "name": "stderr",
     "output_type": "stream",
     "text": [
      "\r",
      "4367it [03:49,  1.53it/s]"
     ]
    },
    {
     "name": "stdout",
     "output_type": "stream",
     "text": [
      "sound/images/jackhammer/180937-7-3-28.png\n"
     ]
    },
    {
     "name": "stderr",
     "output_type": "stream",
     "text": [
      "\r",
      "4368it [03:50,  1.52it/s]"
     ]
    },
    {
     "name": "stdout",
     "output_type": "stream",
     "text": [
      "sound/images/jackhammer/180937-7-3-29.png\n"
     ]
    },
    {
     "name": "stderr",
     "output_type": "stream",
     "text": [
      "\r",
      "4369it [03:50,  1.53it/s]"
     ]
    },
    {
     "name": "stdout",
     "output_type": "stream",
     "text": [
      "sound/images/jackhammer/180937-7-3-3.png\n"
     ]
    },
    {
     "name": "stderr",
     "output_type": "stream",
     "text": [
      "\r",
      "4370it [03:51,  1.54it/s]"
     ]
    },
    {
     "name": "stdout",
     "output_type": "stream",
     "text": [
      "sound/images/jackhammer/180937-7-3-30.png\n"
     ]
    },
    {
     "name": "stderr",
     "output_type": "stream",
     "text": [
      "\r",
      "4371it [03:52,  1.55it/s]"
     ]
    },
    {
     "name": "stdout",
     "output_type": "stream",
     "text": [
      "sound/images/jackhammer/180937-7-3-31.png\n"
     ]
    },
    {
     "name": "stderr",
     "output_type": "stream",
     "text": [
      "\r",
      "4372it [03:52,  1.55it/s]"
     ]
    },
    {
     "name": "stdout",
     "output_type": "stream",
     "text": [
      "sound/images/jackhammer/180937-7-3-32.png\n"
     ]
    },
    {
     "name": "stderr",
     "output_type": "stream",
     "text": [
      "\r",
      "4373it [03:53,  1.55it/s]"
     ]
    },
    {
     "name": "stdout",
     "output_type": "stream",
     "text": [
      "sound/images/jackhammer/180937-7-3-33.png\n"
     ]
    },
    {
     "name": "stderr",
     "output_type": "stream",
     "text": [
      "\r",
      "4374it [03:54,  1.40it/s]"
     ]
    },
    {
     "name": "stdout",
     "output_type": "stream",
     "text": [
      "sound/images/jackhammer/180937-7-3-4.png\n"
     ]
    },
    {
     "name": "stderr",
     "output_type": "stream",
     "text": [
      "\r",
      "4375it [03:55,  1.44it/s]"
     ]
    },
    {
     "name": "stdout",
     "output_type": "stream",
     "text": [
      "sound/images/jackhammer/180937-7-3-5.png\n"
     ]
    },
    {
     "name": "stderr",
     "output_type": "stream",
     "text": [
      "\r",
      "4376it [03:55,  1.46it/s]"
     ]
    },
    {
     "name": "stdout",
     "output_type": "stream",
     "text": [
      "sound/images/jackhammer/180937-7-3-6.png\n"
     ]
    },
    {
     "name": "stderr",
     "output_type": "stream",
     "text": [
      "\r",
      "4377it [03:56,  1.41it/s]"
     ]
    },
    {
     "name": "stdout",
     "output_type": "stream",
     "text": [
      "sound/images/jackhammer/180937-7-3-7.png\n"
     ]
    },
    {
     "name": "stderr",
     "output_type": "stream",
     "text": [
      "\r",
      "4378it [03:57,  1.26it/s]"
     ]
    },
    {
     "name": "stdout",
     "output_type": "stream",
     "text": [
      "sound/images/jackhammer/180937-7-3-8.png\n"
     ]
    },
    {
     "name": "stderr",
     "output_type": "stream",
     "text": [
      "\r",
      "4379it [03:58,  1.32it/s]"
     ]
    },
    {
     "name": "stdout",
     "output_type": "stream",
     "text": [
      "sound/images/jackhammer/180937-7-3-9.png\n"
     ]
    },
    {
     "name": "stderr",
     "output_type": "stream",
     "text": [
      "\r",
      "4380it [03:58,  1.37it/s]"
     ]
    },
    {
     "name": "stdout",
     "output_type": "stream",
     "text": [
      "sound/images/jackhammer/180937-7-4-0.png\n"
     ]
    },
    {
     "name": "stderr",
     "output_type": "stream",
     "text": [
      "\r",
      "4381it [03:59,  1.43it/s]"
     ]
    },
    {
     "name": "stdout",
     "output_type": "stream",
     "text": [
      "sound/images/jackhammer/180937-7-4-10.png\n"
     ]
    },
    {
     "name": "stderr",
     "output_type": "stream",
     "text": [
      "\r",
      "4382it [04:00,  1.46it/s]"
     ]
    },
    {
     "name": "stdout",
     "output_type": "stream",
     "text": [
      "sound/images/jackhammer/180937-7-4-11.png\n"
     ]
    },
    {
     "name": "stderr",
     "output_type": "stream",
     "text": [
      "\r",
      "4383it [04:00,  1.50it/s]"
     ]
    },
    {
     "name": "stdout",
     "output_type": "stream",
     "text": [
      "sound/images/jackhammer/180937-7-4-12.png\n"
     ]
    },
    {
     "name": "stderr",
     "output_type": "stream",
     "text": [
      "\r",
      "4384it [04:01,  1.52it/s]"
     ]
    },
    {
     "name": "stdout",
     "output_type": "stream",
     "text": [
      "sound/images/jackhammer/180937-7-4-13.png\n"
     ]
    },
    {
     "name": "stderr",
     "output_type": "stream",
     "text": [
      "\r",
      "4385it [04:01,  1.54it/s]"
     ]
    },
    {
     "name": "stdout",
     "output_type": "stream",
     "text": [
      "sound/images/jackhammer/180937-7-4-14.png\n"
     ]
    },
    {
     "name": "stderr",
     "output_type": "stream",
     "text": [
      "\r",
      "4386it [04:02,  1.50it/s]"
     ]
    },
    {
     "name": "stdout",
     "output_type": "stream",
     "text": [
      "sound/images/jackhammer/180937-7-4-2.png\n"
     ]
    },
    {
     "name": "stderr",
     "output_type": "stream",
     "text": [
      "\r",
      "4387it [04:03,  1.36it/s]"
     ]
    },
    {
     "name": "stdout",
     "output_type": "stream",
     "text": [
      "sound/images/jackhammer/180937-7-4-3.png\n"
     ]
    },
    {
     "name": "stderr",
     "output_type": "stream",
     "text": [
      "\r",
      "4388it [04:05,  1.04it/s]"
     ]
    },
    {
     "name": "stdout",
     "output_type": "stream",
     "text": [
      "sound/images/jackhammer/180937-7-4-4.png\n"
     ]
    },
    {
     "name": "stderr",
     "output_type": "stream",
     "text": [
      "\r",
      "4389it [04:05,  1.16it/s]"
     ]
    },
    {
     "name": "stdout",
     "output_type": "stream",
     "text": [
      "sound/images/jackhammer/180937-7-4-5.png\n"
     ]
    },
    {
     "name": "stderr",
     "output_type": "stream",
     "text": [
      "\r",
      "4390it [04:06,  1.26it/s]"
     ]
    },
    {
     "name": "stdout",
     "output_type": "stream",
     "text": [
      "sound/images/jackhammer/180937-7-4-6.png\n"
     ]
    },
    {
     "name": "stderr",
     "output_type": "stream",
     "text": [
      "\r",
      "4391it [04:06,  1.34it/s]"
     ]
    },
    {
     "name": "stdout",
     "output_type": "stream",
     "text": [
      "sound/images/jackhammer/180937-7-4-7.png\n"
     ]
    },
    {
     "name": "stderr",
     "output_type": "stream",
     "text": [
      "\r",
      "4392it [04:07,  1.41it/s]"
     ]
    },
    {
     "name": "stdout",
     "output_type": "stream",
     "text": [
      "sound/images/jackhammer/180937-7-4-8.png\n"
     ]
    },
    {
     "name": "stderr",
     "output_type": "stream",
     "text": [
      "\r",
      "4393it [04:08,  1.46it/s]"
     ]
    },
    {
     "name": "stdout",
     "output_type": "stream",
     "text": [
      "sound/images/jackhammer/180937-7-4-9.png\n"
     ]
    },
    {
     "name": "stderr",
     "output_type": "stream",
     "text": [
      "4641it [04:09,  2.09it/s]"
     ]
    },
    {
     "name": "stdout",
     "output_type": "stream",
     "text": [
      "sound/images/jackhammer/187920-7-0-0.png\n",
      "sound/images/jackhammer/187920-7-1-0.png\n",
      "sound/images/jackhammer/187920-7-1-1.png\n",
      "sound/images/jackhammer/187920-7-1-2.png\n",
      "sound/images/jackhammer/187920-7-2-0.png\n",
      "sound/images/jackhammer/188813-7-0-0.png\n",
      "sound/images/jackhammer/188813-7-1-0.png\n",
      "sound/images/jackhammer/188813-7-10-0.png\n",
      "sound/images/jackhammer/188813-7-10-1.png\n",
      "sound/images/jackhammer/188813-7-10-2.png\n",
      "sound/images/jackhammer/188813-7-10-3.png\n",
      "sound/images/jackhammer/188813-7-11-0.png\n",
      "sound/images/jackhammer/188813-7-11-1.png\n",
      "sound/images/jackhammer/188813-7-12-0.png\n",
      "sound/images/jackhammer/188813-7-13-0.png\n"
     ]
    },
    {
     "name": "stderr",
     "output_type": "stream",
     "text": [
      "\r",
      "4666it [04:15,  2.43it/s]"
     ]
    },
    {
     "name": "stdout",
     "output_type": "stream",
     "text": [
      "sound/images/jackhammer/188813-7-2-0.png\n",
      "sound/images/jackhammer/188813-7-3-0.png\n",
      "sound/images/jackhammer/188813-7-4-0.png\n",
      "sound/images/jackhammer/188813-7-5-0.png\n",
      "sound/images/jackhammer/188813-7-6-0.png\n",
      "sound/images/jackhammer/188813-7-7-0.png\n",
      "sound/images/jackhammer/188813-7-8-0.png\n",
      "sound/images/jackhammer/188813-7-9-0.png\n",
      "sound/images/jackhammer/188823-7-0-0.png\n",
      "sound/images/jackhammer/188823-7-0-1.png\n",
      "sound/images/jackhammer/188823-7-0-2.png\n",
      "sound/images/jackhammer/188823-7-0-3.png\n",
      "sound/images/jackhammer/188823-7-0-4.png\n",
      "sound/images/jackhammer/188823-7-1-0.png\n",
      "sound/images/jackhammer/188823-7-1-1.png\n",
      "sound/images/jackhammer/188823-7-1-2.png\n",
      "sound/images/jackhammer/188823-7-1-3.png\n"
     ]
    },
    {
     "name": "stderr",
     "output_type": "stream",
     "text": [
      "\r",
      "4683it [04:25,  2.20it/s]"
     ]
    },
    {
     "name": "stdout",
     "output_type": "stream",
     "text": [
      "sound/images/jackhammer/188823-7-2-0.png\n",
      "sound/images/jackhammer/188823-7-2-1.png\n",
      "sound/images/jackhammer/188823-7-2-2.png\n",
      "sound/images/jackhammer/188823-7-2-3.png\n",
      "sound/images/jackhammer/188823-7-3-0.png\n",
      "sound/images/jackhammer/188823-7-4-0.png\n",
      "sound/images/jackhammer/188823-7-5-0.png\n",
      "sound/images/jackhammer/188823-7-6-0.png\n",
      "sound/images/jackhammer/188824-7-0-0.png\n",
      "sound/images/jackhammer/188824-7-1-0.png\n",
      "sound/images/jackhammer/188824-7-10-0.png\n"
     ]
    },
    {
     "name": "stderr",
     "output_type": "stream",
     "text": [
      "\r",
      "4695it [04:31,  2.14it/s]"
     ]
    },
    {
     "name": "stdout",
     "output_type": "stream",
     "text": [
      "sound/images/jackhammer/188824-7-11-0.png\n",
      "sound/images/jackhammer/188824-7-12-0.png\n",
      "sound/images/jackhammer/188824-7-2-0.png\n",
      "sound/images/jackhammer/188824-7-3-0.png\n",
      "sound/images/jackhammer/188824-7-4-0.png\n",
      "sound/images/jackhammer/188824-7-5-0.png\n",
      "sound/images/jackhammer/188824-7-6-0.png\n",
      "sound/images/jackhammer/188824-7-7-0.png\n",
      "sound/images/jackhammer/188824-7-8-0.png\n",
      "sound/images/jackhammer/188824-7-9-0.png\n"
     ]
    },
    {
     "name": "stderr",
     "output_type": "stream",
     "text": [
      "5307it [04:34,  3.29it/s]"
     ]
    },
    {
     "name": "stdout",
     "output_type": "stream",
     "text": [
      "sound/images/jackhammer/203929-7-1-0.png\n",
      "sound/images/jackhammer/203929-7-1-1.png\n",
      "sound/images/jackhammer/203929-7-1-2.png\n",
      "sound/images/jackhammer/203929-7-1-3.png\n",
      "sound/images/jackhammer/203929-7-1-6.png\n",
      "sound/images/jackhammer/203929-7-1-7.png\n",
      "sound/images/jackhammer/203929-7-1-8.png\n",
      "sound/images/jackhammer/203929-7-10-0.png\n",
      "sound/images/jackhammer/203929-7-10-1.png\n",
      "sound/images/jackhammer/203929-7-10-2.png\n",
      "sound/images/jackhammer/203929-7-2-0.png\n",
      "sound/images/jackhammer/203929-7-2-11.png\n",
      "sound/images/jackhammer/203929-7-2-2.png\n",
      "sound/images/jackhammer/203929-7-2-3.png\n",
      "sound/images/jackhammer/203929-7-2-5.png\n",
      "sound/images/jackhammer/203929-7-2-6.png\n",
      "sound/images/jackhammer/203929-7-2-8.png\n",
      "sound/images/jackhammer/203929-7-2-9.png\n",
      "sound/images/jackhammer/203929-7-3-1.png\n",
      "sound/images/jackhammer/203929-7-3-10.png\n",
      "sound/images/jackhammer/203929-7-3-2.png\n",
      "sound/images/jackhammer/203929-7-3-3.png\n",
      "sound/images/jackhammer/203929-7-3-5.png\n",
      "sound/images/jackhammer/203929-7-3-9.png\n",
      "sound/images/jackhammer/203929-7-4-0.png\n",
      "sound/images/jackhammer/203929-7-4-1.png\n",
      "sound/images/jackhammer/203929-7-4-10.png\n",
      "sound/images/jackhammer/203929-7-4-11.png\n",
      "sound/images/jackhammer/203929-7-4-12.png\n",
      "sound/images/jackhammer/203929-7-4-2.png\n",
      "sound/images/jackhammer/203929-7-4-4.png\n",
      "sound/images/jackhammer/203929-7-4-6.png\n",
      "sound/images/jackhammer/203929-7-4-7.png\n",
      "sound/images/jackhammer/203929-7-4-8.png\n",
      "sound/images/jackhammer/203929-7-5-0.png\n",
      "sound/images/jackhammer/203929-7-5-1.png\n",
      "sound/images/jackhammer/203929-7-5-10.png\n",
      "sound/images/jackhammer/203929-7-5-11.png\n"
     ]
    },
    {
     "name": "stderr",
     "output_type": "stream",
     "text": [
      "5345it [04:48,  3.13it/s]"
     ]
    },
    {
     "name": "stdout",
     "output_type": "stream",
     "text": [
      "sound/images/jackhammer/203929-7-5-6.png\n"
     ]
    },
    {
     "name": "stderr",
     "output_type": "stream",
     "text": [
      "\r",
      "5346it [04:48,  3.01it/s]"
     ]
    },
    {
     "name": "stdout",
     "output_type": "stream",
     "text": [
      "sound/images/jackhammer/203929-7-5-7.png\n"
     ]
    },
    {
     "name": "stderr",
     "output_type": "stream",
     "text": [
      "\r",
      "5347it [04:48,  2.99it/s]"
     ]
    },
    {
     "name": "stdout",
     "output_type": "stream",
     "text": [
      "sound/images/jackhammer/203929-7-6-1.png\n"
     ]
    },
    {
     "name": "stderr",
     "output_type": "stream",
     "text": [
      "\r",
      "5348it [04:49,  2.96it/s]"
     ]
    },
    {
     "name": "stdout",
     "output_type": "stream",
     "text": [
      "sound/images/jackhammer/203929-7-6-10.png\n"
     ]
    },
    {
     "name": "stderr",
     "output_type": "stream",
     "text": [
      "\r",
      "5349it [04:49,  2.94it/s]"
     ]
    },
    {
     "name": "stdout",
     "output_type": "stream",
     "text": [
      "sound/images/jackhammer/203929-7-6-11.png\n"
     ]
    },
    {
     "name": "stderr",
     "output_type": "stream",
     "text": [
      "\r",
      "5350it [04:49,  2.97it/s]"
     ]
    },
    {
     "name": "stdout",
     "output_type": "stream",
     "text": [
      "sound/images/jackhammer/203929-7-6-2.png\n"
     ]
    },
    {
     "name": "stderr",
     "output_type": "stream",
     "text": [
      "\r",
      "5351it [04:50,  2.94it/s]"
     ]
    },
    {
     "name": "stdout",
     "output_type": "stream",
     "text": [
      "sound/images/jackhammer/203929-7-6-3.png\n"
     ]
    },
    {
     "name": "stderr",
     "output_type": "stream",
     "text": [
      "\r",
      "5352it [04:50,  2.92it/s]"
     ]
    },
    {
     "name": "stdout",
     "output_type": "stream",
     "text": [
      "sound/images/jackhammer/203929-7-6-8.png\n"
     ]
    },
    {
     "name": "stderr",
     "output_type": "stream",
     "text": [
      "\r",
      "5353it [04:50,  2.92it/s]"
     ]
    },
    {
     "name": "stdout",
     "output_type": "stream",
     "text": [
      "sound/images/jackhammer/203929-7-6-9.png\n"
     ]
    },
    {
     "name": "stderr",
     "output_type": "stream",
     "text": [
      "\r",
      "5354it [04:51,  2.91it/s]"
     ]
    },
    {
     "name": "stdout",
     "output_type": "stream",
     "text": [
      "sound/images/jackhammer/203929-7-7-0.png\n"
     ]
    },
    {
     "name": "stderr",
     "output_type": "stream",
     "text": [
      "\r",
      "5355it [04:51,  2.88it/s]"
     ]
    },
    {
     "name": "stdout",
     "output_type": "stream",
     "text": [
      "sound/images/jackhammer/203929-7-7-10.png\n"
     ]
    },
    {
     "name": "stderr",
     "output_type": "stream",
     "text": [
      "\r",
      "5356it [04:51,  2.92it/s]"
     ]
    },
    {
     "name": "stdout",
     "output_type": "stream",
     "text": [
      "sound/images/jackhammer/203929-7-7-12.png\n"
     ]
    },
    {
     "name": "stderr",
     "output_type": "stream",
     "text": [
      "\r",
      "5357it [04:52,  2.94it/s]"
     ]
    },
    {
     "name": "stdout",
     "output_type": "stream",
     "text": [
      "sound/images/jackhammer/203929-7-7-13.png\n"
     ]
    },
    {
     "name": "stderr",
     "output_type": "stream",
     "text": [
      "\r",
      "5358it [04:52,  2.92it/s]"
     ]
    },
    {
     "name": "stdout",
     "output_type": "stream",
     "text": [
      "sound/images/jackhammer/203929-7-7-14.png\n",
      "sound/images/jackhammer/203929-7-7-15.png\n"
     ]
    },
    {
     "name": "stderr",
     "output_type": "stream",
     "text": [
      "5360it [04:53,  2.91it/s]"
     ]
    },
    {
     "name": "stdout",
     "output_type": "stream",
     "text": [
      "sound/images/jackhammer/203929-7-7-16.png\n"
     ]
    },
    {
     "name": "stderr",
     "output_type": "stream",
     "text": [
      "\r",
      "5361it [04:53,  2.90it/s]"
     ]
    },
    {
     "name": "stdout",
     "output_type": "stream",
     "text": [
      "sound/images/jackhammer/203929-7-7-2.png\n"
     ]
    },
    {
     "name": "stderr",
     "output_type": "stream",
     "text": [
      "\r",
      "5362it [04:53,  2.90it/s]"
     ]
    },
    {
     "name": "stdout",
     "output_type": "stream",
     "text": [
      "sound/images/jackhammer/203929-7-7-3.png\n"
     ]
    },
    {
     "name": "stderr",
     "output_type": "stream",
     "text": [
      "\r",
      "5363it [04:54,  2.89it/s]"
     ]
    },
    {
     "name": "stdout",
     "output_type": "stream",
     "text": [
      "sound/images/jackhammer/203929-7-7-4.png\n"
     ]
    },
    {
     "name": "stderr",
     "output_type": "stream",
     "text": [
      "\r",
      "5364it [04:54,  2.89it/s]"
     ]
    },
    {
     "name": "stdout",
     "output_type": "stream",
     "text": [
      "sound/images/jackhammer/203929-7-7-9.png\n"
     ]
    },
    {
     "name": "stderr",
     "output_type": "stream",
     "text": [
      "\r",
      "5365it [04:55,  2.88it/s]"
     ]
    },
    {
     "name": "stdout",
     "output_type": "stream",
     "text": [
      "sound/images/jackhammer/203929-7-8-0.png\n"
     ]
    },
    {
     "name": "stderr",
     "output_type": "stream",
     "text": [
      "\r",
      "5366it [04:55,  2.88it/s]"
     ]
    },
    {
     "name": "stdout",
     "output_type": "stream",
     "text": [
      "sound/images/jackhammer/203929-7-9-0.png\n"
     ]
    },
    {
     "name": "stderr",
     "output_type": "stream",
     "text": [
      "\r",
      "5367it [04:55,  2.92it/s]"
     ]
    },
    {
     "name": "stdout",
     "output_type": "stream",
     "text": [
      "sound/images/jackhammer/203929-7-9-11.png\n"
     ]
    },
    {
     "name": "stderr",
     "output_type": "stream",
     "text": [
      "\r",
      "5368it [04:56,  2.90it/s]"
     ]
    },
    {
     "name": "stdout",
     "output_type": "stream",
     "text": [
      "sound/images/jackhammer/203929-7-9-12.png\n"
     ]
    },
    {
     "name": "stderr",
     "output_type": "stream",
     "text": [
      "\r",
      "5369it [04:56,  2.88it/s]"
     ]
    },
    {
     "name": "stdout",
     "output_type": "stream",
     "text": [
      "sound/images/jackhammer/203929-7-9-15.png\n"
     ]
    },
    {
     "name": "stderr",
     "output_type": "stream",
     "text": [
      "\r",
      "5370it [04:56,  2.88it/s]"
     ]
    },
    {
     "name": "stdout",
     "output_type": "stream",
     "text": [
      "sound/images/jackhammer/203929-7-9-17.png\n"
     ]
    },
    {
     "name": "stderr",
     "output_type": "stream",
     "text": [
      "\r",
      "5371it [04:57,  2.87it/s]"
     ]
    },
    {
     "name": "stdout",
     "output_type": "stream",
     "text": [
      "sound/images/jackhammer/203929-7-9-18.png\n"
     ]
    },
    {
     "name": "stderr",
     "output_type": "stream",
     "text": [
      "\r",
      "5372it [04:57,  2.87it/s]"
     ]
    },
    {
     "name": "stdout",
     "output_type": "stream",
     "text": [
      "sound/images/jackhammer/203929-7-9-19.png\n"
     ]
    },
    {
     "name": "stderr",
     "output_type": "stream",
     "text": [
      "\r",
      "5373it [04:57,  2.87it/s]"
     ]
    },
    {
     "name": "stdout",
     "output_type": "stream",
     "text": [
      "sound/images/jackhammer/203929-7-9-20.png\n"
     ]
    },
    {
     "name": "stderr",
     "output_type": "stream",
     "text": [
      "\r",
      "5374it [04:58,  2.87it/s]"
     ]
    },
    {
     "name": "stdout",
     "output_type": "stream",
     "text": [
      "sound/images/jackhammer/203929-7-9-24.png\n"
     ]
    },
    {
     "name": "stderr",
     "output_type": "stream",
     "text": [
      "\r",
      "5375it [04:58,  2.90it/s]"
     ]
    },
    {
     "name": "stdout",
     "output_type": "stream",
     "text": [
      "sound/images/jackhammer/203929-7-9-4.png\n"
     ]
    },
    {
     "name": "stderr",
     "output_type": "stream",
     "text": [
      "\r",
      "5376it [04:58,  2.90it/s]"
     ]
    },
    {
     "name": "stdout",
     "output_type": "stream",
     "text": [
      "sound/images/jackhammer/203929-7-9-6.png\n"
     ]
    },
    {
     "name": "stderr",
     "output_type": "stream",
     "text": [
      "\r",
      "5377it [04:59,  2.89it/s]"
     ]
    },
    {
     "name": "stdout",
     "output_type": "stream",
     "text": [
      "sound/images/jackhammer/203929-7-9-8.png\n"
     ]
    },
    {
     "name": "stderr",
     "output_type": "stream",
     "text": [
      "\r",
      "5378it [04:59,  2.91it/s]"
     ]
    },
    {
     "name": "stdout",
     "output_type": "stream",
     "text": [
      "sound/images/jackhammer/203929-7-9-9.png\n"
     ]
    },
    {
     "name": "stderr",
     "output_type": "stream",
     "text": [
      "\r",
      "5645it [04:59,  4.16it/s]"
     ]
    },
    {
     "name": "stdout",
     "output_type": "stream",
     "text": [
      "sound/images/jackhammer/22883-7-1-0.png\n",
      "sound/images/jackhammer/22883-7-10-0.png\n",
      "sound/images/jackhammer/22883-7-100-0.png\n",
      "sound/images/jackhammer/22883-7-11-0.png\n",
      "sound/images/jackhammer/22883-7-110-1.png\n",
      "sound/images/jackhammer/22883-7-17-2.png\n",
      "sound/images/jackhammer/22883-7-17-4.png\n",
      "sound/images/jackhammer/22883-7-17-5.png\n",
      "sound/images/jackhammer/22883-7-18-0.png\n",
      "sound/images/jackhammer/22883-7-19-0.png\n",
      "sound/images/jackhammer/22883-7-21-0.png\n",
      "sound/images/jackhammer/22883-7-23-0.png\n",
      "sound/images/jackhammer/22883-7-24-0.png\n",
      "sound/images/jackhammer/22883-7-27-0.png\n",
      "sound/images/jackhammer/22883-7-28-0.png\n",
      "sound/images/jackhammer/22883-7-29-2.png\n",
      "sound/images/jackhammer/22883-7-3-0.png\n",
      "sound/images/jackhammer/22883-7-33-0.png\n",
      "sound/images/jackhammer/22883-7-34-0.png\n",
      "sound/images/jackhammer/22883-7-35-2.png\n",
      "sound/images/jackhammer/22883-7-35-3.png\n",
      "sound/images/jackhammer/22883-7-36-0.png\n",
      "sound/images/jackhammer/22883-7-36-1.png\n",
      "sound/images/jackhammer/22883-7-36-2.png\n",
      "sound/images/jackhammer/22883-7-37-0.png\n",
      "sound/images/jackhammer/22883-7-39-0.png\n",
      "sound/images/jackhammer/22883-7-39-1.png\n",
      "sound/images/jackhammer/22883-7-40-0.png\n",
      "sound/images/jackhammer/22883-7-43-2.png\n",
      "sound/images/jackhammer/22883-7-44-0.png\n",
      "sound/images/jackhammer/22883-7-47-2.png\n",
      "sound/images/jackhammer/22883-7-48-0.png\n",
      "sound/images/jackhammer/22883-7-49-1.png\n",
      "sound/images/jackhammer/22883-7-49-3.png\n",
      "sound/images/jackhammer/22883-7-51-0.png\n",
      "sound/images/jackhammer/22883-7-53-0.png\n",
      "sound/images/jackhammer/22883-7-54-0.png\n",
      "sound/images/jackhammer/22883-7-58-0.png\n",
      "sound/images/jackhammer/22883-7-61-0.png\n",
      "sound/images/jackhammer/22883-7-61-1.png\n",
      "sound/images/jackhammer/22883-7-62-0.png\n",
      "sound/images/jackhammer/22883-7-63-0.png\n",
      "sound/images/jackhammer/22883-7-64-0.png\n",
      "sound/images/jackhammer/22883-7-67-0.png\n",
      "sound/images/jackhammer/22883-7-69-0.png\n",
      "sound/images/jackhammer/22883-7-7-0.png\n"
     ]
    },
    {
     "name": "stderr",
     "output_type": "stream",
     "text": [
      "\r",
      "5691it [05:13,  3.86it/s]"
     ]
    },
    {
     "name": "stdout",
     "output_type": "stream",
     "text": [
      "sound/images/jackhammer/22883-7-71-0.png\n"
     ]
    },
    {
     "name": "stderr",
     "output_type": "stream",
     "text": [
      "\r",
      "5692it [05:13,  3.96it/s]"
     ]
    },
    {
     "name": "stdout",
     "output_type": "stream",
     "text": [
      "sound/images/jackhammer/22883-7-72-0.png\n"
     ]
    },
    {
     "name": "stderr",
     "output_type": "stream",
     "text": [
      "\r",
      "5693it [05:14,  4.15it/s]"
     ]
    },
    {
     "name": "stdout",
     "output_type": "stream",
     "text": [
      "sound/images/jackhammer/22883-7-74-0.png\n",
      "sound/images/jackhammer/22883-7-77-0.png\n"
     ]
    },
    {
     "name": "stderr",
     "output_type": "stream",
     "text": [
      "5695it [05:14,  3.79it/s]"
     ]
    },
    {
     "name": "stdout",
     "output_type": "stream",
     "text": [
      "sound/images/jackhammer/22883-7-78-2.png\n"
     ]
    },
    {
     "name": "stderr",
     "output_type": "stream",
     "text": [
      "\r",
      "5696it [05:14,  4.20it/s]"
     ]
    },
    {
     "name": "stdout",
     "output_type": "stream",
     "text": [
      "sound/images/jackhammer/22883-7-81-0.png\n"
     ]
    },
    {
     "name": "stderr",
     "output_type": "stream",
     "text": [
      "\r",
      "5697it [05:15,  4.06it/s]"
     ]
    },
    {
     "name": "stdout",
     "output_type": "stream",
     "text": [
      "sound/images/jackhammer/22883-7-83-0.png\n"
     ]
    },
    {
     "name": "stderr",
     "output_type": "stream",
     "text": [
      "\r",
      "5698it [05:15,  4.25it/s]"
     ]
    },
    {
     "name": "stdout",
     "output_type": "stream",
     "text": [
      "sound/images/jackhammer/22883-7-86-0.png\n"
     ]
    },
    {
     "name": "stderr",
     "output_type": "stream",
     "text": [
      "\r",
      "5699it [05:15,  3.98it/s]"
     ]
    },
    {
     "name": "stdout",
     "output_type": "stream",
     "text": [
      "sound/images/jackhammer/22883-7-87-0.png\n"
     ]
    },
    {
     "name": "stderr",
     "output_type": "stream",
     "text": [
      "\r",
      "5700it [05:15,  4.61it/s]"
     ]
    },
    {
     "name": "stdout",
     "output_type": "stream",
     "text": [
      "sound/images/jackhammer/22883-7-9-0.png\n",
      "sound/images/jackhammer/22883-7-91-0.png\n"
     ]
    },
    {
     "name": "stderr",
     "output_type": "stream",
     "text": [
      "5702it [05:16,  4.62it/s]"
     ]
    },
    {
     "name": "stdout",
     "output_type": "stream",
     "text": [
      "sound/images/jackhammer/22883-7-92-0.png\n"
     ]
    },
    {
     "name": "stderr",
     "output_type": "stream",
     "text": [
      "\r",
      "5703it [05:16,  4.51it/s]"
     ]
    },
    {
     "name": "stdout",
     "output_type": "stream",
     "text": [
      "sound/images/jackhammer/22883-7-93-0.png\n"
     ]
    },
    {
     "name": "stderr",
     "output_type": "stream",
     "text": [
      "\r",
      "5704it [05:16,  3.84it/s]"
     ]
    },
    {
     "name": "stdout",
     "output_type": "stream",
     "text": [
      "sound/images/jackhammer/22883-7-98-1.png\n"
     ]
    },
    {
     "name": "stderr",
     "output_type": "stream",
     "text": [
      "\r",
      "5705it [05:17,  3.44it/s]"
     ]
    },
    {
     "name": "stdout",
     "output_type": "stream",
     "text": [
      "sound/images/jackhammer/22883-7-99-2.png\n"
     ]
    },
    {
     "name": "stderr",
     "output_type": "stream",
     "text": [
      "\r",
      "5706it [05:17,  3.18it/s]"
     ]
    },
    {
     "name": "stdout",
     "output_type": "stream",
     "text": [
      "sound/images/jackhammer/22883-7-99-3.png\n"
     ]
    },
    {
     "name": "stderr",
     "output_type": "stream",
     "text": [
      "\r",
      "5871it [05:17,  4.53it/s]"
     ]
    },
    {
     "name": "stdout",
     "output_type": "stream",
     "text": [
      "sound/images/jackhammer/24728-7-0-0.png\n",
      "sound/images/jackhammer/24728-7-1-0.png\n",
      "sound/images/jackhammer/24728-7-2-0.png\n",
      "sound/images/jackhammer/24728-7-3-0.png\n",
      "sound/images/jackhammer/24728-7-4-0.png\n"
     ]
    },
    {
     "name": "stderr",
     "output_type": "stream",
     "text": [
      "\r",
      "5893it [05:18,  5.94it/s]"
     ]
    },
    {
     "name": "stdout",
     "output_type": "stream",
     "text": [
      "sound/images/jackhammer/24728-7-5-0.png\n"
     ]
    },
    {
     "name": "stderr",
     "output_type": "stream",
     "text": [
      "\r",
      "6012it [05:19,  8.42it/s]"
     ]
    },
    {
     "name": "stdout",
     "output_type": "stream",
     "text": [
      "sound/images/jackhammer/30206-7-0-0.png\n",
      "sound/images/jackhammer/30206-7-0-1.png\n",
      "sound/images/jackhammer/30206-7-0-10.png\n",
      "sound/images/jackhammer/30206-7-0-11.png\n",
      "sound/images/jackhammer/30206-7-0-12.png\n",
      "sound/images/jackhammer/30206-7-0-13.png\n",
      "sound/images/jackhammer/30206-7-0-14.png\n",
      "sound/images/jackhammer/30206-7-0-15.png\n",
      "sound/images/jackhammer/30206-7-0-16.png\n",
      "sound/images/jackhammer/30206-7-0-17.png\n",
      "sound/images/jackhammer/30206-7-0-18.png\n",
      "sound/images/jackhammer/30206-7-0-19.png\n",
      "sound/images/jackhammer/30206-7-0-2.png\n",
      "sound/images/jackhammer/30206-7-0-20.png\n",
      "sound/images/jackhammer/30206-7-0-21.png\n",
      "sound/images/jackhammer/30206-7-0-22.png\n",
      "sound/images/jackhammer/30206-7-0-23.png\n",
      "sound/images/jackhammer/30206-7-0-24.png\n",
      "sound/images/jackhammer/30206-7-0-25.png\n",
      "sound/images/jackhammer/30206-7-0-26.png\n",
      "sound/images/jackhammer/30206-7-0-27.png\n",
      "sound/images/jackhammer/30206-7-0-28.png\n"
     ]
    },
    {
     "name": "stderr",
     "output_type": "stream",
     "text": [
      "\r",
      "6034it [05:26,  5.48it/s]"
     ]
    },
    {
     "name": "stdout",
     "output_type": "stream",
     "text": [
      "sound/images/jackhammer/30206-7-0-29.png\n",
      "sound/images/jackhammer/30206-7-0-3.png\n",
      "sound/images/jackhammer/30206-7-0-30.png\n",
      "sound/images/jackhammer/30206-7-0-31.png\n",
      "sound/images/jackhammer/30206-7-0-32.png\n",
      "sound/images/jackhammer/30206-7-0-33.png\n",
      "sound/images/jackhammer/30206-7-0-34.png\n",
      "sound/images/jackhammer/30206-7-0-35.png\n",
      "sound/images/jackhammer/30206-7-0-36.png\n",
      "sound/images/jackhammer/30206-7-0-37.png\n",
      "sound/images/jackhammer/30206-7-0-38.png\n",
      "sound/images/jackhammer/30206-7-0-39.png\n",
      "sound/images/jackhammer/30206-7-0-4.png\n",
      "sound/images/jackhammer/30206-7-0-5.png\n",
      "sound/images/jackhammer/30206-7-0-6.png\n",
      "sound/images/jackhammer/30206-7-0-7.png\n"
     ]
    },
    {
     "name": "stderr",
     "output_type": "stream",
     "text": [
      "\r",
      "6050it [05:31,  4.37it/s]"
     ]
    },
    {
     "name": "stdout",
     "output_type": "stream",
     "text": [
      "sound/images/jackhammer/30206-7-0-8.png\n"
     ]
    },
    {
     "name": "stderr",
     "output_type": "stream",
     "text": [
      "\r",
      "6061it [05:32,  5.88it/s]"
     ]
    },
    {
     "name": "stdout",
     "output_type": "stream",
     "text": [
      "sound/images/jackhammer/30206-7-0-9.png\n"
     ]
    },
    {
     "name": "stderr",
     "output_type": "stream",
     "text": [
      "\r",
      "6082it [05:32,  8.07it/s]"
     ]
    },
    {
     "name": "stdout",
     "output_type": "stream",
     "text": [
      "sound/images/jackhammer/31884-7-0-0.png\n",
      "sound/images/jackhammer/31884-7-0-1.png\n",
      "sound/images/jackhammer/31884-7-0-2.png\n",
      "sound/images/jackhammer/31884-7-0-3.png\n",
      "sound/images/jackhammer/31884-7-1-0.png\n",
      "sound/images/jackhammer/31884-7-1-1.png\n",
      "sound/images/jackhammer/31884-7-1-2.png\n",
      "sound/images/jackhammer/31884-7-1-3.png\n"
     ]
    },
    {
     "name": "stderr",
     "output_type": "stream",
     "text": [
      "\r",
      "6090it [05:35,  5.32it/s]"
     ]
    },
    {
     "name": "stdout",
     "output_type": "stream",
     "text": [
      "sound/images/jackhammer/31884-7-1-4.png\n"
     ]
    },
    {
     "name": "stderr",
     "output_type": "stream",
     "text": [
      "\r",
      "6100it [05:35,  7.09it/s]"
     ]
    },
    {
     "name": "stdout",
     "output_type": "stream",
     "text": [
      "sound/images/jackhammer/33340-7-0-0.png\n",
      "sound/images/jackhammer/33340-7-1-0.png\n",
      "sound/images/jackhammer/33340-7-10-0.png\n",
      "sound/images/jackhammer/33340-7-11-0.png\n",
      "sound/images/jackhammer/33340-7-12-0.png\n"
     ]
    },
    {
     "name": "stderr",
     "output_type": "stream",
     "text": [
      "\r",
      "6105it [05:36,  5.61it/s]"
     ]
    },
    {
     "name": "stdout",
     "output_type": "stream",
     "text": [
      "sound/images/jackhammer/33340-7-13-0.png\n",
      "sound/images/jackhammer/33340-7-14-0.png\n",
      "sound/images/jackhammer/33340-7-15-0.png\n",
      "sound/images/jackhammer/33340-7-16-0.png\n"
     ]
    },
    {
     "name": "stderr",
     "output_type": "stream",
     "text": [
      "\r",
      "6109it [05:37,  5.49it/s]"
     ]
    },
    {
     "name": "stdout",
     "output_type": "stream",
     "text": [
      "sound/images/jackhammer/33340-7-2-0.png\n",
      "sound/images/jackhammer/33340-7-3-0.png\n",
      "sound/images/jackhammer/33340-7-4-0.png\n"
     ]
    },
    {
     "name": "stderr",
     "output_type": "stream",
     "text": [
      "\r",
      "6112it [05:38,  4.66it/s]"
     ]
    },
    {
     "name": "stdout",
     "output_type": "stream",
     "text": [
      "sound/images/jackhammer/33340-7-5-0.png\n",
      "sound/images/jackhammer/33340-7-6-0.png\n"
     ]
    },
    {
     "name": "stderr",
     "output_type": "stream",
     "text": [
      "\r",
      "6114it [05:39,  4.01it/s]"
     ]
    },
    {
     "name": "stdout",
     "output_type": "stream",
     "text": [
      "sound/images/jackhammer/33340-7-7-0.png\n",
      "sound/images/jackhammer/33340-7-8-0.png\n",
      "sound/images/jackhammer/33340-7-9-0.png"
     ]
    },
    {
     "name": "stderr",
     "output_type": "stream",
     "text": [
      "\r",
      "6116it [05:39,  4.26it/s]"
     ]
    },
    {
     "name": "stdout",
     "output_type": "stream",
     "text": [
      "\n"
     ]
    },
    {
     "name": "stderr",
     "output_type": "stream",
     "text": [
      "\r",
      "6129it [05:39,  5.83it/s]"
     ]
    },
    {
     "name": "stdout",
     "output_type": "stream",
     "text": [
      "sound/images/jackhammer/34050-7-0-0.png\n",
      "sound/images/jackhammer/34050-7-1-0.png\n",
      "sound/images/jackhammer/34050-7-2-0.png\n"
     ]
    },
    {
     "name": "stderr",
     "output_type": "stream",
     "text": [
      "\r",
      "6132it [05:40,  5.63it/s]"
     ]
    },
    {
     "name": "stdout",
     "output_type": "stream",
     "text": [
      "sound/images/jackhammer/34050-7-3-0.png\n",
      "sound/images/jackhammer/34050-7-4-0.png\n"
     ]
    },
    {
     "name": "stderr",
     "output_type": "stream",
     "text": [
      "\r",
      "6134it [05:40,  4.96it/s]"
     ]
    },
    {
     "name": "stdout",
     "output_type": "stream",
     "text": [
      "sound/images/jackhammer/34050-7-5-0.png\n"
     ]
    },
    {
     "name": "stderr",
     "output_type": "stream",
     "text": [
      "\r",
      "6136it [05:41,  5.19it/s]"
     ]
    },
    {
     "name": "stdout",
     "output_type": "stream",
     "text": [
      "sound/images/jackhammer/34050-7-6-0.png\n",
      "sound/images/jackhammer/42097-7-0-0.png\n"
     ]
    },
    {
     "name": "stderr",
     "output_type": "stream",
     "text": [
      "\r",
      "6406it [05:41,  7.38it/s]"
     ]
    },
    {
     "name": "stdout",
     "output_type": "stream",
     "text": [
      "sound/images/jackhammer/42097-7-0-1.png\n"
     ]
    },
    {
     "name": "stderr",
     "output_type": "stream",
     "text": [
      "\r",
      "6425it [05:42,  9.47it/s]"
     ]
    },
    {
     "name": "stdout",
     "output_type": "stream",
     "text": [
      "sound/images/jackhammer/42097-7-0-2.png\n"
     ]
    },
    {
     "name": "stderr",
     "output_type": "stream",
     "text": [
      "\r",
      "6757it [05:42, 13.46it/s]"
     ]
    },
    {
     "name": "stdout",
     "output_type": "stream",
     "text": [
      "sound/images/jackhammer/54697-7-0-0.png\n",
      "sound/images/jackhammer/54697-7-0-1.png\n",
      "sound/images/jackhammer/54697-7-0-2.png\n",
      "sound/images/jackhammer/54697-7-0-3.png\n",
      "sound/images/jackhammer/54697-7-0-4.png\n"
     ]
    },
    {
     "name": "stderr",
     "output_type": "stream",
     "text": [
      "7105it [05:44, 21.53it/s]"
     ]
    },
    {
     "name": "stdout",
     "output_type": "stream",
     "text": [
      "sound/images/jackhammer/62837-7-0-12.png\n",
      "sound/images/jackhammer/62837-7-0-15.png\n",
      "sound/images/jackhammer/62837-7-0-16.png\n",
      "sound/images/jackhammer/62837-7-0-17.png\n",
      "sound/images/jackhammer/62837-7-0-18.png\n",
      "sound/images/jackhammer/62837-7-0-2.png\n",
      "sound/images/jackhammer/62837-7-0-20.png\n",
      "sound/images/jackhammer/62837-7-0-21.png\n",
      "sound/images/jackhammer/62837-7-0-22.png\n",
      "sound/images/jackhammer/62837-7-0-24.png\n",
      "sound/images/jackhammer/62837-7-0-27.png\n",
      "sound/images/jackhammer/62837-7-0-28.png\n",
      "sound/images/jackhammer/62837-7-0-3.png\n",
      "sound/images/jackhammer/62837-7-0-30.png\n",
      "sound/images/jackhammer/62837-7-0-31.png\n",
      "sound/images/jackhammer/62837-7-0-34.png\n",
      "sound/images/jackhammer/62837-7-0-37.png\n",
      "sound/images/jackhammer/62837-7-0-4.png\n",
      "sound/images/jackhammer/62837-7-0-7.png\n",
      "sound/images/jackhammer/62837-7-0-8.png\n",
      "sound/images/jackhammer/62837-7-0-9.png\n",
      "sound/images/jackhammer/62837-7-1-1.png\n",
      "sound/images/jackhammer/62837-7-1-11.png\n",
      "sound/images/jackhammer/62837-7-1-14.png\n",
      "sound/images/jackhammer/62837-7-1-15.png\n",
      "sound/images/jackhammer/62837-7-1-18.png\n",
      "sound/images/jackhammer/62837-7-1-2.png\n",
      "sound/images/jackhammer/62837-7-1-21.png\n",
      "sound/images/jackhammer/62837-7-1-22.png\n",
      "sound/images/jackhammer/62837-7-1-24.png\n",
      "sound/images/jackhammer/62837-7-1-26.png\n",
      "sound/images/jackhammer/62837-7-1-27.png\n",
      "sound/images/jackhammer/62837-7-1-28.png\n",
      "sound/images/jackhammer/62837-7-1-29.png\n",
      "sound/images/jackhammer/62837-7-1-3.png\n",
      "sound/images/jackhammer/62837-7-1-31.png\n",
      "sound/images/jackhammer/62837-7-1-32.png\n",
      "sound/images/jackhammer/62837-7-1-33.png\n",
      "sound/images/jackhammer/62837-7-1-35.png\n"
     ]
    },
    {
     "name": "stderr",
     "output_type": "stream",
     "text": [
      "7144it [05:58,  7.37it/s]"
     ]
    },
    {
     "name": "stdout",
     "output_type": "stream",
     "text": [
      "sound/images/jackhammer/62837-7-1-39.png\n"
     ]
    },
    {
     "name": "stderr",
     "output_type": "stream",
     "text": [
      "\r",
      "7145it [05:58,  5.09it/s]"
     ]
    },
    {
     "name": "stdout",
     "output_type": "stream",
     "text": [
      "sound/images/jackhammer/62837-7-1-4.png\n"
     ]
    },
    {
     "name": "stderr",
     "output_type": "stream",
     "text": [
      "\r",
      "7146it [05:58,  4.14it/s]"
     ]
    },
    {
     "name": "stdout",
     "output_type": "stream",
     "text": [
      "sound/images/jackhammer/62837-7-1-41.png\n",
      "sound/images/jackhammer/62837-7-1-44.png\n"
     ]
    },
    {
     "name": "stderr",
     "output_type": "stream",
     "text": [
      "7148it [05:59,  3.11it/s]"
     ]
    },
    {
     "name": "stdout",
     "output_type": "stream",
     "text": [
      "sound/images/jackhammer/62837-7-1-45.png\n"
     ]
    },
    {
     "name": "stderr",
     "output_type": "stream",
     "text": [
      "\r",
      "7149it [06:00,  2.92it/s]"
     ]
    },
    {
     "name": "stdout",
     "output_type": "stream",
     "text": [
      "sound/images/jackhammer/62837-7-1-46.png\n"
     ]
    },
    {
     "name": "stderr",
     "output_type": "stream",
     "text": [
      "\r",
      "7150it [06:00,  2.94it/s]"
     ]
    },
    {
     "name": "stdout",
     "output_type": "stream",
     "text": [
      "sound/images/jackhammer/62837-7-1-49.png\n",
      "sound/images/jackhammer/62837-7-1-5.png\n"
     ]
    },
    {
     "name": "stderr",
     "output_type": "stream",
     "text": [
      "7152it [06:01,  1.99it/s]"
     ]
    },
    {
     "name": "stdout",
     "output_type": "stream",
     "text": [
      "sound/images/jackhammer/62837-7-1-51.png\n"
     ]
    },
    {
     "name": "stderr",
     "output_type": "stream",
     "text": [
      "\r",
      "7153it [06:02,  2.20it/s]"
     ]
    },
    {
     "name": "stdout",
     "output_type": "stream",
     "text": [
      "sound/images/jackhammer/62837-7-1-53.png\n"
     ]
    },
    {
     "name": "stderr",
     "output_type": "stream",
     "text": [
      "\r",
      "7154it [06:02,  2.30it/s]"
     ]
    },
    {
     "name": "stdout",
     "output_type": "stream",
     "text": [
      "sound/images/jackhammer/62837-7-1-54.png\n"
     ]
    },
    {
     "name": "stderr",
     "output_type": "stream",
     "text": [
      "\r",
      "7155it [06:02,  2.45it/s]"
     ]
    },
    {
     "name": "stdout",
     "output_type": "stream",
     "text": [
      "sound/images/jackhammer/62837-7-1-55.png\n"
     ]
    },
    {
     "name": "stderr",
     "output_type": "stream",
     "text": [
      "\r",
      "7156it [06:03,  2.57it/s]"
     ]
    },
    {
     "name": "stdout",
     "output_type": "stream",
     "text": [
      "sound/images/jackhammer/62837-7-1-56.png\n",
      "sound/images/jackhammer/62837-7-1-6.png\n"
     ]
    },
    {
     "name": "stderr",
     "output_type": "stream",
     "text": [
      "7158it [06:04,  2.71it/s]"
     ]
    },
    {
     "name": "stdout",
     "output_type": "stream",
     "text": [
      "sound/images/jackhammer/62837-7-1-61.png\n"
     ]
    },
    {
     "name": "stderr",
     "output_type": "stream",
     "text": [
      "\r",
      "7159it [06:04,  2.75it/s]"
     ]
    },
    {
     "name": "stdout",
     "output_type": "stream",
     "text": [
      "sound/images/jackhammer/62837-7-1-62.png\n"
     ]
    },
    {
     "name": "stderr",
     "output_type": "stream",
     "text": [
      "\r",
      "7160it [06:04,  2.80it/s]"
     ]
    },
    {
     "name": "stdout",
     "output_type": "stream",
     "text": [
      "sound/images/jackhammer/62837-7-1-63.png\n"
     ]
    },
    {
     "name": "stderr",
     "output_type": "stream",
     "text": [
      "\r",
      "7161it [06:05,  2.85it/s]"
     ]
    },
    {
     "name": "stdout",
     "output_type": "stream",
     "text": [
      "sound/images/jackhammer/62837-7-1-64.png\n"
     ]
    },
    {
     "name": "stderr",
     "output_type": "stream",
     "text": [
      "\r",
      "7162it [06:05,  2.89it/s]"
     ]
    },
    {
     "name": "stdout",
     "output_type": "stream",
     "text": [
      "sound/images/jackhammer/62837-7-1-65.png\n"
     ]
    },
    {
     "name": "stderr",
     "output_type": "stream",
     "text": [
      "\r",
      "7163it [06:05,  2.91it/s]"
     ]
    },
    {
     "name": "stdout",
     "output_type": "stream",
     "text": [
      "sound/images/jackhammer/62837-7-1-69.png\n"
     ]
    },
    {
     "name": "stderr",
     "output_type": "stream",
     "text": [
      "\r",
      "7164it [06:06,  2.86it/s]"
     ]
    },
    {
     "name": "stdout",
     "output_type": "stream",
     "text": [
      "sound/images/jackhammer/62837-7-1-72.png\n"
     ]
    },
    {
     "name": "stderr",
     "output_type": "stream",
     "text": [
      "\r",
      "7165it [06:06,  2.89it/s]"
     ]
    },
    {
     "name": "stdout",
     "output_type": "stream",
     "text": [
      "sound/images/jackhammer/62837-7-1-73.png\n"
     ]
    },
    {
     "name": "stderr",
     "output_type": "stream",
     "text": [
      "\r",
      "7166it [06:06,  2.91it/s]"
     ]
    },
    {
     "name": "stdout",
     "output_type": "stream",
     "text": [
      "sound/images/jackhammer/62837-7-1-79.png\n"
     ]
    },
    {
     "name": "stderr",
     "output_type": "stream",
     "text": [
      "\r",
      "7167it [06:07,  2.92it/s]"
     ]
    },
    {
     "name": "stdout",
     "output_type": "stream",
     "text": [
      "sound/images/jackhammer/62837-7-1-80.png\n"
     ]
    },
    {
     "name": "stderr",
     "output_type": "stream",
     "text": [
      "\r",
      "7168it [06:07,  2.94it/s]"
     ]
    },
    {
     "name": "stdout",
     "output_type": "stream",
     "text": [
      "sound/images/jackhammer/62837-7-1-81.png\n"
     ]
    },
    {
     "name": "stderr",
     "output_type": "stream",
     "text": [
      "\r",
      "7169it [06:07,  2.97it/s]"
     ]
    },
    {
     "name": "stdout",
     "output_type": "stream",
     "text": [
      "sound/images/jackhammer/62837-7-1-84.png\n"
     ]
    },
    {
     "name": "stderr",
     "output_type": "stream",
     "text": [
      "\r",
      "7170it [06:09,  1.28it/s]"
     ]
    },
    {
     "name": "stdout",
     "output_type": "stream",
     "text": [
      "sound/images/jackhammer/62837-7-1-9.png\n"
     ]
    },
    {
     "name": "stderr",
     "output_type": "stream",
     "text": [
      "\r",
      "7303it [06:09,  1.83it/s]"
     ]
    },
    {
     "name": "stdout",
     "output_type": "stream",
     "text": [
      "sound/images/jackhammer/68080-7-0-0.png\n",
      "sound/images/jackhammer/68080-7-0-1.png\n",
      "sound/images/jackhammer/68080-7-0-2.png\n",
      "sound/images/jackhammer/68080-7-0-3.png\n",
      "sound/images/jackhammer/68080-7-0-4.png\n",
      "sound/images/jackhammer/68080-7-0-5.png\n",
      "sound/images/jackhammer/68080-7-0-6.png\n",
      "sound/images/jackhammer/68080-7-0-7.png\n",
      "sound/images/jackhammer/68080-7-0-8.png\n"
     ]
    },
    {
     "name": "stderr",
     "output_type": "stream",
     "text": [
      "\r",
      "7315it [06:12,  2.18it/s]"
     ]
    },
    {
     "name": "stdout",
     "output_type": "stream",
     "text": [
      "sound/images/jackhammer/68080-7-0-9.png\n"
     ]
    },
    {
     "name": "stderr",
     "output_type": "stream",
     "text": [
      "\r",
      "7653it [06:13,  3.12it/s]"
     ]
    },
    {
     "name": "stdout",
     "output_type": "stream",
     "text": [
      "sound/images/jackhammer/73623-7-0-0.png\n",
      "sound/images/jackhammer/73623-7-1-0.png\n",
      "sound/images/jackhammer/73623-7-1-1.png\n",
      "sound/images/jackhammer/73623-7-2-0.png\n",
      "sound/images/jackhammer/73623-7-3-0.png\n",
      "sound/images/jackhammer/73623-7-4-0.png\n",
      "sound/images/jackhammer/73623-7-5-0.png\n"
     ]
    },
    {
     "name": "stderr",
     "output_type": "stream",
     "text": [
      "\r",
      "7703it [06:15,  4.24it/s]"
     ]
    },
    {
     "name": "stdout",
     "output_type": "stream",
     "text": [
      "sound/images/jackhammer/73623-7-6-0.png\n",
      "sound/images/jackhammer/77751-7-0-0.png\n"
     ]
    },
    {
     "name": "stderr",
     "output_type": "stream",
     "text": [
      "\r",
      "8004it [06:15,  6.05it/s]"
     ]
    },
    {
     "name": "stdout",
     "output_type": "stream",
     "text": [
      "sound/images/jackhammer/77751-7-0-1.png\n",
      "sound/images/jackhammer/77751-7-1-0.png\n",
      "sound/images/jackhammer/77751-7-1-1.png\n",
      "sound/images/jackhammer/77751-7-2-0.png\n",
      "sound/images/jackhammer/77751-7-3-0.png\n",
      "sound/images/jackhammer/77751-7-4-0.png\n",
      "sound/images/jackhammer/77751-7-5-0.png\n",
      "sound/images/jackhammer/77751-7-6-0.png\n",
      "sound/images/jackhammer/77751-7-7-0.png\n",
      "sound/images/jackhammer/77751-7-8-0.png\n",
      "sound/images/jackhammer/77751-7-9-0.png\n",
      "sound/images/jackhammer/77751-7-9-1.png\n",
      "sound/images/jackhammer/77751-7-9-2.png\n"
     ]
    },
    {
     "name": "stderr",
     "output_type": "stream",
     "text": [
      "\r",
      "8053it [06:20,  6.80it/s]"
     ]
    },
    {
     "name": "stdout",
     "output_type": "stream",
     "text": [
      "sound/images/jackhammer/77751-7-9-3.png\n"
     ]
    },
    {
     "name": "stderr",
     "output_type": "stream",
     "text": [
      "\r",
      "8339it [06:20,  9.69it/s]"
     ]
    },
    {
     "name": "stdout",
     "output_type": "stream",
     "text": [
      "sound/images/jackhammer/88466-7-0-0.png\n",
      "sound/images/jackhammer/90013-7-0-0.png\n",
      "sound/images/jackhammer/90013-7-0-1.png\n",
      "sound/images/jackhammer/90013-7-0-2.png\n",
      "sound/images/jackhammer/90013-7-0-3.png\n",
      "sound/images/jackhammer/90013-7-0-4.png\n",
      "sound/images/jackhammer/90013-7-0-5.png\n",
      "sound/images/jackhammer/90013-7-0-6.png\n",
      "sound/images/jackhammer/90013-7-0-7.png\n",
      "sound/images/jackhammer/90013-7-1-0.png\n",
      "sound/images/jackhammer/90013-7-1-1.png\n",
      "sound/images/jackhammer/90013-7-1-2.png\n",
      "sound/images/jackhammer/90013-7-1-3.png\n",
      "sound/images/jackhammer/90013-7-1-4.png\n"
     ]
    },
    {
     "name": "stderr",
     "output_type": "stream",
     "text": [
      "\r",
      "8403it [06:26,  9.94it/s]"
     ]
    },
    {
     "name": "stdout",
     "output_type": "stream",
     "text": [
      "sound/images/jackhammer/90013-7-1-5.png\n"
     ]
    },
    {
     "name": "stderr",
     "output_type": "stream",
     "text": [
      "\r",
      "8613it [06:27, 14.11it/s]"
     ]
    },
    {
     "name": "stdout",
     "output_type": "stream",
     "text": [
      "sound/images/jackhammer/97606-7-0-0.png\n",
      "sound/images/jackhammer/97606-7-1-0.png\n",
      "sound/images/jackhammer/97606-7-2-0.png\n",
      "sound/images/jackhammer/97606-7-3-0.png\n",
      "sound/images/jackhammer/97606-7-4-0.png\n",
      "sound/images/jackhammer/97606-7-5-0.png\n",
      "sound/images/jackhammer/98223-7-0-0.png\n",
      "sound/images/jackhammer/98223-7-1-0.png\n",
      "sound/images/jackhammer/98223-7-10-0.png\n",
      "sound/images/jackhammer/98223-7-2-0.png\n",
      "sound/images/jackhammer/98223-7-3-0.png\n",
      "sound/images/jackhammer/98223-7-4-0.png\n",
      "sound/images/jackhammer/98223-7-5-0.png\n",
      "sound/images/jackhammer/98223-7-6-0.png\n",
      "sound/images/jackhammer/98223-7-7-0.png\n",
      "sound/images/jackhammer/98223-7-8-0.png\n",
      "sound/images/jackhammer/98223-7-9-0.png\n",
      "sound/images/jackhammer/98859-7-0-0.png\n",
      "sound/images/jackhammer/98859-7-1-0.png\n",
      "sound/images/jackhammer/98859-7-2-0.png\n",
      "sound/images/jackhammer/98859-7-2-1.png\n",
      "sound/images/jackhammer/98859-7-2-2.png\n",
      "sound/images/jackhammer/98859-7-2-3.png\n",
      "sound/images/jackhammer/98859-7-2-4.png\n"
     ]
    },
    {
     "name": "stderr",
     "output_type": "stream",
     "text": [
      "8732it [06:33, 22.20it/s]"
     ]
    },
    {
     "name": "stdout",
     "output_type": "stream",
     "text": [
      "sound/images/jackhammer/98859-7-2-5.png\n",
      "Finished\n"
     ]
    },
    {
     "name": "stderr",
     "output_type": "stream",
     "text": [
      "\n"
     ]
    }
   ],
   "source": [
    "from tqdm import tqdm\n",
    "\n",
    "for index, row in tqdm(metadata.iterrows()):\n",
    "    if row['class'] == 'jackhammer' :\n",
    "        \n",
    "        sound2img(row[\"slice_file_name\"], row[\"class\"])  \n",
    "\n",
    "print('Finished')\n",
    "\n"
   ]
  },
  {
   "cell_type": "code",
   "execution_count": null,
   "metadata": {},
   "outputs": [],
   "source": [
    "import matplotlib.pyplot as plt\n",
    "import pandas as pd"
   ]
  },
  {
   "cell_type": "code",
   "execution_count": null,
   "metadata": {},
   "outputs": [],
   "source": [
    "df = pd.read_csv(\"acc_loss.csv\")"
   ]
  },
  {
   "cell_type": "code",
   "execution_count": null,
   "metadata": {},
   "outputs": [],
   "source": [
    "df.head()"
   ]
  },
  {
   "cell_type": "code",
   "execution_count": null,
   "metadata": {},
   "outputs": [],
   "source": []
  },
  {
   "cell_type": "code",
   "execution_count": null,
   "metadata": {},
   "outputs": [],
   "source": [
    "def plot_accuracies(df):\n",
    "    accuracies = df['val_acc']\n",
    "    plt.plot(accuracies, '-x')\n",
    "    plt.xlabel('epoch')\n",
    "    plt.ylabel('accuracy')\n",
    "    plt.title('Accuracy vs. No. of epochs');"
   ]
  },
  {
   "cell_type": "code",
   "execution_count": null,
   "metadata": {},
   "outputs": [],
   "source": [
    "def plot_losses(df):\n",
    "    train_losses = df['train_loss']\n",
    "    val_losses = df['val_loss']\n",
    "    plt.plot(train_losses, '-bx')\n",
    "    plt.plot(val_losses, '-rx')\n",
    "    plt.xlabel('epoch')\n",
    "    plt.ylabel('loss')\n",
    "    plt.legend(['Training', 'Validation'])\n",
    "    plt.title('Loss vs. No. of epochs');"
   ]
  },
  {
   "cell_type": "code",
   "execution_count": null,
   "metadata": {},
   "outputs": [],
   "source": [
    "plot_accuracies(df)"
   ]
  },
  {
   "cell_type": "code",
   "execution_count": null,
   "metadata": {},
   "outputs": [],
   "source": [
    "plot_losses(df)"
   ]
  },
  {
   "cell_type": "code",
   "execution_count": null,
   "metadata": {},
   "outputs": [],
   "source": []
  },
  {
   "cell_type": "code",
   "execution_count": null,
   "metadata": {},
   "outputs": [],
   "source": []
  }
 ],
 "metadata": {
  "kernelspec": {
   "display_name": "Python 3",
   "language": "python",
   "name": "python3"
  },
  "language_info": {
   "codemirror_mode": {
    "name": "ipython",
    "version": 3
   },
   "file_extension": ".py",
   "mimetype": "text/x-python",
   "name": "python",
   "nbconvert_exporter": "python",
   "pygments_lexer": "ipython3",
   "version": "3.8.5"
  }
 },
 "nbformat": 4,
 "nbformat_minor": 4
}
