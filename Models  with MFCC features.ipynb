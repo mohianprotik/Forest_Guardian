{
 "cells": [
  {
   "cell_type": "markdown",
   "metadata": {},
   "source": [
    "#### Audio Classification Data Preprocessing"
   ]
  },
  {
   "cell_type": "markdown",
   "metadata": {},
   "source": [
    "### Extract Features\n",
    "Here we will be using Mel-Frequency Cepstral Coefficients(MFCC) from the audio \n",
    "samples.\n",
    "The MFCC summarises the frequency distribution across the window size, so it is possible to analyse both the frequency and time characteristics of the sound. These audio representations will allow us to identify features for classification."
   ]
  },
  {
   "cell_type": "code",
   "execution_count": 85,
   "metadata": {},
   "outputs": [],
   "source": [
    "import numpy as np\n",
    "import pandas as pd\n",
    "import numpy as np\n",
    "import os\n",
    "import contextlib\n",
    "from tqdm import tqdm\n",
    "import wave\n",
    "import librosa"
   ]
  },
  {
   "cell_type": "code",
   "execution_count": null,
   "metadata": {},
   "outputs": [],
   "source": []
  },
  {
   "cell_type": "code",
   "execution_count": 86,
   "metadata": {},
   "outputs": [],
   "source": [
    "def features_extractor(file):\n",
    "    audio, sample_rate = librosa.load(file, res_type='kaiser_fast') \n",
    "    mfccs_features = librosa.feature.mfcc(y=audio, sr=sample_rate, n_mfcc=13)\n",
    "    mfccs_1 = librosa.feature.delta(mfccs_features)\n",
    "    mfccs_2 = librosa.feature.delta(mfccs_features,order =2)\n",
    "    new_mfcc = np.concatenate((mfccs_features,mfccs_1,mfccs_2))\n",
    "    mfccs_scaled_features = np.mean(new_mfcc.T,axis=0)    \n",
    "    return mfccs_scaled_features\n",
    "    "
   ]
  },
  {
   "cell_type": "code",
   "execution_count": null,
   "metadata": {},
   "outputs": [],
   "source": []
  },
  {
   "cell_type": "code",
   "execution_count": null,
   "metadata": {},
   "outputs": [],
   "source": []
  },
  {
   "cell_type": "code",
   "execution_count": null,
   "metadata": {},
   "outputs": [],
   "source": []
  },
  {
   "cell_type": "code",
   "execution_count": 87,
   "metadata": {},
   "outputs": [],
   "source": [
    "\n",
    "extracted_features=[]"
   ]
  },
  {
   "cell_type": "markdown",
   "metadata": {},
   "source": [
    "\n",
    "### Now we iterate through every audio file and extract features \n",
    "### using Mel-Frequency Cepstral Coefficients\n",
    "metadata=pd.read_csv('../../Thesis/Data/Urban4k/Dataset1/UrbanSound8K.csv')\n",
    "audio_dataset_path='../../Thesis/Data/Urban4k/Dataset1/'\n",
    "cnt=0\n",
    "for index_num,row in tqdm(metadata.iterrows()):\n",
    "    file_name = os.path.join(os.path.abspath(audio_dataset_path),'fold'+str(row[\"fold\"])+'/',str(row[\"slice_file_name\"]))\n",
    "    final_class_labels=row[\"class\"]\n",
    "    if final_class_labels == 'gun_shot':\n",
    "        try:\n",
    "            with contextlib.closing(wave.open( file_name,'r')) as f:\n",
    "                    frames = f.getnframes()\n",
    "                    rate = f.getframerate()\n",
    "                    duration = frames / float(rate)\n",
    "        #print(wav,sr)\n",
    "        #librosa.display.waveplot(wav, sr)\n",
    "        #plt.colorbar()\n",
    "        #plt.close()\n",
    "                    if duration ==4.0:\n",
    "                        cnt+=1\n",
    "                        data=features_extractor(file_name)\n",
    "                        extracted_features.append([data,'gun_shot'])\n",
    "        except:\n",
    "            pass\n",
    "print(cnt)\n",
    "        \n"
   ]
  },
  {
   "cell_type": "code",
   "execution_count": 88,
   "metadata": {},
   "outputs": [
    {
     "name": "stdout",
     "output_type": "stream",
     "text": [
      "\n",
      "\n",
      "\n",
      "\n",
      "\n",
      "\n",
      "\n",
      "\n",
      "\n",
      "\n",
      "\n",
      "\n",
      "\n",
      "\n",
      "\n",
      "\n",
      "\n",
      "\n",
      "\n",
      "\n",
      "\n",
      "\n",
      "\n",
      "\n",
      "\n",
      "\n",
      "\n",
      "\n",
      "\n",
      "\n",
      "\n",
      "\n",
      "\n",
      "\n",
      "\n",
      "\n",
      "\n",
      "\n",
      "\n",
      "\n",
      "\n",
      "\n",
      "\n",
      "\n",
      "\n",
      "\n",
      "\n",
      "\n",
      "\n",
      "\n",
      "\n",
      "\n",
      "\n",
      "\n",
      "\n",
      "\n",
      "\n",
      "\n",
      "\n",
      "\n",
      "\n",
      "\n",
      "\n",
      "\n",
      "\n",
      "\n",
      "\n",
      "\n",
      "\n",
      "\n",
      "\n",
      "\n",
      "\n",
      "\n",
      "\n",
      "\n",
      "\n",
      "\n",
      "\n",
      "\n",
      "\n",
      "\n",
      "\n",
      "\n",
      "\n",
      "\n",
      "\n",
      "\n",
      "\n",
      "\n",
      "\n",
      "\n",
      "\n",
      "\n",
      "\n",
      "\n",
      "\n",
      "\n",
      "\n",
      "\n",
      "\n",
      "\n",
      "\n",
      "\n",
      "\n",
      "\n",
      "\n",
      "\n",
      "\n",
      "\n",
      "\n",
      "\n",
      "\n",
      "\n",
      "\n",
      "\n",
      "\n",
      "\n",
      "\n",
      "\n",
      "\n",
      "\n",
      "\n",
      "\n",
      "\n",
      "\n",
      "\n",
      "\n",
      "\n",
      "\n",
      "\n",
      "\n",
      "\n",
      "\n",
      "\n",
      "\n",
      "\n",
      "\n",
      "\n",
      "\n",
      "\n",
      "\n",
      "\n",
      "\n",
      "\n",
      "\n",
      "\n",
      "\n",
      "\n",
      "\n",
      "\n",
      "\n",
      "\n",
      "\n",
      "\n",
      "\n",
      "\n",
      "\n",
      "\n",
      "\n",
      "\n",
      "\n",
      "\n",
      "\n",
      "\n",
      "\n",
      "\n",
      "\n",
      "\n",
      "\n",
      "\n",
      "\n",
      "\n",
      "\n",
      "\n",
      "\n",
      "\n",
      "\n",
      "\n",
      "\n",
      "\n",
      "\n",
      "\n",
      "\n",
      "\n",
      "\n",
      "\n",
      "\n",
      "\n",
      "\n",
      "\n",
      "\n",
      "\n",
      "\n",
      "\n",
      "\n",
      "\n",
      "\n",
      "\n",
      "\n",
      "\n",
      "\n",
      "\n",
      "\n",
      "\n",
      "\n",
      "\n",
      "\n",
      "\n",
      "\n",
      "\n",
      "\n",
      "\n",
      "\n",
      "\n",
      "\n",
      "\n",
      "\n",
      "\n",
      "\n",
      "\n",
      "\n",
      "\n",
      "\n",
      "\n",
      "\n",
      "\n",
      "\n",
      "\n",
      "\n",
      "\n",
      "\n",
      "\n",
      "\n",
      "\n",
      "\n",
      "\n",
      "\n",
      "\n",
      "\n",
      "\n",
      "\n",
      "\n",
      "\n",
      "\n",
      "\n",
      "\n",
      "\n",
      "\n",
      "\n",
      "\n",
      "\n",
      "\n",
      "\n",
      "\n",
      "\n",
      "\n",
      "\n",
      "\n",
      "\n",
      "\n",
      "\n",
      "\n",
      "\n",
      "\n",
      "\n",
      "\n",
      "\n",
      "\n",
      "\n",
      "\n",
      "\n",
      "\n",
      "\n",
      "\n",
      "\n",
      "\n",
      "\n",
      "\n",
      "\n",
      "\n",
      "\n",
      "\n",
      "\n",
      "\n",
      "\n",
      "\n",
      "\n",
      "\n",
      "\n",
      "\n",
      "\n",
      "\n",
      "\n",
      "\n",
      "\n",
      "\n",
      "\n",
      "\n",
      "\n",
      "\n",
      "\n",
      "\n",
      "\n",
      "\n",
      "\n",
      "\n",
      "\n",
      "\n",
      "\n",
      "\n",
      "\n",
      "\n",
      "\n",
      "\n",
      "\n",
      "\n",
      "\n",
      "\n",
      "\n",
      "\n",
      "\n",
      "\n",
      "\n",
      "\n",
      "\n",
      "\n",
      "\n",
      "\n",
      "\n",
      "\n",
      "\n",
      "\n",
      "\n",
      "\n",
      "\n",
      "\n",
      "\n",
      "\n",
      "\n",
      "\n",
      "\n",
      "\n",
      "\n",
      "\n",
      "\n",
      "\n",
      "\n",
      "\n",
      "\n",
      "\n",
      "\n",
      "\n",
      "\n",
      "\n",
      "\n",
      "\n",
      "\n",
      "\n",
      "\n",
      "\n",
      "\n",
      "\n",
      "\n",
      "\n",
      "\n",
      "\n",
      "\n",
      "\n",
      "\n",
      "\n",
      "\n",
      "\n",
      "\n",
      "\n",
      "\n",
      "\n",
      "\n",
      "\n",
      "\n",
      "\n",
      "\n",
      "\n",
      "\n",
      "\n",
      "\n",
      "\n",
      "\n",
      "\n",
      "\n",
      "\n",
      "\n",
      "\n",
      "\n",
      "\n",
      "\n",
      "\n",
      "\n",
      "\n",
      "\n",
      "\n",
      "\n",
      "\n",
      "\n",
      "\n",
      "\n",
      "\n",
      "\n",
      "\n",
      "\n",
      "\n",
      "\n",
      "\n",
      "\n",
      "\n",
      "\n",
      "\n",
      "\n",
      "\n",
      "\n",
      "\n",
      "\n",
      "\n",
      "\n",
      "\n",
      "\n",
      "\n",
      "\n",
      "\n",
      "\n",
      "\n",
      "\n",
      "\n",
      "\n",
      "\n",
      "\n",
      "\n",
      "\n",
      "\n",
      "\n",
      "\n",
      "\n",
      "\n",
      "\n",
      "\n",
      "\n",
      "\n",
      "\n",
      "\n",
      "\n",
      "\n",
      "\n",
      "\n",
      "\n",
      "\n",
      "\n",
      "\n",
      "\n",
      "\n",
      "\n",
      "\n",
      "\n",
      "\n",
      "\n",
      "\n",
      "\n",
      "\n",
      "\n",
      "\n",
      "\n",
      "\n",
      "\n",
      "\n",
      "\n",
      "\n",
      "\n",
      "\n",
      "\n",
      "\n"
     ]
    }
   ],
   "source": [
    "#For GunSHot\n",
    "\n",
    "\n",
    "path = '../../Thesis/New dataset Creation/gun shot/'\n",
    "files = os.listdir(path)\n",
    "\n",
    "for f in files:\n",
    "    file_name = os.path.join(os.path.abspath(path),str(f))\n",
    "    \n",
    "    data=features_extractor(file_name)\n",
    "\n",
    "    extracted_features.append([data,'gun_shot'])\n",
    "    print()\n"
   ]
  },
  {
   "cell_type": "code",
   "execution_count": 89,
   "metadata": {},
   "outputs": [
    {
     "name": "stderr",
     "output_type": "stream",
     "text": [
      "8732it [00:04, 2180.33it/s]"
     ]
    },
    {
     "name": "stdout",
     "output_type": "stream",
     "text": [
      "124\n"
     ]
    },
    {
     "name": "stderr",
     "output_type": "stream",
     "text": [
      "\n"
     ]
    }
   ],
   "source": [
    "import numpy as np\n",
    "import contextlib\n",
    "from tqdm import tqdm\n",
    "import wave\n",
    "### Now we iterate through every audio file and extract features \n",
    "### using Mel-Frequency Cepstral Coefficients\n",
    "metadata=pd.read_csv('../../Thesis/Data/Urban4k/Dataset1 - Copy/UrbanSound8K.csv')\n",
    "audio_dataset_path='../../Thesis/Data/Urban4k/Dataset1 - Copy/'\n",
    "cnt=0\n",
    "for index_num,row in tqdm(metadata.iterrows()):\n",
    "    file_name = os.path.join(os.path.abspath(audio_dataset_path),'fold'+str(row[\"fold\"])+'/',str(row[\"slice_file_name\"]))\n",
    "    final_class_labels=row[\"class\"]\n",
    "    if final_class_labels == 'gun_shot':\n",
    "        \n",
    "        try:\n",
    "            with contextlib.closing(wave.open( file_name,'r')) as f:\n",
    "                    frames = f.getnframes()\n",
    "                    rate = f.getframerate()\n",
    "                    duration = frames / float(rate)\n",
    "                    #print(duration)\n",
    "        #print(wav,sr)\n",
    "        #librosa.display.waveplot(wav, sr)\n",
    "        #plt.colorbar()\n",
    "        #plt.close()\n",
    "                    if duration >=1.5:\n",
    "                        cnt+=1\n",
    "                        data=features_extractor(file_name)\n",
    "                        extracted_features.append([data,'gun_shot'])\n",
    "        except:\n",
    "            pass\n",
    "print(cnt)\n",
    "        \n"
   ]
  },
  {
   "cell_type": "code",
   "execution_count": null,
   "metadata": {},
   "outputs": [],
   "source": []
  },
  {
   "cell_type": "code",
   "execution_count": 90,
   "metadata": {},
   "outputs": [
    {
     "name": "stdout",
     "output_type": "stream",
     "text": [
      "292\n"
     ]
    }
   ],
   "source": [
    "\n",
    "#C:\\Users\\mohia\\Documents\\Thesis\\New dataset Creation\\axe sound\n",
    "path = '../../Thesis/New dataset Creation/axe sound/'\n",
    "files = os.listdir(path)\n",
    "\n",
    "cnt=0\n",
    "for f in files:\n",
    "    file_name = os.path.join(os.path.abspath(path),str(f))\n",
    "\n",
    "    data=features_extractor(file_name)\n",
    "    cnt+=1\n",
    "    extracted_features.append([data,'tree_cutting'])\n",
    "\n",
    "print(cnt)\n"
   ]
  },
  {
   "cell_type": "code",
   "execution_count": null,
   "metadata": {},
   "outputs": [],
   "source": []
  },
  {
   "cell_type": "code",
   "execution_count": 91,
   "metadata": {},
   "outputs": [
    {
     "name": "stderr",
     "output_type": "stream",
     "text": [
      "8732it [00:03, 2275.23it/s]"
     ]
    },
    {
     "name": "stdout",
     "output_type": "stream",
     "text": [
      "70\n"
     ]
    },
    {
     "name": "stderr",
     "output_type": "stream",
     "text": [
      "\n"
     ]
    }
   ],
   "source": [
    "import numpy as np\n",
    "import contextlib\n",
    "from tqdm import tqdm\n",
    "import wave\n",
    "### Now we iterate through every audio file and extract features \n",
    "### using Mel-Frequency Cepstral Coefficients\n",
    "metadata=pd.read_csv('../../Thesis/Data/Urban4k/Dataset1/UrbanSound8K.csv')\n",
    "audio_dataset_path='../../Thesis/Data/Urban4k/Dataset1/'\n",
    "cnt=0\n",
    "for index_num,row in tqdm(metadata.iterrows()):\n",
    "    file_name = os.path.join(os.path.abspath(audio_dataset_path),'fold'+str(row[\"fold\"])+'/',str(row[\"slice_file_name\"]))\n",
    "    final_class_labels=row[\"class\"]\n",
    "    if final_class_labels == 'drilling':\n",
    "        try:\n",
    "            with contextlib.closing(wave.open( file_name,'r')) as f:\n",
    "                    frames = f.getnframes()\n",
    "                    rate = f.getframerate()\n",
    "                    duration = frames / float(rate)\n",
    "        #print(wav,sr)\n",
    "        #librosa.display.waveplot(wav, sr)\n",
    "        #plt.colorbar()\n",
    "        #plt.close()\n",
    "                    if duration ==4.0 and cnt < 70:\n",
    "                        cnt+=1\n",
    "                        data=features_extractor(file_name)\n",
    "                        extracted_features.append([data,'tree_cutting'])\n",
    "        except:\n",
    "            pass\n",
    "print(cnt)\n",
    "        \n"
   ]
  },
  {
   "cell_type": "code",
   "execution_count": 92,
   "metadata": {},
   "outputs": [
    {
     "name": "stderr",
     "output_type": "stream",
     "text": [
      "8732it [00:03, 2772.32it/s]"
     ]
    },
    {
     "name": "stdout",
     "output_type": "stream",
     "text": [
      "60\n"
     ]
    },
    {
     "name": "stderr",
     "output_type": "stream",
     "text": [
      "\n"
     ]
    }
   ],
   "source": [
    "import numpy as np\n",
    "import contextlib\n",
    "from tqdm import tqdm\n",
    "import wave\n",
    "### Now we iterate through every audio file and extract features \n",
    "### using Mel-Frequency Cepstral Coefficients\n",
    "\n",
    "cnt=0\n",
    "for index_num,row in tqdm(metadata.iterrows()):\n",
    "    file_name = os.path.join(os.path.abspath(audio_dataset_path),'fold'+str(row[\"fold\"])+'/',str(row[\"slice_file_name\"]))\n",
    "    final_class_labels=row[\"class\"]\n",
    "    if final_class_labels == 'jackhammer':\n",
    "        try:\n",
    "            with contextlib.closing(wave.open( file_name,'r')) as f:\n",
    "                    frames = f.getnframes()\n",
    "                    rate = f.getframerate()\n",
    "                    duration = frames / float(rate)\n",
    "        #print(wav,sr)\n",
    "        #librosa.display.waveplot(wav, sr)\n",
    "        #plt.colorbar()\n",
    "        #plt.close()\n",
    "                    if duration ==4.0 and cnt < 60:\n",
    "                        cnt+=1\n",
    "                        data=features_extractor(file_name)\n",
    "                        extracted_features.append([data,'tree_cutting'])\n",
    "        except:\n",
    "            pass\n",
    "print(cnt)\n",
    "        \n"
   ]
  },
  {
   "cell_type": "code",
   "execution_count": 93,
   "metadata": {},
   "outputs": [
    {
     "name": "stderr",
     "output_type": "stream",
     "text": [
      "2000it [00:01, 1051.29it/s]"
     ]
    },
    {
     "name": "stdout",
     "output_type": "stream",
     "text": [
      "40\n"
     ]
    },
    {
     "name": "stderr",
     "output_type": "stream",
     "text": [
      "\n"
     ]
    }
   ],
   "source": [
    "metadata = pd.read_csv('../ESC-50-master/meta/esc50.csv')\n",
    "\n",
    "\n",
    "import numpy as np\n",
    "from tqdm import tqdm\n",
    "### Now we iterate through every audio file and extract features \n",
    "### using Mel-Frequency Cepstral Coefficients\n",
    "\n",
    "cnt = 0\n",
    "for index_num,row in tqdm(metadata.iterrows()):\n",
    "    \n",
    "    if row['category'] == 'chainsaw':\n",
    "        data = features_extractor( '../ESC-50-master/audio/'+ row[\"filename\"])\n",
    "        cnt+=1\n",
    "        extracted_features.append([data,'tree_cutting'])\n",
    "        \n",
    "print(cnt)\n",
    " "
   ]
  },
  {
   "cell_type": "code",
   "execution_count": null,
   "metadata": {},
   "outputs": [],
   "source": []
  },
  {
   "cell_type": "code",
   "execution_count": 94,
   "metadata": {},
   "outputs": [
    {
     "name": "stderr",
     "output_type": "stream",
     "text": [
      "2000it [00:01, 1054.62it/s]"
     ]
    },
    {
     "name": "stdout",
     "output_type": "stream",
     "text": [
      "40\n"
     ]
    },
    {
     "name": "stderr",
     "output_type": "stream",
     "text": [
      "\n"
     ]
    }
   ],
   "source": [
    "metadata = pd.read_csv('../ESC-50-master/meta/esc50.csv')\n",
    "\n",
    "\n",
    "cnt = 0\n",
    "for index_num,row in tqdm(metadata.iterrows()):\n",
    "    \n",
    "    if row['category'] == 'hand_saw':\n",
    "      \n",
    "        cnt+=1\n",
    "        data = features_extractor( '../ESC-50-master/audio/'+ row[\"filename\"])\n",
    "        extracted_features.append([data,'tree_cutting'])\n",
    "\n",
    "    \n",
    "print(cnt)\n",
    " "
   ]
  },
  {
   "cell_type": "code",
   "execution_count": null,
   "metadata": {},
   "outputs": [],
   "source": []
  },
  {
   "cell_type": "code",
   "execution_count": 95,
   "metadata": {},
   "outputs": [
    {
     "name": "stdout",
     "output_type": "stream",
     "text": [
      "401\n"
     ]
    }
   ],
   "source": [
    "\n",
    "#C:\\Users\\mohia\\Documents\\Thesis\\New dataset Creation\\axe sound\n",
    "path = '../../Thesis/New dataset Creation/bg noise/'\n",
    "files = os.listdir(path)\n",
    "\n",
    "count = 0\n",
    "for f in files:\n",
    "    if count > 400:\n",
    "        break\n",
    "    else:\n",
    "        file_name = os.path.join(os.path.abspath(path),str(f))\n",
    "\n",
    "        data=features_extractor(file_name)\n",
    "        \n",
    "        extracted_features.append([data,'bg_noise'])\n",
    "        count=count+1\n",
    "        \n",
    "print(count)\n",
    "    "
   ]
  },
  {
   "cell_type": "code",
   "execution_count": null,
   "metadata": {},
   "outputs": [],
   "source": []
  },
  {
   "cell_type": "code",
   "execution_count": null,
   "metadata": {},
   "outputs": [],
   "source": []
  },
  {
   "cell_type": "code",
   "execution_count": 96,
   "metadata": {},
   "outputs": [
    {
     "data": {
      "text/plain": [
       "array(['dog', 'chirping_birds', 'vacuum_cleaner', 'thunderstorm',\n",
       "       'door_wood_knock', 'can_opening', 'crow', 'clapping', 'fireworks',\n",
       "       'chainsaw', 'airplane', 'mouse_click', 'pouring_water', 'train',\n",
       "       'sheep', 'water_drops', 'church_bells', 'clock_alarm',\n",
       "       'keyboard_typing', 'wind', 'footsteps', 'frog', 'cow',\n",
       "       'brushing_teeth', 'car_horn', 'crackling_fire', 'helicopter',\n",
       "       'drinking_sipping', 'rain', 'insects', 'laughing', 'hen', 'engine',\n",
       "       'breathing', 'crying_baby', 'hand_saw', 'coughing',\n",
       "       'glass_breaking', 'snoring', 'toilet_flush', 'pig',\n",
       "       'washing_machine', 'clock_tick', 'sneezing', 'rooster',\n",
       "       'sea_waves', 'siren', 'cat', 'door_wood_creaks', 'crickets'],\n",
       "      dtype=object)"
      ]
     },
     "execution_count": 96,
     "metadata": {},
     "output_type": "execute_result"
    }
   ],
   "source": [
    "metadata['category'].unique()"
   ]
  },
  {
   "cell_type": "code",
   "execution_count": 97,
   "metadata": {},
   "outputs": [
    {
     "name": "stderr",
     "output_type": "stream",
     "text": [
      "2000it [00:12, 162.56it/s]"
     ]
    },
    {
     "name": "stdout",
     "output_type": "stream",
     "text": [
      "280\n"
     ]
    },
    {
     "name": "stderr",
     "output_type": "stream",
     "text": [
      "\n"
     ]
    }
   ],
   "source": [
    "metadata = pd.read_csv('../ESC-50-master/meta/esc50.csv')\n",
    "\n",
    "\n",
    "cnt = 0\n",
    "for index_num,row in tqdm(metadata.iterrows()):\n",
    "    \n",
    "    if row['category'] in ['cat','pig','crow','hen','rain','wind','sea_waves']:\n",
    "\n",
    "        cnt+=1\n",
    "        data = features_extractor( '../ESC-50-master/audio/'+ row[\"filename\"])\n",
    "        extracted_features.append([data,'bg_noise'])\n",
    "    \n",
    "print(cnt)\n",
    " "
   ]
  },
  {
   "cell_type": "code",
   "execution_count": null,
   "metadata": {},
   "outputs": [],
   "source": []
  },
  {
   "cell_type": "code",
   "execution_count": null,
   "metadata": {},
   "outputs": [],
   "source": []
  },
  {
   "cell_type": "code",
   "execution_count": null,
   "metadata": {},
   "outputs": [],
   "source": []
  },
  {
   "cell_type": "code",
   "execution_count": null,
   "metadata": {},
   "outputs": [],
   "source": []
  },
  {
   "cell_type": "code",
   "execution_count": 98,
   "metadata": {},
   "outputs": [
    {
     "data": {
      "text/html": [
       "<div>\n",
       "<style scoped>\n",
       "    .dataframe tbody tr th:only-of-type {\n",
       "        vertical-align: middle;\n",
       "    }\n",
       "\n",
       "    .dataframe tbody tr th {\n",
       "        vertical-align: top;\n",
       "    }\n",
       "\n",
       "    .dataframe thead th {\n",
       "        text-align: right;\n",
       "    }\n",
       "</style>\n",
       "<table border=\"1\" class=\"dataframe\">\n",
       "  <thead>\n",
       "    <tr style=\"text-align: right;\">\n",
       "      <th></th>\n",
       "      <th>feature</th>\n",
       "      <th>class</th>\n",
       "    </tr>\n",
       "  </thead>\n",
       "  <tbody>\n",
       "    <tr>\n",
       "      <th>1781</th>\n",
       "      <td>[-446.21368, 21.95397, -5.3842106, 6.9660892, ...</td>\n",
       "      <td>bg_noise</td>\n",
       "    </tr>\n",
       "    <tr>\n",
       "      <th>1782</th>\n",
       "      <td>[-424.36374, 15.846222, -4.535247, 1.4702482, ...</td>\n",
       "      <td>bg_noise</td>\n",
       "    </tr>\n",
       "    <tr>\n",
       "      <th>1783</th>\n",
       "      <td>[-151.68239, 124.86681, -83.18654, 12.285122, ...</td>\n",
       "      <td>bg_noise</td>\n",
       "    </tr>\n",
       "    <tr>\n",
       "      <th>1784</th>\n",
       "      <td>[-202.40575, 137.02861, -51.016354, 5.902079, ...</td>\n",
       "      <td>bg_noise</td>\n",
       "    </tr>\n",
       "    <tr>\n",
       "      <th>1785</th>\n",
       "      <td>[-212.76106, 128.5414, -58.30925, 7.472452, -8...</td>\n",
       "      <td>bg_noise</td>\n",
       "    </tr>\n",
       "  </tbody>\n",
       "</table>\n",
       "</div>"
      ],
      "text/plain": [
       "                                                feature     class\n",
       "1781  [-446.21368, 21.95397, -5.3842106, 6.9660892, ...  bg_noise\n",
       "1782  [-424.36374, 15.846222, -4.535247, 1.4702482, ...  bg_noise\n",
       "1783  [-151.68239, 124.86681, -83.18654, 12.285122, ...  bg_noise\n",
       "1784  [-202.40575, 137.02861, -51.016354, 5.902079, ...  bg_noise\n",
       "1785  [-212.76106, 128.5414, -58.30925, 7.472452, -8...  bg_noise"
      ]
     },
     "execution_count": 98,
     "metadata": {},
     "output_type": "execute_result"
    }
   ],
   "source": [
    "### converting extracted_features to Pandas dataframe\n",
    "extracted_features_df=pd.DataFrame(extracted_features,columns=['feature','class'])\n",
    "extracted_features_df.tail()"
   ]
  },
  {
   "cell_type": "code",
   "execution_count": null,
   "metadata": {},
   "outputs": [],
   "source": []
  },
  {
   "cell_type": "code",
   "execution_count": 99,
   "metadata": {},
   "outputs": [
    {
     "data": {
      "text/plain": [
       "array([-3.30508545e+02,  1.15607994e+02,  9.54413128e+00,  1.84034481e+01,\n",
       "        6.30413866e+00,  1.05801191e+01,  3.63476396e+00,  5.80019712e+00,\n",
       "        2.24023566e-01,  7.07113457e+00, -5.20546377e-01,  1.78748333e+00,\n",
       "        2.32202315e+00, -2.85207242e-01, -1.99906558e-01,  6.14106283e-02,\n",
       "        2.31983587e-02, -1.33113256e-02,  1.97519921e-02, -5.52207269e-02,\n",
       "       -6.67266101e-02, -4.74797077e-02, -2.17211973e-02,  8.33630189e-03,\n",
       "        8.26903153e-03,  2.80040130e-02,  1.43390698e-02,  8.61242041e-03,\n",
       "       -5.92772737e-02, -2.71607284e-03,  3.14178839e-02, -5.39066177e-03,\n",
       "        3.86844240e-02,  1.70796469e-03,  1.11868614e-02, -2.44536176e-02,\n",
       "       -2.05750763e-02,  2.26225387e-02, -4.02198732e-02], dtype=float32)"
      ]
     },
     "execution_count": 99,
     "metadata": {},
     "output_type": "execute_result"
    }
   ],
   "source": [
    "extracted_features_df.feature[0]"
   ]
  },
  {
   "cell_type": "code",
   "execution_count": 100,
   "metadata": {},
   "outputs": [
    {
     "data": {
      "text/plain": [
       "bg_noise        681\n",
       "gun_shot        603\n",
       "tree_cutting    502\n",
       "Name: class, dtype: int64"
      ]
     },
     "execution_count": 100,
     "metadata": {},
     "output_type": "execute_result"
    }
   ],
   "source": [
    "extracted_features_df['class'].value_counts()"
   ]
  },
  {
   "cell_type": "code",
   "execution_count": 101,
   "metadata": {},
   "outputs": [
    {
     "name": "stderr",
     "output_type": "stream",
     "text": [
      "C:\\Users\\mohia\\anaconda3\\lib\\site-packages\\pandas\\core\\internals\\managers.py:1976: FutureWarning: elementwise comparison failed; returning scalar instead, but in the future will perform elementwise comparison\n",
      "  op = lambda x: operator.eq(x, b)\n"
     ]
    }
   ],
   "source": [
    "extracted_features_df = extracted_features_df.replace({'gun': 'gun_shot'})"
   ]
  },
  {
   "cell_type": "code",
   "execution_count": 102,
   "metadata": {},
   "outputs": [],
   "source": [
    "extracted_features_df['feature']\n",
    "df_feature = pd.DataFrame(extracted_features_df, columns = ['feature', 'class'])"
   ]
  },
  {
   "cell_type": "code",
   "execution_count": null,
   "metadata": {},
   "outputs": [],
   "source": []
  },
  {
   "cell_type": "code",
   "execution_count": 103,
   "metadata": {},
   "outputs": [],
   "source": [
    "df_feature.to_csv('data.csv')"
   ]
  },
  {
   "cell_type": "code",
   "execution_count": null,
   "metadata": {},
   "outputs": [],
   "source": []
  },
  {
   "cell_type": "code",
   "execution_count": 104,
   "metadata": {},
   "outputs": [
    {
     "data": {
      "text/plain": [
       "(1786, 2)"
      ]
     },
     "execution_count": 104,
     "metadata": {},
     "output_type": "execute_result"
    }
   ],
   "source": [
    "extracted_features_df.shape"
   ]
  },
  {
   "cell_type": "code",
   "execution_count": 105,
   "metadata": {},
   "outputs": [],
   "source": [
    "### Split the dataset into independent and dependent dataset\n",
    "X=np.array(extracted_features_df['feature'].tolist())\n",
    "y=np.array(extracted_features_df['class'].tolist())"
   ]
  },
  {
   "cell_type": "code",
   "execution_count": 106,
   "metadata": {},
   "outputs": [
    {
     "data": {
      "text/plain": [
       "array(['gun_shot', 'gun_shot', 'gun_shot', ..., 'bg_noise', 'bg_noise',\n",
       "       'bg_noise'], dtype='<U12')"
      ]
     },
     "execution_count": 106,
     "metadata": {},
     "output_type": "execute_result"
    }
   ],
   "source": [
    "y"
   ]
  },
  {
   "cell_type": "code",
   "execution_count": 107,
   "metadata": {},
   "outputs": [
    {
     "data": {
      "text/plain": [
       "array([-2.16200455e+02,  1.21176140e+02, -3.94936204e+00,  3.13326416e+01,\n",
       "        2.64041638e+00,  1.41369886e+01, -1.20108461e+00,  8.06697655e+00,\n",
       "       -1.56819499e+00,  7.84995508e+00, -1.25789809e+00,  6.63636303e+00,\n",
       "       -1.26824260e+00, -1.31954801e+00,  3.06188494e-01, -1.17735870e-01,\n",
       "       -1.47549817e-02, -3.27989385e-02, -7.47528151e-02,  8.44035149e-02,\n",
       "       -1.09027036e-01,  1.02222189e-01, -1.50640294e-01, -2.53695510e-02,\n",
       "       -1.10794269e-01,  4.47613373e-02,  9.01006442e-03, -4.60263565e-02,\n",
       "        3.86068318e-03, -5.02499118e-02,  1.43441847e-02, -5.28500415e-03,\n",
       "        1.70429039e-03, -2.83143762e-02, -1.22083677e-02, -4.98115830e-03,\n",
       "       -5.31034544e-03, -9.14367195e-03, -2.37295665e-02], dtype=float32)"
      ]
     },
     "execution_count": 107,
     "metadata": {},
     "output_type": "execute_result"
    }
   ],
   "source": [
    "X[1]"
   ]
  },
  {
   "cell_type": "code",
   "execution_count": 108,
   "metadata": {},
   "outputs": [],
   "source": [
    "\n",
    "y = pd.DataFrame(y,columns=['class'])\n",
    "y=y.replace({'gun_shot':1, 'bg_noise':0,'tree_cutting':2 })\n",
    "y=pd.DataFrame(y).to_numpy()\n"
   ]
  },
  {
   "cell_type": "code",
   "execution_count": 109,
   "metadata": {},
   "outputs": [
    {
     "data": {
      "text/plain": [
       "array([[-3.30508545e+02,  1.15607994e+02,  9.54413128e+00, ...,\n",
       "        -2.05750763e-02,  2.26225387e-02, -4.02198732e-02],\n",
       "       [-2.16200455e+02,  1.21176140e+02, -3.94936204e+00, ...,\n",
       "        -5.31034544e-03, -9.14367195e-03, -2.37295665e-02],\n",
       "       [-1.40536957e+02,  9.56999969e+01, -3.31328659e+01, ...,\n",
       "         4.25882377e-02,  6.13756245e-04,  3.47413979e-02],\n",
       "       ...,\n",
       "       [-1.51682388e+02,  1.24866814e+02, -8.31865387e+01, ...,\n",
       "         5.63963093e-02, -3.16941529e-03,  5.99954836e-02],\n",
       "       [-2.02405746e+02,  1.37028610e+02, -5.10163536e+01, ...,\n",
       "         2.09758128e-03, -2.56852526e-02, -2.76466366e-02],\n",
       "       [-2.12761063e+02,  1.28541397e+02, -5.83092499e+01, ...,\n",
       "        -4.67717228e-03, -5.87908439e-02, -6.50631730e-03]], dtype=float32)"
      ]
     },
     "execution_count": 109,
     "metadata": {},
     "output_type": "execute_result"
    }
   ],
   "source": [
    "X"
   ]
  },
  {
   "cell_type": "code",
   "execution_count": null,
   "metadata": {},
   "outputs": [],
   "source": []
  },
  {
   "cell_type": "code",
   "execution_count": 110,
   "metadata": {},
   "outputs": [
    {
     "data": {
      "text/plain": [
       "array([[1],\n",
       "       [1],\n",
       "       [1],\n",
       "       ...,\n",
       "       [0],\n",
       "       [0],\n",
       "       [0]], dtype=int64)"
      ]
     },
     "execution_count": 110,
     "metadata": {},
     "output_type": "execute_result"
    }
   ],
   "source": [
    "y"
   ]
  },
  {
   "cell_type": "code",
   "execution_count": 111,
   "metadata": {},
   "outputs": [],
   "source": [
    "### Train Test Split\n",
    "from sklearn.model_selection import train_test_split\n",
    "X_train,X_test,y_train,y_test=train_test_split(X,y,test_size=0.2,random_state=7)"
   ]
  },
  {
   "cell_type": "code",
   "execution_count": 112,
   "metadata": {},
   "outputs": [
    {
     "data": {
      "text/plain": [
       "(1428, 39)"
      ]
     },
     "execution_count": 112,
     "metadata": {},
     "output_type": "execute_result"
    }
   ],
   "source": [
    "X_train.shape"
   ]
  },
  {
   "cell_type": "code",
   "execution_count": 113,
   "metadata": {},
   "outputs": [
    {
     "data": {
      "text/plain": [
       "(1428, 1)"
      ]
     },
     "execution_count": 113,
     "metadata": {},
     "output_type": "execute_result"
    }
   ],
   "source": [
    "y_train.shape"
   ]
  },
  {
   "cell_type": "code",
   "execution_count": null,
   "metadata": {},
   "outputs": [],
   "source": []
  },
  {
   "cell_type": "code",
   "execution_count": null,
   "metadata": {},
   "outputs": [],
   "source": []
  },
  {
   "cell_type": "code",
   "execution_count": 114,
   "metadata": {},
   "outputs": [
    {
     "data": {
      "text/plain": [
       "array([-3.59401337e+02,  1.23108932e+02, -5.02857590e+00,  2.74185734e+01,\n",
       "       -3.22233886e-02,  2.75412197e+01, -8.76392746e+00,  6.17953730e+00,\n",
       "       -1.04287615e+01,  2.28342094e+01, -1.25189781e+01,  1.52164669e+01,\n",
       "       -4.69993162e+00,  6.30829670e-03, -5.07222340e-02,  3.24691832e-02,\n",
       "       -3.00507601e-02, -1.11011133e-01,  1.12833669e-02, -1.38679682e-03,\n",
       "       -7.39808828e-02, -3.14055532e-02, -1.55831818e-02, -9.67907757e-02,\n",
       "        2.34390260e-03, -3.45676728e-02, -1.77982956e-01, -2.89920531e-03,\n",
       "        1.88743435e-02,  8.15163553e-03, -3.79076786e-02, -7.64176324e-02,\n",
       "        3.19998525e-02, -5.94338926e-04, -2.95232981e-02, -2.00743563e-02,\n",
       "        6.15973845e-02,  1.28710009e-02,  6.14205413e-02], dtype=float32)"
      ]
     },
     "execution_count": 114,
     "metadata": {},
     "output_type": "execute_result"
    }
   ],
   "source": [
    "X_train[0]"
   ]
  },
  {
   "cell_type": "code",
   "execution_count": 115,
   "metadata": {},
   "outputs": [
    {
     "data": {
      "text/plain": [
       "(358, 1)"
      ]
     },
     "execution_count": 115,
     "metadata": {},
     "output_type": "execute_result"
    }
   ],
   "source": [
    "y_test.shape"
   ]
  },
  {
   "cell_type": "code",
   "execution_count": 116,
   "metadata": {},
   "outputs": [
    {
     "data": {
      "text/plain": [
       "(1428, 39)"
      ]
     },
     "execution_count": 116,
     "metadata": {},
     "output_type": "execute_result"
    }
   ],
   "source": [
    "X_train.shape"
   ]
  },
  {
   "cell_type": "code",
   "execution_count": 117,
   "metadata": {},
   "outputs": [
    {
     "data": {
      "text/plain": [
       "(358, 39)"
      ]
     },
     "execution_count": 117,
     "metadata": {},
     "output_type": "execute_result"
    }
   ],
   "source": [
    "X_test.shape"
   ]
  },
  {
   "cell_type": "code",
   "execution_count": 118,
   "metadata": {},
   "outputs": [
    {
     "data": {
      "text/plain": [
       "(1428, 1)"
      ]
     },
     "execution_count": 118,
     "metadata": {},
     "output_type": "execute_result"
    }
   ],
   "source": [
    "y_train.shape"
   ]
  },
  {
   "cell_type": "code",
   "execution_count": 119,
   "metadata": {},
   "outputs": [
    {
     "data": {
      "text/plain": [
       "(358, 1)"
      ]
     },
     "execution_count": 119,
     "metadata": {},
     "output_type": "execute_result"
    }
   ],
   "source": [
    "y_test.shape"
   ]
  },
  {
   "cell_type": "markdown",
   "metadata": {},
   "source": [
    "### Model Creation"
   ]
  },
  {
   "cell_type": "code",
   "execution_count": 120,
   "metadata": {
    "scrolled": true
   },
   "outputs": [
    {
     "name": "stderr",
     "output_type": "stream",
     "text": [
      "<ipython-input-120-ba17b95aac63>:12: DataConversionWarning: A column-vector y was passed when a 1d array was expected. Please change the shape of y to (n_samples,), for example using ravel().\n",
      "  forest.fit(X_train, y_train)\n"
     ]
    },
    {
     "data": {
      "text/plain": [
       "0.9134078212290503"
      ]
     },
     "execution_count": 120,
     "metadata": {},
     "output_type": "execute_result"
    }
   ],
   "source": [
    "from sklearn.ensemble import RandomForestClassifier\n",
    "import matplotlib.pyplot as plt\n",
    "import seaborn as sns\n",
    "\n",
    "from sklearn.model_selection import train_test_split\n",
    "from sklearn.ensemble import RandomForestClassifier\n",
    "from sklearn.metrics import accuracy_score, confusion_matrix, classification_report\n",
    "\n",
    "\n",
    "from sklearn.metrics import accuracy_score, confusion_matrix, classification_report\n",
    "forest = RandomForestClassifier(max_depth=17, random_state=13)\n",
    "forest.fit(X_train, y_train)\n",
    "y_pred_test = forest.predict(X_test)\n",
    "accuracy_score(y_test, y_pred_test)"
   ]
  },
  {
   "cell_type": "code",
   "execution_count": 121,
   "metadata": {},
   "outputs": [
    {
     "name": "stderr",
     "output_type": "stream",
     "text": [
      "<ipython-input-121-337781fa80af>:7: DataConversionWarning: A column-vector y was passed when a 1d array was expected. Please change the shape of y to (n_samples,), for example using ravel().\n",
      "  forest.fit(x_train_fold, y_train_fold)\n",
      "<ipython-input-121-337781fa80af>:7: DataConversionWarning: A column-vector y was passed when a 1d array was expected. Please change the shape of y to (n_samples,), for example using ravel().\n",
      "  forest.fit(x_train_fold, y_train_fold)\n",
      "<ipython-input-121-337781fa80af>:7: DataConversionWarning: A column-vector y was passed when a 1d array was expected. Please change the shape of y to (n_samples,), for example using ravel().\n",
      "  forest.fit(x_train_fold, y_train_fold)\n",
      "<ipython-input-121-337781fa80af>:7: DataConversionWarning: A column-vector y was passed when a 1d array was expected. Please change the shape of y to (n_samples,), for example using ravel().\n",
      "  forest.fit(x_train_fold, y_train_fold)\n",
      "<ipython-input-121-337781fa80af>:7: DataConversionWarning: A column-vector y was passed when a 1d array was expected. Please change the shape of y to (n_samples,), for example using ravel().\n",
      "  forest.fit(x_train_fold, y_train_fold)\n",
      "<ipython-input-121-337781fa80af>:7: DataConversionWarning: A column-vector y was passed when a 1d array was expected. Please change the shape of y to (n_samples,), for example using ravel().\n",
      "  forest.fit(x_train_fold, y_train_fold)\n",
      "<ipython-input-121-337781fa80af>:7: DataConversionWarning: A column-vector y was passed when a 1d array was expected. Please change the shape of y to (n_samples,), for example using ravel().\n",
      "  forest.fit(x_train_fold, y_train_fold)\n",
      "<ipython-input-121-337781fa80af>:7: DataConversionWarning: A column-vector y was passed when a 1d array was expected. Please change the shape of y to (n_samples,), for example using ravel().\n",
      "  forest.fit(x_train_fold, y_train_fold)\n",
      "<ipython-input-121-337781fa80af>:7: DataConversionWarning: A column-vector y was passed when a 1d array was expected. Please change the shape of y to (n_samples,), for example using ravel().\n",
      "  forest.fit(x_train_fold, y_train_fold)\n",
      "<ipython-input-121-337781fa80af>:7: DataConversionWarning: A column-vector y was passed when a 1d array was expected. Please change the shape of y to (n_samples,), for example using ravel().\n",
      "  forest.fit(x_train_fold, y_train_fold)\n",
      "<ipython-input-121-337781fa80af>:7: DataConversionWarning: A column-vector y was passed when a 1d array was expected. Please change the shape of y to (n_samples,), for example using ravel().\n",
      "  forest.fit(x_train_fold, y_train_fold)\n",
      "<ipython-input-121-337781fa80af>:7: DataConversionWarning: A column-vector y was passed when a 1d array was expected. Please change the shape of y to (n_samples,), for example using ravel().\n",
      "  forest.fit(x_train_fold, y_train_fold)\n",
      "<ipython-input-121-337781fa80af>:7: DataConversionWarning: A column-vector y was passed when a 1d array was expected. Please change the shape of y to (n_samples,), for example using ravel().\n",
      "  forest.fit(x_train_fold, y_train_fold)\n",
      "<ipython-input-121-337781fa80af>:7: DataConversionWarning: A column-vector y was passed when a 1d array was expected. Please change the shape of y to (n_samples,), for example using ravel().\n",
      "  forest.fit(x_train_fold, y_train_fold)\n",
      "<ipython-input-121-337781fa80af>:7: DataConversionWarning: A column-vector y was passed when a 1d array was expected. Please change the shape of y to (n_samples,), for example using ravel().\n",
      "  forest.fit(x_train_fold, y_train_fold)\n",
      "<ipython-input-121-337781fa80af>:7: DataConversionWarning: A column-vector y was passed when a 1d array was expected. Please change the shape of y to (n_samples,), for example using ravel().\n",
      "  forest.fit(x_train_fold, y_train_fold)\n"
     ]
    }
   ],
   "source": [
    "from sklearn.model_selection import StratifiedKFold\n",
    "skf = StratifiedKFold(n_splits=16, shuffle=True, random_state=23)\n",
    "accuracy_score=[]\n",
    "for train_index, test_index in skf.split(X, y):\n",
    "    x_train_fold, x_test_fold = X[train_index], X[test_index]\n",
    "    y_train_fold, y_test_fold = y[train_index], y[test_index]\n",
    "    forest.fit(x_train_fold, y_train_fold)\n",
    "    accuracy_score.append(forest.score(x_test_fold, y_test_fold))"
   ]
  },
  {
   "cell_type": "markdown",
   "metadata": {},
   "source": [
    "print(\"%0.2f accuracy with a standard deviation of %0.2f\" % (scores.mean(), scores.std()))"
   ]
  },
  {
   "cell_type": "code",
   "execution_count": 122,
   "metadata": {},
   "outputs": [
    {
     "data": {
      "text/plain": [
       "0.9098244449806949"
      ]
     },
     "execution_count": 122,
     "metadata": {},
     "output_type": "execute_result"
    }
   ],
   "source": [
    "score = np.array(accuracy_score)\n",
    "score.mean()"
   ]
  },
  {
   "cell_type": "code",
   "execution_count": 123,
   "metadata": {},
   "outputs": [
    {
     "name": "stdout",
     "output_type": "stream",
     "text": [
      "0.91 accuracy with a standard deviation of 0.03\n"
     ]
    }
   ],
   "source": [
    "print(\"%0.2f accuracy with a standard deviation of %0.2f\" % (score.mean(), score.std()))"
   ]
  },
  {
   "cell_type": "code",
   "execution_count": null,
   "metadata": {},
   "outputs": [],
   "source": []
  },
  {
   "cell_type": "code",
   "execution_count": 304,
   "metadata": {},
   "outputs": [
    {
     "data": {
      "image/png": "[encoded data removed]",
      "text/plain": [
       "<Figure size 1152x504 with 2 Axes>"
      ]
     },
     "metadata": {},
     "output_type": "display_data"
    }
   ],
   "source": [
    "from sklearn.metrics import confusion_matrix\n",
    "matrix=confusion_matrix(y_test, y_pred_test)\n",
    "\n",
    "matrix = matrix.astype('float') / matrix.sum(axis=1)[:, np.newaxis]\n",
    "\n",
    "# Build the plot\n",
    "plt.figure(figsize=(16,7))\n",
    "sns.set(font_scale=1.4)\n",
    "sns.heatmap(matrix, annot=True, annot_kws={'size':10},\n",
    "            cmap=plt.cm.Greens, linewidths=0.2)\n",
    "\n",
    "# Add labels to the plot\n",
    "class_names = ['Normal','Gun Shot','Tree Cutting']\n",
    "tick_marks = np.arange(len(class_names))\n",
    "tick_marks2 = tick_marks + 0.5\n",
    "plt.xticks(tick_marks, class_names, rotation=25)\n",
    "plt.yticks(tick_marks2, class_names, rotation=0)\n",
    "plt.xlabel('Predicted label')\n",
    "plt.ylabel('True label')\n",
    "plt.title('Confusion Matrix for Random Forest Model with MFCC')\n",
    "plt.show()"
   ]
  },
  {
   "cell_type": "code",
   "execution_count": 125,
   "metadata": {},
   "outputs": [
    {
     "name": "stdout",
     "output_type": "stream",
     "text": [
      "              precision    recall  f1-score   support\n",
      "\n",
      "      Normal       0.98      0.82      0.89       141\n",
      "     Gunshot       0.89      0.99      0.94       127\n",
      "Tree Cutting       0.87      0.96      0.91        90\n",
      "\n",
      "    accuracy                           0.91       358\n",
      "   macro avg       0.91      0.92      0.91       358\n",
      "weighted avg       0.92      0.91      0.91       358\n",
      "\n"
     ]
    }
   ],
   "source": [
    "#Model accuracy on test data\n",
    "from sklearn.metrics import classification_report\n",
    "target_names = ['Normal', 'Gunshot', 'Tree Cutting']\n",
    "print(classification_report(y_test, y_pred_test, target_names=target_names))"
   ]
  },
  {
   "cell_type": "code",
   "execution_count": 313,
   "metadata": {},
   "outputs": [],
   "source": [
    "y_train_test = forest.predict(X_train)"
   ]
  },
  {
   "cell_type": "code",
   "execution_count": 314,
   "metadata": {},
   "outputs": [
    {
     "name": "stdout",
     "output_type": "stream",
     "text": [
      "              precision    recall  f1-score   support\n",
      "\n",
      "      Normal       1.00      0.99      0.99       540\n",
      "     Gunshot       0.99      1.00      1.00       476\n",
      "Tree Cutting       0.99      0.99      0.99       412\n",
      "\n",
      "    accuracy                           0.99      1428\n",
      "   macro avg       0.99      0.99      0.99      1428\n",
      "weighted avg       0.99      0.99      0.99      1428\n",
      "\n"
     ]
    }
   ],
   "source": [
    "#Model accuracy on train DATA\n",
    "from sklearn.metrics import classification_report\n",
    "target_names = ['Normal', 'Gunshot', 'Tree Cutting']\n",
    "print(classification_report(y_train,y_train_test , target_names=target_names))"
   ]
  },
  {
   "cell_type": "markdown",
   "metadata": {},
   "source": [
    "# GradientBoostingclassifier"
   ]
  },
  {
   "cell_type": "code",
   "execution_count": null,
   "metadata": {},
   "outputs": [],
   "source": [
    "r_list = [0.05, 0.075, 0.1, 0.25, 0.5, 0.75, 1]\n",
    "\n",
    "for learning_rate in lr_list:\n",
    "    gb_clf = GradientBoostingClassifier(n_estimators=20, learning_rate=learning_rate, max_features=2, max_depth=2, random_state=0)\n",
    "    gb_clf.fit(X_train, y_train)\n",
    " \n",
    "    print(\"Learning rate: \", learning_rate)\n",
    "    print(\"Accuracy score (training): {0:.3f}\".format(gb_clf.score(X_train, y_train)))\n",
    "    print(\"Accuracy score (validation): {0:.3f}\".format(gb_clf.score(X_val, y_val)))"
   ]
  },
  {
   "cell_type": "code",
   "execution_count": 134,
   "metadata": {},
   "outputs": [],
   "source": [
    "from sklearn.ensemble import GradientBoostingClassifier\n",
    "xgb = GradientBoostingClassifier(n_estimators=10, learning_rate=0.1,max_depth=5, random_state=10)\n"
   ]
  },
  {
   "cell_type": "code",
   "execution_count": 135,
   "metadata": {},
   "outputs": [
    {
     "name": "stderr",
     "output_type": "stream",
     "text": [
      "C:\\Users\\mohia\\anaconda3\\lib\\site-packages\\sklearn\\utils\\validation.py:72: DataConversionWarning: A column-vector y was passed when a 1d array was expected. Please change the shape of y to (n_samples, ), for example using ravel().\n",
      "  return f(**kwargs)\n",
      "C:\\Users\\mohia\\anaconda3\\lib\\site-packages\\sklearn\\utils\\validation.py:72: DataConversionWarning: A column-vector y was passed when a 1d array was expected. Please change the shape of y to (n_samples, ), for example using ravel().\n",
      "  return f(**kwargs)\n",
      "C:\\Users\\mohia\\anaconda3\\lib\\site-packages\\sklearn\\utils\\validation.py:72: DataConversionWarning: A column-vector y was passed when a 1d array was expected. Please change the shape of y to (n_samples, ), for example using ravel().\n",
      "  return f(**kwargs)\n",
      "C:\\Users\\mohia\\anaconda3\\lib\\site-packages\\sklearn\\utils\\validation.py:72: DataConversionWarning: A column-vector y was passed when a 1d array was expected. Please change the shape of y to (n_samples, ), for example using ravel().\n",
      "  return f(**kwargs)\n",
      "C:\\Users\\mohia\\anaconda3\\lib\\site-packages\\sklearn\\utils\\validation.py:72: DataConversionWarning: A column-vector y was passed when a 1d array was expected. Please change the shape of y to (n_samples, ), for example using ravel().\n",
      "  return f(**kwargs)\n"
     ]
    }
   ],
   "source": [
    "accuracy_score_xgb =[]\n",
    "from sklearn.model_selection import StratifiedKFold\n",
    "skf = StratifiedKFold(n_splits=5, shuffle=True, random_state=42)\n",
    "accuracy_score=[]\n",
    "for train_index, test_index in skf.split(X, y):\n",
    "    x_train_fold, x_test_fold = X[train_index], X[test_index]\n",
    "    y_train_fold, y_test_fold = y[train_index], y[test_index]\n",
    "    xgb.fit(x_train_fold, y_train_fold)\n",
    "    accuracy_score_xgb.append(forest.score(x_test_fold, y_test_fold))"
   ]
  },
  {
   "cell_type": "code",
   "execution_count": 308,
   "metadata": {},
   "outputs": [
    {
     "data": {
      "text/plain": [
       "0.9943977591036415"
      ]
     },
     "execution_count": 308,
     "metadata": {},
     "output_type": "execute_result"
    }
   ],
   "source": [
    "score = np.array(accuracy_score_xgb)\n",
    "score.mean()"
   ]
  },
  {
   "cell_type": "code",
   "execution_count": 309,
   "metadata": {},
   "outputs": [
    {
     "name": "stdout",
     "output_type": "stream",
     "text": [
      "              precision    recall  f1-score   support\n",
      "\n",
      "      Normal       0.95      0.84      0.89       141\n",
      "     Gunshot       0.87      0.99      0.93       127\n",
      "Tree Cutting       0.94      0.92      0.93        90\n",
      "\n",
      "    accuracy                           0.92       358\n",
      "   macro avg       0.92      0.92      0.92       358\n",
      "weighted avg       0.92      0.92      0.92       358\n",
      "\n"
     ]
    }
   ],
   "source": [
    "y_pred_xgb = xgb.predict(X_test)\n",
    "\n",
    "from sklearn.metrics import classification_report\n",
    "target_names = ['Normal', 'Gunshot', 'Tree Cutting']\n",
    "print(classification_report(y_test, y_pred_xgb, target_names=target_names))"
   ]
  },
  {
   "cell_type": "code",
   "execution_count": 315,
   "metadata": {},
   "outputs": [
    {
     "name": "stdout",
     "output_type": "stream",
     "text": [
      "              precision    recall  f1-score   support\n",
      "\n",
      "      Normal       0.95      0.86      0.91       540\n",
      "     Gunshot       0.88      0.99      0.93       476\n",
      "Tree Cutting       0.94      0.92      0.93       412\n",
      "\n",
      "    accuracy                           0.92      1428\n",
      "   macro avg       0.92      0.92      0.92      1428\n",
      "weighted avg       0.92      0.92      0.92      1428\n",
      "\n"
     ]
    }
   ],
   "source": [
    "y_train_xgb = xgb.predict(X_train)\n",
    "\n",
    "from sklearn.metrics import classification_report\n",
    "target_names = ['Normal', 'Gunshot', 'Tree Cutting']\n",
    "print(classification_report(y_train, y_train_xgb, target_names=target_names))"
   ]
  },
  {
   "cell_type": "code",
   "execution_count": 303,
   "metadata": {},
   "outputs": [
    {
     "data": {
      "image/png": "[encoded data removed]",
      "text/plain": [
       "<Figure size 1152x504 with 2 Axes>"
      ]
     },
     "metadata": {},
     "output_type": "display_data"
    }
   ],
   "source": [
    "from sklearn.metrics import confusion_matrix\n",
    "matrix=confusion_matrix(y_test, y_pred_xgb)\n",
    "\n",
    "matrix = matrix.astype('float') / matrix.sum(axis=1)[:, np.newaxis]\n",
    "\n",
    "# Build the plot\n",
    "plt.figure(figsize=(16,7))\n",
    "sns.set(font_scale=1.4)\n",
    "sns.heatmap(matrix, annot=True, annot_kws={'size':10},\n",
    "            cmap=plt.cm.Greens, linewidths=0.2)\n",
    "\n",
    "# Add labels to the plot\n",
    "class_names = ['Normal','Gun Shot','Tree Cutting']\n",
    "tick_marks = np.arange(len(class_names))\n",
    "tick_marks2 = tick_marks + 0.5\n",
    "plt.xticks(tick_marks, class_names, rotation=25)\n",
    "plt.yticks(tick_marks2, class_names, rotation=0)\n",
    "plt.xlabel('Predicted label')\n",
    "plt.ylabel('True label')\n",
    "plt.title('Confusion Matrix for GradientBoostClassifier Model with MFCC')\n",
    "plt.show() "
   ]
  },
  {
   "cell_type": "code",
   "execution_count": null,
   "metadata": {},
   "outputs": [],
   "source": []
  },
  {
   "cell_type": "code",
   "execution_count": null,
   "metadata": {},
   "outputs": [],
   "source": []
  },
  {
   "cell_type": "code",
   "execution_count": 283,
   "metadata": {},
   "outputs": [
    {
     "name": "stdout",
     "output_type": "stream",
     "text": [
      "2.5.0\n"
     ]
    }
   ],
   "source": [
    "import tensorflow as tf\n",
    "print(tf.__version__)"
   ]
  },
  {
   "cell_type": "code",
   "execution_count": 284,
   "metadata": {},
   "outputs": [],
   "source": [
    "from tensorflow.keras.models import Sequential\n",
    "from tensorflow.keras.layers import Dense,Dropout,Activation,Flatten\n",
    "from tensorflow.keras.optimizers import Adam\n",
    "from sklearn import metrics"
   ]
  },
  {
   "cell_type": "code",
   "execution_count": null,
   "metadata": {
    "scrolled": true
   },
   "outputs": [],
   "source": []
  },
  {
   "cell_type": "code",
   "execution_count": null,
   "metadata": {},
   "outputs": [],
   "source": []
  },
  {
   "cell_type": "code",
   "execution_count": 285,
   "metadata": {},
   "outputs": [],
   "source": [
    "model=Sequential()\n",
    "###first layer\n",
    "model.add(Dense(100,input_shape=(39,)))\n",
    "model.add(Activation('relu'))\n",
    "model.add(Dropout(0.5))\n",
    "###second layer\n",
    "model.add(Dense(200))\n",
    "model.add(Activation('relu'))\n",
    "model.add(Dropout(0.5))\n",
    "###third layer\n",
    "model.add(Dense(100))\n",
    "model.add(Activation('relu'))\n",
    "model.add(Dropout(0.5))\n",
    "###final layer\n",
    "model.add(Dense(3))\n",
    "model.add(Activation('softmax'))"
   ]
  },
  {
   "cell_type": "code",
   "execution_count": 141,
   "metadata": {
    "scrolled": true
   },
   "outputs": [
    {
     "name": "stdout",
     "output_type": "stream",
     "text": [
      "Model: \"sequential_1\"\n",
      "_________________________________________________________________\n",
      "Layer (type)                 Output Shape              Param #   \n",
      "=================================================================\n",
      "dense_4 (Dense)              (None, 100)               4000      \n",
      "_________________________________________________________________\n",
      "activation_4 (Activation)    (None, 100)               0         \n",
      "_________________________________________________________________\n",
      "dropout_3 (Dropout)          (None, 100)               0         \n",
      "_________________________________________________________________\n",
      "dense_5 (Dense)              (None, 200)               20200     \n",
      "_________________________________________________________________\n",
      "activation_5 (Activation)    (None, 200)               0         \n",
      "_________________________________________________________________\n",
      "dropout_4 (Dropout)          (None, 200)               0         \n",
      "_________________________________________________________________\n",
      "dense_6 (Dense)              (None, 100)               20100     \n",
      "_________________________________________________________________\n",
      "activation_6 (Activation)    (None, 100)               0         \n",
      "_________________________________________________________________\n",
      "dropout_5 (Dropout)          (None, 100)               0         \n",
      "_________________________________________________________________\n",
      "dense_7 (Dense)              (None, 3)                 303       \n",
      "_________________________________________________________________\n",
      "activation_7 (Activation)    (None, 3)                 0         \n",
      "=================================================================\n",
      "Total params: 44,603\n",
      "Trainable params: 44,603\n",
      "Non-trainable params: 0\n",
      "_________________________________________________________________\n"
     ]
    }
   ],
   "source": [
    "model.summary()"
   ]
  },
  {
   "cell_type": "code",
   "execution_count": 286,
   "metadata": {},
   "outputs": [],
   "source": [
    "model.compile(loss='categorical_crossentropy',metrics=['accuracy'],optimizer='adam')"
   ]
  },
  {
   "cell_type": "code",
   "execution_count": null,
   "metadata": {},
   "outputs": [],
   "source": []
  },
  {
   "cell_type": "markdown",
   "metadata": {},
   "source": [
    "cnn_y_test = []\n",
    "for i in y_test:\n",
    "    \n",
    "    if i == [0]:\n",
    "        print(i)\n",
    "        cnn_y_test.append([1,0,0])\n",
    "    elif i == [1]:\n",
    "        print(i)\n",
    "        cnn_y_test.append([0,1,0])\n",
    "    else:\n",
    "        \n",
    "        cnn_y_test.append([0,0,1])\n",
    "                "
   ]
  },
  {
   "cell_type": "markdown",
   "metadata": {},
   "source": [
    "cnn_y_train = []\n",
    "for i in y_train:\n",
    "    if i == [0]:\n",
    "        cnn_y_train.append([1,0,0])\n",
    "    elif i == [1]:\n",
    "          cnn_y_train.append([0,1,0])\n",
    "    else:\n",
    "          cnn_y_train.append([0,0,1])\n",
    "          \n",
    "        "
   ]
  },
  {
   "cell_type": "code",
   "execution_count": null,
   "metadata": {},
   "outputs": [],
   "source": []
  },
  {
   "cell_type": "code",
   "execution_count": null,
   "metadata": {},
   "outputs": [],
   "source": []
  },
  {
   "cell_type": "code",
   "execution_count": null,
   "metadata": {},
   "outputs": [],
   "source": []
  },
  {
   "cell_type": "markdown",
   "metadata": {},
   "source": [
    "cnn_y_train=np.array(cnn_y_train)\n",
    "cnn_y_test=np.array(cnn_y_test)\n"
   ]
  },
  {
   "cell_type": "markdown",
   "metadata": {},
   "source": [
    "cnn_y_test"
   ]
  },
  {
   "cell_type": "code",
   "execution_count": 143,
   "metadata": {},
   "outputs": [
    {
     "data": {
      "text/plain": [
       "dtype('float32')"
      ]
     },
     "execution_count": 143,
     "metadata": {},
     "output_type": "execute_result"
    }
   ],
   "source": [
    "X_train.dtype"
   ]
  },
  {
   "cell_type": "markdown",
   "metadata": {},
   "source": [
    "## Trianing my model\n",
    "from tensorflow.keras.callbacks import ModelCheckpoint\n",
    "from datetime import datetime \n",
    "\n",
    "num_epochs = 200\n",
    "num_batch_size = 32\n",
    "\n",
    "checkpointer = ModelCheckpoint(filepath='saved_models/audio_classification.hdf5', \n",
    "                               verbose=1, save_best_only=True)\n",
    "start = datetime.now()\n",
    "\n",
    "model.fit(X_train,cnn_y_train, batch_size=num_batch_size, epochs=num_epochs, validation_data=(X_test, cnn_y_test), callbacks=[checkpointer], verbose=1)\n",
    "\n",
    "\n",
    "duration = datetime.now() - start\n",
    "print(\"Training completed in time: \", duration)\n"
   ]
  },
  {
   "cell_type": "markdown",
   "metadata": {},
   "source": []
  },
  {
   "cell_type": "code",
   "execution_count": 287,
   "metadata": {},
   "outputs": [
    {
     "name": "stdout",
     "output_type": "stream",
     "text": [
      "Fold #1\n",
      "Fold score (accuracy): 0.7877094972067039\n",
      "Fold #2\n",
      "Fold score (accuracy): 0.88268156424581\n",
      "Fold #3\n",
      "Fold score (accuracy): 0.9050279329608939\n",
      "Fold #4\n",
      "Fold score (accuracy): 0.9329608938547486\n",
      "Fold #5\n",
      "Fold score (accuracy): 0.9162011173184358\n",
      "Fold #6\n",
      "Fold score (accuracy): 0.9664804469273743\n",
      "Fold #7\n",
      "Fold score (accuracy): 0.949438202247191\n",
      "Fold #8\n",
      "Fold score (accuracy): 0.9550561797752809\n",
      "Fold #9\n",
      "Fold score (accuracy): 0.9775280898876404\n",
      "Fold #10\n",
      "Fold score (accuracy): 0.9719101123595506\n",
      "Final score (accuracy): 0.9244120940649496\n"
     ]
    }
   ],
   "source": [
    "import pandas as pd\n",
    "import os\n",
    "import numpy as np\n",
    "from sklearn import metrics\n",
    "from sklearn.model_selection import KFold\n",
    "from tensorflow.keras.models import Sequential\n",
    "from tensorflow.keras.layers import Dense, Activation\n",
    "\n",
    "kfold = KFold(10, shuffle=True, random_state=42)\n",
    "oos_y = []\n",
    "oos_pred = []\n",
    "fold = 0\n",
    "EPOCHS =50\n",
    "# Must specify y StratifiedKFold for\n",
    "\n",
    "\n",
    "for train, test in kfold.split(extracted_features_df):\n",
    "    fold+=1\n",
    "    print(f\"Fold #{fold}\")\n",
    "        \n",
    "    xx_train = np.array(extracted_features_df.iloc[train]['feature'].to_list())\n",
    "    \n",
    "    _train = extracted_features_df.iloc[train]['class'].to_list()\n",
    "    yy_train = []\n",
    "    for i in _train:\n",
    "        if i == 'gun_shot':\n",
    "            yy_train.append([0,1,0])\n",
    "        elif i == 'bg_noise':\n",
    "            yy_train.append([1,0,0])   \n",
    "        elif i == 'tree_cutting':\n",
    "            yy_train.append([0,0,1])\n",
    "    yy_train = np.array(yy_train)\n",
    "    #print(y_train)\n",
    "\n",
    "    xx_test = np.array(extracted_features_df.iloc[test]['feature'].to_list())\n",
    "    \n",
    "    _test = extracted_features_df.iloc[test]['class'].to_list()\n",
    "    yy_test = []\n",
    "    for i in _test:\n",
    "        if i == 'gun_shot':\n",
    "            yy_test.append([0,1,0])\n",
    "        elif i == 'bg_noise':\n",
    "            yy_test.append([1,0,0])\n",
    "            \n",
    "        elif i == 'tree_cutting':\n",
    "            yy_test.append([0,0,1])\n",
    "    yy_test = np.array(yy_test)\n",
    "    \n",
    "\n",
    "\n",
    "    model.fit(xx_train,yy_train,validation_data=(xx_test,yy_test),\n",
    "              verbose=0, epochs=EPOCHS)\n",
    "    \n",
    "    pred = model.predict(xx_test)\n",
    "    \n",
    "    oos_y.append(yy_test)\n",
    "    # raw probabilities to chosen class (highest probability)\n",
    "    pred = np.argmax(pred,axis=1) \n",
    "    oos_pred.append(pred)  \n",
    "\n",
    "    # Measure this fold's accuracy\n",
    "    y_compare = np.argmax(yy_test,axis=1) # For accuracy calculation\n",
    "    score = metrics.accuracy_score(y_compare, pred)\n",
    "    print(f\"Fold score (accuracy): {score}\")\n",
    "\n",
    "# Build the oos prediction list and calculate the error.\n",
    "oos_y = np.concatenate(oos_y)\n",
    "oos_pred = np.concatenate(oos_pred)\n",
    "oos_y_compare = np.argmax(oos_y,axis=1) # For accuracy calculation\n",
    "\n",
    "score = metrics.accuracy_score(oos_y_compare, oos_pred)\n",
    "print(f\"Final score (accuracy): {score}\")    \n",
    "\n",
    "#oosDF.to_csv(filename_write,index=False)"
   ]
  },
  {
   "cell_type": "code",
   "execution_count": null,
   "metadata": {},
   "outputs": [],
   "source": []
  },
  {
   "cell_type": "code",
   "execution_count": null,
   "metadata": {},
   "outputs": [],
   "source": []
  },
  {
   "cell_type": "code",
   "execution_count": null,
   "metadata": {},
   "outputs": [],
   "source": []
  },
  {
   "cell_type": "code",
   "execution_count": null,
   "metadata": {},
   "outputs": [],
   "source": []
  },
  {
   "cell_type": "code",
   "execution_count": null,
   "metadata": {},
   "outputs": [],
   "source": []
  },
  {
   "cell_type": "code",
   "execution_count": null,
   "metadata": {},
   "outputs": [],
   "source": []
  },
  {
   "cell_type": "code",
   "execution_count": null,
   "metadata": {},
   "outputs": [],
   "source": []
  },
  {
   "cell_type": "code",
   "execution_count": 145,
   "metadata": {},
   "outputs": [
    {
     "data": {
      "text/plain": [
       "(358, 1)"
      ]
     },
     "execution_count": 145,
     "metadata": {},
     "output_type": "execute_result"
    }
   ],
   "source": [
    "X_test.shape\n",
    "y_test.shape"
   ]
  },
  {
   "cell_type": "code",
   "execution_count": 288,
   "metadata": {},
   "outputs": [],
   "source": [
    "y_pred_cnn= (np.argmax(model.predict(X_test),axis=1))"
   ]
  },
  {
   "cell_type": "code",
   "execution_count": 289,
   "metadata": {},
   "outputs": [
    {
     "name": "stdout",
     "output_type": "stream",
     "text": [
      "              precision    recall  f1-score   support\n",
      "\n",
      "      Normal       1.00      0.98      0.99       141\n",
      "     Gunshot       0.98      0.99      0.99       127\n",
      "Tree Cutting       0.97      0.99      0.98        90\n",
      "\n",
      "    accuracy                           0.99       358\n",
      "   macro avg       0.98      0.99      0.99       358\n",
      "weighted avg       0.99      0.99      0.99       358\n",
      "\n"
     ]
    }
   ],
   "source": [
    "#Model accuracy on test data\n",
    "from sklearn.metrics import classification_report\n",
    "target_names = ['Normal', 'Gunshot', 'Tree Cutting']\n",
    "print(classification_report(y_test, y_pred_cnn, target_names=target_names))"
   ]
  },
  {
   "cell_type": "code",
   "execution_count": 148,
   "metadata": {},
   "outputs": [
    {
     "data": {
      "image/png": "[encoded data removed]",
      "text/plain": [
       "<Figure size 1152x504 with 2 Axes>"
      ]
     },
     "metadata": {},
     "output_type": "display_data"
    }
   ],
   "source": [
    "from sklearn.metrics import confusion_matrix\n",
    "matrix=confusion_matrix(y_test, y_pred_cnn)\n",
    "\n",
    "matrix = matrix.astype('float') / matrix.sum(axis=1)[:, np.newaxis]\n",
    "\n",
    "# Build the plot\n",
    "plt.figure(figsize=(16,7))\n",
    "sns.set(font_scale=1.4)\n",
    "sns.heatmap(matrix, annot=True, annot_kws={'size':10},\n",
    "            cmap=plt.cm.Greens, linewidths=0.2)\n",
    "\n",
    "# Add labels to the plot\n",
    "class_names = ['Normal','Gun Shot','Tree Cutting']\n",
    "tick_marks = np.arange(len(class_names))\n",
    "tick_marks2 = tick_marks + 0.5\n",
    "plt.xticks(tick_marks, class_names, rotation=25)\n",
    "plt.yticks(tick_marks2, class_names, rotation=0)\n",
    "plt.xlabel('Predicted label')\n",
    "plt.ylabel('True label')\n",
    "plt.title('Confusion Matrix for Random Forest Model')\n",
    "plt.show()"
   ]
  },
  {
   "cell_type": "code",
   "execution_count": null,
   "metadata": {},
   "outputs": [],
   "source": []
  },
  {
   "cell_type": "code",
   "execution_count": null,
   "metadata": {},
   "outputs": [],
   "source": []
  },
  {
   "cell_type": "code",
   "execution_count": null,
   "metadata": {},
   "outputs": [],
   "source": []
  },
  {
   "cell_type": "code",
   "execution_count": null,
   "metadata": {},
   "outputs": [],
   "source": []
  },
  {
   "cell_type": "markdown",
   "metadata": {},
   "source": [
    "y=[]\n",
    "for i in cnn_y_test:\n",
    "    \n",
    "    if i[0] > i[2] and i[0] > i[1]:\n",
    "        y.append('Normal')\n",
    "  \n",
    "    elif i[1]> i[0] and i[1] > i[2]:\n",
    "        y.append('Gun shot')\n",
    "    else:\n",
    "        y.append('Tree Cutting')\n"
   ]
  },
  {
   "cell_type": "code",
   "execution_count": null,
   "metadata": {},
   "outputs": [],
   "source": []
  },
  {
   "cell_type": "code",
   "execution_count": null,
   "metadata": {},
   "outputs": [],
   "source": []
  },
  {
   "cell_type": "code",
   "execution_count": null,
   "metadata": {},
   "outputs": [],
   "source": []
  },
  {
   "cell_type": "code",
   "execution_count": null,
   "metadata": {},
   "outputs": [],
   "source": []
  },
  {
   "cell_type": "code",
   "execution_count": null,
   "metadata": {},
   "outputs": [],
   "source": []
  },
  {
   "cell_type": "code",
   "execution_count": null,
   "metadata": {},
   "outputs": [],
   "source": []
  },
  {
   "cell_type": "code",
   "execution_count": null,
   "metadata": {},
   "outputs": [],
   "source": []
  },
  {
   "cell_type": "code",
   "execution_count": null,
   "metadata": {},
   "outputs": [],
   "source": []
  },
  {
   "cell_type": "code",
   "execution_count": null,
   "metadata": {},
   "outputs": [],
   "source": []
  },
  {
   "cell_type": "code",
   "execution_count": null,
   "metadata": {},
   "outputs": [],
   "source": []
  },
  {
   "cell_type": "code",
   "execution_count": null,
   "metadata": {},
   "outputs": [],
   "source": []
  },
  {
   "cell_type": "code",
   "execution_count": null,
   "metadata": {},
   "outputs": [],
   "source": []
  },
  {
   "cell_type": "code",
   "execution_count": null,
   "metadata": {},
   "outputs": [],
   "source": []
  },
  {
   "cell_type": "code",
   "execution_count": null,
   "metadata": {},
   "outputs": [],
   "source": []
  },
  {
   "cell_type": "code",
   "execution_count": null,
   "metadata": {},
   "outputs": [],
   "source": []
  },
  {
   "cell_type": "code",
   "execution_count": null,
   "metadata": {},
   "outputs": [],
   "source": []
  },
  {
   "cell_type": "code",
   "execution_count": null,
   "metadata": {},
   "outputs": [],
   "source": []
  },
  {
   "cell_type": "code",
   "execution_count": 59,
   "metadata": {},
   "outputs": [],
   "source": []
  },
  {
   "cell_type": "code",
   "execution_count": null,
   "metadata": {},
   "outputs": [],
   "source": []
  },
  {
   "cell_type": "code",
   "execution_count": null,
   "metadata": {},
   "outputs": [],
   "source": []
  },
  {
   "cell_type": "code",
   "execution_count": null,
   "metadata": {},
   "outputs": [],
   "source": []
  },
  {
   "cell_type": "code",
   "execution_count": null,
   "metadata": {},
   "outputs": [],
   "source": []
  },
  {
   "cell_type": "code",
   "execution_count": null,
   "metadata": {},
   "outputs": [],
   "source": [
    "  "
   ]
  },
  {
   "cell_type": "code",
   "execution_count": null,
   "metadata": {},
   "outputs": [],
   "source": []
  },
  {
   "cell_type": "markdown",
   "metadata": {},
   "source": [
    "# Testing"
   ]
  },
  {
   "cell_type": "code",
   "execution_count": 63,
   "metadata": {},
   "outputs": [],
   "source": [
    "test_result = []\n",
    "test_f = []\n"
   ]
  },
  {
   "cell_type": "code",
   "execution_count": 64,
   "metadata": {},
   "outputs": [
    {
     "name": "stdout",
     "output_type": "stream",
     "text": [
      "62\n"
     ]
    }
   ],
   "source": [
    "import shutil, os\n",
    "#C:\\Users\\mohia\\Documents\\Thesis\\New dataset Creation\\axe sound\n",
    "path = '../../Thesis/Test_Dataset/bg_noise'\n",
    "files = os.listdir(path)\n",
    "\n",
    "cnt=1\n",
    "for f in files:\n",
    "        file_name = os.path.join(os.path.abspath(path),str(f))   \n",
    "        cnt+=1\n",
    "        data=features_extractor(file_name)     \n",
    "        test_f.append([data,'bg_noise'])\n",
    "        \n",
    "print(cnt)\n",
    "          \n",
    "\n",
    "    "
   ]
  },
  {
   "cell_type": "code",
   "execution_count": 65,
   "metadata": {},
   "outputs": [
    {
     "name": "stdout",
     "output_type": "stream",
     "text": [
      "58\n"
     ]
    }
   ],
   "source": [
    "\n",
    "#C:\\Users\\mohia\\Documents\\Thesis\\New dataset Creation\\axe sound\n",
    "path = '../../Thesis/Test_Dataset/gun_shot'\n",
    "files = os.listdir(path)\n",
    "cnt=1\n",
    "for f in files:\n",
    "    file_name = os.path.join(os.path.abspath(path),str(f))\n",
    "    data=features_extractor(file_name)\n",
    "    cnt+=1\n",
    "    test_f.append([data,'gun_shot'])\n",
    "\n",
    "print(cnt)"
   ]
  },
  {
   "cell_type": "code",
   "execution_count": null,
   "metadata": {},
   "outputs": [],
   "source": []
  },
  {
   "cell_type": "code",
   "execution_count": null,
   "metadata": {},
   "outputs": [],
   "source": []
  },
  {
   "cell_type": "code",
   "execution_count": 66,
   "metadata": {},
   "outputs": [
    {
     "name": "stdout",
     "output_type": "stream",
     "text": [
      "51\n"
     ]
    }
   ],
   "source": [
    "path = '../../Thesis/Test_Dataset/tree_Cutting'\n",
    "files = os.listdir(path)\n",
    "cnt=1\n",
    "for f in files:\n",
    "    file_name = os.path.join(os.path.abspath(path),str(f))\n",
    "\n",
    "    data=features_extractor(file_name)\n",
    "    cnt+=1\n",
    "    test_f.append([data,'tree_cutting'])\n",
    "\n",
    "print(cnt)"
   ]
  },
  {
   "cell_type": "code",
   "execution_count": 67,
   "metadata": {},
   "outputs": [
    {
     "data": {
      "text/html": [
       "<div>\n",
       "<style scoped>\n",
       "    .dataframe tbody tr th:only-of-type {\n",
       "        vertical-align: middle;\n",
       "    }\n",
       "\n",
       "    .dataframe tbody tr th {\n",
       "        vertical-align: top;\n",
       "    }\n",
       "\n",
       "    .dataframe thead th {\n",
       "        text-align: right;\n",
       "    }\n",
       "</style>\n",
       "<table border=\"1\" class=\"dataframe\">\n",
       "  <thead>\n",
       "    <tr style=\"text-align: right;\">\n",
       "      <th></th>\n",
       "      <th>feature</th>\n",
       "      <th>class</th>\n",
       "    </tr>\n",
       "  </thead>\n",
       "  <tbody>\n",
       "    <tr>\n",
       "      <th>0</th>\n",
       "      <td>[-334.99936, 96.11043, -5.1747766, 30.314877, ...</td>\n",
       "      <td>bg_noise</td>\n",
       "    </tr>\n",
       "    <tr>\n",
       "      <th>1</th>\n",
       "      <td>[-362.49042, 109.4039, 17.145575, 39.450928, -...</td>\n",
       "      <td>bg_noise</td>\n",
       "    </tr>\n",
       "    <tr>\n",
       "      <th>2</th>\n",
       "      <td>[-369.1283, 138.5739, 10.407378, 35.273945, -1...</td>\n",
       "      <td>bg_noise</td>\n",
       "    </tr>\n",
       "    <tr>\n",
       "      <th>3</th>\n",
       "      <td>[-367.98224, 129.04861, 3.0153317, 33.253826, ...</td>\n",
       "      <td>bg_noise</td>\n",
       "    </tr>\n",
       "    <tr>\n",
       "      <th>4</th>\n",
       "      <td>[-352.7383, 122.01463, -7.2907166, 25.239681, ...</td>\n",
       "      <td>bg_noise</td>\n",
       "    </tr>\n",
       "  </tbody>\n",
       "</table>\n",
       "</div>"
      ],
      "text/plain": [
       "                                             feature     class\n",
       "0  [-334.99936, 96.11043, -5.1747766, 30.314877, ...  bg_noise\n",
       "1  [-362.49042, 109.4039, 17.145575, 39.450928, -...  bg_noise\n",
       "2  [-369.1283, 138.5739, 10.407378, 35.273945, -1...  bg_noise\n",
       "3  [-367.98224, 129.04861, 3.0153317, 33.253826, ...  bg_noise\n",
       "4  [-352.7383, 122.01463, -7.2907166, 25.239681, ...  bg_noise"
      ]
     },
     "execution_count": 67,
     "metadata": {},
     "output_type": "execute_result"
    }
   ],
   "source": [
    "extracted_features_test_df=pd.DataFrame(test_f,columns=['feature','class'])\n",
    "extracted_features_test_df.head(5)"
   ]
  },
  {
   "cell_type": "code",
   "execution_count": 316,
   "metadata": {},
   "outputs": [
    {
     "data": {
      "text/plain": [
       "bg_noise        61\n",
       "gun_shot        57\n",
       "tree_cutting    50\n",
       "Name: class, dtype: int64"
      ]
     },
     "execution_count": 316,
     "metadata": {},
     "output_type": "execute_result"
    }
   ],
   "source": [
    "extracted_features_test_df['class'].value_counts()"
   ]
  },
  {
   "cell_type": "code",
   "execution_count": 68,
   "metadata": {},
   "outputs": [],
   "source": [
    "### Split the dataset into independent and dependent dataset\n",
    "final_x_test=np.array(extracted_features_test_df['feature'].tolist())\n",
    "final_y_test=np.array(extracted_features_test_df['class'].tolist())"
   ]
  },
  {
   "cell_type": "code",
   "execution_count": 69,
   "metadata": {},
   "outputs": [
    {
     "data": {
      "text/plain": [
       "array(['bg_noise', 'bg_noise', 'bg_noise', 'bg_noise', 'bg_noise',\n",
       "       'bg_noise', 'bg_noise', 'bg_noise', 'bg_noise', 'bg_noise',\n",
       "       'bg_noise', 'bg_noise', 'bg_noise', 'bg_noise', 'bg_noise',\n",
       "       'bg_noise', 'bg_noise', 'bg_noise', 'bg_noise', 'bg_noise',\n",
       "       'bg_noise', 'bg_noise', 'bg_noise', 'bg_noise', 'bg_noise',\n",
       "       'bg_noise', 'bg_noise', 'bg_noise', 'bg_noise', 'bg_noise',\n",
       "       'bg_noise', 'bg_noise', 'bg_noise', 'bg_noise', 'bg_noise',\n",
       "       'bg_noise', 'bg_noise', 'bg_noise', 'bg_noise', 'bg_noise',\n",
       "       'bg_noise', 'bg_noise', 'bg_noise', 'bg_noise', 'bg_noise',\n",
       "       'bg_noise', 'bg_noise', 'bg_noise', 'bg_noise', 'bg_noise',\n",
       "       'bg_noise', 'bg_noise', 'bg_noise', 'bg_noise', 'bg_noise',\n",
       "       'bg_noise', 'bg_noise', 'bg_noise', 'bg_noise', 'bg_noise',\n",
       "       'bg_noise', 'gun_shot', 'gun_shot', 'gun_shot', 'gun_shot',\n",
       "       'gun_shot', 'gun_shot', 'gun_shot', 'gun_shot', 'gun_shot',\n",
       "       'gun_shot', 'gun_shot', 'gun_shot', 'gun_shot', 'gun_shot',\n",
       "       'gun_shot', 'gun_shot', 'gun_shot', 'gun_shot', 'gun_shot',\n",
       "       'gun_shot', 'gun_shot', 'gun_shot', 'gun_shot', 'gun_shot',\n",
       "       'gun_shot', 'gun_shot', 'gun_shot', 'gun_shot', 'gun_shot',\n",
       "       'gun_shot', 'gun_shot', 'gun_shot', 'gun_shot', 'gun_shot',\n",
       "       'gun_shot', 'gun_shot', 'gun_shot', 'gun_shot', 'gun_shot',\n",
       "       'gun_shot', 'gun_shot', 'gun_shot', 'gun_shot', 'gun_shot',\n",
       "       'gun_shot', 'gun_shot', 'gun_shot', 'gun_shot', 'gun_shot',\n",
       "       'gun_shot', 'gun_shot', 'gun_shot', 'gun_shot', 'gun_shot',\n",
       "       'gun_shot', 'gun_shot', 'gun_shot', 'tree_cutting', 'tree_cutting',\n",
       "       'tree_cutting', 'tree_cutting', 'tree_cutting', 'tree_cutting',\n",
       "       'tree_cutting', 'tree_cutting', 'tree_cutting', 'tree_cutting',\n",
       "       'tree_cutting', 'tree_cutting', 'tree_cutting', 'tree_cutting',\n",
       "       'tree_cutting', 'tree_cutting', 'tree_cutting', 'tree_cutting',\n",
       "       'tree_cutting', 'tree_cutting', 'tree_cutting', 'tree_cutting',\n",
       "       'tree_cutting', 'tree_cutting', 'tree_cutting', 'tree_cutting',\n",
       "       'tree_cutting', 'tree_cutting', 'tree_cutting', 'tree_cutting',\n",
       "       'tree_cutting', 'tree_cutting', 'tree_cutting', 'tree_cutting',\n",
       "       'tree_cutting', 'tree_cutting', 'tree_cutting', 'tree_cutting',\n",
       "       'tree_cutting', 'tree_cutting', 'tree_cutting', 'tree_cutting',\n",
       "       'tree_cutting', 'tree_cutting', 'tree_cutting', 'tree_cutting',\n",
       "       'tree_cutting', 'tree_cutting', 'tree_cutting', 'tree_cutting'],\n",
       "      dtype='<U12')"
      ]
     },
     "execution_count": 69,
     "metadata": {},
     "output_type": "execute_result"
    }
   ],
   "source": [
    "final_y_test"
   ]
  },
  {
   "cell_type": "code",
   "execution_count": 70,
   "metadata": {},
   "outputs": [],
   "source": [
    "\n",
    "final_y_test = pd.DataFrame(final_y_test,columns=['class'])\n",
    "final_y_test=final_y_test.replace({'gun_shot':1, 'bg_noise':0,'tree_cutting':2 })\n",
    "final_y_test=pd.DataFrame(final_y_test).to_numpy()"
   ]
  },
  {
   "cell_type": "code",
   "execution_count": 71,
   "metadata": {},
   "outputs": [
    {
     "data": {
      "text/plain": [
       "array([[0],\n",
       "       [0],\n",
       "       [0],\n",
       "       [0],\n",
       "       [0],\n",
       "       [0],\n",
       "       [0],\n",
       "       [0],\n",
       "       [0],\n",
       "       [0],\n",
       "       [0],\n",
       "       [0],\n",
       "       [0],\n",
       "       [0],\n",
       "       [0],\n",
       "       [0],\n",
       "       [0],\n",
       "       [0],\n",
       "       [0],\n",
       "       [0],\n",
       "       [0],\n",
       "       [0],\n",
       "       [0],\n",
       "       [0],\n",
       "       [0],\n",
       "       [0],\n",
       "       [0],\n",
       "       [0],\n",
       "       [0],\n",
       "       [0],\n",
       "       [0],\n",
       "       [0],\n",
       "       [0],\n",
       "       [0],\n",
       "       [0],\n",
       "       [0],\n",
       "       [0],\n",
       "       [0],\n",
       "       [0],\n",
       "       [0],\n",
       "       [0],\n",
       "       [0],\n",
       "       [0],\n",
       "       [0],\n",
       "       [0],\n",
       "       [0],\n",
       "       [0],\n",
       "       [0],\n",
       "       [0],\n",
       "       [0],\n",
       "       [0],\n",
       "       [0],\n",
       "       [0],\n",
       "       [0],\n",
       "       [0],\n",
       "       [0],\n",
       "       [0],\n",
       "       [0],\n",
       "       [0],\n",
       "       [0],\n",
       "       [0],\n",
       "       [1],\n",
       "       [1],\n",
       "       [1],\n",
       "       [1],\n",
       "       [1],\n",
       "       [1],\n",
       "       [1],\n",
       "       [1],\n",
       "       [1],\n",
       "       [1],\n",
       "       [1],\n",
       "       [1],\n",
       "       [1],\n",
       "       [1],\n",
       "       [1],\n",
       "       [1],\n",
       "       [1],\n",
       "       [1],\n",
       "       [1],\n",
       "       [1],\n",
       "       [1],\n",
       "       [1],\n",
       "       [1],\n",
       "       [1],\n",
       "       [1],\n",
       "       [1],\n",
       "       [1],\n",
       "       [1],\n",
       "       [1],\n",
       "       [1],\n",
       "       [1],\n",
       "       [1],\n",
       "       [1],\n",
       "       [1],\n",
       "       [1],\n",
       "       [1],\n",
       "       [1],\n",
       "       [1],\n",
       "       [1],\n",
       "       [1],\n",
       "       [1],\n",
       "       [1],\n",
       "       [1],\n",
       "       [1],\n",
       "       [1],\n",
       "       [1],\n",
       "       [1],\n",
       "       [1],\n",
       "       [1],\n",
       "       [1],\n",
       "       [1],\n",
       "       [1],\n",
       "       [1],\n",
       "       [1],\n",
       "       [1],\n",
       "       [1],\n",
       "       [1],\n",
       "       [2],\n",
       "       [2],\n",
       "       [2],\n",
       "       [2],\n",
       "       [2],\n",
       "       [2],\n",
       "       [2],\n",
       "       [2],\n",
       "       [2],\n",
       "       [2],\n",
       "       [2],\n",
       "       [2],\n",
       "       [2],\n",
       "       [2],\n",
       "       [2],\n",
       "       [2],\n",
       "       [2],\n",
       "       [2],\n",
       "       [2],\n",
       "       [2],\n",
       "       [2],\n",
       "       [2],\n",
       "       [2],\n",
       "       [2],\n",
       "       [2],\n",
       "       [2],\n",
       "       [2],\n",
       "       [2],\n",
       "       [2],\n",
       "       [2],\n",
       "       [2],\n",
       "       [2],\n",
       "       [2],\n",
       "       [2],\n",
       "       [2],\n",
       "       [2],\n",
       "       [2],\n",
       "       [2],\n",
       "       [2],\n",
       "       [2],\n",
       "       [2],\n",
       "       [2],\n",
       "       [2],\n",
       "       [2],\n",
       "       [2],\n",
       "       [2],\n",
       "       [2],\n",
       "       [2],\n",
       "       [2],\n",
       "       [2]], dtype=int64)"
      ]
     },
     "execution_count": 71,
     "metadata": {},
     "output_type": "execute_result"
    }
   ],
   "source": []
  },
  {
   "cell_type": "code",
   "execution_count": 290,
   "metadata": {},
   "outputs": [],
   "source": [
    "\n",
    "forest_y_pred_test = forest.predict(final_x_test)\n",
    "model_y_pred_test = model.predict(final_x_test)\n"
   ]
  },
  {
   "cell_type": "code",
   "execution_count": null,
   "metadata": {},
   "outputs": [],
   "source": []
  },
  {
   "cell_type": "code",
   "execution_count": 73,
   "metadata": {},
   "outputs": [
    {
     "data": {
      "text/plain": [
       "array([[1.00000000e+00, 1.34450281e-15, 2.37818459e-10],\n",
       "       [1.00000000e+00, 0.00000000e+00, 1.16547604e-30],\n",
       "       [1.00000000e+00, 1.00921298e-22, 1.18207802e-16],\n",
       "       [1.00000000e+00, 8.18868578e-21, 3.19261863e-14],\n",
       "       [1.00000000e+00, 1.60408738e-19, 5.98646837e-14],\n",
       "       [1.00000000e+00, 0.00000000e+00, 0.00000000e+00],\n",
       "       [1.00000000e+00, 1.30913550e-23, 9.12259143e-16],\n",
       "       [9.99988794e-01, 2.48646614e-07, 1.10084338e-05],\n",
       "       [1.00000000e+00, 3.74990989e-37, 5.03602608e-26],\n",
       "       [1.00000000e+00, 0.00000000e+00, 0.00000000e+00],\n",
       "       [1.00000000e+00, 2.89366297e-22, 4.95241741e-16],\n",
       "       [9.99841213e-01, 8.04795127e-05, 7.83027426e-05],\n",
       "       [1.00000000e+00, 0.00000000e+00, 4.57265788e-25],\n",
       "       [1.00000000e+00, 1.39597835e-37, 1.37950363e-23],\n",
       "       [1.00000000e+00, 3.47019421e-35, 1.49848345e-22],\n",
       "       [1.00000000e+00, 1.21820290e-29, 5.78258185e-19],\n",
       "       [1.00000000e+00, 0.00000000e+00, 3.82103255e-34],\n",
       "       [1.00000000e+00, 0.00000000e+00, 7.16855922e-28],\n",
       "       [1.00000000e+00, 2.91062692e-27, 1.15242896e-16],\n",
       "       [1.00000000e+00, 0.00000000e+00, 2.29430765e-26],\n",
       "       [1.00000000e+00, 6.53969982e-23, 2.45001417e-14],\n",
       "       [1.00000000e+00, 0.00000000e+00, 1.14222143e-33],\n",
       "       [1.00000000e+00, 0.00000000e+00, 0.00000000e+00],\n",
       "       [1.00000000e+00, 0.00000000e+00, 0.00000000e+00],\n",
       "       [1.00000000e+00, 0.00000000e+00, 0.00000000e+00],\n",
       "       [1.00000000e+00, 7.68166163e-33, 1.40295729e-20],\n",
       "       [1.00000000e+00, 0.00000000e+00, 0.00000000e+00],\n",
       "       [1.00000000e+00, 0.00000000e+00, 2.96285217e-35],\n",
       "       [1.00000000e+00, 0.00000000e+00, 0.00000000e+00],\n",
       "       [1.00000000e+00, 0.00000000e+00, 1.31027544e-29],\n",
       "       [1.00000000e+00, 0.00000000e+00, 2.71674823e-37],\n",
       "       [1.00000000e+00, 0.00000000e+00, 8.54860984e-27],\n",
       "       [1.00000000e+00, 0.00000000e+00, 2.29816217e-33],\n",
       "       [1.00000000e+00, 0.00000000e+00, 0.00000000e+00],\n",
       "       [1.00000000e+00, 0.00000000e+00, 2.99476221e-26],\n",
       "       [1.00000000e+00, 0.00000000e+00, 0.00000000e+00],\n",
       "       [9.99997854e-01, 8.60105037e-14, 2.14321039e-06],\n",
       "       [1.00000000e+00, 0.00000000e+00, 0.00000000e+00],\n",
       "       [1.00000000e+00, 3.57849647e-33, 2.91013489e-22],\n",
       "       [1.00000000e+00, 0.00000000e+00, 0.00000000e+00],\n",
       "       [1.00000000e+00, 0.00000000e+00, 0.00000000e+00],\n",
       "       [1.00000000e+00, 0.00000000e+00, 0.00000000e+00],\n",
       "       [1.00000000e+00, 0.00000000e+00, 0.00000000e+00],\n",
       "       [9.99911308e-01, 4.86666181e-07, 8.82313325e-05],\n",
       "       [1.19544700e-01, 2.23701471e-03, 8.78218353e-01],\n",
       "       [1.00000000e+00, 5.05051150e-19, 4.03628346e-12],\n",
       "       [1.00000000e+00, 0.00000000e+00, 1.41338373e-35],\n",
       "       [1.00000000e+00, 0.00000000e+00, 1.18396653e-35],\n",
       "       [1.00000000e+00, 7.52272566e-16, 1.10397602e-09],\n",
       "       [1.00000000e+00, 3.71278901e-14, 6.00498717e-09],\n",
       "       [1.00000000e+00, 5.12163092e-29, 8.09070010e-19],\n",
       "       [1.00000000e+00, 9.02829582e-14, 1.74998582e-09],\n",
       "       [1.00000000e+00, 1.51436209e-13, 3.38625261e-09],\n",
       "       [1.00000000e+00, 8.74255267e-21, 9.13919751e-14],\n",
       "       [1.00000000e+00, 5.59862473e-26, 9.62394202e-18],\n",
       "       [1.00000000e+00, 0.00000000e+00, 0.00000000e+00],\n",
       "       [1.00000000e+00, 9.48488178e-29, 4.29657773e-19],\n",
       "       [5.28515838e-02, 1.87575154e-03, 9.45272684e-01],\n",
       "       [1.00000000e+00, 7.66612100e-32, 1.67666861e-20],\n",
       "       [7.99259424e-01, 1.38859665e-02, 1.86854646e-01],\n",
       "       [1.00000000e+00, 6.30423652e-28, 2.55721191e-18],\n",
       "       [1.87695771e-02, 9.78367031e-01, 2.86337547e-03],\n",
       "       [2.32860185e-02, 9.72529531e-01, 4.18447703e-03],\n",
       "       [3.19453306e-03, 9.95746791e-01, 1.05872925e-03],\n",
       "       [1.87695771e-02, 9.78367031e-01, 2.86337547e-03],\n",
       "       [9.89008986e-10, 1.00000000e+00, 1.04861408e-09],\n",
       "       [1.87695771e-02, 9.78367031e-01, 2.86337547e-03],\n",
       "       [1.87695771e-02, 9.78367031e-01, 2.86337547e-03],\n",
       "       [1.87695771e-02, 9.78367031e-01, 2.86337547e-03],\n",
       "       [1.87695771e-02, 9.78367031e-01, 2.86337547e-03],\n",
       "       [1.87695771e-02, 9.78367031e-01, 2.86337547e-03],\n",
       "       [1.87695771e-02, 9.78367031e-01, 2.86337547e-03],\n",
       "       [1.87695771e-02, 9.78367031e-01, 2.86337547e-03],\n",
       "       [1.87695771e-02, 9.78367031e-01, 2.86337547e-03],\n",
       "       [1.87695771e-02, 9.78367031e-01, 2.86337547e-03],\n",
       "       [1.87695771e-02, 9.78367031e-01, 2.86337547e-03],\n",
       "       [1.87695771e-02, 9.78367031e-01, 2.86337547e-03],\n",
       "       [1.87695771e-02, 9.78367031e-01, 2.86337547e-03],\n",
       "       [1.87695771e-02, 9.78367031e-01, 2.86337547e-03],\n",
       "       [1.87695771e-02, 9.78367031e-01, 2.86337547e-03],\n",
       "       [1.87695771e-02, 9.78367031e-01, 2.86337547e-03],\n",
       "       [1.63940792e-15, 1.00000000e+00, 3.01165402e-15],\n",
       "       [1.87695771e-02, 9.78367031e-01, 2.86337547e-03],\n",
       "       [3.87637271e-03, 9.95058894e-01, 1.06477260e-03],\n",
       "       [1.87695771e-02, 9.78367031e-01, 2.86337547e-03],\n",
       "       [1.87695771e-02, 9.78367031e-01, 2.86337547e-03],\n",
       "       [1.87695771e-02, 9.78367031e-01, 2.86337547e-03],\n",
       "       [7.92894047e-03, 9.90787804e-01, 1.28331897e-03],\n",
       "       [1.87695771e-02, 9.78367031e-01, 2.86337547e-03],\n",
       "       [1.87695771e-02, 9.78367031e-01, 2.86337547e-03],\n",
       "       [4.42380854e-12, 1.00000000e+00, 4.35600112e-10],\n",
       "       [9.15903031e-12, 1.00000000e+00, 5.84845922e-11],\n",
       "       [2.65556062e-03, 9.96735632e-01, 6.08802598e-04],\n",
       "       [3.56010608e-02, 9.56569910e-01, 7.82904495e-03],\n",
       "       [1.87695678e-02, 9.78367031e-01, 2.86337547e-03],\n",
       "       [1.55826939e-07, 9.99999762e-01, 1.57079370e-07],\n",
       "       [1.87695771e-02, 9.78367031e-01, 2.86337547e-03],\n",
       "       [1.87695771e-02, 9.78367031e-01, 2.86337547e-03],\n",
       "       [1.87695771e-02, 9.78367031e-01, 2.86337547e-03],\n",
       "       [1.87695771e-02, 9.78367031e-01, 2.86337547e-03],\n",
       "       [1.87695771e-02, 9.78367031e-01, 2.86337547e-03],\n",
       "       [4.63688679e-07, 9.99995828e-01, 3.73335706e-06],\n",
       "       [8.12925771e-03, 9.90274131e-01, 1.59663241e-03],\n",
       "       [2.03661971e-13, 1.00000000e+00, 3.02110698e-11],\n",
       "       [5.12539409e-03, 9.94249940e-01, 6.24630658e-04],\n",
       "       [1.86388224e-15, 1.00000000e+00, 7.16665496e-14],\n",
       "       [1.87695771e-02, 9.78367031e-01, 2.86337547e-03],\n",
       "       [1.87695771e-02, 9.78367031e-01, 2.86337547e-03],\n",
       "       [9.15540159e-02, 8.74645591e-01, 3.38004045e-02],\n",
       "       [1.59105515e-15, 1.00000000e+00, 4.60815081e-18],\n",
       "       [2.36143678e-01, 6.57074153e-01, 1.06782176e-01],\n",
       "       [4.06460703e-15, 1.00000000e+00, 1.41411888e-14],\n",
       "       [1.49438545e-01, 3.21168639e-02, 8.18444610e-01],\n",
       "       [2.42672842e-02, 9.47841227e-01, 2.78914645e-02],\n",
       "       [5.48374107e-12, 1.00000000e+00, 7.75583753e-13],\n",
       "       [1.21215746e-01, 8.61254096e-01, 1.75302327e-02],\n",
       "       [2.47107670e-01, 6.79359317e-01, 7.35329688e-02],\n",
       "       [4.48850030e-03, 9.95059371e-01, 4.52126929e-04],\n",
       "       [0.00000000e+00, 0.00000000e+00, 1.00000000e+00],\n",
       "       [0.00000000e+00, 0.00000000e+00, 1.00000000e+00],\n",
       "       [0.00000000e+00, 0.00000000e+00, 1.00000000e+00],\n",
       "       [7.08814262e-38, 0.00000000e+00, 1.00000000e+00],\n",
       "       [9.92944419e-01, 3.15959041e-04, 6.73961453e-03],\n",
       "       [9.07162279e-02, 6.71012923e-02, 8.42182517e-01],\n",
       "       [2.35901773e-02, 8.93381948e-04, 9.75516379e-01],\n",
       "       [4.86118486e-03, 4.13722359e-04, 9.94725049e-01],\n",
       "       [8.90586525e-02, 1.25472518e-02, 8.98394048e-01],\n",
       "       [6.72899485e-02, 2.40427256e-02, 9.08667326e-01],\n",
       "       [7.68477991e-02, 2.16462780e-02, 9.01505888e-01],\n",
       "       [3.39484289e-02, 1.69748720e-02, 9.49076712e-01],\n",
       "       [6.79376498e-02, 1.18610670e-03, 9.30876255e-01],\n",
       "       [4.99264747e-02, 1.78194325e-03, 9.48291540e-01],\n",
       "       [1.43844783e-02, 4.89226368e-04, 9.85126376e-01],\n",
       "       [5.91650940e-02, 3.23515851e-03, 9.37599719e-01],\n",
       "       [2.99568791e-02, 4.61616408e-04, 9.69581544e-01],\n",
       "       [1.16108947e-01, 2.36222032e-03, 8.81528795e-01],\n",
       "       [7.35926479e-02, 8.14783573e-03, 9.18259501e-01],\n",
       "       [8.53516757e-02, 8.45888630e-03, 9.06189382e-01],\n",
       "       [1.00106642e-01, 1.17030705e-03, 8.98723006e-01],\n",
       "       [4.22517508e-02, 2.67467857e-03, 9.55073595e-01],\n",
       "       [1.44659653e-02, 2.51311285e-04, 9.85282660e-01],\n",
       "       [4.68141764e-01, 9.24309492e-02, 4.39427316e-01],\n",
       "       [3.82990092e-02, 1.70876412e-03, 9.59992230e-01],\n",
       "       [2.19837427e-02, 4.24826954e-04, 9.77591395e-01],\n",
       "       [2.37306356e-02, 2.92960880e-03, 9.73339736e-01],\n",
       "       [6.26204833e-02, 5.42574609e-03, 9.31953728e-01],\n",
       "       [2.21281983e-02, 6.13826998e-02, 9.16489065e-01],\n",
       "       [1.46509245e-01, 3.99842300e-02, 8.13506544e-01],\n",
       "       [6.48710430e-02, 8.25993903e-03, 9.26869035e-01],\n",
       "       [1.12879246e-01, 2.68585291e-02, 8.60262215e-01],\n",
       "       [1.96008444e-01, 6.90664351e-03, 7.97084928e-01],\n",
       "       [2.99286574e-01, 1.04728922e-01, 5.95984459e-01],\n",
       "       [2.07324117e-01, 1.08524021e-02, 7.81823516e-01],\n",
       "       [2.16961592e-01, 4.67528820e-01, 3.15509617e-01],\n",
       "       [2.05883190e-01, 1.43918499e-01, 6.50198281e-01],\n",
       "       [1.70511454e-01, 1.10360980e-01, 7.19127595e-01],\n",
       "       [8.29286501e-02, 3.11141312e-02, 8.85957241e-01],\n",
       "       [1.39087647e-01, 1.94401711e-01, 6.66510642e-01],\n",
       "       [7.30173997e-05, 1.10066667e-05, 9.99915957e-01],\n",
       "       [9.60749094e-06, 3.33324721e-07, 9.99990106e-01],\n",
       "       [1.47857387e-02, 2.60259886e-03, 9.82611656e-01],\n",
       "       [1.62340200e-07, 3.40103293e-11, 9.99999881e-01],\n",
       "       [4.87802732e-09, 1.23543415e-14, 1.00000000e+00],\n",
       "       [8.70363352e-14, 1.83066520e-22, 1.00000000e+00],\n",
       "       [1.83638065e-06, 4.73683759e-09, 9.99998212e-01],\n",
       "       [4.18523850e-05, 1.16133997e-07, 9.99958038e-01],\n",
       "       [1.11916243e-09, 9.68643555e-20, 1.00000000e+00],\n",
       "       [1.31418571e-13, 1.90744605e-19, 1.00000000e+00]], dtype=float32)"
      ]
     },
     "execution_count": 73,
     "metadata": {},
     "output_type": "execute_result"
    }
   ],
   "source": [
    "model_y_pred_test"
   ]
  },
  {
   "cell_type": "code",
   "execution_count": 294,
   "metadata": {},
   "outputs": [],
   "source": [
    "jh =np.argmax(model_y_pred_test,axis=1)"
   ]
  },
  {
   "cell_type": "code",
   "execution_count": 299,
   "metadata": {},
   "outputs": [
    {
     "data": {
      "text/plain": [
       "array([2, 0, 0, 0, 0, 1, 0, 0, 0, 0, 0, 0, 0, 0, 0, 0, 0, 0, 0, 0, 0, 0,\n",
       "       0, 0, 0, 0, 0, 0, 0, 0, 0, 0, 0, 0, 0, 0, 0, 0, 0, 0, 0, 0, 0, 0,\n",
       "       0, 0, 0, 0, 0, 0, 0, 0, 0, 0, 0, 0, 0, 0, 0, 0, 0, 1, 1, 1, 1, 1,\n",
       "       1, 1, 1, 1, 1, 1, 1, 1, 1, 1, 1, 1, 1, 1, 1, 1, 1, 1, 1, 1, 1, 1,\n",
       "       1, 1, 1, 1, 1, 1, 1, 1, 1, 1, 1, 1, 1, 1, 1, 1, 1, 1, 1, 1, 1, 1,\n",
       "       1, 1, 2, 1, 1, 1, 2, 1, 2, 2, 2, 2, 0, 2, 2, 2, 2, 2, 2, 2, 2, 2,\n",
       "       2, 2, 2, 2, 2, 2, 2, 2, 2, 2, 2, 2, 2, 2, 2, 2, 2, 2, 2, 2, 2, 0,\n",
       "       0, 2, 2, 0, 2, 2, 2, 2, 2, 2, 2, 2, 2, 2], dtype=int64)"
      ]
     },
     "execution_count": 299,
     "metadata": {},
     "output_type": "execute_result"
    }
   ],
   "source": [
    "jh"
   ]
  },
  {
   "cell_type": "code",
   "execution_count": 74,
   "metadata": {},
   "outputs": [
    {
     "data": {
      "text/plain": [
       "array([0, 0, 0, 0, 0, 0, 0, 0, 0, 0, 0, 0, 0, 0, 0, 0, 0, 0, 0, 0, 0, 0,\n",
       "       0, 0, 0, 0, 0, 0, 0, 0, 0, 0, 0, 0, 0, 0, 0, 0, 0, 0, 0, 0, 0, 0,\n",
       "       0, 0, 0, 0, 0, 0, 0, 0, 0, 0, 0, 0, 0, 0, 0, 0, 0, 1, 1, 1, 1, 1,\n",
       "       1, 1, 1, 1, 1, 1, 1, 1, 1, 1, 1, 1, 1, 1, 1, 1, 1, 1, 1, 1, 1, 1,\n",
       "       1, 1, 1, 1, 1, 1, 1, 1, 1, 1, 1, 1, 1, 1, 1, 1, 1, 1, 1, 1, 1, 1,\n",
       "       0, 1, 1, 1, 1, 1, 2, 0, 2, 2, 0, 2, 2, 2, 2, 2, 2, 2, 2, 2, 2, 2,\n",
       "       2, 2, 2, 2, 2, 2, 2, 2, 2, 2, 2, 2, 2, 2, 2, 2, 2, 2, 2, 2, 2, 2,\n",
       "       2, 2, 2, 0, 2, 2, 2, 2, 2, 2, 2, 2, 2, 2], dtype=int64)"
      ]
     },
     "execution_count": 74,
     "metadata": {},
     "output_type": "execute_result"
    }
   ],
   "source": [
    "forest_y_pred_test"
   ]
  },
  {
   "cell_type": "code",
   "execution_count": 302,
   "metadata": {},
   "outputs": [
    {
     "data": {
      "image/png": "[encoded data removed]",
      "text/plain": [
       "<Figure size 1152x504 with 2 Axes>"
      ]
     },
     "metadata": {},
     "output_type": "display_data"
    }
   ],
   "source": [
    "from sklearn.metrics import confusion_matrix\n",
    "matrix=confusion_matrix(final_y_test, jh)\n",
    "#print(accuracy_score(final_y_test, forest_y_pred_test))\n",
    "matrix = matrix.astype('float') / matrix.sum(axis=1)[:, np.newaxis]\n",
    "\n",
    "# Build the plot\n",
    "plt.figure(figsize=(16,7))\n",
    "sns.set(font_scale=1.4)\n",
    "sns.heatmap(matrix, annot=True, annot_kws={'size':10},\n",
    "            cmap=plt.cm.Greens, linewidths=0.2)\n",
    "\n",
    "# Add labels to the plot\n",
    "class_names = ['Normal','Gun Shot','Tree Cutting']\n",
    "tick_marks = np.arange(len(class_names))\n",
    "tick_marks2 = tick_marks + 0.5\n",
    "plt.xticks(tick_marks, class_names, rotation=25)\n",
    "plt.yticks(tick_marks2, class_names, rotation=0)\n",
    "plt.xlabel('Predicted label')\n",
    "plt.ylabel('True label')\n",
    "plt.title('Confusion Matrix for CNN Model with MFCC')\n",
    "plt.show()"
   ]
  },
  {
   "cell_type": "code",
   "execution_count": 310,
   "metadata": {},
   "outputs": [
    {
     "name": "stdout",
     "output_type": "stream",
     "text": [
      "              precision    recall  f1-score   support\n",
      "\n",
      "      Normal       0.94      0.97      0.95        61\n",
      "     Gunshot       0.98      0.96      0.97        57\n",
      "Tree Cutting       0.94      0.92      0.93        50\n",
      "\n",
      "    accuracy                           0.95       168\n",
      "   macro avg       0.95      0.95      0.95       168\n",
      "weighted avg       0.95      0.95      0.95       168\n",
      "\n"
     ]
    }
   ],
   "source": [
    "#Model accuracy on test data\n",
    "from sklearn.metrics import classification_report\n",
    "target_names = ['Normal', 'Gunshot', 'Tree Cutting']\n",
    "print(classification_report(final_y_test, jh, target_names=target_names))"
   ]
  },
  {
   "cell_type": "code",
   "execution_count": 168,
   "metadata": {},
   "outputs": [],
   "source": [
    "%store -r output\n",
    "%store -r output_svm_cnn"
   ]
  },
  {
   "cell_type": "code",
   "execution_count": 174,
   "metadata": {},
   "outputs": [
    {
     "data": {
      "text/plain": [
       "2"
      ]
     },
     "execution_count": 174,
     "metadata": {},
     "output_type": "execute_result"
    }
   ],
   "source": [
    "output[167]"
   ]
  },
  {
   "cell_type": "code",
   "execution_count": 176,
   "metadata": {},
   "outputs": [
    {
     "name": "stdout",
     "output_type": "stream",
     "text": [
      "Stored 'final_y_test' (ndarray)\n"
     ]
    }
   ],
   "source": [
    "%store final_y_test"
   ]
  },
  {
   "cell_type": "code",
   "execution_count": null,
   "metadata": {},
   "outputs": [],
   "source": []
  },
  {
   "cell_type": "code",
   "execution_count": 181,
   "metadata": {},
   "outputs": [],
   "source": [
    "svg_op = xgb.predict(final_x_test)"
   ]
  },
  {
   "cell_type": "code",
   "execution_count": 182,
   "metadata": {},
   "outputs": [
    {
     "data": {
      "text/plain": [
       "array([0, 0, 0, 0, 0, 0, 0, 0, 0, 0, 0, 0, 0, 0, 0, 0, 0, 0, 0, 0, 0, 0,\n",
       "       0, 0, 0, 0, 0, 0, 0, 0, 0, 0, 0, 0, 0, 0, 0, 0, 0, 0, 0, 0, 0, 0,\n",
       "       2, 0, 0, 0, 0, 0, 0, 0, 0, 0, 0, 0, 0, 0, 0, 0, 0, 1, 1, 1, 1, 1,\n",
       "       1, 1, 1, 1, 1, 1, 1, 1, 1, 1, 1, 1, 1, 1, 1, 1, 1, 1, 1, 1, 1, 1,\n",
       "       1, 1, 1, 1, 1, 1, 1, 1, 1, 1, 1, 1, 1, 1, 1, 1, 1, 1, 1, 1, 1, 1,\n",
       "       1, 1, 0, 1, 1, 1, 2, 0, 2, 2, 2, 2, 2, 2, 2, 2, 2, 2, 2, 2, 2, 2,\n",
       "       2, 2, 2, 2, 2, 2, 2, 2, 2, 2, 2, 2, 2, 2, 2, 2, 2, 2, 2, 2, 2, 2,\n",
       "       0, 0, 2, 0, 2, 2, 2, 2, 2, 2, 2, 2, 2, 2], dtype=int64)"
      ]
     },
     "execution_count": 182,
     "metadata": {},
     "output_type": "execute_result"
    }
   ],
   "source": [
    "svg_op"
   ]
  },
  {
   "cell_type": "code",
   "execution_count": 80,
   "metadata": {},
   "outputs": [],
   "source": [
    "cnn_op = model_y_pred_test.argmax(axis=1)\n",
    "forest_op = forest_y_pred_test"
   ]
  },
  {
   "cell_type": "code",
   "execution_count": 178,
   "metadata": {},
   "outputs": [
    {
     "data": {
      "text/plain": [
       "array([0, 0, 0, 0, 0, 0, 0, 0, 0, 0, 0, 0, 0, 0, 0, 0, 0, 0, 0, 0, 0, 0,\n",
       "       0, 0, 0, 0, 0, 0, 0, 0, 0, 0, 0, 0, 0, 0, 0, 0, 0, 0, 0, 0, 0, 0,\n",
       "       0, 0, 0, 0, 0, 0, 0, 0, 0, 0, 0, 0, 0, 0, 0, 0, 0, 1, 1, 1, 1, 1,\n",
       "       1, 1, 1, 1, 1, 1, 1, 1, 1, 1, 1, 1, 1, 1, 1, 1, 1, 1, 1, 1, 1, 1,\n",
       "       1, 1, 1, 1, 1, 1, 1, 1, 1, 1, 1, 1, 1, 1, 1, 1, 1, 1, 1, 1, 1, 1,\n",
       "       0, 1, 1, 1, 1, 1, 2, 0, 2, 2, 0, 2, 2, 2, 2, 2, 2, 2, 2, 2, 2, 2,\n",
       "       2, 2, 2, 2, 2, 2, 2, 2, 2, 2, 2, 2, 2, 2, 2, 2, 2, 2, 2, 2, 2, 2,\n",
       "       2, 2, 2, 0, 2, 2, 2, 2, 2, 2, 2, 2, 2, 2], dtype=int64)"
      ]
     },
     "execution_count": 178,
     "metadata": {},
     "output_type": "execute_result"
    }
   ],
   "source": [
    "forest_op"
   ]
  },
  {
   "cell_type": "code",
   "execution_count": 177,
   "metadata": {},
   "outputs": [
    {
     "data": {
      "text/plain": [
       "array([0, 0, 0, 0, 0, 0, 0, 0, 0, 0, 0, 0, 0, 0, 0, 0, 0, 0, 0, 0, 0, 0,\n",
       "       0, 0, 0, 0, 0, 0, 0, 0, 0, 0, 0, 0, 0, 0, 0, 0, 0, 0, 0, 0, 0, 0,\n",
       "       2, 0, 0, 0, 0, 0, 0, 0, 0, 0, 0, 0, 0, 2, 0, 0, 0, 1, 1, 1, 1, 1,\n",
       "       1, 1, 1, 1, 1, 1, 1, 1, 1, 1, 1, 1, 1, 1, 1, 1, 1, 1, 1, 1, 1, 1,\n",
       "       1, 1, 1, 1, 1, 1, 1, 1, 1, 1, 1, 1, 1, 1, 1, 1, 1, 1, 1, 1, 1, 1,\n",
       "       1, 1, 2, 1, 1, 1, 1, 1, 2, 2, 2, 2, 0, 2, 2, 2, 2, 2, 2, 2, 2, 2,\n",
       "       2, 2, 2, 2, 2, 2, 2, 2, 2, 0, 2, 2, 2, 2, 2, 2, 2, 2, 2, 2, 2, 1,\n",
       "       2, 2, 2, 2, 2, 2, 2, 2, 2, 2, 2, 2, 2, 2], dtype=int64)"
      ]
     },
     "execution_count": 177,
     "metadata": {},
     "output_type": "execute_result"
    }
   ],
   "source": [
    "cnn_op"
   ]
  },
  {
   "cell_type": "code",
   "execution_count": 180,
   "metadata": {
    "scrolled": true
   },
   "outputs": [
    {
     "data": {
      "text/plain": [
       "2"
      ]
     },
     "execution_count": 180,
     "metadata": {},
     "output_type": "execute_result"
    }
   ],
   "source": [
    "output[167]\n",
    "cnn_op[167]"
   ]
  },
  {
   "cell_type": "code",
   "execution_count": 317,
   "metadata": {},
   "outputs": [
    {
     "name": "stdout",
     "output_type": "stream",
     "text": [
      "2.6199999999999997 0 0\n",
      "2.6199999999999997 0 0\n",
      "2.6199999999999997 0 0\n",
      "2.6199999999999997 0 0\n",
      "2.6199999999999997 0 0\n",
      "2.6199999999999997 0 0\n",
      "2.6199999999999997 0 0\n",
      "2.6199999999999997 0 0\n",
      "2.6199999999999997 0 0\n",
      "2.6199999999999997 0 0\n",
      "2.6199999999999997 0 0\n",
      "2.6199999999999997 0 0\n",
      "2.6199999999999997 0 0\n",
      "2.6199999999999997 0 0\n",
      "2.6199999999999997 0 0\n",
      "2.6199999999999997 0 0\n",
      "2.6199999999999997 0 0\n",
      "2.6199999999999997 0 0\n",
      "2.6199999999999997 0 0\n",
      "2.6199999999999997 0 0\n",
      "2.6199999999999997 0 0\n",
      "2.6199999999999997 0 0\n",
      "2.6199999999999997 0 0\n",
      "2.6199999999999997 0 0\n",
      "2.6199999999999997 0 0\n",
      "2.6199999999999997 0 0\n",
      "2.6199999999999997 0 0\n",
      "2.6199999999999997 0 0\n",
      "2.6199999999999997 0 0\n",
      "2.6199999999999997 0 0\n",
      "2.6199999999999997 0 0\n",
      "2.6199999999999997 0 0\n",
      "2.6199999999999997 0 0\n",
      "2.6199999999999997 0 0\n",
      "2.6199999999999997 0 0\n",
      "2.6199999999999997 0 0\n",
      "2.6199999999999997 0 0\n",
      "2.6199999999999997 0 0\n",
      "2.6199999999999997 0 0\n",
      "2.6199999999999997 0 0\n",
      "2.6199999999999997 0 0\n",
      "2.6199999999999997 0 0\n",
      "2.6199999999999997 0 0\n",
      "2.6199999999999997 0 0\n",
      "0.82 0 1.98\n",
      "2.6199999999999997 0 0\n",
      "2.6199999999999997 0 0\n",
      "2.6199999999999997 0 0\n",
      "2.6199999999999997 0 0\n",
      "2.6199999999999997 0 0\n",
      "2.6199999999999997 0 0\n",
      "2.6199999999999997 0 0\n",
      "2.6199999999999997 0 0\n",
      "2.6199999999999997 0 0\n",
      "2.6199999999999997 0 0\n",
      "2.6199999999999997 0 0\n",
      "2.6199999999999997 0 0\n",
      "1.66 0 0.99\n",
      "2.6199999999999997 0 0\n",
      "2.6199999999999997 0 0\n",
      "2.6199999999999997 0 0\n",
      "0 2.98 0\n",
      "0 2.98 0\n",
      "0 2.98 0\n",
      "0 2.98 0\n",
      "0 2.98 0\n",
      "0 2.98 0\n",
      "0 2.98 0\n",
      "0 2.98 0\n",
      "0 2.98 0\n",
      "0 2.98 0\n",
      "0 2.98 0\n",
      "0 2.98 0\n",
      "0 2.98 0\n",
      "0 2.98 0\n",
      "0 2.98 0\n",
      "0 2.98 0\n",
      "0 2.98 0\n",
      "0 2.98 0\n",
      "0 2.98 0\n",
      "0 2.98 0\n",
      "0 2.98 0\n",
      "0 2.98 0\n",
      "0 2.98 0\n",
      "0 2.98 0\n",
      "0 2.98 0\n",
      "0 2.98 0\n",
      "0 2.98 0\n",
      "0 2.98 0\n",
      "0 2.98 0\n",
      "0 2.98 0\n",
      "0 2.98 0\n",
      "0 2.98 0\n",
      "0 2.98 0\n",
      "0 2.98 0\n",
      "0 2.98 0\n",
      "0 2.98 0\n",
      "0 2.98 0\n",
      "0 2.98 0\n",
      "0 2.98 0\n",
      "0 2.98 0\n",
      "0 2.98 0\n",
      "0 2.98 0\n",
      "0 2.98 0\n",
      "0 2.98 0\n",
      "0 2.98 0\n",
      "0 2.98 0\n",
      "0 2.98 0\n",
      "0 2.98 0\n",
      "0 2.98 0\n",
      "0.82 1.99 0\n",
      "0 2.98 0\n",
      "0.84 0.99 0.99\n",
      "0 2.98 0\n",
      "0 2.98 0\n",
      "0 2.98 0\n",
      "0 1 1.95\n",
      "1.66 1 0\n",
      "0 0 2.94\n",
      "0 0 2.94\n",
      "0.82 0 1.98\n",
      "0 0 2.94\n",
      "0.96 0 1.95\n",
      "0 0 2.94\n",
      "0 0 2.94\n",
      "0 0 2.94\n",
      "0 0 2.94\n",
      "0 0 2.94\n",
      "0 0 2.94\n",
      "0 0 2.94\n",
      "0 0 2.94\n",
      "0 0 2.94\n",
      "0 0 2.94\n",
      "0 0 2.94\n",
      "0 0 2.94\n",
      "0 0 2.94\n",
      "0 0 2.94\n",
      "0 0 2.94\n",
      "0 0 2.94\n",
      "0 0 2.94\n",
      "0 0 2.94\n",
      "0.96 0 1.95\n",
      "0 0 2.94\n",
      "0 0 2.94\n",
      "0 0 2.94\n",
      "0 0 2.94\n",
      "0 0 2.94\n",
      "0 0 2.94\n",
      "0 0 2.94\n",
      "0 0 2.94\n",
      "0 0 2.94\n",
      "0 0 2.94\n",
      "0 0 2.94\n",
      "0 1 1.95\n",
      "0.84 0 1.95\n",
      "0.84 0 1.95\n",
      "0 0 2.94\n",
      "1.66 0 0.99\n",
      "0 0 2.94\n",
      "0 0 2.94\n",
      "0 0 2.94\n",
      "0 0 2.94\n",
      "0 0 2.94\n",
      "0 0 2.94\n",
      "0 0 2.94\n",
      "0 0 2.94\n",
      "0 0 2.94\n",
      "0 0 2.94\n",
      "168\n"
     ]
    }
   ],
   "source": [
    "final_output = []\n",
    "cnt = 0\n",
    "for i in range(168):\n",
    " \n",
    "    cnt+=1\n",
    "    \n",
    "    var0 = 0 \n",
    "    var1 = 0\n",
    "    var2 =0\n",
    "    #for cnn model on mfcc\n",
    "    if cnn_op[i]== 0:\n",
    "        var0 +=1*.96\n",
    "    if cnn_op[i] ==1:\n",
    "        var1 +=1\n",
    "    if cnn_op[i] == 2:\n",
    "        var2 +=1*.99\n",
    "    #for random forest model on mfcc    \n",
    "    if forest_op[i]== 0:\n",
    "        var0 +=1*.82\n",
    "    if forest_op[i] ==1:\n",
    "        var1 +=1*.99\n",
    "    if forest_op[i] == 2:\n",
    "        var2 +=1*.96\n",
    "        \n",
    "    #for gradientboostclassifier on mfcc    \n",
    "    if svg_op[i]== 0:\n",
    "        var0 +=1*.84\n",
    "    if svg_op[i] ==1:\n",
    "        var1 +=1*.99\n",
    "    if svg_op[i] == 2:\n",
    "        var2 +=1*.99\n",
    "        \n",
    "    print(var0,var1,var2)\n",
    "    #for svm_cnn model on spectrogram\n",
    "    if output_svm_cnn[i]== 0:\n",
    "        var0 +=1*.85\n",
    "    if output_svm_cnn[i] ==1:\n",
    "        var1 +=1*.80\n",
    "    if output_svm_cnn[i] == 2:\n",
    "        var2 +=1*.92  \n",
    "        \n",
    "        #For pytorch model on spectrogram\n",
    "    if output[i]== 0:\n",
    "        var0 +=1*.93\n",
    "    if output[i] ==1:\n",
    "        var1 +=1*.91\n",
    "    if output[i] == 2:\n",
    "        var2 +=1*.86\n",
    "        \n",
    "        \n",
    "    if var0 == var1 and var1 == var2:\n",
    "        final_output.append(2)\n",
    "\n",
    "    if var0> var1 and var0> var2:\n",
    "        \n",
    "        final_output.append(0)\n",
    "    elif var1> var2 and var1 > var0:\n",
    "        \n",
    "        final_output.append(1)\n",
    "    elif var2> var0 and var2 > var1:\n",
    "        \n",
    "        final_output.append(2)\n",
    "            \n",
    "print(cnt)    "
   ]
  },
  {
   "cell_type": "markdown",
   "metadata": {},
   "source": [
    "# Ensemble algo creation\n",
    "#background_noise class denotes as 0\n",
    "#gunshot class denotes as 1\n",
    "#treecutting class denotes as 2\n",
    "#cnn_mfcc contains output class of cnn algorithm on mfcc feature set\n",
    "#forest_mfcc output class of random forest algorithm on mfcc feature set\n",
    "#svg_mfcc output class of gradientdboostclassifier algorithm on mfcc feature set\n",
    "#pytorch_spec output class of pytorch model on spectrogram feature set\n",
    "#cnn_svm_spec output class of cnn with svm  in tensorflow architecture on spectrogram feature set\n",
    "\n",
    "\n",
    "\n",
    "def find_output_class(model name)  # find models output class \n",
    "    return class\n",
    "\n",
    "def f1_score(class,model_name) # find the f1 score of model's specific class\n",
    "    return f1_score \n",
    "\n",
    "sum(class,score) # add f1 value with respective class's weighted sum\n",
    "    class_weight[class] += score\n",
    "    \n",
    "def ensemble_model(cnn_mfcc,forest_mfcc,svg_mfcc,pytorch_spec,cnn_svm_spec) # pass all the models output \n",
    "    \n",
    "    #for each model sum the weighted value of f1 with that class's score\n",
    "    \n",
    "    \n",
    "    class = find_output_class(cnn_mfcc)\n",
    "    score = f1_score(class,cnn_mfcc)\n",
    "    sum(class, f1_score)\n",
    "    \n",
    "    class = find_output_class(forest_mfcc)\n",
    "    score = f1_score(class,forest_mfcc)\n",
    "    sum(class,score)\n",
    "    \n",
    "    \n",
    "    class = find_output_class(svg_mfcc)\n",
    "    score = f1_score(class,svg_mfcc)\n",
    "    sum(class, score)\n",
    "    \n",
    "    \n",
    "    class = find_output_class(pytorch_spec)\n",
    "    score = f1_score(class,pytorch_spec)\n",
    "    sum(class,score)\n",
    "    \n",
    "    class = find_output_class(cnn_svm_spec)\n",
    "    score = f1_score(class,cnn_svm_spec)\n",
    "    sum(class,score)\n",
    "    \n",
    "    #find heigst weighted class\n",
    "    \n",
    "    sort class_weight\n",
    "    highest_weight_class = class_weight[0]\n",
    "    \n",
    "   return highest_weight_class\n",
    "    \n",
    "   \n",
    "    \n",
    "        \n",
    "    #initialize all class count as zero\n",
    "    class_bg_noise = 0\n",
    "    class_gun_shot =0\n",
    "    class_tree_cutting =0\n",
    "    \n",
    "    if cnn_mfcc == 0                                 # classid of background noise\n",
    "        class_bg_noise += 1*Recall_bg_noise_cnn_mfcc # True positive value of background \n",
    "                                                        #noise detection of cnn model on mfcc \n",
    "    if cnn_mfcc == 1                                 # classid of background noise\n",
    "        class_gun_shot += 1*Recall_gun_shot_cnn_mfcc  \n",
    "    if cnn_mfcc == 2\n",
    "        class_tree_cutting+= 1*Recall_tree_cutting_cnn_mfcc\n",
    "        \n",
    "    if forest_mfcc == 0                                 \n",
    "        class_bg_noise += 1*Recall_bg_noise_forest_mfcc \n",
    "    if forest_mfcc == 1                                 \n",
    "        class_gun_shot += 1*Recall_gun_shot_forest_mfcc  \n",
    "    if forest_mfcc == 2\n",
    "        class_tree_cutting+= 1*Recall_tree_cutting_forest_mfcc\n",
    "    \n",
    "    if svg_mfcc == 0                                 \n",
    "        class_bg_noise += 1*Recall_bg_noise_svg_mfcc \n",
    "    if svg_mfcc == 1                                 \n",
    "        class_gun_shot += 1*Recall_gun_shot_svg_mfcc  \n",
    "    if svg_mfcc == 2\n",
    "        class_tree_cutting+= 1*Recall_tree_cutting_svg_mfcc\n",
    "        \n",
    "    \n",
    "    if pytorch_spec == 0                                 \n",
    "        class_bg_noise += 1*Recall_bg_noise_pytorch_spec\n",
    "    if pytorch_spec == 1                                 \n",
    "        class_gun_shot += 1*Recall_gun_shot_pytorch_spec  \n",
    "    if pytorch_spec == 2\n",
    "        class_tree_cutting+= 1*Recall_tree_cutting_pytorch_spec\n",
    "        \n",
    "    \n",
    "    \n",
    "    if cnn_svm_spec == 0                                 \n",
    "        class_bg_noise += 1*Recall_bg_noise_cnn_svm_spec\n",
    "    if cnn_svm_spec == 1                                 \n",
    "        class_gun_shot += 1*Recall_gun_shot_cnn_svm_spec  \n",
    "    if cnn_svm_spec == 2\n",
    "        class_tree_cutting+= 1*Recall_tree_cutting_cnn_svm_spec\n",
    "        \n",
    "        \n",
    "    if class_bg_noise > class_gun_shot and class_bg_noise > class_tree_cutting\n",
    "        return 0 # classid of background_noise class\n",
    "    elif class_gun_shot > class_bg_noise and class_gun_shot > class_tree_cutting\n",
    "        return 1 # classid of gunshot class\n",
    "    else\n",
    "        return 2 # classid of treecutting class\n",
    "    \n",
    "         \n",
    "            \n",
    "    \n",
    "    "
   ]
  },
  {
   "cell_type": "markdown",
   "metadata": {},
   "source": [
    "# Creation of Ensemble model"
   ]
  },
  {
   "cell_type": "code",
   "execution_count": 254,
   "metadata": {},
   "outputs": [
    {
     "data": {
      "image/png": "[encoded data removed]",
      "text/plain": [
       "<Figure size 1152x504 with 2 Axes>"
      ]
     },
     "metadata": {},
     "output_type": "display_data"
    }
   ],
   "source": [
    "from sklearn.metrics import confusion_matrix\n",
    "matrix=confusion_matrix(final_y_test,final_output)\n",
    "\n",
    "matrix = matrix.astype('float') / matrix.sum(axis=1)[:, np.newaxis]\n",
    "\n",
    "# Build the plot\n",
    "plt.figure(figsize=(16,7))\n",
    "sns.set(font_scale=1.4)\n",
    "sns.heatmap(matrix, annot=True, annot_kws={'size':10},\n",
    "            cmap=plt.cm.Greens, linewidths=0.2)\n",
    "\n",
    "# Add labels to the plot\n",
    "class_names = ['Normal','Gun Shot','Tree Cutting']\n",
    "tick_marks = np.arange(len(class_names))\n",
    "tick_marks2 = tick_marks + 0.5\n",
    "plt.xticks(tick_marks, class_names, rotation=25)\n",
    "plt.yticks(tick_marks2, class_names, rotation=0)\n",
    "plt.xlabel('Predicted label') \n",
    "plt.ylabel('True label')\n",
    "plt.title('Confusion Matrix for Ensemble model')\n",
    "plt.show()"
   ]
  },
  {
   "cell_type": "code",
   "execution_count": 257,
   "metadata": {},
   "outputs": [
    {
     "data": {
      "text/plain": [
       "[0,\n",
       " 0,\n",
       " 0,\n",
       " 0,\n",
       " 0,\n",
       " 0,\n",
       " 0,\n",
       " 0,\n",
       " 0,\n",
       " 0,\n",
       " 0,\n",
       " 0,\n",
       " 0,\n",
       " 0,\n",
       " 0,\n",
       " 0,\n",
       " 0,\n",
       " 0,\n",
       " 0,\n",
       " 0,\n",
       " 0,\n",
       " 0,\n",
       " 0,\n",
       " 0,\n",
       " 0,\n",
       " 0,\n",
       " 0,\n",
       " 0,\n",
       " 0,\n",
       " 0,\n",
       " 0,\n",
       " 0,\n",
       " 0,\n",
       " 0,\n",
       " 0,\n",
       " 0,\n",
       " 0,\n",
       " 0,\n",
       " 0,\n",
       " 0,\n",
       " 0,\n",
       " 0,\n",
       " 0,\n",
       " 0,\n",
       " 2,\n",
       " 0,\n",
       " 0,\n",
       " 0,\n",
       " 0,\n",
       " 0,\n",
       " 0,\n",
       " 0,\n",
       " 0,\n",
       " 0,\n",
       " 0,\n",
       " 0,\n",
       " 0,\n",
       " 0,\n",
       " 0,\n",
       " 0,\n",
       " 0,\n",
       " 1,\n",
       " 1,\n",
       " 1,\n",
       " 1,\n",
       " 1,\n",
       " 1,\n",
       " 1,\n",
       " 1,\n",
       " 1,\n",
       " 1,\n",
       " 1,\n",
       " 1,\n",
       " 1,\n",
       " 1,\n",
       " 1,\n",
       " 1,\n",
       " 1,\n",
       " 1,\n",
       " 1,\n",
       " 1,\n",
       " 1,\n",
       " 1,\n",
       " 1,\n",
       " 1,\n",
       " 1,\n",
       " 1,\n",
       " 1,\n",
       " 1,\n",
       " 1,\n",
       " 1,\n",
       " 1,\n",
       " 1,\n",
       " 1,\n",
       " 1,\n",
       " 1,\n",
       " 1,\n",
       " 1,\n",
       " 1,\n",
       " 1,\n",
       " 1,\n",
       " 1,\n",
       " 1,\n",
       " 1,\n",
       " 1,\n",
       " 1,\n",
       " 1,\n",
       " 1,\n",
       " 1,\n",
       " 1,\n",
       " 1,\n",
       " 1,\n",
       " 0,\n",
       " 1,\n",
       " 1,\n",
       " 1,\n",
       " 2,\n",
       " 0,\n",
       " 2,\n",
       " 2,\n",
       " 2,\n",
       " 2,\n",
       " 2,\n",
       " 2,\n",
       " 2,\n",
       " 2,\n",
       " 2,\n",
       " 2,\n",
       " 2,\n",
       " 2,\n",
       " 2,\n",
       " 2,\n",
       " 2,\n",
       " 2,\n",
       " 2,\n",
       " 2,\n",
       " 2,\n",
       " 2,\n",
       " 2,\n",
       " 2,\n",
       " 2,\n",
       " 2,\n",
       " 2,\n",
       " 2,\n",
       " 2,\n",
       " 2,\n",
       " 2,\n",
       " 2,\n",
       " 2,\n",
       " 2,\n",
       " 2,\n",
       " 2,\n",
       " 2,\n",
       " 2,\n",
       " 2,\n",
       " 2,\n",
       " 2,\n",
       " 0,\n",
       " 2,\n",
       " 2,\n",
       " 2,\n",
       " 2,\n",
       " 2,\n",
       " 2,\n",
       " 2,\n",
       " 2,\n",
       " 2,\n",
       " 2]"
      ]
     },
     "execution_count": 257,
     "metadata": {},
     "output_type": "execute_result"
    }
   ],
   "source": [
    "final_output.tolist()"
   ]
  },
  {
   "cell_type": "code",
   "execution_count": null,
   "metadata": {},
   "outputs": [],
   "source": []
  },
  {
   "cell_type": "code",
   "execution_count": null,
   "metadata": {},
   "outputs": [],
   "source": []
  },
  {
   "cell_type": "code",
   "execution_count": null,
   "metadata": {},
   "outputs": [],
   "source": []
  },
  {
   "cell_type": "code",
   "execution_count": null,
   "metadata": {},
   "outputs": [],
   "source": []
  },
  {
   "cell_type": "code",
   "execution_count": null,
   "metadata": {},
   "outputs": [],
   "source": []
  },
  {
   "cell_type": "code",
   "execution_count": 192,
   "metadata": {},
   "outputs": [
    {
     "name": "stdout",
     "output_type": "stream",
     "text": [
      "              precision    recall  f1-score   support\n",
      "\n",
      "      Normal       0.95      0.98      0.97        61\n",
      "     Gunshot       1.00      0.95      0.97        57\n",
      "Tree Cutting       0.96      0.98      0.97        50\n",
      "\n",
      "    accuracy                           0.97       168\n",
      "   macro avg       0.97      0.97      0.97       168\n",
      "weighted avg       0.97      0.97      0.97       168\n",
      "\n"
     ]
    }
   ],
   "source": [
    "#Model accuracy on test data\n",
    "from sklearn.metrics import classification_report\n",
    "target_names = ['Normal', 'Gunshot', 'Tree Cutting']\n",
    "print(classification_report(final_y_test, final_output, target_names=target_names))"
   ]
  },
  {
   "cell_type": "code",
   "execution_count": 275,
   "metadata": {},
   "outputs": [
    {
     "data": {
      "text/plain": [
       "array([0, 0, 0, 0, 0, 0, 0, 0, 0, 0, 0, 0, 0, 0, 0, 0, 0, 0, 0, 0, 0, 0,\n",
       "       0, 0, 0, 0, 0, 0, 0, 0, 0, 0, 0, 0, 0, 0, 0, 0, 0, 0, 0, 0, 0, 0,\n",
       "       2, 0, 0, 0, 0, 0, 0, 0, 0, 0, 0, 0, 0, 0, 0, 0, 0, 1, 1, 1, 1, 1,\n",
       "       1, 1, 1, 1, 1, 1, 1, 1, 1, 1, 1, 1, 1, 1, 1, 1, 1, 1, 1, 1, 1, 1,\n",
       "       1, 1, 1, 1, 1, 1, 1, 1, 1, 1, 1, 1, 1, 1, 1, 1, 1, 1, 1, 1, 1, 1,\n",
       "       1, 1, 0, 1, 1, 1, 2, 0, 2, 2, 2, 2, 2, 2, 2, 2, 2, 2, 2, 2, 2, 2,\n",
       "       2, 2, 2, 2, 2, 2, 2, 2, 2, 2, 2, 2, 2, 2, 2, 2, 2, 2, 2, 2, 2, 2,\n",
       "       2, 2, 2, 0, 2, 2, 2, 2, 2, 2, 2, 2, 2, 2])"
      ]
     },
     "execution_count": 275,
     "metadata": {},
     "output_type": "execute_result"
    }
   ],
   "source": [
    "final_output"
   ]
  },
  {
   "cell_type": "code",
   "execution_count": 276,
   "metadata": {},
   "outputs": [],
   "source": [
    "a=[0, 0, 0, 0, 0, 0, 0, 0, 0, 0, 0, 0, 0, 0, 0, 0, 0, 0, 0, 0, 0, 0,\n",
    "       0, 0, 0, 0, 0, 0, 0, 0, 0, 0, 0, 0, 0, 0, 0, 0, 0, 0, 0, 0, 0, 0,\n",
    "       2, 0, 0, 0, 0, 0, 0, 0, 0, 0, 0, 0, 0, 0, 0, 0, 0, 1, 1, 1, 1, 1,\n",
    "       1, 1, 1, 1, 1, 1, 1, 1, 1, 1, 1, 1, 1, 1, 1, 1, 1, 1, 1, 1, 1, 1,\n",
    "       1, 1, 1, 1, 1, 1, 1, 1, 1, 1, 1, 1, 1, 1, 1, 1, 1, 1, 1, 1, 1, 1,\n",
    "       1, 1, 0, 1, 1, 1, 2, 0, 2, 2, 2, 2, 2, 2, 2, 2, 2, 2, 2, 2, 2, 2,\n",
    "       2, 2, 2, 2, 2, 2, 2, 2, 2, 2, 2, 2, 2, 2, 2, 2, 2, 2, 2, 2, 2, 2,\n",
    "       2, 2, 2, 0, 2, 2, 2, 2, 2, 2, 2, 2, 2, 2]"
   ]
  },
  {
   "cell_type": "code",
   "execution_count": 277,
   "metadata": {},
   "outputs": [
    {
     "data": {
      "text/plain": [
       "[0,\n",
       " 0,\n",
       " 0,\n",
       " 0,\n",
       " 0,\n",
       " 0,\n",
       " 0,\n",
       " 0,\n",
       " 0,\n",
       " 0,\n",
       " 0,\n",
       " 0,\n",
       " 0,\n",
       " 0,\n",
       " 0,\n",
       " 0,\n",
       " 0,\n",
       " 0,\n",
       " 0,\n",
       " 0,\n",
       " 0,\n",
       " 0,\n",
       " 0,\n",
       " 0,\n",
       " 0,\n",
       " 0,\n",
       " 0,\n",
       " 0,\n",
       " 0,\n",
       " 0,\n",
       " 0,\n",
       " 0,\n",
       " 0,\n",
       " 0,\n",
       " 0,\n",
       " 0,\n",
       " 0,\n",
       " 0,\n",
       " 0,\n",
       " 0,\n",
       " 0,\n",
       " 0,\n",
       " 0,\n",
       " 0,\n",
       " 2,\n",
       " 0,\n",
       " 0,\n",
       " 0,\n",
       " 0,\n",
       " 0,\n",
       " 0,\n",
       " 0,\n",
       " 0,\n",
       " 0,\n",
       " 0,\n",
       " 0,\n",
       " 0,\n",
       " 0,\n",
       " 0,\n",
       " 0,\n",
       " 0,\n",
       " 1,\n",
       " 1,\n",
       " 1,\n",
       " 1,\n",
       " 1,\n",
       " 1,\n",
       " 1,\n",
       " 1,\n",
       " 1,\n",
       " 1,\n",
       " 1,\n",
       " 1,\n",
       " 1,\n",
       " 1,\n",
       " 1,\n",
       " 1,\n",
       " 1,\n",
       " 1,\n",
       " 1,\n",
       " 1,\n",
       " 1,\n",
       " 1,\n",
       " 1,\n",
       " 1,\n",
       " 1,\n",
       " 1,\n",
       " 1,\n",
       " 1,\n",
       " 1,\n",
       " 1,\n",
       " 1,\n",
       " 1,\n",
       " 1,\n",
       " 1,\n",
       " 1,\n",
       " 1,\n",
       " 1,\n",
       " 1,\n",
       " 1,\n",
       " 1,\n",
       " 1,\n",
       " 1,\n",
       " 1,\n",
       " 1,\n",
       " 1,\n",
       " 1,\n",
       " 1,\n",
       " 1,\n",
       " 1,\n",
       " 1,\n",
       " 1,\n",
       " 0,\n",
       " 1,\n",
       " 1,\n",
       " 1,\n",
       " 2,\n",
       " 0,\n",
       " 2,\n",
       " 2,\n",
       " 2,\n",
       " 2,\n",
       " 2,\n",
       " 2,\n",
       " 2,\n",
       " 2,\n",
       " 2,\n",
       " 2,\n",
       " 2,\n",
       " 2,\n",
       " 2,\n",
       " 2,\n",
       " 2,\n",
       " 2,\n",
       " 2,\n",
       " 2,\n",
       " 2,\n",
       " 2,\n",
       " 2,\n",
       " 2,\n",
       " 2,\n",
       " 2,\n",
       " 2,\n",
       " 2,\n",
       " 2,\n",
       " 2,\n",
       " 2,\n",
       " 2,\n",
       " 2,\n",
       " 2,\n",
       " 2,\n",
       " 2,\n",
       " 2,\n",
       " 2,\n",
       " 2,\n",
       " 2,\n",
       " 2,\n",
       " 0,\n",
       " 2,\n",
       " 2,\n",
       " 2,\n",
       " 2,\n",
       " 2,\n",
       " 2,\n",
       " 2,\n",
       " 2,\n",
       " 2,\n",
       " 2]"
      ]
     },
     "execution_count": 277,
     "metadata": {},
     "output_type": "execute_result"
    }
   ],
   "source": [
    "a"
   ]
  },
  {
   "cell_type": "code",
   "execution_count": 279,
   "metadata": {},
   "outputs": [
    {
     "data": {
      "text/plain": [
       "0.9702380952380952"
      ]
     },
     "execution_count": 279,
     "metadata": {},
     "output_type": "execute_result"
    }
   ],
   "source": [
    "accuracy_score(a,okk)"
   ]
  },
  {
   "cell_type": "code",
   "execution_count": null,
   "metadata": {},
   "outputs": [],
   "source": []
  },
  {
   "cell_type": "code",
   "execution_count": null,
   "metadata": {},
   "outputs": [],
   "source": []
  },
  {
   "cell_type": "code",
   "execution_count": null,
   "metadata": {},
   "outputs": [],
   "source": []
  },
  {
   "cell_type": "code",
   "execution_count": null,
   "metadata": {},
   "outputs": [],
   "source": []
  },
  {
   "cell_type": "code",
   "execution_count": null,
   "metadata": {},
   "outputs": [],
   "source": []
  },
  {
   "cell_type": "code",
   "execution_count": null,
   "metadata": {},
   "outputs": [],
   "source": []
  },
  {
   "cell_type": "code",
   "execution_count": null,
   "metadata": {},
   "outputs": [],
   "source": []
  },
  {
   "cell_type": "code",
   "execution_count": null,
   "metadata": {},
   "outputs": [],
   "source": []
  },
  {
   "cell_type": "code",
   "execution_count": null,
   "metadata": {},
   "outputs": [],
   "source": []
  },
  {
   "cell_type": "code",
   "execution_count": null,
   "metadata": {},
   "outputs": [],
   "source": []
  },
  {
   "cell_type": "code",
   "execution_count": null,
   "metadata": {},
   "outputs": [],
   "source": []
  }
 ],
 "metadata": {
  "kernelspec": {
   "display_name": "Python 3",
   "language": "python",
   "name": "python3"
  },
  "language_info": {
   "codemirror_mode": {
    "name": "ipython",
    "version": 3
   },
   "file_extension": ".py",
   "mimetype": "text/x-python",
   "name": "python",
   "nbconvert_exporter": "python",
   "pygments_lexer": "ipython3",
   "version": "3.8.5"
  }
 },
 "nbformat": 4,
 "nbformat_minor": 5
}
